{
 "cells": [
  {
   "cell_type": "code",
   "execution_count": 1,
   "id": "a30a4954",
   "metadata": {},
   "outputs": [],
   "source": [
    "import os\n",
    "import pandas as pd\n",
    "import numpy as np\n",
    "import anndata\n",
    "import time\n",
    "import matplotlib.pyplot as plt\n",
    "import json\n",
    "import requests"
   ]
  },
  {
   "cell_type": "code",
   "execution_count": 2,
   "id": "3516f683",
   "metadata": {},
   "outputs": [],
   "source": [
    "download_base = '../../../abc_download_root'\n",
    "\n",
    "url = 'https://allen-brain-cell-atlas.s3-us-west-2.amazonaws.com/releases/20230630/manifest.json'\n",
    "manifest = json.loads(requests.get(url).text)\n",
    "    \n",
    "taxonomy_metadata = manifest['file_listing']['WMB-taxonomy']['metadata']"
   ]
  },
  {
   "cell_type": "markdown",
   "id": "ddc0fa2e",
   "metadata": {},
   "source": [
    "Read in cluster annotation term set dataframe"
   ]
  },
  {
   "cell_type": "code",
   "execution_count": 3,
   "id": "b9a9d217",
   "metadata": {},
   "outputs": [],
   "source": [
    "rpath = taxonomy_metadata['cluster_annotation_term_set']['files']['csv']['relative_path']\n",
    "file = os.path.join( download_base, rpath)\n",
    "term_sets = pd.read_csv(file)\n",
    "term_sets.set_index('label', inplace=True)\n",
    "term_sets"
   ]
  },
  {
   "cell_type": "markdown",
   "id": "226faedb",
   "metadata": {},
   "source": [
    "Read in cluster annotation term dataframe. Spike in a row to handle unassigned neurotransmitter clusters."
   ]
  },
  {
   "cell_type": "code",
   "execution_count": 4,
   "id": "e2597320",
   "metadata": {},
   "outputs": [],
   "source": [
    "rpath = taxonomy_metadata['cluster_annotation_term']['files']['csv']['relative_path']\n",
    "file = os.path.join( download_base, rpath)\n",
    "term = pd.read_csv(file)\n",
    "\n",
    "other_term = pd.DataFrame(columns=term.columns)\n",
    "other_term.loc[0,'name'] = 'Other'\n",
    "other_term.loc[0,'cluster_annotation_term_set_name'] = 'neurotransmitter'\n",
    "other_term.loc[0,'color_hex_triplet'] = '#ebebeb'\n",
    "other_term.loc[0,'term_set_order'] = 0\n",
    "other_term.loc[0,'term_order'] = 9\n",
    "term = pd.concat([term,other_term],ignore_index=True)\n",
    "\n",
    "term.sort_values(['term_set_order','term_order'],inplace=True)"
   ]
  },
  {
   "cell_type": "markdown",
   "id": "07d4e731",
   "metadata": {},
   "source": [
    "Find and store first child for each term"
   ]
  },
  {
   "cell_type": "code",
   "execution_count": 5,
   "id": "2e45ecb0",
   "metadata": {},
   "outputs": [],
   "source": [
    "term.head(5)"
   ]
  },
  {
   "cell_type": "code",
   "execution_count": 6,
   "id": "eb9db5c1",
   "metadata": {},
   "outputs": [],
   "source": [
    "filtered = term[pd.notna(term['parent_term_label'])]\n",
    "first_child = filtered.groupby('parent_term_label')[['label','name','term_order','cluster_annotation_term_set_name']].first()\n",
    "first_child"
   ]
  },
  {
   "cell_type": "code",
   "execution_count": 7,
   "id": "f110a33a",
   "metadata": {},
   "outputs": [],
   "source": [
    "term.set_index('label',inplace=True)\n",
    "term.loc[first_child.index,'first_child_label'] = first_child['label']\n",
    "term.loc[first_child.index,'first_child_term_set_name'] = first_child['cluster_annotation_term_set_name']\n",
    "term.reset_index(inplace=True)"
   ]
  },
  {
   "cell_type": "code",
   "execution_count": 8,
   "id": "3ea25180",
   "metadata": {},
   "outputs": [],
   "source": [
    "term[pd.notna(term['first_child_label'])].head(5)"
   ]
  },
  {
   "cell_type": "markdown",
   "id": "ac406e41",
   "metadata": {},
   "source": [
    "Read in the cluster annotation term name pivot table and sort it"
   ]
  },
  {
   "cell_type": "code",
   "execution_count": 9,
   "id": "8decf41e",
   "metadata": {},
   "outputs": [],
   "source": [
    "rpath = taxonomy_metadata['cluster_to_cluster_annotation_membership_pivoted']['files']['csv']['relative_path']\n",
    "file = os.path.join( download_base, rpath)\n",
    "df = pd.read_csv(file)\n",
    "df = df.fillna('Other')\n",
    "df_sorted = df.sort_values(['class','subclass','supertype','cluster'])\n",
    "df_sorted"
   ]
  },
  {
   "cell_type": "markdown",
   "id": "81e3c175",
   "metadata": {},
   "source": [
    "Create a lookup by name dataframes for each term set"
   ]
  },
  {
   "cell_type": "code",
   "execution_count": 10,
   "id": "390947f4",
   "metadata": {},
   "outputs": [],
   "source": [
    "lookup = {}\n",
    "for tag in term_sets['name'] :\n",
    "    #print(tag)\n",
    "    pred = (term['cluster_annotation_term_set_name'] == tag)\n",
    "    filtered = term[pred].copy()\n",
    "    filtered.set_index('name', inplace=True)\n",
    "    lookup[tag] = filtered"
   ]
  },
  {
   "cell_type": "markdown",
   "id": "4ef4984e",
   "metadata": {},
   "source": [
    "Helper functions to lookup an term attribut and format a cell in the html table"
   ]
  },
  {
   "cell_type": "code",
   "execution_count": 11,
   "id": "35a6ef40",
   "metadata": {},
   "outputs": [],
   "source": [
    "def get_value( c, n, v ) :\n",
    "    return lookup[c].loc[n][v]\n",
    "\n",
    "def format_cell (df,c,add_id=False,add_plus=False,add_minus=False) :\n",
    "\n",
    "    divs = pd.DataFrame(index=df.index)\n",
    "    \n",
    "    pattern = '<div class=\"circle\" style=\"background-color:%s\"></div>'\n",
    "    divs['circle'] = [ pattern % get_value(c,x,'color_hex_triplet') for x in df[c] ]\n",
    "    \n",
    "    pattern = '<div class=\"celltext\">%s</div>'\n",
    "    divs['name'] = [ pattern % x for x in df[c] ]\n",
    "   \n",
    "    divs['id'] = ''\n",
    "    if add_id :\n",
    "        pattern = '<div id=\"%s\"></div>'\n",
    "        divs['id'] = [ pattern % get_value(c,x,'label') for x in df[c] ]\n",
    "        \n",
    "    divs['plus'] = ''\n",
    "    if add_plus :\n",
    "        pattern = '<div class=\"celltext\"><a href=\"%s.html#%s\">[+]</a></div>'\n",
    "        divs['plus'] = [ pattern % (get_value(c,x,'first_child_term_set_name'),\n",
    "                                    get_value(c,x,'first_child_label')) for x in df[c] ]\n",
    "        \n",
    "    divs['minus'] = ''\n",
    "    if add_minus :\n",
    "        pattern = '<div class=\"celltext\"><a href=\"%s.html#%s\">[-]</a></div>'\n",
    "        divs['minus'] = [ pattern % (get_value(c,x,'cluster_annotation_term_set_name'),\n",
    "                                    get_value(c,x,'label')) for x in df[c] ]\n",
    "    \n",
    "    cols = ['id','circle','name','plus','minus']\n",
    "    output = divs[cols].apply(lambda row: ''.join(row.values.astype(str)), axis=1)\n",
    "    return output\n"
   ]
  },
  {
   "cell_type": "markdown",
   "id": "59ff0199",
   "metadata": {},
   "source": [
    "Helper function to create html document"
   ]
  },
  {
   "cell_type": "code",
   "execution_count": 12,
   "id": "fa27aae9",
   "metadata": {},
   "outputs": [],
   "source": [
    "def create_html (df,ts,file,title) :\n",
    "    \n",
    "    # apply formatter to each term set\n",
    "    df_formatted = df.copy()\n",
    "    \n",
    "    for tag in term_sets['name'] :\n",
    "        if tag in df_formatted.columns :\n",
    "            \n",
    "            add_id = False\n",
    "            if tag == ts :\n",
    "                add_id = True\n",
    "                \n",
    "            add_plus = False\n",
    "            if tag == ts and tag not in ('cluster','neurotransmitter', 'division') :\n",
    "                add_plus = True\n",
    "                \n",
    "            add_minus = False\n",
    "            if tag != ts and tag not in ('neurotransmitter') :\n",
    "                add_minus = True\n",
    "                \n",
    "            df_formatted[tag] = format_cell(df,tag,add_id,add_plus,add_minus)\n",
    "            \n",
    "            \n",
    "    output = df_formatted.to_html(index=False, na_rep='',\n",
    "                        render_links=True,escape=False,\n",
    "                        classes=\"mystyle\")\n",
    "\n",
    "    html_string = '''\n",
    "    <html>\n",
    "    <head><title>%s</title></head>\n",
    "    <link rel=\"stylesheet\" type=\"text/css\" href=\"../simple_style.css\"/>\n",
    "    <body>\n",
    "    {table}\n",
    "    </body>\n",
    "    </html>.\n",
    "    ''' % title\n",
    "\n",
    "    # OUTPUT AN HTML FILE\n",
    "    with open(file, 'w') as f:\n",
    "        f.write(html_string.format(table=output))"
   ]
  },
  {
   "cell_type": "code",
   "execution_count": 13,
   "id": "57aacf7a",
   "metadata": {},
   "outputs": [],
   "source": [
    "output_directory = 'WMB-taxonomy'\n",
    "os.makedirs( output_directory, exist_ok=True)"
   ]
  },
  {
   "cell_type": "code",
   "execution_count": 14,
   "id": "b356090d",
   "metadata": {},
   "outputs": [],
   "source": [
    "df_supertype = df_sorted[['class']].copy()\n",
    "df_supertype.drop_duplicates(inplace=True)\n",
    "\n",
    "file = os.path.join(output_directory,'class.html')\n",
    "title = 'WMB-taxonmy: cell type classes'\n",
    "create_html(df_supertype, 'class',file, title)\n",
    "print(len(df_supertype))"
   ]
  },
  {
   "cell_type": "code",
   "execution_count": 15,
   "id": "97d8550a",
   "metadata": {},
   "outputs": [],
   "source": [
    "df_supertype = df_sorted[['class','subclass']].copy()\n",
    "df_supertype.drop_duplicates(inplace=True)\n",
    "\n",
    "file = os.path.join(output_directory,'subclass.html')\n",
    "title = 'WMB-taxonmy: cell type subclasses'\n",
    "create_html(df_supertype, 'subclass',file, title)\n",
    "print(len(df_supertype))"
   ]
  },
  {
   "cell_type": "code",
   "execution_count": 16,
   "id": "d88dffc5",
   "metadata": {
    "scrolled": false
   },
   "outputs": [],
   "source": [
    "df_supertype = df_sorted[['class','subclass','supertype']].copy()\n",
    "df_supertype.drop_duplicates(inplace=True)\n",
    "\n",
    "file = os.path.join(output_directory,'supertype.html')\n",
    "title = 'WMB-taxonmy: cell type supertypes'\n",
    "create_html(df_supertype, 'supertype',file, title)\n",
    "print(len(df_supertype))"
   ]
  },
  {
   "cell_type": "code",
   "execution_count": 17,
   "id": "9fe708bf",
   "metadata": {},
   "outputs": [],
   "source": [
    "df_supertype = df_sorted[['class','subclass','supertype','cluster','neurotransmitter']].copy()\n",
    "df_supertype.drop_duplicates(inplace=True)\n",
    "\n",
    "file = os.path.join(output_directory,'cluster.html')\n",
    "title = 'WMB-taxonmy: cell type clusters'\n",
    "create_html(df_supertype,'cluster',file, title)\n",
    "print(len(df_sorted))"
   ]
  },
  {
   "cell_type": "code",
   "execution_count": 18,
   "id": "96fd38d5",
   "metadata": {},
   "outputs": [],
   "source": [
    "df_supertype = df_sorted[['division']].copy()\n",
    "df_supertype.drop_duplicates(inplace=True)\n",
    "\n",
    "file = os.path.join(output_directory,'division.html')\n",
    "title = 'WMB-taxonmy: cell type divisions'\n",
    "create_html(df_supertype, 'division', file, title)\n",
    "print(len(df_supertype))"
   ]
  },
  {
   "cell_type": "code",
   "execution_count": 19,
   "id": "7f8493dc",
   "metadata": {},
   "outputs": [],
   "source": [
    "df_supertype = df_sorted[['neurotransmitter']].copy()\n",
    "df_supertype.drop_duplicates(inplace=True)\n",
    "\n",
    "file = os.path.join(output_directory,'neurotransmitter.html')\n",
    "title = 'WMB-taxonmy: neurotransmitter types'\n",
    "create_html(df_supertype, 'neurotransmitter', file, title)\n",
    "print(len(df_supertype))"
   ]
  },
  {
   "cell_type": "code",
   "execution_count": null,
   "id": "d68d31eb",
   "metadata": {},
   "outputs": [],
   "source": []
  }
 ],
 "metadata": {
  "kernelspec": {
   "display_name": "Python 3 (ipykernel)",
   "language": "python",
   "name": "python3"
  },
  "language_info": {
   "codemirror_mode": {
    "name": "ipython",
    "version": 3
   },
   "file_extension": ".py",
   "mimetype": "text/x-python",
   "name": "python",
   "nbconvert_exporter": "python",
   "pygments_lexer": "ipython3",
   "version": "3.11.3"
  }
 },
 "nbformat": 4,
 "nbformat_minor": 5
}
