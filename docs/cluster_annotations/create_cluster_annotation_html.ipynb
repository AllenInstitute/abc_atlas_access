{
 "cells": [
  {
   "cell_type": "code",
   "execution_count": 1,
   "id": "a30a4954",
   "metadata": {},
   "outputs": [],
   "source": [
    "import os\n",
    "import pandas as pd\n",
    "import numpy as np\n",
    "import anndata\n",
    "import time\n",
    "import matplotlib.pyplot as plt\n",
    "import json\n",
    "import requests"
   ]
  },
  {
   "cell_type": "code",
   "execution_count": 2,
   "id": "3516f683",
   "metadata": {},
   "outputs": [],
   "source": [
    "download_base = '../../../abc_download_root'\n",
    "\n",
    "url = 'https://allen-brain-cell-atlas.s3-us-west-2.amazonaws.com/releases/20230630/manifest.json'\n",
    "manifest = json.loads(requests.get(url).text)\n",
    "    \n",
    "taxonomy_metadata = manifest['file_listing']['WMB-taxonomy']['metadata']"
   ]
  },
  {
   "cell_type": "markdown",
   "id": "ddc0fa2e",
   "metadata": {},
   "source": [
    "Read in cluster annotation term set dataframe"
   ]
  },
  {
   "cell_type": "code",
   "execution_count": 3,
   "id": "b9a9d217",
   "metadata": {},
   "outputs": [
    {
     "data": {
      "text/html": [
       "<div>\n",
       "<style scoped>\n",
       "    .dataframe tbody tr th:only-of-type {\n",
       "        vertical-align: middle;\n",
       "    }\n",
       "\n",
       "    .dataframe tbody tr th {\n",
       "        vertical-align: top;\n",
       "    }\n",
       "\n",
       "    .dataframe thead th {\n",
       "        text-align: right;\n",
       "    }\n",
       "</style>\n",
       "<table border=\"1\" class=\"dataframe\">\n",
       "  <thead>\n",
       "    <tr style=\"text-align: right;\">\n",
       "      <th></th>\n",
       "      <th>label</th>\n",
       "      <th>description</th>\n",
       "      <th>name</th>\n",
       "      <th>order</th>\n",
       "    </tr>\n",
       "  </thead>\n",
       "  <tbody>\n",
       "    <tr>\n",
       "      <th>0</th>\n",
       "      <td>CCN20230504_NEUR</td>\n",
       "      <td>Clusters are assigned based on the average exp...</td>\n",
       "      <td>neurotransmitter</td>\n",
       "      <td>0</td>\n",
       "    </tr>\n",
       "    <tr>\n",
       "      <th>1</th>\n",
       "      <td>CCN20230504_DIVI</td>\n",
       "      <td>A very broad definition of cell types. Cluster...</td>\n",
       "      <td>division</td>\n",
       "      <td>1</td>\n",
       "    </tr>\n",
       "    <tr>\n",
       "      <th>2</th>\n",
       "      <td>CCN20230504_CLAS</td>\n",
       "      <td>The top level of cell type definition in the m...</td>\n",
       "      <td>class</td>\n",
       "      <td>2</td>\n",
       "    </tr>\n",
       "    <tr>\n",
       "      <th>3</th>\n",
       "      <td>CCN20230504_SUBC</td>\n",
       "      <td>The coarse level of cell type definition in th...</td>\n",
       "      <td>subclass</td>\n",
       "      <td>3</td>\n",
       "    </tr>\n",
       "    <tr>\n",
       "      <th>4</th>\n",
       "      <td>CCN20230504_SUPT</td>\n",
       "      <td>The second finest level of cell type definitio...</td>\n",
       "      <td>supertype</td>\n",
       "      <td>4</td>\n",
       "    </tr>\n",
       "    <tr>\n",
       "      <th>5</th>\n",
       "      <td>CCN20230504_CLUS</td>\n",
       "      <td>The finest level of cell type definition in th...</td>\n",
       "      <td>cluster</td>\n",
       "      <td>5</td>\n",
       "    </tr>\n",
       "  </tbody>\n",
       "</table>\n",
       "</div>"
      ],
      "text/plain": [
       "              label                                        description  \\\n",
       "0  CCN20230504_NEUR  Clusters are assigned based on the average exp...   \n",
       "1  CCN20230504_DIVI  A very broad definition of cell types. Cluster...   \n",
       "2  CCN20230504_CLAS  The top level of cell type definition in the m...   \n",
       "3  CCN20230504_SUBC  The coarse level of cell type definition in th...   \n",
       "4  CCN20230504_SUPT  The second finest level of cell type definitio...   \n",
       "5  CCN20230504_CLUS  The finest level of cell type definition in th...   \n",
       "\n",
       "               name  order  \n",
       "0  neurotransmitter      0  \n",
       "1          division      1  \n",
       "2             class      2  \n",
       "3          subclass      3  \n",
       "4         supertype      4  \n",
       "5           cluster      5  "
      ]
     },
     "execution_count": 3,
     "metadata": {},
     "output_type": "execute_result"
    }
   ],
   "source": [
    "rpath = taxonomy_metadata['cluster_annotation_term_set']['files']['csv']['relative_path']\n",
    "file = os.path.join( download_base, rpath)\n",
    "term_sets = pd.read_csv(file)\n",
    "term_sets"
   ]
  },
  {
   "cell_type": "markdown",
   "id": "226faedb",
   "metadata": {},
   "source": [
    "Read in cluster annotation term dataframe. Spike in a row to handle unassigned neurotransmitter clusters."
   ]
  },
  {
   "cell_type": "code",
   "execution_count": 4,
   "id": "e2597320",
   "metadata": {},
   "outputs": [],
   "source": [
    "rpath = taxonomy_metadata['cluster_annotation_term']['files']['csv']['relative_path']\n",
    "file = os.path.join( download_base, rpath)\n",
    "term = pd.read_csv(file)\n",
    "\n",
    "other_term = pd.DataFrame(columns=term.columns)\n",
    "other_term.loc[0,'name'] = 'Other'\n",
    "other_term.loc[0,'cluster_annotation_term_set_name'] = 'neurotransmitter'\n",
    "other_term.loc[0,'color_hex_triplet'] = '#ebebeb'\n",
    "term = pd.concat([term,other_term],ignore_index=True)"
   ]
  },
  {
   "cell_type": "markdown",
   "id": "ac406e41",
   "metadata": {},
   "source": [
    "Read in the cluster annotation term name pivot table and sort it"
   ]
  },
  {
   "cell_type": "code",
   "execution_count": 5,
   "id": "8decf41e",
   "metadata": {},
   "outputs": [
    {
     "data": {
      "text/html": [
       "<div>\n",
       "<style scoped>\n",
       "    .dataframe tbody tr th:only-of-type {\n",
       "        vertical-align: middle;\n",
       "    }\n",
       "\n",
       "    .dataframe tbody tr th {\n",
       "        vertical-align: top;\n",
       "    }\n",
       "\n",
       "    .dataframe thead th {\n",
       "        text-align: right;\n",
       "    }\n",
       "</style>\n",
       "<table border=\"1\" class=\"dataframe\">\n",
       "  <thead>\n",
       "    <tr style=\"text-align: right;\">\n",
       "      <th></th>\n",
       "      <th>cluster_alias</th>\n",
       "      <th>neurotransmitter</th>\n",
       "      <th>division</th>\n",
       "      <th>class</th>\n",
       "      <th>subclass</th>\n",
       "      <th>supertype</th>\n",
       "      <th>cluster</th>\n",
       "    </tr>\n",
       "  </thead>\n",
       "  <tbody>\n",
       "    <tr>\n",
       "      <th>125</th>\n",
       "      <td>128</td>\n",
       "      <td>Glut</td>\n",
       "      <td>1 Pallium glutamatergic</td>\n",
       "      <td>01 IT-ET Glut</td>\n",
       "      <td>001 Car3 Glut</td>\n",
       "      <td>0001 Car3 Glut_1</td>\n",
       "      <td>0001 Car3 Glut_1</td>\n",
       "    </tr>\n",
       "    <tr>\n",
       "      <th>126</th>\n",
       "      <td>129</td>\n",
       "      <td>Glut</td>\n",
       "      <td>1 Pallium glutamatergic</td>\n",
       "      <td>01 IT-ET Glut</td>\n",
       "      <td>001 Car3 Glut</td>\n",
       "      <td>0001 Car3 Glut_1</td>\n",
       "      <td>0002 Car3 Glut_1</td>\n",
       "    </tr>\n",
       "    <tr>\n",
       "      <th>127</th>\n",
       "      <td>130</td>\n",
       "      <td>Glut</td>\n",
       "      <td>1 Pallium glutamatergic</td>\n",
       "      <td>01 IT-ET Glut</td>\n",
       "      <td>001 Car3 Glut</td>\n",
       "      <td>0001 Car3 Glut_1</td>\n",
       "      <td>0003 Car3 Glut_1</td>\n",
       "    </tr>\n",
       "    <tr>\n",
       "      <th>140</th>\n",
       "      <td>143</td>\n",
       "      <td>Glut</td>\n",
       "      <td>1 Pallium glutamatergic</td>\n",
       "      <td>01 IT-ET Glut</td>\n",
       "      <td>001 Car3 Glut</td>\n",
       "      <td>0001 Car3 Glut_1</td>\n",
       "      <td>0004 Car3 Glut_1</td>\n",
       "    </tr>\n",
       "    <tr>\n",
       "      <th>128</th>\n",
       "      <td>131</td>\n",
       "      <td>Glut</td>\n",
       "      <td>1 Pallium glutamatergic</td>\n",
       "      <td>01 IT-ET Glut</td>\n",
       "      <td>001 Car3 Glut</td>\n",
       "      <td>0002 Car3 Glut_2</td>\n",
       "      <td>0005 Car3 Glut_2</td>\n",
       "    </tr>\n",
       "    <tr>\n",
       "      <th>...</th>\n",
       "      <td>...</td>\n",
       "      <td>...</td>\n",
       "      <td>...</td>\n",
       "      <td>...</td>\n",
       "      <td>...</td>\n",
       "      <td>...</td>\n",
       "      <td>...</td>\n",
       "    </tr>\n",
       "    <tr>\n",
       "      <th>5168</th>\n",
       "      <td>5279</td>\n",
       "      <td>Other</td>\n",
       "      <td>7 Immune</td>\n",
       "      <td>32 Immune</td>\n",
       "      <td>305 DC NN</td>\n",
       "      <td>1041 DC NN</td>\n",
       "      <td>5196 DC NN</td>\n",
       "    </tr>\n",
       "    <tr>\n",
       "      <th>5164</th>\n",
       "      <td>5275</td>\n",
       "      <td>Other</td>\n",
       "      <td>7 Immune</td>\n",
       "      <td>32 Immune</td>\n",
       "      <td>306 Lymphoid NN</td>\n",
       "      <td>1042 B cells NN</td>\n",
       "      <td>5197 B cells NN</td>\n",
       "    </tr>\n",
       "    <tr>\n",
       "      <th>5161</th>\n",
       "      <td>5272</td>\n",
       "      <td>Other</td>\n",
       "      <td>7 Immune</td>\n",
       "      <td>32 Immune</td>\n",
       "      <td>306 Lymphoid NN</td>\n",
       "      <td>1043 ILC NN</td>\n",
       "      <td>5198 ILC NN</td>\n",
       "    </tr>\n",
       "    <tr>\n",
       "      <th>5163</th>\n",
       "      <td>5274</td>\n",
       "      <td>Other</td>\n",
       "      <td>7 Immune</td>\n",
       "      <td>32 Immune</td>\n",
       "      <td>306 Lymphoid NN</td>\n",
       "      <td>1044 NK cells NN</td>\n",
       "      <td>5199 NK cells NN</td>\n",
       "    </tr>\n",
       "    <tr>\n",
       "      <th>5162</th>\n",
       "      <td>5273</td>\n",
       "      <td>Other</td>\n",
       "      <td>7 Immune</td>\n",
       "      <td>32 Immune</td>\n",
       "      <td>306 Lymphoid NN</td>\n",
       "      <td>1045 T cells NN</td>\n",
       "      <td>5200 T cells NN</td>\n",
       "    </tr>\n",
       "  </tbody>\n",
       "</table>\n",
       "<p>5196 rows × 7 columns</p>\n",
       "</div>"
      ],
      "text/plain": [
       "      cluster_alias neurotransmitter                 division          class  \\\n",
       "125             128             Glut  1 Pallium glutamatergic  01 IT-ET Glut   \n",
       "126             129             Glut  1 Pallium glutamatergic  01 IT-ET Glut   \n",
       "127             130             Glut  1 Pallium glutamatergic  01 IT-ET Glut   \n",
       "140             143             Glut  1 Pallium glutamatergic  01 IT-ET Glut   \n",
       "128             131             Glut  1 Pallium glutamatergic  01 IT-ET Glut   \n",
       "...             ...              ...                      ...            ...   \n",
       "5168           5279            Other                 7 Immune      32 Immune   \n",
       "5164           5275            Other                 7 Immune      32 Immune   \n",
       "5161           5272            Other                 7 Immune      32 Immune   \n",
       "5163           5274            Other                 7 Immune      32 Immune   \n",
       "5162           5273            Other                 7 Immune      32 Immune   \n",
       "\n",
       "             subclass         supertype           cluster  \n",
       "125     001 Car3 Glut  0001 Car3 Glut_1  0001 Car3 Glut_1  \n",
       "126     001 Car3 Glut  0001 Car3 Glut_1  0002 Car3 Glut_1  \n",
       "127     001 Car3 Glut  0001 Car3 Glut_1  0003 Car3 Glut_1  \n",
       "140     001 Car3 Glut  0001 Car3 Glut_1  0004 Car3 Glut_1  \n",
       "128     001 Car3 Glut  0002 Car3 Glut_2  0005 Car3 Glut_2  \n",
       "...               ...               ...               ...  \n",
       "5168        305 DC NN        1041 DC NN        5196 DC NN  \n",
       "5164  306 Lymphoid NN   1042 B cells NN   5197 B cells NN  \n",
       "5161  306 Lymphoid NN       1043 ILC NN       5198 ILC NN  \n",
       "5163  306 Lymphoid NN  1044 NK cells NN  5199 NK cells NN  \n",
       "5162  306 Lymphoid NN   1045 T cells NN   5200 T cells NN  \n",
       "\n",
       "[5196 rows x 7 columns]"
      ]
     },
     "execution_count": 5,
     "metadata": {},
     "output_type": "execute_result"
    }
   ],
   "source": [
    "rpath = taxonomy_metadata['cluster_to_cluster_annotation_membership_pivoted']['files']['csv']['relative_path']\n",
    "file = os.path.join( download_base, rpath)\n",
    "df = pd.read_csv(file)\n",
    "df = df.fillna('Other')\n",
    "df_sorted = df.sort_values(['class','subclass','supertype','cluster'])\n",
    "df_sorted"
   ]
  },
  {
   "cell_type": "markdown",
   "id": "81e3c175",
   "metadata": {},
   "source": [
    "Create a lookup by name dataframes for each term set"
   ]
  },
  {
   "cell_type": "code",
   "execution_count": 6,
   "id": "390947f4",
   "metadata": {},
   "outputs": [
    {
     "name": "stdout",
     "output_type": "stream",
     "text": [
      "neurotransmitter\n",
      "division\n",
      "class\n",
      "subclass\n",
      "supertype\n",
      "cluster\n"
     ]
    }
   ],
   "source": [
    "lookup = {}\n",
    "for sindex, srow in term_sets.iterrows() :\n",
    "    tag = srow['name']\n",
    "    print(tag)\n",
    "    pred = (term['cluster_annotation_term_set_name'] == tag)\n",
    "    filtered = term[pred].copy()\n",
    "    filtered.set_index('name', inplace=True)\n",
    "    lookup[tag] = filtered"
   ]
  },
  {
   "cell_type": "markdown",
   "id": "4ef4984e",
   "metadata": {},
   "source": [
    "Helper functions to lookup a color by term set and term name and format a cell in the html table"
   ]
  },
  {
   "cell_type": "code",
   "execution_count": 7,
   "id": "35a6ef40",
   "metadata": {},
   "outputs": [],
   "source": [
    "def get_color( c, n ) :\n",
    "    return lookup[c].loc[n]['color_hex_triplet']\n",
    "                            \n",
    "def format_cell (df,c) :\n",
    "    pattern = '<div class=\"circle\" style=\"background-color:%s\"></div><div class=\"celltext\">%s</div>'\n",
    "    return [ pattern % (get_color(c,x),x) for x in df[c] ]\n"
   ]
  },
  {
   "cell_type": "markdown",
   "id": "59ff0199",
   "metadata": {},
   "source": [
    "Helper function to create html document"
   ]
  },
  {
   "cell_type": "code",
   "execution_count": 8,
   "id": "fa27aae9",
   "metadata": {},
   "outputs": [],
   "source": [
    "def create_html (df,file,title) :\n",
    "    \n",
    "    # apply formatter to each term set\n",
    "    df_formatted = df.copy()\n",
    "    for sindex, srow in term_sets.iterrows() :\n",
    "        tag = srow['name']\n",
    "        if tag in df_formatted.columns :\n",
    "            df_formatted[tag] = format_cell(df,tag)\n",
    "\n",
    "    output = df_formatted.to_html(index=False, na_rep='',\n",
    "                        render_links=True,escape=False,\n",
    "                        classes=\"mystyle\")\n",
    "\n",
    "    html_string = '''\n",
    "    <html>\n",
    "    <head><title>%s</title></head>\n",
    "    <link rel=\"stylesheet\" type=\"text/css\" href=\"simple_style.css\"/>\n",
    "    <body>\n",
    "    {table}\n",
    "    </body>\n",
    "    </html>.\n",
    "    ''' % title\n",
    "\n",
    "    # OUTPUT AN HTML FILE\n",
    "    with open(file, 'w') as f:\n",
    "        f.write(html_string.format(table=output))"
   ]
  },
  {
   "cell_type": "code",
   "execution_count": 9,
   "id": "9fe708bf",
   "metadata": {},
   "outputs": [
    {
     "name": "stdout",
     "output_type": "stream",
     "text": [
      "5196\n"
     ]
    }
   ],
   "source": [
    "file = 'WMB-taxonomy_cluster_annotation_clusters.html'\n",
    "title = 'WMB-taxonmy cluster annotations (clusters)'\n",
    "create_html(df_sorted, file, title)\n",
    "print(len(df_sorted))"
   ]
  },
  {
   "cell_type": "code",
   "execution_count": 10,
   "id": "d88dffc5",
   "metadata": {
    "scrolled": false
   },
   "outputs": [
    {
     "name": "stdout",
     "output_type": "stream",
     "text": [
      "1115\n"
     ]
    }
   ],
   "source": [
    "df_supertype = df_sorted[['class','subclass','supertype']].copy()\n",
    "df_supertype.drop_duplicates(inplace=True)\n",
    "\n",
    "file = 'WMB-taxonomy_cluster_annotation_supertypes.html'\n",
    "title = 'WMB-taxonmy cluster annotations (supertypes)'\n",
    "create_html(df_supertype, file, title)\n",
    "print(len(df_supertype))"
   ]
  },
  {
   "cell_type": "code",
   "execution_count": 11,
   "id": "97d8550a",
   "metadata": {},
   "outputs": [
    {
     "name": "stdout",
     "output_type": "stream",
     "text": [
      "307\n"
     ]
    }
   ],
   "source": [
    "df_supertype = df_sorted[['class','subclass']].copy()\n",
    "df_supertype.drop_duplicates(inplace=True)\n",
    "\n",
    "file = 'WMB-taxonomy_cluster_annotation_subclasses.html'\n",
    "title = 'WMB-taxonmy cluster annotations (subclasses)'\n",
    "create_html(df_supertype, file, title)\n",
    "print(len(df_supertype))"
   ]
  },
  {
   "cell_type": "code",
   "execution_count": 12,
   "id": "b356090d",
   "metadata": {},
   "outputs": [
    {
     "name": "stdout",
     "output_type": "stream",
     "text": [
      "32\n"
     ]
    }
   ],
   "source": [
    "df_supertype = df_sorted[['class']].copy()\n",
    "df_supertype.drop_duplicates(inplace=True)\n",
    "\n",
    "file = 'WMB-taxonomy_cluster_annotation_classes.html'\n",
    "title = 'WMB-taxonmy cluster annotations (classes)'\n",
    "create_html(df_supertype, file, title)\n",
    "print(len(df_supertype))"
   ]
  }
 ],
 "metadata": {
  "kernelspec": {
   "display_name": "Python 3 (ipykernel)",
   "language": "python",
   "name": "python3"
  },
  "language_info": {
   "codemirror_mode": {
    "name": "ipython",
    "version": 3
   },
   "file_extension": ".py",
   "mimetype": "text/x-python",
   "name": "python",
   "nbconvert_exporter": "python",
   "pygments_lexer": "ipython3",
   "version": "3.11.3"
  }
 },
 "nbformat": 4,
 "nbformat_minor": 5
}
