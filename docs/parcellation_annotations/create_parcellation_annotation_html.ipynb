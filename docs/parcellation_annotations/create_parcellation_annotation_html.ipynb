{
 "cells": [
  {
   "cell_type": "code",
   "execution_count": 1,
   "id": "a30a4954",
   "metadata": {},
   "outputs": [],
   "source": [
    "import os\n",
    "import pandas as pd\n",
    "import numpy as np\n",
    "import anndata\n",
    "import time\n",
    "import matplotlib.pyplot as plt\n",
    "import json\n",
    "import requests"
   ]
  },
  {
   "cell_type": "code",
   "execution_count": 2,
   "id": "3516f683",
   "metadata": {},
   "outputs": [],
   "source": [
    "download_base = '../../../abc_download_root'\n",
    "\n",
    "url = 'https://allen-brain-cell-atlas.s3-us-west-2.amazonaws.com/releases/20230630/manifest.json'\n",
    "manifest = json.loads(requests.get(url).text)\n",
    "    \n",
    "metadata = manifest['file_listing']['Allen-CCF-2020']['metadata']"
   ]
  },
  {
   "cell_type": "markdown",
   "id": "ddc0fa2e",
   "metadata": {},
   "source": [
    "Read in parcellation annotation term set dataframe"
   ]
  },
  {
   "cell_type": "code",
   "execution_count": 3,
   "id": "b9a9d217",
   "metadata": {},
   "outputs": [],
   "source": [
    "rpath = metadata['parcellation_term_set']['files']['csv']['relative_path']\n",
    "file = os.path.join( download_base, rpath)\n",
    "term_sets = pd.read_csv(file)\n",
    "term_sets.set_index('label', inplace=True)\n",
    "term_sets"
   ]
  },
  {
   "cell_type": "markdown",
   "id": "226faedb",
   "metadata": {},
   "source": [
    "Read in parcellation term membership dataframe"
   ]
  },
  {
   "cell_type": "code",
   "execution_count": 4,
   "id": "fc661799",
   "metadata": {},
   "outputs": [],
   "source": [
    "rpath = metadata['parcellation_to_parcellation_term_membership']['files']['csv']['relative_path']\n",
    "file = os.path.join( download_base, rpath)\n",
    "term = pd.read_csv(file)\n",
    "\n",
    "term.sort_values(['term_set_order','term_order'],inplace=True)\n",
    "\n",
    "term.head(8)"
   ]
  },
  {
   "cell_type": "markdown",
   "id": "07d4e731",
   "metadata": {},
   "source": [
    "Find and store first child for each term"
   ]
  },
  {
   "cell_type": "code",
   "execution_count": 5,
   "id": "eb9db5c1",
   "metadata": {},
   "outputs": [],
   "source": [
    "filtered = term[pd.notna(term['parent_term_label'])]\n",
    "first_child = filtered.groupby('parent_term_label')[['parcellation_term_label','parcellation_term_name','term_order','parcellation_term_set_name']].first()\n",
    "first_child"
   ]
  },
  {
   "cell_type": "code",
   "execution_count": 6,
   "id": "4b151bca",
   "metadata": {},
   "outputs": [],
   "source": [
    "rpath = metadata['parcellation_term']['files']['csv']['relative_path']\n",
    "file = os.path.join( download_base, rpath)\n",
    "info = pd.read_csv(file)\n",
    "info.set_index('label',inplace=True)\n",
    "info.head(5)"
   ]
  },
  {
   "cell_type": "code",
   "execution_count": 7,
   "id": "f110a33a",
   "metadata": {},
   "outputs": [],
   "source": [
    "term.set_index('parcellation_term_label',inplace=True)\n",
    "term.loc[first_child.index,'first_child_label'] = first_child['parcellation_term_label']\n",
    "term.loc[first_child.index,'first_child_term_set_name'] = first_child['parcellation_term_set_name']\n",
    "term = term.join(info['identifier'])\n",
    "term.reset_index(inplace=True)"
   ]
  },
  {
   "cell_type": "code",
   "execution_count": 8,
   "id": "3ea25180",
   "metadata": {},
   "outputs": [],
   "source": [
    "term[pd.notna(term['first_child_label'])].tail(5)"
   ]
  },
  {
   "cell_type": "markdown",
   "id": "ac406e41",
   "metadata": {},
   "source": [
    "Create pivot of term order"
   ]
  },
  {
   "cell_type": "code",
   "execution_count": 9,
   "id": "5e3f8ba5",
   "metadata": {},
   "outputs": [],
   "source": [
    "df = term.groupby(['parcellation_index','parcellation_term_set_name'])['term_order'].first().unstack()\n",
    "df = df[term_sets['name']] # order columns\n",
    "df_sorted = df.sort_values(['organ','category','division','structure','substructure'])\n",
    "df_sorted.columns = list(df_sorted.columns)\n",
    "df_sorted"
   ]
  },
  {
   "cell_type": "code",
   "execution_count": 10,
   "id": "0e8d01dc",
   "metadata": {},
   "outputs": [],
   "source": [
    "term.groupby(['parcellation_index','parcellation_term_set_name'])['term_order'].first().unstack()"
   ]
  },
  {
   "cell_type": "markdown",
   "id": "81e3c175",
   "metadata": {},
   "source": [
    "Create a lookup by name dataframes for each term set"
   ]
  },
  {
   "cell_type": "code",
   "execution_count": 11,
   "id": "390947f4",
   "metadata": {},
   "outputs": [],
   "source": [
    "lookup = {}\n",
    "for tag in term_sets['name'] :\n",
    "    #print(tag)\n",
    "    pred = (term['parcellation_term_set_name'] == tag)\n",
    "    filtered = term[pred].copy()\n",
    "    filtered.drop(['parcellation_label','parcellation_index','voxel_count','volume_mm3'], inplace=True, axis=1)\n",
    "    filtered.drop_duplicates(inplace=True)\n",
    "    filtered.set_index('term_order', inplace=True)\n",
    "    lookup[tag] = filtered"
   ]
  },
  {
   "cell_type": "markdown",
   "id": "4ef4984e",
   "metadata": {},
   "source": [
    "Helper functions to lookup an term attribut and format a cell in the html table"
   ]
  },
  {
   "cell_type": "code",
   "execution_count": 12,
   "id": "35a6ef40",
   "metadata": {},
   "outputs": [],
   "source": [
    "def get_value( c, n, v ) :\n",
    "    return lookup[c].loc[n][v]\n",
    "\n",
    "def format_cell (df,c,add_id=False,add_plus=False,add_minus=False,add_name=False,add_atlas=False) :\n",
    "\n",
    "    divs = pd.DataFrame(index=df.index)\n",
    "    \n",
    "    pattern = '<div class=\"circle\" style=\"background-color:%s\"></div>'\n",
    "    divs['circle'] = [ pattern % get_value(c,x,'color_hex_triplet') for x in df[c] ]\n",
    "    \n",
    "    pattern = '<div class=\"celltext\", title=\"%s\"><b>%s</b></div>'\n",
    "    divs['name'] = [ pattern % (get_value(c,x,'parcellation_term_name'),\n",
    "                                get_value(c,x,'parcellation_term_acronym')) for x in df[c] ]\n",
    "    \n",
    "    divs['desc'] = ''\n",
    "    if add_name :\n",
    "        pattern = '<div class=\"celltext\">%s</div>'\n",
    "        divs['desc'] = [ pattern % get_value(c,x,'parcellation_term_name') for x in df[c] ]\n",
    "   \n",
    "    divs['id'] = ''\n",
    "    if add_id :\n",
    "        pattern = '<div id=\"%s\"></div>'\n",
    "        divs['id'] = [ pattern % get_value(c,x,'parcellation_term_label') for x in df[c] ]\n",
    "        \n",
    "    divs['plus'] = ''\n",
    "    if add_plus :\n",
    "        pattern = '<div class=\"celltext\"><a href=\"%s.html#%s\">[+]</a></div>'\n",
    "        divs['plus'] = [ pattern % (get_value(c,x,'first_child_term_set_name'),\n",
    "                                    get_value(c,x,'first_child_label')) for x in df[c] ]\n",
    "        \n",
    "    divs['minus'] = ''\n",
    "    if add_minus :\n",
    "        pattern = '<div class=\"celltext\"><a href=\"%s.html#%s\">[-]</a></div>'\n",
    "        divs['minus'] = [ pattern % (get_value(c,x,'parcellation_term_set_name'),\n",
    "                                    get_value(c,x,'parcellation_term_label')) for x in df[c] ]\n",
    "        \n",
    "    divs['atlas'] = ''\n",
    "    if add_atlas :\n",
    "        pattern = '<div class=\"celltext\"><a href=\"https://atlas.brain-map.org/atlas?atlas=602630314&structure=%s\">[A]</a></div>'\n",
    "        sid = pd.Series([get_value(c,x,'identifier') for x in df[c]])\n",
    "        sid[pd.isna(sid)] = 'MBA:0'\n",
    "        sid = [x.split(':')[1] for x in sid]\n",
    "        divs['atlas'] = [pattern % x for x in sid ]\n",
    "    \n",
    "    cols = ['id','circle','name','desc','plus','minus','atlas']\n",
    "    output = divs[cols].apply(lambda row: ''.join(row.values.astype(str)), axis=1)\n",
    "    return output\n"
   ]
  },
  {
   "cell_type": "markdown",
   "id": "59ff0199",
   "metadata": {},
   "source": [
    "Helper function to create html document"
   ]
  },
  {
   "cell_type": "code",
   "execution_count": 13,
   "id": "fa27aae9",
   "metadata": {},
   "outputs": [],
   "source": [
    "def create_html (df,ts,file,title) :\n",
    "    \n",
    "    # apply formatter to each term set\n",
    "    df_formatted = df.copy()\n",
    "    \n",
    "    for tag in term_sets['name'] :\n",
    "        if tag in df_formatted.columns :\n",
    "            \n",
    "            #print(tag)\n",
    "            \n",
    "            add_id = False\n",
    "            add_name = False\n",
    "            add_atlas = False\n",
    "            if tag == ts :\n",
    "                add_id = True\n",
    "                add_name = True\n",
    "                add_atlas = True\n",
    "                \n",
    "            add_plus = False\n",
    "            if tag == ts and tag not in ['substructure'] :\n",
    "                add_plus = True\n",
    "                \n",
    "            add_minus = False\n",
    "            if tag != ts and tag not in ['organ'] :\n",
    "                add_minus = True\n",
    "                \n",
    "            df_formatted[tag] = format_cell(df,tag,add_id,add_plus,add_minus,add_name,add_atlas)\n",
    "            \n",
    "            \n",
    "    output = df_formatted.to_html(index=False, na_rep='',\n",
    "                        render_links=True,escape=False,\n",
    "                        classes=\"mystyle\")\n",
    "\n",
    "    html_string = '''\n",
    "    <html>\n",
    "    <head><title>%s</title></head>\n",
    "    <link rel=\"stylesheet\" type=\"text/css\" href=\"../simple_style.css\"/>\n",
    "    <body>\n",
    "    {table}\n",
    "    </body>\n",
    "    </html>.\n",
    "    ''' % title\n",
    "\n",
    "    # OUTPUT AN HTML FILE\n",
    "    with open(file, 'w') as f:\n",
    "        f.write(html_string.format(table=output))"
   ]
  },
  {
   "cell_type": "code",
   "execution_count": 14,
   "id": "57aacf7a",
   "metadata": {},
   "outputs": [],
   "source": [
    "output_directory = 'Allen-CCF-2020'\n",
    "os.makedirs( output_directory, exist_ok=True)"
   ]
  },
  {
   "cell_type": "code",
   "execution_count": 15,
   "id": "97d8550a",
   "metadata": {},
   "outputs": [],
   "source": [
    "subset = df_sorted[['division']].copy()\n",
    "subset.drop_duplicates(inplace=True)\n",
    "\n",
    "file = os.path.join(output_directory,'division.html')\n",
    "title = 'Allen-CCF-2020: anatomical divisions'\n",
    "create_html(subset, 'division',file, title)\n",
    "print(len(subset))"
   ]
  },
  {
   "cell_type": "code",
   "execution_count": 16,
   "id": "7e80e0c4",
   "metadata": {},
   "outputs": [],
   "source": [
    "subset = df_sorted[['division','structure','substructure']].copy()\n",
    "subset.drop_duplicates(inplace=True)\n",
    "\n",
    "file = os.path.join(output_directory,'substructure.html')\n",
    "title = 'Allen-CCF-2020: anatomical substructures'\n",
    "create_html(subset, 'substructure',file, title)\n",
    "print(len(subset))"
   ]
  },
  {
   "cell_type": "code",
   "execution_count": 17,
   "id": "9a6f8c13",
   "metadata": {},
   "outputs": [],
   "source": [
    "subset = df_sorted[['division','structure']].copy()\n",
    "subset.drop_duplicates(inplace=True)\n",
    "\n",
    "file = os.path.join(output_directory,'structure.html')\n",
    "title = 'Allen-CCF-2020: anatomical structure'\n",
    "create_html(subset, 'structure',file, title)\n",
    "print(len(subset))"
   ]
  },
  {
   "cell_type": "code",
   "execution_count": null,
   "id": "6c49f0a3",
   "metadata": {},
   "outputs": [],
   "source": []
  }
 ],
 "metadata": {
  "kernelspec": {
   "display_name": "Python 3 (ipykernel)",
   "language": "python",
   "name": "python3"
  },
  "language_info": {
   "codemirror_mode": {
    "name": "ipython",
    "version": 3
   },
   "file_extension": ".py",
   "mimetype": "text/x-python",
   "name": "python",
   "nbconvert_exporter": "python",
   "pygments_lexer": "ipython3",
   "version": "3.11.3"
  }
 },
 "nbformat": 4,
 "nbformat_minor": 5
}
