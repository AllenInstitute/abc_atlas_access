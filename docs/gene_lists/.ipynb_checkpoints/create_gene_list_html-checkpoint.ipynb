{
 "cells": [
  {
   "cell_type": "code",
   "execution_count": 1,
   "id": "e80124d0",
   "metadata": {},
   "outputs": [],
   "source": [
    "import os\n",
    "import pandas as pd\n",
    "import numpy as np\n",
    "import anndata\n",
    "import time\n",
    "import matplotlib.pyplot as plt\n",
    "import json\n",
    "import requests\n",
    "import tabulate"
   ]
  },
  {
   "cell_type": "code",
   "execution_count": 2,
   "id": "171650ad",
   "metadata": {},
   "outputs": [],
   "source": [
    "download_base = '../../abc_download_root'\n",
    "\n",
    "url = 'https://allen-brain-cell-atlas.s3-us-west-2.amazonaws.com/releases/20230630/manifest.json'\n",
    "manifest = json.loads(requests.get(url).text)\n",
    "    "
   ]
  },
  {
   "cell_type": "code",
   "execution_count": 4,
   "id": "886d3af2",
   "metadata": {},
   "outputs": [],
   "source": [
    "def create_clickable_ENSEMBL_id(id):\n",
    "    url_template= '''<a href=\"https://identifiers.org/ENSEMBL:{id}\" target=\"_blank\">{id}</a>'''.format(id=id)\n",
    "    return url_template"
   ]
  },
  {
   "cell_type": "code",
   "execution_count": 6,
   "id": "6a2a3e63",
   "metadata": {},
   "outputs": [],
   "source": [
    "def create_clickable_id(id):\n",
    "    if pd.notna(id) :\n",
    "        url_template= '''<a href=\"https://identifiers.org/{id}\" target=\"_blank\">{id}</a>'''.format(id=id)\n",
    "        return url_template\n",
    "    else :\n",
    "        return ''"
   ]
  },
  {
   "cell_type": "code",
   "execution_count": 3,
   "id": "63245b07",
   "metadata": {},
   "outputs": [
    {
     "data": {
      "text/html": [
       "<div>\n",
       "<style scoped>\n",
       "    .dataframe tbody tr th:only-of-type {\n",
       "        vertical-align: middle;\n",
       "    }\n",
       "\n",
       "    .dataframe tbody tr th {\n",
       "        vertical-align: top;\n",
       "    }\n",
       "\n",
       "    .dataframe thead th {\n",
       "        text-align: right;\n",
       "    }\n",
       "</style>\n",
       "<table border=\"1\" class=\"dataframe\">\n",
       "  <thead>\n",
       "    <tr style=\"text-align: right;\">\n",
       "      <th></th>\n",
       "      <th>gene_identifier</th>\n",
       "      <th>gene_symbol</th>\n",
       "      <th>name</th>\n",
       "      <th>mapped_gene_identifier</th>\n",
       "      <th>comment</th>\n",
       "    </tr>\n",
       "  </thead>\n",
       "  <tbody>\n",
       "    <tr>\n",
       "      <th>28818</th>\n",
       "      <td>ENSMUSG00000109644</td>\n",
       "      <td>0610005C13Rik</td>\n",
       "      <td>RIKEN cDNA 0610005C13 gene</td>\n",
       "      <td>NaN</td>\n",
       "      <td>NaN</td>\n",
       "    </tr>\n",
       "    <tr>\n",
       "      <th>28490</th>\n",
       "      <td>ENSMUSG00000108652</td>\n",
       "      <td>0610006L08Rik</td>\n",
       "      <td>RIKEN cDNA 0610006L08 gene</td>\n",
       "      <td>NaN</td>\n",
       "      <td>NaN</td>\n",
       "    </tr>\n",
       "    <tr>\n",
       "      <th>1116</th>\n",
       "      <td>ENSMUSG00000007777</td>\n",
       "      <td>0610009B22Rik</td>\n",
       "      <td>RIKEN cDNA 0610009B22 gene</td>\n",
       "      <td>NCBIGene:66050</td>\n",
       "      <td>NaN</td>\n",
       "    </tr>\n",
       "    <tr>\n",
       "      <th>21769</th>\n",
       "      <td>ENSMUSG00000086714</td>\n",
       "      <td>0610009E02Rik</td>\n",
       "      <td>RIKEN cDNA 0610009E02 gene</td>\n",
       "      <td>NaN</td>\n",
       "      <td>NaN</td>\n",
       "    </tr>\n",
       "    <tr>\n",
       "      <th>12822</th>\n",
       "      <td>ENSMUSG00000043644</td>\n",
       "      <td>0610009L18Rik</td>\n",
       "      <td>RIKEN cDNA 0610009L18 gene</td>\n",
       "      <td>NaN</td>\n",
       "      <td>NaN</td>\n",
       "    </tr>\n",
       "    <tr>\n",
       "      <th>...</th>\n",
       "      <td>...</td>\n",
       "      <td>...</td>\n",
       "      <td>...</td>\n",
       "      <td>...</td>\n",
       "      <td>...</td>\n",
       "    </tr>\n",
       "    <tr>\n",
       "      <th>17428</th>\n",
       "      <td>ENSMUSG00000064360</td>\n",
       "      <td>mt-Nd3</td>\n",
       "      <td>mitochondrially encoded NADH dehydrogenase 3</td>\n",
       "      <td>NCBIGene:17718</td>\n",
       "      <td>NaN</td>\n",
       "    </tr>\n",
       "    <tr>\n",
       "      <th>17429</th>\n",
       "      <td>ENSMUSG00000064363</td>\n",
       "      <td>mt-Nd4</td>\n",
       "      <td>mitochondrially encoded NADH dehydrogenase 4</td>\n",
       "      <td>NCBIGene:17719</td>\n",
       "      <td>NaN</td>\n",
       "    </tr>\n",
       "    <tr>\n",
       "      <th>17434</th>\n",
       "      <td>ENSMUSG00000065947</td>\n",
       "      <td>mt-Nd4l</td>\n",
       "      <td>mitochondrially encoded NADH dehydrogenase 4L</td>\n",
       "      <td>NCBIGene:17720</td>\n",
       "      <td>NaN</td>\n",
       "    </tr>\n",
       "    <tr>\n",
       "      <th>17430</th>\n",
       "      <td>ENSMUSG00000064367</td>\n",
       "      <td>mt-Nd5</td>\n",
       "      <td>mitochondrially encoded NADH dehydrogenase 5</td>\n",
       "      <td>NCBIGene:17721</td>\n",
       "      <td>NaN</td>\n",
       "    </tr>\n",
       "    <tr>\n",
       "      <th>17431</th>\n",
       "      <td>ENSMUSG00000064368</td>\n",
       "      <td>mt-Nd6</td>\n",
       "      <td>mitochondrially encoded NADH dehydrogenase 6</td>\n",
       "      <td>NCBIGene:17722</td>\n",
       "      <td>NaN</td>\n",
       "    </tr>\n",
       "  </tbody>\n",
       "</table>\n",
       "<p>32285 rows × 5 columns</p>\n",
       "</div>"
      ],
      "text/plain": [
       "          gene_identifier    gene_symbol  \\\n",
       "28818  ENSMUSG00000109644  0610005C13Rik   \n",
       "28490  ENSMUSG00000108652  0610006L08Rik   \n",
       "1116   ENSMUSG00000007777  0610009B22Rik   \n",
       "21769  ENSMUSG00000086714  0610009E02Rik   \n",
       "12822  ENSMUSG00000043644  0610009L18Rik   \n",
       "...                   ...            ...   \n",
       "17428  ENSMUSG00000064360         mt-Nd3   \n",
       "17429  ENSMUSG00000064363         mt-Nd4   \n",
       "17434  ENSMUSG00000065947        mt-Nd4l   \n",
       "17430  ENSMUSG00000064367         mt-Nd5   \n",
       "17431  ENSMUSG00000064368         mt-Nd6   \n",
       "\n",
       "                                                name mapped_gene_identifier  \\\n",
       "28818                     RIKEN cDNA 0610005C13 gene                    NaN   \n",
       "28490                     RIKEN cDNA 0610006L08 gene                    NaN   \n",
       "1116                      RIKEN cDNA 0610009B22 gene         NCBIGene:66050   \n",
       "21769                     RIKEN cDNA 0610009E02 gene                    NaN   \n",
       "12822                     RIKEN cDNA 0610009L18 gene                    NaN   \n",
       "...                                              ...                    ...   \n",
       "17428   mitochondrially encoded NADH dehydrogenase 3         NCBIGene:17718   \n",
       "17429   mitochondrially encoded NADH dehydrogenase 4         NCBIGene:17719   \n",
       "17434  mitochondrially encoded NADH dehydrogenase 4L         NCBIGene:17720   \n",
       "17430   mitochondrially encoded NADH dehydrogenase 5         NCBIGene:17721   \n",
       "17431   mitochondrially encoded NADH dehydrogenase 6         NCBIGene:17722   \n",
       "\n",
       "      comment  \n",
       "28818     NaN  \n",
       "28490     NaN  \n",
       "1116      NaN  \n",
       "21769     NaN  \n",
       "12822     NaN  \n",
       "...       ...  \n",
       "17428     NaN  \n",
       "17429     NaN  \n",
       "17434     NaN  \n",
       "17430     NaN  \n",
       "17431     NaN  \n",
       "\n",
       "[32285 rows x 5 columns]"
      ]
     },
     "execution_count": 3,
     "metadata": {},
     "output_type": "execute_result"
    }
   ],
   "source": [
    "metadata = manifest['file_listing']['WMB-10X']['metadata']\n",
    "rpath = metadata['gene']['files']['csv']['relative_path']\n",
    "file = os.path.join( download_base, rpath)\n",
    "gene = pd.read_csv(file)\n",
    "gene.sort_values('gene_symbol',inplace=True)\n",
    "gene"
   ]
  },
  {
   "cell_type": "code",
   "execution_count": null,
   "id": "f214aca4",
   "metadata": {},
   "outputs": [],
   "source": [
    "def create_output_html( df, file ) :\n",
    "    \n",
    "    df['gene_identifier'] = df['gene_identifier'].apply(create_clickable_ENSEMBL_id)"
   ]
  },
  {
   "cell_type": "code",
   "execution_count": 5,
   "id": "ee37d64e",
   "metadata": {},
   "outputs": [],
   "source": [
    "gene['gene_identifier'] = gene['gene_identifier'].apply(create_clickable_ENSEMBL_id)"
   ]
  },
  {
   "cell_type": "code",
   "execution_count": 7,
   "id": "cad45ec1",
   "metadata": {},
   "outputs": [],
   "source": [
    "gene['mapped_gene_identifier'] = gene['mapped_gene_identifier'].apply(create_clickable_id)"
   ]
  },
  {
   "cell_type": "code",
   "execution_count": 8,
   "id": "d4539a67",
   "metadata": {},
   "outputs": [],
   "source": [
    "formatter = {'gene_symbol': lambda x: '<b>' + x + '</b>'}"
   ]
  },
  {
   "cell_type": "code",
   "execution_count": 9,
   "id": "6a0097a7",
   "metadata": {},
   "outputs": [],
   "source": [
    "output = gene.to_html(index=False, na_rep='',render_links=True,escape=False,classes=\"mystyle\",formatters=formatter)"
   ]
  },
  {
   "cell_type": "code",
   "execution_count": 10,
   "id": "1426f19b",
   "metadata": {},
   "outputs": [],
   "source": [
    "file = os.path.join('..','temp','test.html')\n",
    "#with open(file,'w') as f :\n",
    "#    f.write(output)"
   ]
  },
  {
   "cell_type": "code",
   "execution_count": 11,
   "id": "5ba32201",
   "metadata": {},
   "outputs": [],
   "source": [
    "pd.set_option('colheader_justify', 'center')   # FOR TABLE <th>\n",
    "\n",
    "html_string = '''\n",
    "<html>\n",
    "  <head><title>WMB-10x Gene List</title></head>\n",
    "  <link rel=\"stylesheet\" type=\"text/css\" href=\"example_style.css\"/>\n",
    "  <body>\n",
    "    {table}\n",
    "  </body>\n",
    "</html>.\n",
    "'''\n",
    "\n",
    "# OUTPUT AN HTML FILE\n",
    "with open(file, 'w') as f:\n",
    "    f.write(html_string.format(table=output))"
   ]
  },
  {
   "cell_type": "code",
   "execution_count": null,
   "id": "ac29b053",
   "metadata": {},
   "outputs": [],
   "source": []
  }
 ],
 "metadata": {
  "kernelspec": {
   "display_name": "Python 3 (ipykernel)",
   "language": "python",
   "name": "python3"
  },
  "language_info": {
   "codemirror_mode": {
    "name": "ipython",
    "version": 3
   },
   "file_extension": ".py",
   "mimetype": "text/x-python",
   "name": "python",
   "nbconvert_exporter": "python",
   "pygments_lexer": "ipython3",
   "version": "3.11.3"
  }
 },
 "nbformat": 4,
 "nbformat_minor": 5
}
