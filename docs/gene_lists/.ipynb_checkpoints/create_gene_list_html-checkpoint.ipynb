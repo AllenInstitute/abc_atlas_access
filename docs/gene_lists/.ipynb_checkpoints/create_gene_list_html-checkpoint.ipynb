{
 "cells": [
  {
   "cell_type": "code",
   "execution_count": 1,
   "metadata": {},
   "outputs": [],
   "source": [
    "import os\n",
    "import pandas as pd\n",
    "import numpy as np\n",
    "import anndata\n",
    "import time\n",
    "import matplotlib.pyplot as plt\n",
    "import json\n",
    "import requests"
   ]
  },
  {
   "cell_type": "code",
   "execution_count": 2,
   "metadata": {},
   "outputs": [],
   "source": [
    "version = '20230830'\n",
    "download_base = '../../../abc_download_root'\n",
    "\n",
    "use_local_cache = False\n",
    "manifest_path = 'releases/%s/manifest.json' % version\n",
    "\n",
    "\n",
    "if not use_local_cache :\n",
    "    url = 'https://allen-brain-cell-atlas.s3-us-west-2.amazonaws.com/' + manifest_path\n",
    "    manifest = json.loads(requests.get(url).text)\n",
    "else :\n",
    "    file = os.path.join(download_base,manifest_path)\n",
    "    with open(file,'rb') as f:\n",
    "        manifest = json.load(f)\n",
    "    "
   ]
  },
  {
   "cell_type": "markdown",
   "metadata": {},
   "source": [
    "Helper function to format a clickable ENSEMBL id link"
   ]
  },
  {
   "cell_type": "code",
   "execution_count": 3,
   "metadata": {},
   "outputs": [],
   "source": [
    "def create_clickable_ENSEMBL_id(id):\n",
    "    url_template= '''<a href=\"https://identifiers.org/ENSEMBL:{id}\" target=\"_blank\">{id}</a>'''.format(id=id)\n",
    "    return url_template"
   ]
  },
  {
   "cell_type": "markdown",
   "metadata": {},
   "source": [
    "Helper function to format a clickable NCBI id link"
   ]
  },
  {
   "cell_type": "code",
   "execution_count": 4,
   "metadata": {},
   "outputs": [],
   "source": [
    "def create_clickable_NCBI_id(id):\n",
    "    if pd.notna(id) :\n",
    "        url_template= '''<a href=\"https://identifiers.org/{id}\" target=\"_blank\">{id}</a>'''.format(id=id)\n",
    "    else :\n",
    "        url_template = \"\"\n",
    "    return url_template"
   ]
  },
  {
   "cell_type": "markdown",
   "metadata": {},
   "source": [
    "Helper function to create a gene list"
   ]
  },
  {
   "cell_type": "code",
   "execution_count": 5,
   "metadata": {},
   "outputs": [],
   "source": [
    "def create_output_html( df, file, title ) :\n",
    "    \n",
    "    df['gene_identifier'] = df['gene_identifier'].apply(create_clickable_ENSEMBL_id)\n",
    "    if 'mapped_ncbi_identifier' in df.columns :\n",
    "        df['mapped_ncbi_identifier'] = df['mapped_ncbi_identifier'].apply(create_clickable_NCBI_id)\n",
    "    formatter = {'gene_symbol': lambda x: '<b>' + x + '</b>'}\n",
    "    output = df.to_html(index=False, na_rep='',\n",
    "                        render_links=True,escape=False,\n",
    "                        classes=\"mystyle\",formatters=formatter)\n",
    "    \n",
    "    html_string = '''\n",
    "    <html>\n",
    "    <head><title>%s</title></head>\n",
    "    <link rel=\"stylesheet\" type=\"text/css\" href=\"../simple_style.css\"/>\n",
    "    <body>\n",
    "    {table}\n",
    "    </body>\n",
    "    </html>.\n",
    "    ''' % title\n",
    "    \n",
    "    # OUTPUT AN HTML FILE\n",
    "    with open(file, 'w') as f:\n",
    "        f.write(html_string.format(table=output))\n"
   ]
  },
  {
   "cell_type": "markdown",
   "metadata": {},
   "source": [
    "Create gene list html for WMB-10X"
   ]
  },
  {
   "cell_type": "code",
   "execution_count": 6,
   "metadata": {},
   "outputs": [
    {
     "name": "stdout",
     "output_type": "stream",
     "text": [
      "32285\n"
     ]
    }
   ],
   "source": [
    "metadata = manifest['file_listing']['WMB-10X']['metadata']\n",
    "rpath = metadata['gene']['files']['csv']['relative_path']\n",
    "input_file = os.path.join( download_base, rpath)\n",
    "gene = pd.read_csv(input_file)\n",
    "gene.sort_values('gene_symbol',inplace=True)\n",
    "gene\n",
    "print(len(gene))\n",
    "\n",
    "output_directory = 'WMB-10X'\n",
    "os.makedirs( output_directory, exist_ok=True)\n",
    "output_file = os.path.join( output_directory, 'gene_list.html')\n",
    "create_output_html( gene, output_file, 'WMB-10X: gene list')"
   ]
  },
  {
   "cell_type": "markdown",
   "metadata": {},
   "source": [
    "Create gene list html for MERFISH-C57BL6J-638850"
   ]
  },
  {
   "cell_type": "code",
   "execution_count": 7,
   "metadata": {},
   "outputs": [
    {
     "name": "stdout",
     "output_type": "stream",
     "text": [
      "500\n"
     ]
    }
   ],
   "source": [
    "metadata = manifest['file_listing']['MERFISH-C57BL6J-638850']['metadata']\n",
    "rpath = metadata['gene']['files']['csv']['relative_path']\n",
    "input_file = os.path.join( download_base, rpath)\n",
    "gene = pd.read_csv(input_file)\n",
    "pred = ['Blank' not in x for x in gene['gene_identifier']]\n",
    "gene = gene[pred].copy()\n",
    "gene.sort_values('gene_symbol',inplace=True)\n",
    "gene = gene[['gene_identifier','gene_symbol','name','transcript_identifier','mapped_ncbi_identifier']]\n",
    "print(len(gene))\n",
    "\n",
    "\n",
    "output_directory = 'MERFISH-C57BL6J-638850'\n",
    "os.makedirs( output_directory, exist_ok=True)\n",
    "output_file = os.path.join( output_directory, 'gene_list.html')\n",
    "create_output_html( gene, output_file, 'MERFISH-C57BL6J-638850: gene list')"
   ]
  },
  {
   "cell_type": "markdown",
   "metadata": {},
   "source": [
    "Create gene list html for Zhuang-C57BL6J-1"
   ]
  },
  {
   "cell_type": "code",
   "execution_count": 8,
   "metadata": {},
   "outputs": [
    {
     "name": "stdout",
     "output_type": "stream",
     "text": [
      "1122\n"
     ]
    }
   ],
   "source": [
    "metadata = manifest['file_listing']['Zhuang-C57BL6J-1']['metadata']\n",
    "rpath = metadata['gene']['files']['csv']['relative_path']\n",
    "input_file = os.path.join( download_base, rpath)\n",
    "gene = pd.read_csv(input_file)\n",
    "gene.sort_values('gene_symbol',inplace=True)\n",
    "gene\n",
    "print(len(gene))\n",
    "\n",
    "output_directory = 'Zhuang-C57BL6J-1'\n",
    "os.makedirs( output_directory, exist_ok=True)\n",
    "output_file = os.path.join( output_directory, 'gene_list.html')\n",
    "create_output_html( gene, output_file, 'Zhuang-C57BL6J-1: gene list')"
   ]
  }
 ],
 "metadata": {
  "kernelspec": {
   "display_name": "Python 3",
   "language": "python",
   "name": "python3"
  },
  "language_info": {
   "codemirror_mode": {
    "name": "ipython",
    "version": 3
   },
   "file_extension": ".py",
   "mimetype": "text/x-python",
   "name": "python",
   "nbconvert_exporter": "python",
   "pygments_lexer": "ipython3",
   "version": "3.8.5"
  }
 },
 "nbformat": 4,
 "nbformat_minor": 5
}
