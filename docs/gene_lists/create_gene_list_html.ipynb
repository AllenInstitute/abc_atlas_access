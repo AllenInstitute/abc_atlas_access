{
 "cells": [
  {
   "cell_type": "code",
   "execution_count": 2,
   "id": "9c8b5574",
   "metadata": {},
   "outputs": [],
   "source": [
    "import os\n",
    "import pandas as pd\n",
    "from pathlib import Path\n",
    "import numpy as np\n",
    "import anndata\n",
    "import time\n",
    "import matplotlib.pyplot as plt\n",
    "\n",
    "from abc_atlas_access.abc_atlas_cache.abc_project_cache import AbcProjectCache"
   ]
  },
  {
   "cell_type": "code",
   "execution_count": 3,
   "id": "b601d403",
   "metadata": {},
   "outputs": [
    {
     "name": "stderr",
     "output_type": "stream",
     "text": [
      "/allen/scratch/aibstemp/chris.morrison/src/abc_atlas_access/src/abc_atlas_access/abc_atlas_cache/cloud_cache.py:616: UserWarning: The manifest version recorded as last used for this cache -- releases/20250331/manifest.json-- is not a valid manifest for this dataset. Loading latest version -- releases/20250131/manifest.json -- instead.\n",
      "  warnings.warn(msg, UserWarning)\n",
      "/allen/scratch/aibstemp/chris.morrison/src/abc_atlas_access/src/abc_atlas_access/abc_atlas_cache/cloud_cache.py:648: OutdatedManifestWarning: You are loading\n",
      "releases/20250131/manifest.json\n",
      "which is newer than the most recent manifest file you have previously been working with\n",
      "releases/20250331/manifest.json\n",
      "It is possible that some data files have changed between these two data releases, which will force you to re-download those data files (currently downloaded files will not be overwritten). To continue using releases/20250331/manifest.json, run\n",
      "type.load_manifest('releases/20250331/manifest.json')\n",
      "  warnings.warn(msg, OutdatedManifestWarning)\n"
     ]
    }
   ],
   "source": [
    "version = '20250331'\n",
    "download_base = Path('../../../data/abc_atlas')\n",
    "abc_cache = AbcProjectCache.from_s3_cache(download_base)\n",
    "abc_cache.list_manifest_file_names.append(f'releases/{version}/manifest.json')\n",
    "abc_cache.load_manifest(f'releases/{version}/manifest.json')"
   ]
  },
  {
   "cell_type": "markdown",
   "id": "110005f1",
   "metadata": {},
   "source": [
    "Helper function to format a clickable ENSEMBL id link"
   ]
  },
  {
   "cell_type": "code",
   "execution_count": 4,
   "id": "b8e64e60",
   "metadata": {},
   "outputs": [],
   "source": [
    "def create_clickable_ENSEMBL_id(id):\n",
    "    url_template= '''<a href=\"https://identifiers.org/ENSEMBL:{id}\" target=\"_blank\">{id}</a>'''.format(id=id)\n",
    "    return url_template"
   ]
  },
  {
   "cell_type": "markdown",
   "id": "0d06ccfe",
   "metadata": {},
   "source": [
    "Helper function to format a clickable NCBI id link"
   ]
  },
  {
   "cell_type": "code",
   "execution_count": 5,
   "id": "6f0f0bf1",
   "metadata": {},
   "outputs": [],
   "source": [
    "def create_clickable_NCBI_id(id):\n",
    "    if pd.notna(id) :\n",
    "        url_template= '''<a href=\"https://identifiers.org/{id}\" target=\"_blank\">{id}</a>'''.format(id=id)\n",
    "    else :\n",
    "        url_template = \"\"\n",
    "    return url_template"
   ]
  },
  {
   "cell_type": "markdown",
   "id": "76c0c06d",
   "metadata": {},
   "source": [
    "Helper function to create a gene list"
   ]
  },
  {
   "cell_type": "code",
   "execution_count": 6,
   "id": "f5eeb575",
   "metadata": {},
   "outputs": [],
   "source": [
    "def create_output_html( df, file, title ) :\n",
    "    \n",
    "    df['gene_identifier'] = df['gene_identifier'].apply(create_clickable_ENSEMBL_id)\n",
    "    if 'mapped_ncbi_identifier' in df.columns :\n",
    "        df['mapped_ncbi_identifier'] = df['mapped_ncbi_identifier'].apply(create_clickable_NCBI_id)\n",
    "    formatter = {'gene_symbol': lambda x: '<b>' + x + '</b>'}\n",
    "    output = df.to_html(index=False, na_rep='',\n",
    "                        render_links=True,escape=False,\n",
    "                        classes=\"mystyle\",formatters=formatter)\n",
    "    \n",
    "    html_string = '''\n",
    "    <html>\n",
    "    <head><title>%s</title></head>\n",
    "    <link rel=\"stylesheet\" type=\"text/css\" href=\"../../_static/simple_style.css\"/>\n",
    "    <body>\n",
    "    {table}\n",
    "    </body>\n",
    "    </html>.\n",
    "    ''' % title\n",
    "    \n",
    "    # OUTPUT AN HTML FILE\n",
    "    with open(file, 'w') as f:\n",
    "        f.write(html_string.format(table=output))\n"
   ]
  },
  {
   "cell_type": "markdown",
   "id": "c040756f",
   "metadata": {},
   "source": [
    "Create gene list html for WMB-10X"
   ]
  },
  {
   "cell_type": "code",
   "execution_count": 13,
   "id": "66050074",
   "metadata": {},
   "outputs": [
    {
     "name": "stdout",
     "output_type": "stream",
     "text": [
      "32285\n"
     ]
    }
   ],
   "source": [
    "gene = abc_cache.get_metadata_dataframe(directory='WMB-10X', file_name='gene')\n",
    "gene.sort_values('gene_symbol',inplace=True)\n",
    "print(len(gene))\n",
    "\n",
    "output_directory = 'WMB-10X'\n",
    "os.makedirs( output_directory, exist_ok=True)\n",
    "output_file = os.path.join( output_directory, 'gene_list.html')\n",
    "create_output_html( gene, output_file, 'WMB-10X: gene list')"
   ]
  },
  {
   "cell_type": "markdown",
   "id": "67474ff4-bff2-4f3c-8654-b21e9d9ea6b4",
   "metadata": {},
   "source": [
    "Create gene list html for WHB-10Xv3"
   ]
  },
  {
   "cell_type": "code",
   "execution_count": 14,
   "id": "916db71c-cdf1-49df-9043-32199ea147c3",
   "metadata": {},
   "outputs": [
    {
     "name": "stderr",
     "output_type": "stream",
     "text": [
      "gene.csv: 100%|█████████████████████████████████████████████████████████████████████████████████████████████████████████████████| 4.23M/4.23M [00:00<00:00, 8.67MMB/s]\n"
     ]
    },
    {
     "name": "stdout",
     "output_type": "stream",
     "text": [
      "59357\n"
     ]
    }
   ],
   "source": [
    "gene = abc_cache.get_metadata_dataframe(directory='WHB-10Xv3', file_name='gene')\n",
    "gene.sort_values('gene_symbol',inplace=True)\n",
    "print(len(gene))\n",
    "\n",
    "output_directory = 'WHB-10Xv3'\n",
    "os.makedirs( output_directory, exist_ok=True)\n",
    "output_file = os.path.join( output_directory, 'gene_list.html')\n",
    "create_output_html( gene, output_file, 'WHB-10Xv3: gene list')"
   ]
  },
  {
   "cell_type": "markdown",
   "id": "136408bf",
   "metadata": {},
   "source": [
    "Create gene list html for MERFISH-C57BL6J-638850"
   ]
  },
  {
   "cell_type": "code",
   "execution_count": 8,
   "id": "527f983c",
   "metadata": {},
   "outputs": [
    {
     "name": "stdout",
     "output_type": "stream",
     "text": [
      "500\n"
     ]
    }
   ],
   "source": [
    "gene = abc_cache.get_metadata_dataframe(directory='MERFISH-C57BL6J-638850', file_name='gene')\n",
    "pred = ['Blank' not in x for x in gene['gene_identifier']]\n",
    "gene = gene[pred].copy()\n",
    "gene.sort_values('gene_symbol',inplace=True)\n",
    "gene = gene[['gene_identifier','gene_symbol','name','transcript_identifier','mapped_ncbi_identifier']]\n",
    "print(len(gene))\n",
    "\n",
    "\n",
    "output_directory = 'MERFISH-C57BL6J-638850'\n",
    "os.makedirs( output_directory, exist_ok=True)\n",
    "output_file = os.path.join( output_directory, 'gene_list.html')\n",
    "create_output_html( gene, output_file, 'MERFISH-C57BL6J-638850: gene list')"
   ]
  },
  {
   "cell_type": "code",
   "execution_count": 18,
   "id": "00809fd0-d5e7-4a4e-84ea-1326b93b9aea",
   "metadata": {},
   "outputs": [
    {
     "name": "stdout",
     "output_type": "stream",
     "text": [
      "8460\n"
     ]
    }
   ],
   "source": [
    "gene = abc_cache.get_metadata_dataframe(directory='MERFISH-C57BL6J-638850-imputed', file_name='gene')\n",
    "pred = ['Blank' not in x for x in gene['gene_identifier']]\n",
    "gene = gene[pred].copy()\n",
    "gene.sort_values('gene_symbol',inplace=True)\n",
    "gene = gene[['gene_identifier','gene_symbol','name','mapped_ncbi_identifier']]\n",
    "print(len(gene))\n",
    "\n",
    "\n",
    "output_directory = 'MERFISH-C57BL6J-638850-imputed'\n",
    "os.makedirs( output_directory, exist_ok=True)\n",
    "output_file = os.path.join( output_directory, 'gene_list.html')\n",
    "create_output_html( gene, output_file, 'MERFISH-C57BL6J-638850-imputed: gene list')"
   ]
  },
  {
   "cell_type": "markdown",
   "id": "bb5a09c4",
   "metadata": {},
   "source": [
    "Create gene list html for Zhuang-C57BL6J-1"
   ]
  },
  {
   "cell_type": "code",
   "execution_count": 19,
   "id": "be968ccc",
   "metadata": {},
   "outputs": [
    {
     "name": "stderr",
     "output_type": "stream",
     "text": [
      "gene.csv: 100%|██████████████████████████████████████████████████████████████████████████████████████████████████████████████████| 84.7k/84.7k [00:00<00:00, 540kMB/s]\n"
     ]
    },
    {
     "name": "stdout",
     "output_type": "stream",
     "text": [
      "1122\n"
     ]
    }
   ],
   "source": [
    "gene = abc_cache.get_metadata_dataframe(directory='Zhuang-ABCA-1', file_name='gene')\n",
    "gene.sort_values('gene_symbol',inplace=True)\n",
    "gene\n",
    "print(len(gene))\n",
    "\n",
    "output_directory = 'Zhuang-ABCA-1'\n",
    "os.makedirs( output_directory, exist_ok=True)\n",
    "output_file = os.path.join( output_directory, 'gene_list.html')\n",
    "create_output_html( gene, output_file, 'Zhuang-ABCA-1: gene list')"
   ]
  },
  {
   "cell_type": "code",
   "execution_count": 7,
   "id": "733eff96-0d53-4e4f-8edf-834972846a25",
   "metadata": {},
   "outputs": [
    {
     "name": "stdout",
     "output_type": "stream",
     "text": [
      "36601\n"
     ]
    }
   ],
   "source": [
    "gene = abc_cache.get_metadata_dataframe(directory='ASAP-PMDBS-10X', file_name='gene')\n",
    "gene.sort_values('gene_symbol',inplace=True)\n",
    "print(len(gene))\n",
    "\n",
    "output_directory = 'ASAP-PMDBS-10X'\n",
    "os.makedirs( output_directory, exist_ok=True)\n",
    "output_file = os.path.join( output_directory, 'gene_list.html')\n",
    "create_output_html( gene, output_file, 'ASAP-PMDBS-10X: gene list')"
   ]
  },
  {
   "cell_type": "code",
   "execution_count": null,
   "id": "3538e671-c5c0-483c-bb10-918ca782663f",
   "metadata": {},
   "outputs": [],
   "source": []
  }
 ],
 "metadata": {
  "kernelspec": {
   "display_name": "Python 3 (ipykernel)",
   "language": "python",
   "name": "python3"
  },
  "language_info": {
   "codemirror_mode": {
    "name": "ipython",
    "version": 3
   },
   "file_extension": ".py",
   "mimetype": "text/x-python",
   "name": "python",
   "nbconvert_exporter": "python",
   "pygments_lexer": "ipython3",
   "version": "3.11.10"
  }
 },
 "nbformat": 4,
 "nbformat_minor": 5
}
