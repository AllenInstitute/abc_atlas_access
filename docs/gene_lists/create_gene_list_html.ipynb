{
 "cells": [
  {
   "cell_type": "code",
   "execution_count": 1,
   "id": "e80124d0",
   "metadata": {},
   "outputs": [],
   "source": [
    "import os\n",
    "import pandas as pd\n",
    "import numpy as np\n",
    "import anndata\n",
    "import time\n",
    "import matplotlib.pyplot as plt\n",
    "import json\n",
    "import requests"
   ]
  },
  {
   "cell_type": "code",
   "execution_count": 2,
   "id": "171650ad",
   "metadata": {},
   "outputs": [],
   "source": [
    "download_base = '../../../abc_download_root'\n",
    "\n",
    "url = 'https://allen-brain-cell-atlas.s3-us-west-2.amazonaws.com/releases/20230630/manifest.json'\n",
    "manifest = json.loads(requests.get(url).text)\n",
    "    "
   ]
  },
  {
   "cell_type": "markdown",
   "id": "d6e9182f",
   "metadata": {},
   "source": [
    "Helper function to format a clickable ENSEMBL id link"
   ]
  },
  {
   "cell_type": "code",
   "execution_count": 3,
   "id": "886d3af2",
   "metadata": {},
   "outputs": [],
   "source": [
    "def create_clickable_ENSEMBL_id(id):\n",
    "    url_template= '''<a href=\"https://identifiers.org/ENSEMBL:{id}\" target=\"_blank\">{id}</a>'''.format(id=id)\n",
    "    return url_template"
   ]
  },
  {
   "cell_type": "markdown",
   "id": "c96ed07b",
   "metadata": {},
   "source": [
    "Helper function to create a gene list"
   ]
  },
  {
   "cell_type": "code",
   "execution_count": 4,
   "id": "49a1bfc2",
   "metadata": {},
   "outputs": [],
   "source": [
    "def create_output_html( df, file, title ) :\n",
    "    \n",
    "    df['gene_identifier'] = df['gene_identifier'].apply(create_clickable_ENSEMBL_id)\n",
    "    formatter = {'gene_symbol': lambda x: '<b>' + x + '</b>'}\n",
    "    output = df.to_html(index=False, na_rep='',\n",
    "                        render_links=True,escape=False,\n",
    "                        classes=\"mystyle\",formatters=formatter)\n",
    "    \n",
    "    html_string = '''\n",
    "    <html>\n",
    "    <head><title>%s</title></head>\n",
    "    <link rel=\"stylesheet\" type=\"text/css\" href=\"simple_style.css\"/>\n",
    "    <body>\n",
    "    {table}\n",
    "    </body>\n",
    "    </html>.\n",
    "    ''' % title\n",
    "    \n",
    "    # OUTPUT AN HTML FILE\n",
    "    with open(file, 'w') as f:\n",
    "        f.write(html_string.format(table=output))\n"
   ]
  },
  {
   "cell_type": "markdown",
   "id": "2587ebcb",
   "metadata": {},
   "source": [
    "Create gene list html for WMB-10X"
   ]
  },
  {
   "cell_type": "code",
   "execution_count": 5,
   "id": "63245b07",
   "metadata": {},
   "outputs": [
    {
     "name": "stdout",
     "output_type": "stream",
     "text": [
      "32285\n"
     ]
    }
   ],
   "source": [
    "metadata = manifest['file_listing']['WMB-10X']['metadata']\n",
    "rpath = metadata['gene']['files']['csv']['relative_path']\n",
    "input_file = os.path.join( download_base, rpath)\n",
    "gene = pd.read_csv(input_file)\n",
    "gene.sort_values('gene_symbol',inplace=True)\n",
    "gene\n",
    "print(len(gene))\n",
    "output_file = 'WMB-10x_gene-list.html'\n",
    "create_output_html( gene, output_file, 'WMB-10x gene list')"
   ]
  },
  {
   "cell_type": "markdown",
   "id": "1b607ddf",
   "metadata": {},
   "source": [
    "Create gene list html for MERFISH-C57BL6J-638850"
   ]
  },
  {
   "cell_type": "code",
   "execution_count": 6,
   "id": "ac29b053",
   "metadata": {},
   "outputs": [
    {
     "name": "stdout",
     "output_type": "stream",
     "text": [
      "500\n"
     ]
    }
   ],
   "source": [
    "metadata = manifest['file_listing']['MERFISH-C57BL6J-638850']['metadata']\n",
    "rpath = metadata['gene']['files']['csv']['relative_path']\n",
    "input_file = os.path.join( download_base, rpath)\n",
    "gene = pd.read_csv(input_file)\n",
    "pred = ['Blank' not in x for x in gene['gene_identifier']]\n",
    "gene = gene[pred].copy()\n",
    "gene.sort_values('gene_symbol',inplace=True)\n",
    "gene = gene[['gene_identifier','gene_symbol','name','transcript_identifier']]\n",
    "print(len(gene))\n",
    "output_file = 'MERFISH-C57BL6J-638850_gene-list.html'\n",
    "create_output_html( gene, output_file, 'MERFISH-C57BL6J-638850 gene list')"
   ]
  },
  {
   "cell_type": "code",
   "execution_count": null,
   "id": "86f85881",
   "metadata": {},
   "outputs": [],
   "source": []
  }
 ],
 "metadata": {
  "kernelspec": {
   "display_name": "Python 3 (ipykernel)",
   "language": "python",
   "name": "python3"
  },
  "language_info": {
   "codemirror_mode": {
    "name": "ipython",
    "version": 3
   },
   "file_extension": ".py",
   "mimetype": "text/x-python",
   "name": "python",
   "nbconvert_exporter": "python",
   "pygments_lexer": "ipython3",
   "version": "3.11.3"
  }
 },
 "nbformat": 4,
 "nbformat_minor": 5
}
