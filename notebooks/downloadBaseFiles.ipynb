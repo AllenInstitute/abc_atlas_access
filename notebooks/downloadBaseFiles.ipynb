{
 "cells": [
  {
   "cell_type": "markdown",
   "id": "0fc2688d-d344-4f47-a0c2-e46906c838f4",
   "metadata": {},
   "source": [
    "# Importing libraries"
   ]
  },
  {
   "cell_type": "code",
   "execution_count": 2,
   "id": "0d9d69bb-176b-4e8f-ab99-5771a16dc74d",
   "metadata": {
    "tags": []
   },
   "outputs": [],
   "source": [
    "import requests\n",
    "import json\n",
    "import os\n",
    "import pathlib\n",
    "import subprocess\n",
    "import time\n",
    "from tqdm import tqdm  # Importing the tqdm library"
   ]
  },
  {
   "cell_type": "markdown",
   "id": "b3956a6b-6f71-40d6-929f-095bcda5c6e3",
   "metadata": {},
   "source": [
    "### Start by downloading the manifest"
   ]
  },
  {
   "cell_type": "code",
   "execution_count": 3,
   "id": "c1a218b6-35c2-4dbe-a203-b273f0ed53db",
   "metadata": {
    "tags": []
   },
   "outputs": [
    {
     "name": "stdout",
     "output_type": "stream",
     "text": [
      "version:  20230830\n"
     ]
    }
   ],
   "source": [
    "version = '20230830'\n",
    "url = 'https://allen-brain-cell-atlas.s3-us-west-2.amazonaws.com/releases/%s/manifest.json' % version\n",
    "manifest = json.loads(requests.get(url).text)\n",
    "print(\"version: \", manifest['version'])"
   ]
  },
  {
   "cell_type": "code",
   "execution_count": 4,
   "id": "c7fcf285-a5a9-4dd1-b5a2-09a4862a2d9f",
   "metadata": {
    "tags": []
   },
   "outputs": [
    {
     "name": "stdout",
     "output_type": "stream",
     "text": [
      "version: 20230830\n",
      "resource_uri: s3://allen-brain-cell-atlas/\n"
     ]
    }
   ],
   "source": [
    "manifest.keys()\n",
    "print(\"version:\",manifest['version'])\n",
    "print(\"resource_uri:\",manifest['resource_uri'])"
   ]
  },
  {
   "cell_type": "markdown",
   "id": "4dee56bf-150e-43df-a812-12ed64a471dc",
   "metadata": {},
   "source": [
    "Get the size of the manifest"
   ]
  },
  {
   "cell_type": "code",
   "execution_count": 5,
   "id": "8c43c5aa-7654-494b-a447-5e5561ac796b",
   "metadata": {
    "tags": []
   },
   "outputs": [
    {
     "name": "stdout",
     "output_type": "stream",
     "text": [
      "expression_matrices/MERFISH-C57BL6J-638850/20230830 : 14.21 GB\n",
      "metadata/MERFISH-C57BL6J-638850/20230830 : 1.81 GB\n",
      "expression_matrices/MERFISH-C57BL6J-638850-sections/20230630 : 14.31 GB\n",
      "expression_matrices/WMB-10Xv2/20230630 : 104.16 GB\n",
      "expression_matrices/WMB-10Xv3/20230630 : 176.41 GB\n",
      "expression_matrices/WMB-10XMulti/20230830 : 0.21 GB\n",
      "metadata/WMB-10X/20230830 : 2.39 GB\n",
      "metadata/WMB-taxonomy/20230830 : 0.01 GB\n",
      "metadata/WMB-neighborhoods/20230830 : 3.00 GB\n",
      "image_volumes/Allen-CCF-2020/20230630 : 0.37 GB\n",
      "metadata/Allen-CCF-2020/20230630 : 0.00 GB\n",
      "image_volumes/MERFISH-C57BL6J-638850-CCF/20230630 : 0.11 GB\n",
      "metadata/MERFISH-C57BL6J-638850-CCF/20230830 : 2.01 GB\n",
      "expression_matrices/Zhuang-ABCA-1/20230830 : 3.09 GB\n",
      "metadata/Zhuang-ABCA-1/20230830 : 1.33 GB\n",
      "metadata/Zhuang-ABCA-1-CCF/20230830 : 0.21 GB\n",
      "expression_matrices/Zhuang-ABCA-2/20230830 : 1.30 GB\n",
      "metadata/Zhuang-ABCA-2/20230830 : 0.57 GB\n",
      "metadata/Zhuang-ABCA-2-CCF/20230830 : 0.08 GB\n",
      "expression_matrices/Zhuang-ABCA-3/20230830 : 1.69 GB\n",
      "metadata/Zhuang-ABCA-3/20230830 : 0.74 GB\n",
      "metadata/Zhuang-ABCA-3-CCF/20230830 : 0.12 GB\n",
      "expression_matrices/Zhuang-ABCA-4/20230830 : 0.16 GB\n",
      "metadata/Zhuang-ABCA-4/20230830 : 0.08 GB\n",
      "metadata/Zhuang-ABCA-4-CCF/20230830 : 0.01 GB\n"
     ]
    }
   ],
   "source": [
    "GB = float(float(1024) ** 3)\n",
    "\n",
    "for r in manifest['directory_listing'] :    \n",
    "    r_dict =  manifest['directory_listing'][r]\n",
    "    for d in r_dict['directories'] :\n",
    "        d_dict = r_dict['directories'][d]        \n",
    "        print(d_dict['relative_path'],\":\",'%0.2f GB' % (d_dict['total_size']/GB))\n",
    "        "
   ]
  },
  {
   "cell_type": "markdown",
   "id": "4f6e29b8-7913-422a-90e9-a73db47ba309",
   "metadata": {},
   "source": [
    "Set the download base"
   ]
  },
  {
   "cell_type": "code",
   "execution_count": 6,
   "id": "34c3b596-ba8c-49bc-929b-59fde54ebea6",
   "metadata": {
    "tags": []
   },
   "outputs": [],
   "source": [
    "download_base = '/shared/Data/abc_download_root'"
   ]
  },
  {
   "cell_type": "code",
   "execution_count": 7,
   "id": "ca48e56f-a8d6-43dd-a9c6-f58aaa4d81fe",
   "metadata": {
    "tags": []
   },
   "outputs": [],
   "source": [
    "def download_file( file_dict ) :\n",
    "    \n",
    "    print(file_dict['relative_path'],file_dict['size'])\n",
    "    local_path = os.path.join( download_base, file_dict['relative_path'] )\n",
    "    local_path = pathlib.Path( local_path )\n",
    "    remote_path = manifest['resource_uri'] + file_dict['relative_path']\n",
    "\n",
    "    command = \"aws s3 cp --no-sign-request %s %s\" % (remote_path, local_path)\n",
    "    print(command)\n",
    "\n",
    "    start = time.process_time()\n",
    "    # Uncomment to download file\n",
    "    result = subprocess.run(command.split(' '),stdout=subprocess.PIPE)\n",
    "    print(\"time taken: \", time.process_time() - start)"
   ]
  },
  {
   "cell_type": "markdown",
   "id": "e48a69cc-ff59-4bc4-9a5b-697db7588d5e",
   "metadata": {},
   "source": [
    "## Download individual files from WMB-10Xv2"
   ]
  },
  {
   "cell_type": "code",
   "execution_count": 7,
   "id": "be83f02a-4b32-4320-b9fc-4c7b2e6eeb29",
   "metadata": {
    "tags": []
   },
   "outputs": [
    {
     "name": "stdout",
     "output_type": "stream",
     "text": [
      "size: 4038679930\n",
      "expression_matrices/WMB-10Xv2/20230630/WMB-10Xv2-TH-log2.h5ad 4038679930\n",
      "aws s3 cp --no-sign-request s3://allen-brain-cell-atlas/expression_matrices/WMB-10Xv2/20230630/WMB-10Xv2-TH-log2.h5ad /shared/Data/abc_download_root/expression_matrices/WMB-10Xv2/20230630/WMB-10Xv2-TH-log2.h5ad\n",
      "time taken:  0.09134629800000016\n"
     ]
    }
   ],
   "source": [
    "expression_matrices = manifest['file_listing']['WMB-10Xv2']['expression_matrices']\n",
    "file_dict = expression_matrices['WMB-10Xv2-TH']['log2']['files']['h5ad']\n",
    "print('size:',file_dict['size'])\n",
    "download_file( file_dict )"
   ]
  },
  {
   "cell_type": "code",
   "execution_count": 8,
   "id": "ae616f0e-138e-49b5-b2bf-1d63cc0f7e39",
   "metadata": {
    "tags": []
   },
   "outputs": [
    {
     "name": "stdout",
     "output_type": "stream",
     "text": [
      "size: 4038679930\n",
      "expression_matrices/WMB-10Xv2/20230630/WMB-10Xv2-TH-raw.h5ad 4038679930\n",
      "aws s3 cp --no-sign-request s3://allen-brain-cell-atlas/expression_matrices/WMB-10Xv2/20230630/WMB-10Xv2-TH-raw.h5ad /shared/Data/abc_download_root/expression_matrices/WMB-10Xv2/20230630/WMB-10Xv2-TH-raw.h5ad\n",
      "time taken:  0.09228066099999999\n"
     ]
    }
   ],
   "source": [
    "expression_matrices = manifest['file_listing']['WMB-10Xv2']['expression_matrices']\n",
    "file_dict = expression_matrices['WMB-10Xv2-TH']['raw']['files']['h5ad']\n",
    "print('size:',file_dict['size'])\n",
    "download_file( file_dict )"
   ]
  },
  {
   "cell_type": "markdown",
   "id": "9a31d4a9-4c6d-4ff5-acca-5f7bd65c623c",
   "metadata": {},
   "source": [
    "Download individual files from WMB-10XMulti"
   ]
  },
  {
   "cell_type": "code",
   "execution_count": 9,
   "id": "860b27ed-7279-4269-91d4-4f01b81c8fe7",
   "metadata": {
    "tags": []
   },
   "outputs": [
    {
     "name": "stdout",
     "output_type": "stream",
     "text": [
      "size: 89318511\n",
      "expression_matrices/WMB-10XMulti/20230830/WMB-10XMulti-log2.h5ad 89318511\n",
      "aws s3 cp --no-sign-request s3://allen-brain-cell-atlas/expression_matrices/WMB-10XMulti/20230830/WMB-10XMulti-log2.h5ad /shared/Data/abc_download_root/expression_matrices/WMB-10XMulti/20230830/WMB-10XMulti-log2.h5ad\n",
      "time taken:  0.0051590729999999585\n"
     ]
    }
   ],
   "source": [
    "datasets = ['WMB-10XMulti']\n",
    "for d in datasets :\n",
    "    expression_matrices = manifest['file_listing'][d]['expression_matrices']\n",
    "    file_dict = expression_matrices[d]['log2']['files']['h5ad']\n",
    "    print('size:',file_dict['size'])\n",
    "    download_file( file_dict )"
   ]
  },
  {
   "cell_type": "code",
   "execution_count": 10,
   "id": "a6d60b97-6d0c-45ae-8db0-350c9533fa3d",
   "metadata": {
    "tags": []
   },
   "outputs": [
    {
     "name": "stdout",
     "output_type": "stream",
     "text": [
      "size: 132220015\n",
      "expression_matrices/WMB-10XMulti/20230830/WMB-10XMulti-raw.h5ad 132220015\n",
      "aws s3 cp --no-sign-request s3://allen-brain-cell-atlas/expression_matrices/WMB-10XMulti/20230830/WMB-10XMulti-raw.h5ad /shared/Data/abc_download_root/expression_matrices/WMB-10XMulti/20230830/WMB-10XMulti-raw.h5ad\n",
      "time taken:  0.0059165059999999325\n"
     ]
    }
   ],
   "source": [
    "datasets = ['WMB-10XMulti']\n",
    "for d in datasets :\n",
    "    expression_matrices = manifest['file_listing'][d]['expression_matrices']\n",
    "    file_dict = expression_matrices[d]['raw']['files']['h5ad']\n",
    "    print('size:',file_dict['size'])\n",
    "    download_file( file_dict )"
   ]
  },
  {
   "cell_type": "markdown",
   "id": "e5a5e54f-59e5-49de-9e71-a5a5d8c3dbca",
   "metadata": {},
   "source": [
    "Get the list of files in the WMB-10Xv2 directory"
   ]
  },
  {
   "cell_type": "code",
   "execution_count": 16,
   "id": "b42de275-af00-4eef-a2c5-2315d1a5d8d9",
   "metadata": {
    "tags": []
   },
   "outputs": [
    {
     "name": "stdout",
     "output_type": "stream",
     "text": [
      "WMB-10Xv2-Isocortex-2\n",
      "WMB-10Xv2-MB\n",
      "WMB-10Xv2-TH\n",
      "WMB-10Xv2-CTXsp\n",
      "WMB-10Xv2-Isocortex-4\n",
      "WMB-10Xv2-HY\n",
      "WMB-10Xv2-OLF\n",
      "WMB-10Xv2-Isocortex-3\n",
      "WMB-10Xv2-Isocortex-1\n",
      "WMB-10Xv2-HPF\n"
     ]
    }
   ],
   "source": [
    "expression_matrices = manifest['file_listing']['WMB-10Xv2']['expression_matrices']\n",
    "for file_dict in expression_matrices :\n",
    "    # print('size:',file_dict['size'])\n",
    "    print( file_dict )\n",
    "\n",
    "# file_dict = expression_matrices['WMB-10Xv2-TH']['raw']['files']['h5ad']\n",
    "# print('size:',file_dict['size'])\n",
    "# download_file( file_dict )"
   ]
  },
  {
   "cell_type": "code",
   "execution_count": 22,
   "id": "2a3dff5b-5079-4d4b-a052-32f9cf20b1aa",
   "metadata": {
    "tags": []
   },
   "outputs": [
    {
     "name": "stdout",
     "output_type": "stream",
     "text": [
      "aws s3 sync --no-sign-request s3://allen-brain-cell-atlas/image_volumes/Allen-CCF-2020/20230630 /shared/Data/abc_download_root/image_volumes/Allen-CCF-2020/20230630\n",
      "aws s3 sync --no-sign-request s3://allen-brain-cell-atlas/image_volumes/MERFISH-C57BL6J-638850-CCF/20230630 /shared/Data/abc_download_root/image_volumes/MERFISH-C57BL6J-638850-CCF/20230630\n"
     ]
    }
   ],
   "source": [
    "for r in manifest['directory_listing'] :\n",
    "    \n",
    "    r_dict =  manifest['directory_listing'][r]\n",
    "    # print(r_dict)\n",
    "    for d in r_dict['directories'] :\n",
    "        \n",
    "        if d != 'image_volumes' :\n",
    "            continue\n",
    "        d_dict = r_dict['directories'][d]\n",
    "        local_path = os.path.join( download_base, d_dict['relative_path'])\n",
    "        local_path = pathlib.Path( local_path )\n",
    "        remote_path = manifest['resource_uri'] + d_dict['relative_path']\n",
    "        \n",
    "        command = \"aws s3 sync --no-sign-request %s %s\" % (remote_path, local_path)\n",
    "        print(command)\n",
    "        \n",
    "        start = time.process_time()\n",
    "        # Uncomment to download directories\n",
    "        # result = subprocess.run(command.split(),stdout=subprocess.PIPE)\n",
    "        # print(\"time taken: \", time.process_time() - start)\n",
    "  "
   ]
  },
  {
   "cell_type": "markdown",
   "id": "05db7307-123f-49d4-911f-1f3feb1d9ea8",
   "metadata": {},
   "source": [
    "## Download individual files from WMB-10Xv2 [log2 file]"
   ]
  },
  {
   "cell_type": "markdown",
   "id": "3d10b8b8-892c-4a24-8bde-b18c21de03f2",
   "metadata": {
    "tags": []
   },
   "source": [
    "First let's see what is in the manifest"
   ]
  },
  {
   "cell_type": "code",
   "execution_count": 33,
   "id": "d39f19f2-d67a-4498-92e6-f386c57bb31d",
   "metadata": {
    "tags": []
   },
   "outputs": [
    {
     "name": "stdout",
     "output_type": "stream",
     "text": [
      "expression_matrices\n",
      "{'version': '20230830', 'relative_path': 'expression_matrices/MERFISH-C57BL6J-638850/20230830', 'url': 'https://allen-brain-cell-atlas.s3.us-west-2.amazonaws.com/expression_matrices/MERFISH-C57BL6J-638850/20230830/', 'view_link': 'https://allen-brain-cell-atlas.s3.us-west-2.amazonaws.com/index.html#expression_matrices/MERFISH-C57BL6J-638850/20230830/', 'total_size': 15255179148}\n",
      "expression_matrices\n",
      "{'version': '20230630', 'relative_path': 'expression_matrices/MERFISH-C57BL6J-638850-sections/20230630', 'url': 'https://allen-brain-cell-atlas.s3.us-west-2.amazonaws.com/expression_matrices/MERFISH-C57BL6J-638850-sections/20230630/', 'view_link': 'https://allen-brain-cell-atlas.s3.us-west-2.amazonaws.com/index.html#expression_matrices/MERFISH-C57BL6J-638850-sections/20230630/', 'total_size': 15363706998}\n",
      "expression_matrices\n",
      "{'version': '20230630', 'relative_path': 'expression_matrices/WMB-10Xv2/20230630', 'url': 'https://allen-brain-cell-atlas.s3.us-west-2.amazonaws.com/expression_matrices/WMB-10Xv2/20230630/', 'view_link': 'https://allen-brain-cell-atlas.s3.us-west-2.amazonaws.com/index.html#expression_matrices/WMB-10Xv2/20230630/', 'total_size': 111838076296}\n",
      "expression_matrices\n",
      "{'version': '20230630', 'relative_path': 'expression_matrices/WMB-10Xv3/20230630', 'url': 'https://allen-brain-cell-atlas.s3.us-west-2.amazonaws.com/expression_matrices/WMB-10Xv3/20230630/', 'view_link': 'https://allen-brain-cell-atlas.s3.us-west-2.amazonaws.com/index.html#expression_matrices/WMB-10Xv3/20230630/', 'total_size': 189424020276}\n",
      "expression_matrices\n",
      "{'version': '20230830', 'relative_path': 'expression_matrices/WMB-10XMulti/20230830', 'url': 'https://allen-brain-cell-atlas.s3.us-west-2.amazonaws.com/expression_matrices/WMB-10XMulti/20230830/', 'view_link': 'https://allen-brain-cell-atlas.s3.us-west-2.amazonaws.com/index.html#expression_matrices/WMB-10XMulti/20230830/', 'total_size': 221538526}\n",
      "expression_matrices\n",
      "{'version': '20230830', 'relative_path': 'expression_matrices/Zhuang-ABCA-1/20230830', 'url': 'https://allen-brain-cell-atlas.s3.us-west-2.amazonaws.com/expression_matrices/Zhuang-ABCA-1/20230830/', 'view_link': 'https://allen-brain-cell-atlas.s3.us-west-2.amazonaws.com/index.html#expression_matrices/Zhuang-ABCA-1/20230830/', 'total_size': 3321931046}\n",
      "expression_matrices\n",
      "{'version': '20230830', 'relative_path': 'expression_matrices/Zhuang-ABCA-2/20230830', 'url': 'https://allen-brain-cell-atlas.s3.us-west-2.amazonaws.com/expression_matrices/Zhuang-ABCA-2/20230830/', 'view_link': 'https://allen-brain-cell-atlas.s3.us-west-2.amazonaws.com/index.html#expression_matrices/Zhuang-ABCA-2/20230830/', 'total_size': 1391805481}\n",
      "expression_matrices\n",
      "{'version': '20230830', 'relative_path': 'expression_matrices/Zhuang-ABCA-3/20230830', 'url': 'https://allen-brain-cell-atlas.s3.us-west-2.amazonaws.com/expression_matrices/Zhuang-ABCA-3/20230830/', 'view_link': 'https://allen-brain-cell-atlas.s3.us-west-2.amazonaws.com/index.html#expression_matrices/Zhuang-ABCA-3/20230830/', 'total_size': 1818891831}\n",
      "expression_matrices\n",
      "{'version': '20230830', 'relative_path': 'expression_matrices/Zhuang-ABCA-4/20230830', 'url': 'https://allen-brain-cell-atlas.s3.us-west-2.amazonaws.com/expression_matrices/Zhuang-ABCA-4/20230830/', 'view_link': 'https://allen-brain-cell-atlas.s3.us-west-2.amazonaws.com/index.html#expression_matrices/Zhuang-ABCA-4/20230830/', 'total_size': 170987244}\n"
     ]
    }
   ],
   "source": [
    "for r in manifest['directory_listing'] :    \n",
    "    r_dict =  manifest['directory_listing'][r]\n",
    "    for d in r_dict['directories'] :\n",
    "        if d != 'expression_matrices' :\n",
    "            continue\n",
    "        print(d)\n",
    "        d_dict = r_dict['directories'][d]   \n",
    "        # if d_dict != 'WMB-10Xv2' :\n",
    "        #     continue\n",
    "        print(d_dict)"
   ]
  },
  {
   "cell_type": "markdown",
   "id": "ec0d7686-558b-4f04-93bc-39b2d326b2d8",
   "metadata": {},
   "source": [
    "### Download individual files from WMB-10Xv2 [log2 file]"
   ]
  },
  {
   "cell_type": "code",
   "execution_count": null,
   "id": "c9c7fd77-e6d3-45b0-a5e4-a5a88c1af4ad",
   "metadata": {
    "tags": []
   },
   "outputs": [
    {
     "name": "stderr",
     "output_type": "stream",
     "text": [
      "Downloading Files:   0%|          | 0/10 [00:00<?, ?it/s]"
     ]
    },
    {
     "name": "stdout",
     "output_type": "stream",
     "text": [
      "size: 9444387082\n",
      "Local Path: /shared/Data/abc_download_root/expression_matrices/WMB-10Xv2/20230630/WMB-10Xv2-Isocortex-2-log2.h5ad\n",
      "Remote Path: s3://allen-brain-cell-atlas/expression_matrices/WMB-10Xv2/20230630/WMB-10Xv2-Isocortex-2-log2.h5ad\n",
      "expression_matrices/WMB-10Xv2/20230630/WMB-10Xv2-Isocortex-2-log2.h5ad 9444387082\n",
      "aws s3 cp --no-sign-request s3://allen-brain-cell-atlas/expression_matrices/WMB-10Xv2/20230630/WMB-10Xv2-Isocortex-2-log2.h5ad /shared/Data/abc_download_root/expression_matrices/WMB-10Xv2/20230630/WMB-10Xv2-Isocortex-2-log2.h5ad\n"
     ]
    },
    {
     "name": "stderr",
     "output_type": "stream",
     "text": [
      "Downloading Files:  10%|█         | 1/10 [01:55<17:15, 115.00s/it]"
     ]
    },
    {
     "name": "stdout",
     "output_type": "stream",
     "text": [
      "time taken:  0.20598851000000007\n",
      "size: 817433734\n",
      "Local Path: /shared/Data/abc_download_root/expression_matrices/WMB-10Xv2/20230630/WMB-10Xv2-MB-log2.h5ad\n",
      "Remote Path: s3://allen-brain-cell-atlas/expression_matrices/WMB-10Xv2/20230630/WMB-10Xv2-MB-log2.h5ad\n",
      "expression_matrices/WMB-10Xv2/20230630/WMB-10Xv2-MB-log2.h5ad 817433734\n",
      "aws s3 cp --no-sign-request s3://allen-brain-cell-atlas/expression_matrices/WMB-10Xv2/20230630/WMB-10Xv2-MB-log2.h5ad /shared/Data/abc_download_root/expression_matrices/WMB-10Xv2/20230630/WMB-10Xv2-MB-log2.h5ad\n"
     ]
    },
    {
     "name": "stderr",
     "output_type": "stream",
     "text": [
      "Downloading Files:  20%|██        | 2/10 [02:07<07:17, 54.68s/it] "
     ]
    },
    {
     "name": "stdout",
     "output_type": "stream",
     "text": [
      "time taken:  0.025496951999999906\n",
      "size: 4038679930\n",
      "Local Path: /shared/Data/abc_download_root/expression_matrices/WMB-10Xv2/20230630/WMB-10Xv2-TH-log2.h5ad\n",
      "Remote Path: s3://allen-brain-cell-atlas/expression_matrices/WMB-10Xv2/20230630/WMB-10Xv2-TH-log2.h5ad\n",
      "expression_matrices/WMB-10Xv2/20230630/WMB-10Xv2-TH-log2.h5ad 4038679930\n",
      "aws s3 cp --no-sign-request s3://allen-brain-cell-atlas/expression_matrices/WMB-10Xv2/20230630/WMB-10Xv2-TH-log2.h5ad /shared/Data/abc_download_root/expression_matrices/WMB-10Xv2/20230630/WMB-10Xv2-TH-log2.h5ad\n"
     ]
    },
    {
     "name": "stderr",
     "output_type": "stream",
     "text": [
      "Downloading Files:  30%|███       | 3/10 [03:06<06:36, 56.70s/it]"
     ]
    },
    {
     "name": "stdout",
     "output_type": "stream",
     "text": [
      "time taken:  0.095607628\n",
      "size: 1740441622\n",
      "Local Path: /shared/Data/abc_download_root/expression_matrices/WMB-10Xv2/20230630/WMB-10Xv2-CTXsp-log2.h5ad\n",
      "Remote Path: s3://allen-brain-cell-atlas/expression_matrices/WMB-10Xv2/20230630/WMB-10Xv2-CTXsp-log2.h5ad\n",
      "expression_matrices/WMB-10Xv2/20230630/WMB-10Xv2-CTXsp-log2.h5ad 1740441622\n",
      "aws s3 cp --no-sign-request s3://allen-brain-cell-atlas/expression_matrices/WMB-10Xv2/20230630/WMB-10Xv2-CTXsp-log2.h5ad /shared/Data/abc_download_root/expression_matrices/WMB-10Xv2/20230630/WMB-10Xv2-CTXsp-log2.h5ad\n"
     ]
    },
    {
     "name": "stderr",
     "output_type": "stream",
     "text": [
      "Downloading Files:  40%|████      | 4/10 [03:32<04:27, 44.52s/it]"
     ]
    },
    {
     "name": "stdout",
     "output_type": "stream",
     "text": [
      "time taken:  0.04063343400000008\n",
      "size: 8692589466\n",
      "Local Path: /shared/Data/abc_download_root/expression_matrices/WMB-10Xv2/20230630/WMB-10Xv2-Isocortex-4-log2.h5ad\n",
      "Remote Path: s3://allen-brain-cell-atlas/expression_matrices/WMB-10Xv2/20230630/WMB-10Xv2-Isocortex-4-log2.h5ad\n",
      "expression_matrices/WMB-10Xv2/20230630/WMB-10Xv2-Isocortex-4-log2.h5ad 8692589466\n",
      "aws s3 cp --no-sign-request s3://allen-brain-cell-atlas/expression_matrices/WMB-10Xv2/20230630/WMB-10Xv2-Isocortex-4-log2.h5ad /shared/Data/abc_download_root/expression_matrices/WMB-10Xv2/20230630/WMB-10Xv2-Isocortex-4-log2.h5ad\n"
     ]
    }
   ],
   "source": [
    "# Initialize the dictionary\n",
    "expression_matrices = manifest['file_listing']['WMB-10Xv2']['expression_matrices']\n",
    "\n",
    "# Initialize the tqdm progress bar\n",
    "categories = list(expression_matrices.keys())\n",
    "with tqdm(total=len(categories), desc=\"Downloading Files\") as pbar:\n",
    "\n",
    "    # Iterate over the keys, which represent different categories\n",
    "    for category in categories:\n",
    "        \n",
    "        # Look for 'log2' key in each category dictionary\n",
    "        if 'log2' in expression_matrices[category]:\n",
    "            \n",
    "            # Get the 'files' dictionary under 'log2'\n",
    "            files_dict = expression_matrices[category]['log2']['files']\n",
    "            \n",
    "            # Check if 'h5ad' format files are present\n",
    "            if 'h5ad' in files_dict:\n",
    "                file_dict = files_dict['h5ad']\n",
    "                \n",
    "                # Prepare the local and remote paths for downloading\n",
    "                local_path = os.path.join(download_base, file_dict['relative_path'])\n",
    "                local_path = pathlib.Path(local_path)\n",
    "                remote_path = manifest['resource_uri'] + file_dict['relative_path']\n",
    "                \n",
    "                # Print size and paths before downloading\n",
    "                print('size:', file_dict['size'])\n",
    "                print('Local Path:', local_path)\n",
    "                print('Remote Path:', remote_path)\n",
    "                \n",
    "                # Download the file using your existing download_file function\n",
    "                # Or you could directly insert the AWS S3 command here\n",
    "                download_file(file_dict)\n",
    "        \n",
    "        # Update the progress bar\n",
    "        pbar.update(1)\n"
   ]
  },
  {
   "cell_type": "markdown",
   "id": "e1586f47-7e1b-4bea-ac4f-d5735354578b",
   "metadata": {},
   "source": [
    "### Now download individual files from WMB-10Xv2 [raw file]"
   ]
  },
  {
   "cell_type": "code",
   "execution_count": 9,
   "id": "cbe2b087-a25b-4227-bf3d-1a999c912be6",
   "metadata": {
    "tags": []
   },
   "outputs": [
    {
     "name": "stderr",
     "output_type": "stream",
     "text": [
      "Downloading Files:   0%|          | 0/10 [00:00<?, ?it/s]"
     ]
    },
    {
     "name": "stdout",
     "output_type": "stream",
     "text": [
      "size: 9444387082\n",
      "Local Path: /shared/Data/abc_download_root/expression_matrices/WMB-10Xv2/20230630/WMB-10Xv2-Isocortex-2-raw.h5ad\n",
      "Remote Path: s3://allen-brain-cell-atlas/expression_matrices/WMB-10Xv2/20230630/WMB-10Xv2-Isocortex-2-raw.h5ad\n",
      "expression_matrices/WMB-10Xv2/20230630/WMB-10Xv2-Isocortex-2-raw.h5ad 9444387082\n",
      "aws s3 cp --no-sign-request s3://allen-brain-cell-atlas/expression_matrices/WMB-10Xv2/20230630/WMB-10Xv2-Isocortex-2-raw.h5ad /shared/Data/abc_download_root/expression_matrices/WMB-10Xv2/20230630/WMB-10Xv2-Isocortex-2-raw.h5ad\n"
     ]
    },
    {
     "name": "stderr",
     "output_type": "stream",
     "text": [
      "Downloading Files:  10%|█         | 1/10 [01:52<16:48, 112.10s/it]"
     ]
    },
    {
     "name": "stdout",
     "output_type": "stream",
     "text": [
      "time taken:  0.20220492899999987\n",
      "size: 811153174\n",
      "Local Path: /shared/Data/abc_download_root/expression_matrices/WMB-10Xv2/20230630/WMB-10Xv2-MB-raw.h5ad\n",
      "Remote Path: s3://allen-brain-cell-atlas/expression_matrices/WMB-10Xv2/20230630/WMB-10Xv2-MB-raw.h5ad\n",
      "expression_matrices/WMB-10Xv2/20230630/WMB-10Xv2-MB-raw.h5ad 811153174\n",
      "aws s3 cp --no-sign-request s3://allen-brain-cell-atlas/expression_matrices/WMB-10Xv2/20230630/WMB-10Xv2-MB-raw.h5ad /shared/Data/abc_download_root/expression_matrices/WMB-10Xv2/20230630/WMB-10Xv2-MB-raw.h5ad\n"
     ]
    },
    {
     "name": "stderr",
     "output_type": "stream",
     "text": [
      "Downloading Files:  20%|██        | 2/10 [02:03<07:03, 52.99s/it] "
     ]
    },
    {
     "name": "stdout",
     "output_type": "stream",
     "text": [
      "time taken:  0.020529559999999947\n",
      "size: 4038679930\n",
      "Local Path: /shared/Data/abc_download_root/expression_matrices/WMB-10Xv2/20230630/WMB-10Xv2-TH-raw.h5ad\n",
      "Remote Path: s3://allen-brain-cell-atlas/expression_matrices/WMB-10Xv2/20230630/WMB-10Xv2-TH-raw.h5ad\n",
      "expression_matrices/WMB-10Xv2/20230630/WMB-10Xv2-TH-raw.h5ad 4038679930\n",
      "aws s3 cp --no-sign-request s3://allen-brain-cell-atlas/expression_matrices/WMB-10Xv2/20230630/WMB-10Xv2-TH-raw.h5ad /shared/Data/abc_download_root/expression_matrices/WMB-10Xv2/20230630/WMB-10Xv2-TH-raw.h5ad\n"
     ]
    },
    {
     "name": "stderr",
     "output_type": "stream",
     "text": [
      "Downloading Files:  30%|███       | 3/10 [03:01<06:25, 55.07s/it]"
     ]
    },
    {
     "name": "stdout",
     "output_type": "stream",
     "text": [
      "time taken:  0.0947930530000003\n",
      "size: 1734161062\n",
      "Local Path: /shared/Data/abc_download_root/expression_matrices/WMB-10Xv2/20230630/WMB-10Xv2-CTXsp-raw.h5ad\n",
      "Remote Path: s3://allen-brain-cell-atlas/expression_matrices/WMB-10Xv2/20230630/WMB-10Xv2-CTXsp-raw.h5ad\n",
      "expression_matrices/WMB-10Xv2/20230630/WMB-10Xv2-CTXsp-raw.h5ad 1734161062\n",
      "aws s3 cp --no-sign-request s3://allen-brain-cell-atlas/expression_matrices/WMB-10Xv2/20230630/WMB-10Xv2-CTXsp-raw.h5ad /shared/Data/abc_download_root/expression_matrices/WMB-10Xv2/20230630/WMB-10Xv2-CTXsp-raw.h5ad\n"
     ]
    },
    {
     "name": "stderr",
     "output_type": "stream",
     "text": [
      "Downloading Files:  40%|████      | 4/10 [03:25<04:18, 43.06s/it]"
     ]
    },
    {
     "name": "stdout",
     "output_type": "stream",
     "text": [
      "time taken:  0.042439166999999944\n",
      "size: 8692589466\n",
      "Local Path: /shared/Data/abc_download_root/expression_matrices/WMB-10Xv2/20230630/WMB-10Xv2-Isocortex-4-raw.h5ad\n",
      "Remote Path: s3://allen-brain-cell-atlas/expression_matrices/WMB-10Xv2/20230630/WMB-10Xv2-Isocortex-4-raw.h5ad\n",
      "expression_matrices/WMB-10Xv2/20230630/WMB-10Xv2-Isocortex-4-raw.h5ad 8692589466\n",
      "aws s3 cp --no-sign-request s3://allen-brain-cell-atlas/expression_matrices/WMB-10Xv2/20230630/WMB-10Xv2-Isocortex-4-raw.h5ad /shared/Data/abc_download_root/expression_matrices/WMB-10Xv2/20230630/WMB-10Xv2-Isocortex-4-raw.h5ad\n"
     ]
    },
    {
     "name": "stderr",
     "output_type": "stream",
     "text": [
      "Downloading Files:  50%|█████     | 5/10 [05:14<05:33, 66.71s/it]"
     ]
    },
    {
     "name": "stdout",
     "output_type": "stream",
     "text": [
      "time taken:  0.1759996639999999\n",
      "size: 2908443982\n",
      "Local Path: /shared/Data/abc_download_root/expression_matrices/WMB-10Xv2/20230630/WMB-10Xv2-HY-raw.h5ad\n",
      "Remote Path: s3://allen-brain-cell-atlas/expression_matrices/WMB-10Xv2/20230630/WMB-10Xv2-HY-raw.h5ad\n",
      "expression_matrices/WMB-10Xv2/20230630/WMB-10Xv2-HY-raw.h5ad 2908443982\n",
      "aws s3 cp --no-sign-request s3://allen-brain-cell-atlas/expression_matrices/WMB-10Xv2/20230630/WMB-10Xv2-HY-raw.h5ad /shared/Data/abc_download_root/expression_matrices/WMB-10Xv2/20230630/WMB-10Xv2-HY-raw.h5ad\n"
     ]
    },
    {
     "name": "stderr",
     "output_type": "stream",
     "text": [
      "Downloading Files:  60%|██████    | 6/10 [05:55<03:52, 58.11s/it]"
     ]
    },
    {
     "name": "stdout",
     "output_type": "stream",
     "text": [
      "time taken:  0.06767890900000006\n",
      "size: 5128120156\n",
      "Local Path: /shared/Data/abc_download_root/expression_matrices/WMB-10Xv2/20230630/WMB-10Xv2-OLF-raw.h5ad\n",
      "Remote Path: s3://allen-brain-cell-atlas/expression_matrices/WMB-10Xv2/20230630/WMB-10Xv2-OLF-raw.h5ad\n",
      "expression_matrices/WMB-10Xv2/20230630/WMB-10Xv2-OLF-raw.h5ad 5128120156\n",
      "aws s3 cp --no-sign-request s3://allen-brain-cell-atlas/expression_matrices/WMB-10Xv2/20230630/WMB-10Xv2-OLF-raw.h5ad /shared/Data/abc_download_root/expression_matrices/WMB-10Xv2/20230630/WMB-10Xv2-OLF-raw.h5ad\n"
     ]
    },
    {
     "name": "stderr",
     "output_type": "stream",
     "text": [
      "Downloading Files:  70%|███████   | 7/10 [07:09<03:09, 63.16s/it]"
     ]
    },
    {
     "name": "stdout",
     "output_type": "stream",
     "text": [
      "time taken:  0.11671811900000018\n",
      "size: 8457819034\n",
      "Local Path: /shared/Data/abc_download_root/expression_matrices/WMB-10Xv2/20230630/WMB-10Xv2-Isocortex-3-raw.h5ad\n",
      "Remote Path: s3://allen-brain-cell-atlas/expression_matrices/WMB-10Xv2/20230630/WMB-10Xv2-Isocortex-3-raw.h5ad\n",
      "expression_matrices/WMB-10Xv2/20230630/WMB-10Xv2-Isocortex-3-raw.h5ad 8457819034\n",
      "aws s3 cp --no-sign-request s3://allen-brain-cell-atlas/expression_matrices/WMB-10Xv2/20230630/WMB-10Xv2-Isocortex-3-raw.h5ad /shared/Data/abc_download_root/expression_matrices/WMB-10Xv2/20230630/WMB-10Xv2-Isocortex-3-raw.h5ad\n"
     ]
    },
    {
     "name": "stderr",
     "output_type": "stream",
     "text": [
      "Downloading Files:  80%|████████  | 8/10 [08:54<02:32, 76.43s/it]"
     ]
    },
    {
     "name": "stdout",
     "output_type": "stream",
     "text": [
      "time taken:  0.18850982699999985\n",
      "size: 8601133978\n",
      "Local Path: /shared/Data/abc_download_root/expression_matrices/WMB-10Xv2/20230630/WMB-10Xv2-Isocortex-1-raw.h5ad\n",
      "Remote Path: s3://allen-brain-cell-atlas/expression_matrices/WMB-10Xv2/20230630/WMB-10Xv2-Isocortex-1-raw.h5ad\n",
      "expression_matrices/WMB-10Xv2/20230630/WMB-10Xv2-Isocortex-1-raw.h5ad 8601133978\n",
      "aws s3 cp --no-sign-request s3://allen-brain-cell-atlas/expression_matrices/WMB-10Xv2/20230630/WMB-10Xv2-Isocortex-1-raw.h5ad /shared/Data/abc_download_root/expression_matrices/WMB-10Xv2/20230630/WMB-10Xv2-Isocortex-1-raw.h5ad\n"
     ]
    },
    {
     "name": "stderr",
     "output_type": "stream",
     "text": [
      "Downloading Files:  90%|█████████ | 9/10 [10:41<01:26, 86.01s/it]"
     ]
    },
    {
     "name": "stdout",
     "output_type": "stream",
     "text": [
      "time taken:  0.19585635299999993\n",
      "size: 6096269724\n",
      "Local Path: /shared/Data/abc_download_root/expression_matrices/WMB-10Xv2/20230630/WMB-10Xv2-HPF-raw.h5ad\n",
      "Remote Path: s3://allen-brain-cell-atlas/expression_matrices/WMB-10Xv2/20230630/WMB-10Xv2-HPF-raw.h5ad\n",
      "expression_matrices/WMB-10Xv2/20230630/WMB-10Xv2-HPF-raw.h5ad 6096269724\n",
      "aws s3 cp --no-sign-request s3://allen-brain-cell-atlas/expression_matrices/WMB-10Xv2/20230630/WMB-10Xv2-HPF-raw.h5ad /shared/Data/abc_download_root/expression_matrices/WMB-10Xv2/20230630/WMB-10Xv2-HPF-raw.h5ad\n"
     ]
    },
    {
     "name": "stderr",
     "output_type": "stream",
     "text": [
      "Downloading Files: 100%|██████████| 10/10 [12:01<00:00, 72.11s/it]"
     ]
    },
    {
     "name": "stdout",
     "output_type": "stream",
     "text": [
      "time taken:  0.13518696200000013\n"
     ]
    },
    {
     "name": "stderr",
     "output_type": "stream",
     "text": [
      "\n"
     ]
    }
   ],
   "source": [
    "# Initialize the dictionary\n",
    "expression_matrices = manifest['file_listing']['WMB-10Xv2']['expression_matrices']\n",
    "\n",
    "# Initialize the tqdm progress bar\n",
    "categories = list(expression_matrices.keys())\n",
    "with tqdm(total=len(categories), desc=\"Downloading Files\") as pbar:\n",
    "\n",
    "    # Iterate over the keys, which represent different categories\n",
    "    for category in categories:\n",
    "        \n",
    "        # Look for 'raw' key in each category dictionary\n",
    "        if 'raw' in expression_matrices[category]:\n",
    "            \n",
    "            # Get the 'files' dictionary under 'raw'\n",
    "            files_dict = expression_matrices[category]['raw']['files']\n",
    "            \n",
    "            # Check if 'h5ad' format files are present\n",
    "            if 'h5ad' in files_dict:\n",
    "                file_dict = files_dict['h5ad']\n",
    "                \n",
    "                # Prepare the local and remote paths for downloading\n",
    "                local_path = os.path.join(download_base, file_dict['relative_path'])\n",
    "                local_path = pathlib.Path(local_path)\n",
    "                remote_path = manifest['resource_uri'] + file_dict['relative_path']\n",
    "                \n",
    "                # Print size and paths before downloading\n",
    "                print('size:', file_dict['size'])\n",
    "                print('Local Path:', local_path)\n",
    "                print('Remote Path:', remote_path)\n",
    "                \n",
    "                # Download the file using your existing download_file function\n",
    "                # Or you could directly insert the AWS S3 command here\n",
    "                download_file(file_dict)\n",
    "        \n",
    "        # Update the progress bar\n",
    "        pbar.update(1)\n"
   ]
  },
  {
   "cell_type": "markdown",
   "id": "d0f38354-5cef-49ab-87d4-e6db5d913c65",
   "metadata": {},
   "source": [
    "### Download individual files from WMB-10Xv2 [log2 file]"
   ]
  },
  {
   "cell_type": "code",
   "execution_count": 10,
   "id": "c27c7e77-a66f-4b40-a850-f600672feb98",
   "metadata": {
    "tags": []
   },
   "outputs": [
    {
     "name": "stderr",
     "output_type": "stream",
     "text": [
      "Downloading Files:   0%|          | 0/13 [00:00<?, ?it/s]"
     ]
    },
    {
     "name": "stdout",
     "output_type": "stream",
     "text": [
      "size: 8356210362\n",
      "Local Path: /shared/Data/abc_download_root/expression_matrices/WMB-10Xv3/20230630/WMB-10Xv3-Isocortex-2-log2.h5ad\n",
      "Remote Path: s3://allen-brain-cell-atlas/expression_matrices/WMB-10Xv3/20230630/WMB-10Xv3-Isocortex-2-log2.h5ad\n",
      "expression_matrices/WMB-10Xv3/20230630/WMB-10Xv3-Isocortex-2-log2.h5ad 8356210362\n",
      "aws s3 cp --no-sign-request s3://allen-brain-cell-atlas/expression_matrices/WMB-10Xv3/20230630/WMB-10Xv3-Isocortex-2-log2.h5ad /shared/Data/abc_download_root/expression_matrices/WMB-10Xv3/20230630/WMB-10Xv3-Isocortex-2-log2.h5ad\n"
     ]
    },
    {
     "name": "stderr",
     "output_type": "stream",
     "text": [
      "Downloading Files:   8%|▊         | 1/13 [01:29<17:59, 89.94s/it]"
     ]
    },
    {
     "name": "stdout",
     "output_type": "stream",
     "text": [
      "time taken:  0.154994764\n",
      "size: 4067049816\n",
      "Local Path: /shared/Data/abc_download_root/expression_matrices/WMB-10Xv3/20230630/WMB-10Xv3-PAL-log2.h5ad\n",
      "Remote Path: s3://allen-brain-cell-atlas/expression_matrices/WMB-10Xv3/20230630/WMB-10Xv3-PAL-log2.h5ad\n",
      "expression_matrices/WMB-10Xv3/20230630/WMB-10Xv3-PAL-log2.h5ad 4067049816\n",
      "aws s3 cp --no-sign-request s3://allen-brain-cell-atlas/expression_matrices/WMB-10Xv3/20230630/WMB-10Xv3-PAL-log2.h5ad /shared/Data/abc_download_root/expression_matrices/WMB-10Xv3/20230630/WMB-10Xv3-PAL-log2.h5ad\n"
     ]
    },
    {
     "name": "stderr",
     "output_type": "stream",
     "text": [
      "Downloading Files:  15%|█▌        | 2/13 [02:27<12:59, 70.84s/it]"
     ]
    },
    {
     "name": "stdout",
     "output_type": "stream",
     "text": [
      "time taken:  0.09150522900000002\n",
      "size: 3277343842\n",
      "Local Path: /shared/Data/abc_download_root/expression_matrices/WMB-10Xv3/20230630/WMB-10Xv3-CTXsp-log2.h5ad\n",
      "Remote Path: s3://allen-brain-cell-atlas/expression_matrices/WMB-10Xv3/20230630/WMB-10Xv3-CTXsp-log2.h5ad\n",
      "expression_matrices/WMB-10Xv3/20230630/WMB-10Xv3-CTXsp-log2.h5ad 3277343842\n",
      "aws s3 cp --no-sign-request s3://allen-brain-cell-atlas/expression_matrices/WMB-10Xv3/20230630/WMB-10Xv3-CTXsp-log2.h5ad /shared/Data/abc_download_root/expression_matrices/WMB-10Xv3/20230630/WMB-10Xv3-CTXsp-log2.h5ad\n"
     ]
    },
    {
     "name": "stderr",
     "output_type": "stream",
     "text": [
      "Downloading Files:  23%|██▎       | 3/13 [03:13<09:57, 59.73s/it]"
     ]
    },
    {
     "name": "stdout",
     "output_type": "stream",
     "text": [
      "time taken:  0.0702136659999999\n",
      "size: 13726487690\n",
      "Local Path: /shared/Data/abc_download_root/expression_matrices/WMB-10Xv3/20230630/WMB-10Xv3-MB-log2.h5ad\n",
      "Remote Path: s3://allen-brain-cell-atlas/expression_matrices/WMB-10Xv3/20230630/WMB-10Xv3-MB-log2.h5ad\n",
      "expression_matrices/WMB-10Xv3/20230630/WMB-10Xv3-MB-log2.h5ad 13726487690\n",
      "aws s3 cp --no-sign-request s3://allen-brain-cell-atlas/expression_matrices/WMB-10Xv3/20230630/WMB-10Xv3-MB-log2.h5ad /shared/Data/abc_download_root/expression_matrices/WMB-10Xv3/20230630/WMB-10Xv3-MB-log2.h5ad\n"
     ]
    },
    {
     "name": "stderr",
     "output_type": "stream",
     "text": [
      "Downloading Files:  31%|███       | 4/13 [05:48<14:34, 97.21s/it]"
     ]
    },
    {
     "name": "stdout",
     "output_type": "stream",
     "text": [
      "time taken:  0.29393174600000016\n",
      "size: 5610691342\n",
      "Local Path: /shared/Data/abc_download_root/expression_matrices/WMB-10Xv3/20230630/WMB-10Xv3-CB-log2.h5ad\n",
      "Remote Path: s3://allen-brain-cell-atlas/expression_matrices/WMB-10Xv3/20230630/WMB-10Xv3-CB-log2.h5ad\n",
      "expression_matrices/WMB-10Xv3/20230630/WMB-10Xv3-CB-log2.h5ad 5610691342\n",
      "aws s3 cp --no-sign-request s3://allen-brain-cell-atlas/expression_matrices/WMB-10Xv3/20230630/WMB-10Xv3-CB-log2.h5ad /shared/Data/abc_download_root/expression_matrices/WMB-10Xv3/20230630/WMB-10Xv3-CB-log2.h5ad\n"
     ]
    },
    {
     "name": "stderr",
     "output_type": "stream",
     "text": [
      "Downloading Files:  38%|███▊      | 5/13 [07:06<12:01, 90.21s/it]"
     ]
    },
    {
     "name": "stdout",
     "output_type": "stream",
     "text": [
      "time taken:  0.10694514100000019\n",
      "size: 11768194128\n",
      "Local Path: /shared/Data/abc_download_root/expression_matrices/WMB-10Xv3/20230630/WMB-10Xv3-Isocortex-1-log2.h5ad\n",
      "Remote Path: s3://allen-brain-cell-atlas/expression_matrices/WMB-10Xv3/20230630/WMB-10Xv3-Isocortex-1-log2.h5ad\n",
      "expression_matrices/WMB-10Xv3/20230630/WMB-10Xv3-Isocortex-1-log2.h5ad 11768194128\n",
      "aws s3 cp --no-sign-request s3://allen-brain-cell-atlas/expression_matrices/WMB-10Xv3/20230630/WMB-10Xv3-Isocortex-1-log2.h5ad /shared/Data/abc_download_root/expression_matrices/WMB-10Xv3/20230630/WMB-10Xv3-Isocortex-1-log2.h5ad\n"
     ]
    },
    {
     "name": "stderr",
     "output_type": "stream",
     "text": [
      "Downloading Files:  46%|████▌     | 6/13 [09:23<12:22, 106.09s/it]"
     ]
    },
    {
     "name": "stdout",
     "output_type": "stream",
     "text": [
      "time taken:  0.23650742900000044\n",
      "size: 3114998442\n",
      "Local Path: /shared/Data/abc_download_root/expression_matrices/WMB-10Xv3/20230630/WMB-10Xv3-OLF-log2.h5ad\n",
      "Remote Path: s3://allen-brain-cell-atlas/expression_matrices/WMB-10Xv3/20230630/WMB-10Xv3-OLF-log2.h5ad\n",
      "expression_matrices/WMB-10Xv3/20230630/WMB-10Xv3-OLF-log2.h5ad 3114998442\n",
      "aws s3 cp --no-sign-request s3://allen-brain-cell-atlas/expression_matrices/WMB-10Xv3/20230630/WMB-10Xv3-OLF-log2.h5ad /shared/Data/abc_download_root/expression_matrices/WMB-10Xv3/20230630/WMB-10Xv3-OLF-log2.h5ad\n"
     ]
    },
    {
     "name": "stderr",
     "output_type": "stream",
     "text": [
      "Downloading Files:  54%|█████▍    | 7/13 [10:06<08:33, 85.60s/it] "
     ]
    },
    {
     "name": "stdout",
     "output_type": "stream",
     "text": [
      "time taken:  0.06603658600000006\n",
      "size: 7206054638\n",
      "Local Path: /shared/Data/abc_download_root/expression_matrices/WMB-10Xv3/20230630/WMB-10Xv3-MY-log2.h5ad\n",
      "Remote Path: s3://allen-brain-cell-atlas/expression_matrices/WMB-10Xv3/20230630/WMB-10Xv3-MY-log2.h5ad\n",
      "expression_matrices/WMB-10Xv3/20230630/WMB-10Xv3-MY-log2.h5ad 7206054638\n",
      "aws s3 cp --no-sign-request s3://allen-brain-cell-atlas/expression_matrices/WMB-10Xv3/20230630/WMB-10Xv3-MY-log2.h5ad /shared/Data/abc_download_root/expression_matrices/WMB-10Xv3/20230630/WMB-10Xv3-MY-log2.h5ad\n"
     ]
    },
    {
     "name": "stderr",
     "output_type": "stream",
     "text": [
      "Downloading Files:  62%|██████▏   | 8/13 [11:35<07:12, 86.57s/it]"
     ]
    },
    {
     "name": "stdout",
     "output_type": "stream",
     "text": [
      "time taken:  0.2007744960000002\n",
      "size: 5811140682\n",
      "Local Path: /shared/Data/abc_download_root/expression_matrices/WMB-10Xv3/20230630/WMB-10Xv3-TH-log2.h5ad\n",
      "Remote Path: s3://allen-brain-cell-atlas/expression_matrices/WMB-10Xv3/20230630/WMB-10Xv3-TH-log2.h5ad\n",
      "expression_matrices/WMB-10Xv3/20230630/WMB-10Xv3-TH-log2.h5ad 5811140682\n",
      "aws s3 cp --no-sign-request s3://allen-brain-cell-atlas/expression_matrices/WMB-10Xv3/20230630/WMB-10Xv3-TH-log2.h5ad /shared/Data/abc_download_root/expression_matrices/WMB-10Xv3/20230630/WMB-10Xv3-TH-log2.h5ad\n"
     ]
    },
    {
     "name": "stderr",
     "output_type": "stream",
     "text": [
      "Downloading Files:  69%|██████▉   | 9/13 [13:06<05:51, 87.84s/it]"
     ]
    },
    {
     "name": "stdout",
     "output_type": "stream",
     "text": [
      "time taken:  0.14923390299999983\n",
      "size: 7248338584\n",
      "Local Path: /shared/Data/abc_download_root/expression_matrices/WMB-10Xv3/20230630/WMB-10Xv3-HY-log2.h5ad\n",
      "Remote Path: s3://allen-brain-cell-atlas/expression_matrices/WMB-10Xv3/20230630/WMB-10Xv3-HY-log2.h5ad\n",
      "expression_matrices/WMB-10Xv3/20230630/WMB-10Xv3-HY-log2.h5ad 7248338584\n",
      "aws s3 cp --no-sign-request s3://allen-brain-cell-atlas/expression_matrices/WMB-10Xv3/20230630/WMB-10Xv3-HY-log2.h5ad /shared/Data/abc_download_root/expression_matrices/WMB-10Xv3/20230630/WMB-10Xv3-HY-log2.h5ad\n"
     ]
    },
    {
     "name": "stderr",
     "output_type": "stream",
     "text": [
      "Downloading Files:  77%|███████▋  | 10/13 [14:51<04:39, 93.18s/it]"
     ]
    },
    {
     "name": "stdout",
     "output_type": "stream",
     "text": [
      "time taken:  0.2323855539999995\n",
      "size: 11915297204\n",
      "Local Path: /shared/Data/abc_download_root/expression_matrices/WMB-10Xv3/20230630/WMB-10Xv3-STR-log2.h5ad\n",
      "Remote Path: s3://allen-brain-cell-atlas/expression_matrices/WMB-10Xv3/20230630/WMB-10Xv3-STR-log2.h5ad\n",
      "expression_matrices/WMB-10Xv3/20230630/WMB-10Xv3-STR-log2.h5ad 11915297204\n",
      "aws s3 cp --no-sign-request s3://allen-brain-cell-atlas/expression_matrices/WMB-10Xv3/20230630/WMB-10Xv3-STR-log2.h5ad /shared/Data/abc_download_root/expression_matrices/WMB-10Xv3/20230630/WMB-10Xv3-STR-log2.h5ad\n"
     ]
    },
    {
     "name": "stderr",
     "output_type": "stream",
     "text": [
      "Downloading Files:  85%|████████▍ | 11/13 [17:49<03:58, 119.23s/it]"
     ]
    },
    {
     "name": "stdout",
     "output_type": "stream",
     "text": [
      "time taken:  0.4460739449999993\n",
      "size: 5200570200\n",
      "Local Path: /shared/Data/abc_download_root/expression_matrices/WMB-10Xv3/20230630/WMB-10Xv3-P-log2.h5ad\n",
      "Remote Path: s3://allen-brain-cell-atlas/expression_matrices/WMB-10Xv3/20230630/WMB-10Xv3-P-log2.h5ad\n",
      "expression_matrices/WMB-10Xv3/20230630/WMB-10Xv3-P-log2.h5ad 5200570200\n",
      "aws s3 cp --no-sign-request s3://allen-brain-cell-atlas/expression_matrices/WMB-10Xv3/20230630/WMB-10Xv3-P-log2.h5ad /shared/Data/abc_download_root/expression_matrices/WMB-10Xv3/20230630/WMB-10Xv3-P-log2.h5ad\n"
     ]
    },
    {
     "name": "stderr",
     "output_type": "stream",
     "text": [
      "Downloading Files:  92%|█████████▏| 12/13 [19:17<01:49, 109.76s/it]"
     ]
    },
    {
     "name": "stdout",
     "output_type": "stream",
     "text": [
      "time taken:  0.21700768500000045\n",
      "size: 7409633208\n",
      "Local Path: /shared/Data/abc_download_root/expression_matrices/WMB-10Xv3/20230630/WMB-10Xv3-HPF-log2.h5ad\n",
      "Remote Path: s3://allen-brain-cell-atlas/expression_matrices/WMB-10Xv3/20230630/WMB-10Xv3-HPF-log2.h5ad\n",
      "expression_matrices/WMB-10Xv3/20230630/WMB-10Xv3-HPF-log2.h5ad 7409633208\n",
      "aws s3 cp --no-sign-request s3://allen-brain-cell-atlas/expression_matrices/WMB-10Xv3/20230630/WMB-10Xv3-HPF-log2.h5ad /shared/Data/abc_download_root/expression_matrices/WMB-10Xv3/20230630/WMB-10Xv3-HPF-log2.h5ad\n"
     ]
    },
    {
     "name": "stderr",
     "output_type": "stream",
     "text": [
      "Downloading Files: 100%|██████████| 13/13 [21:16<00:00, 98.20s/it] "
     ]
    },
    {
     "name": "stdout",
     "output_type": "stream",
     "text": [
      "time taken:  0.28977505599999986\n"
     ]
    },
    {
     "name": "stderr",
     "output_type": "stream",
     "text": [
      "\n"
     ]
    }
   ],
   "source": [
    "# Initialize the dictionary\n",
    "expression_matrices = manifest['file_listing']['WMB-10Xv3']['expression_matrices']\n",
    "\n",
    "# Initialize the tqdm progress bar\n",
    "categories = list(expression_matrices.keys())\n",
    "with tqdm(total=len(categories), desc=\"Downloading Files\") as pbar:\n",
    "\n",
    "    # Iterate over the keys, which represent different categories\n",
    "    for category in categories:\n",
    "        \n",
    "        # Look for 'log2' key in each category dictionary\n",
    "        if 'log2' in expression_matrices[category]:\n",
    "            \n",
    "            # Get the 'files' dictionary under 'log2'\n",
    "            files_dict = expression_matrices[category]['log2']['files']\n",
    "            \n",
    "            # Check if 'h5ad' format files are present\n",
    "            if 'h5ad' in files_dict:\n",
    "                file_dict = files_dict['h5ad']\n",
    "                \n",
    "                # Prepare the local and remote paths for downloading\n",
    "                local_path = os.path.join(download_base, file_dict['relative_path'])\n",
    "                local_path = pathlib.Path(local_path)\n",
    "                remote_path = manifest['resource_uri'] + file_dict['relative_path']\n",
    "                \n",
    "                # Print size and paths before downloading\n",
    "                print('size:', file_dict['size'])\n",
    "                print('Local Path:', local_path)\n",
    "                print('Remote Path:', remote_path)\n",
    "                \n",
    "                # Download the file using your existing download_file function\n",
    "                # Or you could directly insert the AWS S3 command here\n",
    "                download_file(file_dict)\n",
    "        \n",
    "        # Update the progress bar\n",
    "        pbar.update(1)\n"
   ]
  }
 ],
 "metadata": {
  "kernelspec": {
   "display_name": "scverse",
   "language": "python",
   "name": "scverse"
  },
  "language_info": {
   "codemirror_mode": {
    "name": "ipython",
    "version": 3
   },
   "file_extension": ".py",
   "mimetype": "text/x-python",
   "name": "python",
   "nbconvert_exporter": "python",
   "pygments_lexer": "ipython3",
   "version": "3.10.9"
  }
 },
 "nbformat": 4,
 "nbformat_minor": 5
}
