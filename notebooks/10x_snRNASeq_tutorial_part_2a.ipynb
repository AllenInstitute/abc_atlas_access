{
 "cells": [
  {
   "cell_type": "markdown",
   "metadata": {},
   "source": [
    "# 10x RNA-seq gene expression data (part 2a)\n",
    "\n",
    "In part 1, we explore two examples looking at the expression of canonical neurotransmitter transporter genes and gene Tac2 in the thalamus. In this notebook, we will prepare data so that we can repeat the examples for all cells spanning the whole brain. This notebook takes ~ 5 minutes to run.\n",
    "\n",
    "The results from this notebook has already been cached and saved. As such, you can skip this notebook and continue with part 2b.\n",
    "\n",
    "You need to be connected to the internet to run this notebook and that you have downloaded the all the log2 expression matrices associated with both the WMB-10Xv2, WMB-10Xv3 and WMB-10XMulti datasets."
   ]
  },
  {
   "cell_type": "code",
   "execution_count": 1,
   "metadata": {},
   "outputs": [],
   "source": [
    "import os\n",
    "import pandas as pd\n",
    "import numpy as np\n",
    "import anndata\n",
    "import time\n",
    "import json\n",
    "import requests"
   ]
  },
  {
   "cell_type": "markdown",
   "metadata": {},
   "source": [
    "The prerequisite for running this notebook is that the data have been downloaded to local directory maintaining the organization from the manifest.json. **Change the download_base variable to where you have downloaded the data in your system.**"
   ]
  },
  {
   "cell_type": "code",
   "execution_count": 2,
   "metadata": {},
   "outputs": [],
   "source": [
    "version = '20230830'\n",
    "download_base = '../../abc_download_root'\n",
    "\n",
    "use_local_cache = False\n",
    "manifest_path = 'releases/%s/manifest.json' % version\n",
    "\n",
    "if not use_local_cache :\n",
    "    url = 'https://allen-brain-cell-atlas.s3-us-west-2.amazonaws.com/' + manifest_path\n",
    "    manifest = json.loads(requests.get(url).text)\n",
    "else :\n",
    "    file = os.path.join(download_base,manifest_path)\n",
    "    with open(file,'rb') as f:\n",
    "        manifest = json.load(f)\n",
    "    \n",
    "metadata = manifest['file_listing']['WMB-10X']['metadata']"
   ]
  },
  {
   "cell_type": "code",
   "execution_count": 3,
   "metadata": {},
   "outputs": [],
   "source": [
    "view_directory = os.path.join( download_base, \n",
    "                               manifest['directory_listing']['WMB-10X']['directories']['metadata']['relative_path'], \n",
    "                              'views')\n",
    "cache_views = False\n",
    "if cache_views :\n",
    "    os.makedirs( view_directory, exist_ok=True )"
   ]
  },
  {
   "cell_type": "code",
   "execution_count": 4,
   "metadata": {
    "scrolled": false
   },
   "outputs": [],
   "source": [
    "rpath = metadata['cell_metadata']['files']['csv']['relative_path']\n",
    "file = os.path.join( download_base, rpath)\n",
    "cell = pd.read_csv(file)\n",
    "cell.set_index('cell_label',inplace=True)"
   ]
  },
  {
   "cell_type": "markdown",
   "metadata": {},
   "source": [
    "### Gene expression matrices\n",
    "\n",
    "The large 4 million cell dataset has been divided into 23 packages to make data transfer and download more efficient. Each package is formatted as annadata h5ad file with minimal metadata. In this next section, we provide example code on how to open the file and connect with the rich cell level metadata discussed above.\n",
    "\n",
    "For each subset, there are two h5ad files one storing the raw counts and the other log normalization of it."
   ]
  },
  {
   "cell_type": "code",
   "execution_count": 5,
   "metadata": {},
   "outputs": [
    {
     "data": {
      "text/html": [
       "<div>\n",
       "<style scoped>\n",
       "    .dataframe tbody tr th:only-of-type {\n",
       "        vertical-align: middle;\n",
       "    }\n",
       "\n",
       "    .dataframe tbody tr th {\n",
       "        vertical-align: top;\n",
       "    }\n",
       "\n",
       "    .dataframe thead th {\n",
       "        text-align: right;\n",
       "    }\n",
       "</style>\n",
       "<table border=\"1\" class=\"dataframe\">\n",
       "  <thead>\n",
       "    <tr style=\"text-align: right;\">\n",
       "      <th></th>\n",
       "      <th></th>\n",
       "      <th>cell_count</th>\n",
       "    </tr>\n",
       "    <tr>\n",
       "      <th>dataset_label</th>\n",
       "      <th>feature_matrix_label</th>\n",
       "      <th></th>\n",
       "    </tr>\n",
       "  </thead>\n",
       "  <tbody>\n",
       "    <tr>\n",
       "      <th>WMB-10XMulti</th>\n",
       "      <th>WMB-10XMulti</th>\n",
       "      <td>1687</td>\n",
       "    </tr>\n",
       "    <tr>\n",
       "      <th rowspan=\"10\" valign=\"top\">WMB-10Xv2</th>\n",
       "      <th>WMB-10Xv2-CTXsp</th>\n",
       "      <td>43985</td>\n",
       "    </tr>\n",
       "    <tr>\n",
       "      <th>WMB-10Xv2-HPF</th>\n",
       "      <td>207281</td>\n",
       "    </tr>\n",
       "    <tr>\n",
       "      <th>WMB-10Xv2-HY</th>\n",
       "      <td>99879</td>\n",
       "    </tr>\n",
       "    <tr>\n",
       "      <th>WMB-10Xv2-Isocortex-1</th>\n",
       "      <td>248776</td>\n",
       "    </tr>\n",
       "    <tr>\n",
       "      <th>WMB-10Xv2-Isocortex-2</th>\n",
       "      <td>249360</td>\n",
       "    </tr>\n",
       "    <tr>\n",
       "      <th>WMB-10Xv2-Isocortex-3</th>\n",
       "      <td>249356</td>\n",
       "    </tr>\n",
       "    <tr>\n",
       "      <th>WMB-10Xv2-Isocortex-4</th>\n",
       "      <td>248784</td>\n",
       "    </tr>\n",
       "    <tr>\n",
       "      <th>WMB-10Xv2-MB</th>\n",
       "      <td>29781</td>\n",
       "    </tr>\n",
       "    <tr>\n",
       "      <th>WMB-10Xv2-OLF</th>\n",
       "      <td>192182</td>\n",
       "    </tr>\n",
       "    <tr>\n",
       "      <th>WMB-10Xv2-TH</th>\n",
       "      <td>130555</td>\n",
       "    </tr>\n",
       "    <tr>\n",
       "      <th rowspan=\"13\" valign=\"top\">WMB-10Xv3</th>\n",
       "      <th>WMB-10Xv3-CB</th>\n",
       "      <td>181723</td>\n",
       "    </tr>\n",
       "    <tr>\n",
       "      <th>WMB-10Xv3-CTXsp</th>\n",
       "      <td>78223</td>\n",
       "    </tr>\n",
       "    <tr>\n",
       "      <th>WMB-10Xv3-HPF</th>\n",
       "      <td>181055</td>\n",
       "    </tr>\n",
       "    <tr>\n",
       "      <th>WMB-10Xv3-HY</th>\n",
       "      <td>162296</td>\n",
       "    </tr>\n",
       "    <tr>\n",
       "      <th>WMB-10Xv3-Isocortex-1</th>\n",
       "      <td>227670</td>\n",
       "    </tr>\n",
       "    <tr>\n",
       "      <th>WMB-10Xv3-Isocortex-2</th>\n",
       "      <td>227537</td>\n",
       "    </tr>\n",
       "    <tr>\n",
       "      <th>WMB-10Xv3-MB</th>\n",
       "      <td>337101</td>\n",
       "    </tr>\n",
       "    <tr>\n",
       "      <th>WMB-10Xv3-MY</th>\n",
       "      <td>191746</td>\n",
       "    </tr>\n",
       "    <tr>\n",
       "      <th>WMB-10Xv3-OLF</th>\n",
       "      <td>88560</td>\n",
       "    </tr>\n",
       "    <tr>\n",
       "      <th>WMB-10Xv3-P</th>\n",
       "      <td>143157</td>\n",
       "    </tr>\n",
       "    <tr>\n",
       "      <th>WMB-10Xv3-PAL</th>\n",
       "      <td>108046</td>\n",
       "    </tr>\n",
       "    <tr>\n",
       "      <th>WMB-10Xv3-STR</th>\n",
       "      <td>283782</td>\n",
       "    </tr>\n",
       "    <tr>\n",
       "      <th>WMB-10Xv3-TH</th>\n",
       "      <td>130454</td>\n",
       "    </tr>\n",
       "  </tbody>\n",
       "</table>\n",
       "</div>"
      ],
      "text/plain": [
       "                                     cell_count\n",
       "dataset_label feature_matrix_label             \n",
       "WMB-10XMulti  WMB-10XMulti                 1687\n",
       "WMB-10Xv2     WMB-10Xv2-CTXsp             43985\n",
       "              WMB-10Xv2-HPF              207281\n",
       "              WMB-10Xv2-HY                99879\n",
       "              WMB-10Xv2-Isocortex-1      248776\n",
       "              WMB-10Xv2-Isocortex-2      249360\n",
       "              WMB-10Xv2-Isocortex-3      249356\n",
       "              WMB-10Xv2-Isocortex-4      248784\n",
       "              WMB-10Xv2-MB                29781\n",
       "              WMB-10Xv2-OLF              192182\n",
       "              WMB-10Xv2-TH               130555\n",
       "WMB-10Xv3     WMB-10Xv3-CB               181723\n",
       "              WMB-10Xv3-CTXsp             78223\n",
       "              WMB-10Xv3-HPF              181055\n",
       "              WMB-10Xv3-HY               162296\n",
       "              WMB-10Xv3-Isocortex-1      227670\n",
       "              WMB-10Xv3-Isocortex-2      227537\n",
       "              WMB-10Xv3-MB               337101\n",
       "              WMB-10Xv3-MY               191746\n",
       "              WMB-10Xv3-OLF               88560\n",
       "              WMB-10Xv3-P                143157\n",
       "              WMB-10Xv3-PAL              108046\n",
       "              WMB-10Xv3-STR              283782\n",
       "              WMB-10Xv3-TH               130454"
      ]
     },
     "execution_count": 5,
     "metadata": {},
     "output_type": "execute_result"
    }
   ],
   "source": [
    "matrices = cell.groupby(['dataset_label','feature_matrix_label'])[['library_label']].count()\n",
    "matrices.columns  = ['cell_count']\n",
    "matrices"
   ]
  },
  {
   "cell_type": "markdown",
   "metadata": {},
   "source": [
    "### Example use cases\n",
    "\n",
    "In this section, we explore two use cases. The first example looks at the expression of nine canonical neurotransmitter transporter genes and the second the expression of gene Tac2.\n",
    "\n",
    "To support these use cases, we will create a smaller submatrix (all cells and 10 genes) and write to file for resue in part 2b. *Note this operation takes around 5 minutes*."
   ]
  },
  {
   "cell_type": "code",
   "execution_count": 6,
   "metadata": {},
   "outputs": [
    {
     "name": "stdout",
     "output_type": "stream",
     "text": [
      "{'log2': {'files': {'h5ad': {'version': '20230830', 'relative_path': 'expression_matrices/WMB-10XMulti/20230830/WMB-10XMulti-log2.h5ad', 'url': 'https://allen-brain-cell-atlas.s3.us-west-2.amazonaws.com/expression_matrices/WMB-10XMulti/20230830/WMB-10XMulti-log2.h5ad', 'size': 89318511}}}, 'raw': {'files': {'h5ad': {'version': '20230830', 'relative_path': 'expression_matrices/WMB-10XMulti/20230830/WMB-10XMulti-raw.h5ad', 'url': 'https://allen-brain-cell-atlas.s3.us-west-2.amazonaws.com/expression_matrices/WMB-10XMulti/20230830/WMB-10XMulti-raw.h5ad', 'size': 132220015}}}}\n"
     ]
    }
   ],
   "source": [
    "matrix_label = matrices.index[0][1]\n",
    "dataset_label = matrices.index[0][0]\n",
    "\n",
    "expression_matrices = manifest['file_listing'][dataset_label]['expression_matrices']\n",
    "print(expression_matrices[matrix_label])"
   ]
  },
  {
   "cell_type": "code",
   "execution_count": 7,
   "metadata": {},
   "outputs": [
    {
     "name": "stdout",
     "output_type": "stream",
     "text": [
      "../../abc_download_root/expression_matrices/WMB-10XMulti/20230830/WMB-10XMulti-log2.h5ad\n"
     ]
    }
   ],
   "source": [
    "rpath = expression_matrices[matrix_label]['log2']['files']['h5ad']['relative_path']\n",
    "file = os.path.join( download_base, rpath)\n",
    "print(file)"
   ]
  },
  {
   "cell_type": "code",
   "execution_count": 8,
   "metadata": {},
   "outputs": [],
   "source": [
    "ad = anndata.read_h5ad(file,backed='r')\n",
    "gene = ad.var"
   ]
  },
  {
   "cell_type": "code",
   "execution_count": 9,
   "metadata": {},
   "outputs": [
    {
     "data": {
      "text/html": [
       "<div>\n",
       "<style scoped>\n",
       "    .dataframe tbody tr th:only-of-type {\n",
       "        vertical-align: middle;\n",
       "    }\n",
       "\n",
       "    .dataframe tbody tr th {\n",
       "        vertical-align: top;\n",
       "    }\n",
       "\n",
       "    .dataframe thead th {\n",
       "        text-align: right;\n",
       "    }\n",
       "</style>\n",
       "<table border=\"1\" class=\"dataframe\">\n",
       "  <thead>\n",
       "    <tr style=\"text-align: right;\">\n",
       "      <th></th>\n",
       "      <th>gene_symbol</th>\n",
       "    </tr>\n",
       "    <tr>\n",
       "      <th>gene_identifier</th>\n",
       "      <th></th>\n",
       "    </tr>\n",
       "  </thead>\n",
       "  <tbody>\n",
       "    <tr>\n",
       "      <th>ENSMUSG00000037771</th>\n",
       "      <td>Slc32a1</td>\n",
       "    </tr>\n",
       "    <tr>\n",
       "      <th>ENSMUSG00000070570</th>\n",
       "      <td>Slc17a7</td>\n",
       "    </tr>\n",
       "    <tr>\n",
       "      <th>ENSMUSG00000039728</th>\n",
       "      <td>Slc6a5</td>\n",
       "    </tr>\n",
       "    <tr>\n",
       "      <th>ENSMUSG00000030500</th>\n",
       "      <td>Slc17a6</td>\n",
       "    </tr>\n",
       "    <tr>\n",
       "      <th>ENSMUSG00000055368</th>\n",
       "      <td>Slc6a2</td>\n",
       "    </tr>\n",
       "    <tr>\n",
       "      <th>ENSMUSG00000019935</th>\n",
       "      <td>Slc17a8</td>\n",
       "    </tr>\n",
       "    <tr>\n",
       "      <th>ENSMUSG00000025400</th>\n",
       "      <td>Tac2</td>\n",
       "    </tr>\n",
       "    <tr>\n",
       "      <th>ENSMUSG00000020838</th>\n",
       "      <td>Slc6a4</td>\n",
       "    </tr>\n",
       "    <tr>\n",
       "      <th>ENSMUSG00000021609</th>\n",
       "      <td>Slc6a3</td>\n",
       "    </tr>\n",
       "    <tr>\n",
       "      <th>ENSMUSG00000100241</th>\n",
       "      <td>Slc18a3</td>\n",
       "    </tr>\n",
       "  </tbody>\n",
       "</table>\n",
       "</div>"
      ],
      "text/plain": [
       "                   gene_symbol\n",
       "gene_identifier               \n",
       "ENSMUSG00000037771     Slc32a1\n",
       "ENSMUSG00000070570     Slc17a7\n",
       "ENSMUSG00000039728      Slc6a5\n",
       "ENSMUSG00000030500     Slc17a6\n",
       "ENSMUSG00000055368      Slc6a2\n",
       "ENSMUSG00000019935     Slc17a8\n",
       "ENSMUSG00000025400        Tac2\n",
       "ENSMUSG00000020838      Slc6a4\n",
       "ENSMUSG00000021609      Slc6a3\n",
       "ENSMUSG00000100241     Slc18a3"
      ]
     },
     "execution_count": 9,
     "metadata": {},
     "output_type": "execute_result"
    }
   ],
   "source": [
    "ntgenes = ['Slc17a7','Slc17a6','Slc17a8','Slc32a1','Slc6a5','Slc18a3','Slc6a3','Slc6a4','Slc6a2']\n",
    "exgenes = ['Tac2']\n",
    "gnames = ntgenes + exgenes\n",
    "pred = [x in gnames for x in gene.gene_symbol]\n",
    "gene_filtered = gene[pred]\n",
    "gene_filtered"
   ]
  },
  {
   "cell_type": "code",
   "execution_count": 10,
   "metadata": {},
   "outputs": [
    {
     "name": "stdout",
     "output_type": "stream",
     "text": [
      "WMB-10XMulti\n",
      " - time taken:  1.9622096919999983\n",
      "WMB-10Xv2-CTXsp\n",
      " - time taken:  1.7534853379999973\n",
      "WMB-10Xv2-HPF\n",
      " - time taken:  6.767831976\n",
      "WMB-10Xv2-HY\n",
      " - time taken:  2.9769649340000015\n",
      "WMB-10Xv2-Isocortex-1\n",
      " - time taken:  10.805219346000005\n",
      "WMB-10Xv2-Isocortex-2\n",
      " - time taken:  12.451479411999998\n",
      "WMB-10Xv2-Isocortex-3\n",
      " - time taken:  11.092032212000007\n",
      "WMB-10Xv2-Isocortex-4\n",
      " - time taken:  12.191183033000002\n",
      "WMB-10Xv2-MB\n",
      " - time taken:  0.9217969590000052\n",
      "WMB-10Xv2-OLF\n",
      " - time taken:  6.6084268479999935\n",
      "WMB-10Xv2-TH\n",
      " - time taken:  4.5150405959999915\n",
      "WMB-10Xv3-CB\n",
      " - time taken:  7.923351416000003\n",
      "WMB-10Xv3-CTXsp\n",
      " - time taken:  3.9744392829999953\n",
      "WMB-10Xv3-HPF\n",
      " - time taken:  11.715912669999994\n",
      "WMB-10Xv3-HY\n",
      " - time taken:  10.542776168000003\n",
      "WMB-10Xv3-Isocortex-1\n",
      " - time taken:  17.62114658600001\n",
      "WMB-10Xv3-Isocortex-2\n",
      " - time taken:  11.949673215000018\n",
      "WMB-10Xv3-MB\n",
      " - time taken:  20.26076470999999\n",
      "WMB-10Xv3-MY\n",
      " - time taken:  9.379144964000005\n",
      "WMB-10Xv3-OLF\n",
      " - time taken:  3.1078892949999783\n",
      "WMB-10Xv3-P\n",
      " - time taken:  6.396515713000014\n",
      "WMB-10Xv3-PAL\n",
      " - time taken:  4.734135684000023\n",
      "WMB-10Xv3-STR\n",
      " - time taken:  20.591621973000002\n",
      "WMB-10Xv3-TH\n",
      " - time taken:  8.585785503000011\n",
      "total time taken:  213.870688637\n"
     ]
    }
   ],
   "source": [
    "# create empty gene expression dataframe\n",
    "gdata = pd.DataFrame(index=cell.index,columns=gene_filtered.index)\n",
    "count = 0\n",
    "total_start = time.process_time()\n",
    "\n",
    "for matindex in matrices.index :\n",
    "    \n",
    "    ds = matindex[0]\n",
    "    mp = matindex[1]\n",
    "    \n",
    "    print(mp)\n",
    "    \n",
    "    expression_matrices = manifest['file_listing'][ds]['expression_matrices']\n",
    "    rpath = expression_matrices[mp]['log2']['files']['h5ad']['relative_path']\n",
    "    file = os.path.join( download_base, rpath)\n",
    "    \n",
    "    pred = (cell['feature_matrix_label'] == mp)\n",
    "    cell_filtered = cell[pred]\n",
    "    \n",
    "    start = time.process_time()\n",
    "    ad = anndata.read_h5ad(file,backed='r')\n",
    "    exp = ad[cell_filtered.index, gene_filtered.index].to_df()\n",
    "    gdata.loc[ exp.index, gene_filtered.index ] = exp\n",
    "    print(\" - time taken: \", time.process_time() - start)\n",
    "    \n",
    "    ad.file.close()\n",
    "    del ad\n",
    "    \n",
    "    count += 1\n",
    "    \n",
    "    #if count > 2 :\n",
    "    #    break\n",
    "        \n",
    "print(\"total time taken: \", time.process_time() - total_start)\n",
    "    "
   ]
  },
  {
   "cell_type": "code",
   "execution_count": 11,
   "metadata": {},
   "outputs": [
    {
     "name": "stdout",
     "output_type": "stream",
     "text": [
      "4042976\n"
     ]
    }
   ],
   "source": [
    "# change columns from index to gene symbol\n",
    "gdata.columns = gene_filtered.gene_symbol\n",
    "pred = pd.notna(gdata[gdata.columns[0]])\n",
    "gdata = gdata[pred].copy(deep=True)\n",
    "print(len(gdata))"
   ]
  },
  {
   "cell_type": "code",
   "execution_count": 12,
   "metadata": {},
   "outputs": [],
   "source": [
    "if cache_views :\n",
    "    file = os.path.join( view_directory, 'example_genes_all_cells_expression.csv')\n",
    "    gdata.to_csv( file )"
   ]
  },
  {
   "cell_type": "code",
   "execution_count": null,
   "metadata": {},
   "outputs": [],
   "source": []
  }
 ],
 "metadata": {
  "kernelspec": {
   "display_name": "Python 3",
   "language": "python",
   "name": "python3"
  },
  "language_info": {
   "codemirror_mode": {
    "name": "ipython",
    "version": 3
   },
   "file_extension": ".py",
   "mimetype": "text/x-python",
   "name": "python",
   "nbconvert_exporter": "python",
   "pygments_lexer": "ipython3",
   "version": "3.8.5"
  }
 },
 "nbformat": 4,
 "nbformat_minor": 4
}
