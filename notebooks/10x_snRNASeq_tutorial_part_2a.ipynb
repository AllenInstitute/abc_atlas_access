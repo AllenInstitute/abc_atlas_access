{
 "cells": [
  {
   "cell_type": "code",
   "execution_count": 1,
   "metadata": {},
   "outputs": [],
   "source": [
    "import os\n",
    "import pandas as pd\n",
    "import numpy as np\n",
    "import anndata\n",
    "import time"
   ]
  },
  {
   "cell_type": "code",
   "execution_count": 2,
   "metadata": {},
   "outputs": [],
   "source": [
    "input_base = '/allen/programs/celltypes/workgroups/rnaseqanalysis/lydian/ABC_handoff'\n",
    "input_directory = os.path.join( input_base, 'metadata', '20230630', '10x-scRNA-seq' )\n",
    "\n",
    "view_directory = os.path.join( input_directory, 'views')\n",
    "cache_views = False\n",
    "if cache_views :\n",
    "    os.makedirs( view_directory, exist_ok=True )"
   ]
  },
  {
   "cell_type": "code",
   "execution_count": 3,
   "metadata": {
    "scrolled": false
   },
   "outputs": [],
   "source": [
    "file = os.path.join( input_directory,'cell_metadata.csv')\n",
    "cell = pd.read_csv(file)\n",
    "cell.set_index('cell_label',inplace=True)"
   ]
  },
  {
   "cell_type": "code",
   "execution_count": 12,
   "metadata": {},
   "outputs": [
    {
     "data": {
      "text/html": [
       "<div>\n",
       "<style scoped>\n",
       "    .dataframe tbody tr th:only-of-type {\n",
       "        vertical-align: middle;\n",
       "    }\n",
       "\n",
       "    .dataframe tbody tr th {\n",
       "        vertical-align: top;\n",
       "    }\n",
       "\n",
       "    .dataframe thead th {\n",
       "        text-align: right;\n",
       "    }\n",
       "</style>\n",
       "<table border=\"1\" class=\"dataframe\">\n",
       "  <thead>\n",
       "    <tr style=\"text-align: right;\">\n",
       "      <th></th>\n",
       "      <th>library_label</th>\n",
       "    </tr>\n",
       "    <tr>\n",
       "      <th>matrix_prefix</th>\n",
       "      <th></th>\n",
       "    </tr>\n",
       "  </thead>\n",
       "  <tbody>\n",
       "    <tr>\n",
       "      <th>WMB-10Xv2-CTXsp</th>\n",
       "      <td>44310</td>\n",
       "    </tr>\n",
       "    <tr>\n",
       "      <th>WMB-10Xv2-HPF</th>\n",
       "      <td>208299</td>\n",
       "    </tr>\n",
       "    <tr>\n",
       "      <th>WMB-10Xv2-HY</th>\n",
       "      <td>100562</td>\n",
       "    </tr>\n",
       "    <tr>\n",
       "      <th>WMB-10Xv2-Isocortex</th>\n",
       "      <td>1000160</td>\n",
       "    </tr>\n",
       "    <tr>\n",
       "      <th>WMB-10Xv2-MB</th>\n",
       "      <td>29891</td>\n",
       "    </tr>\n",
       "    <tr>\n",
       "      <th>WMB-10Xv2-OLF</th>\n",
       "      <td>193723</td>\n",
       "    </tr>\n",
       "    <tr>\n",
       "      <th>WMB-10Xv2-TH</th>\n",
       "      <td>131212</td>\n",
       "    </tr>\n",
       "    <tr>\n",
       "      <th>WMB-10Xv3-CB</th>\n",
       "      <td>182026</td>\n",
       "    </tr>\n",
       "    <tr>\n",
       "      <th>WMB-10Xv3-CTXsp</th>\n",
       "      <td>78464</td>\n",
       "    </tr>\n",
       "    <tr>\n",
       "      <th>WMB-10Xv3-HPF</th>\n",
       "      <td>181653</td>\n",
       "    </tr>\n",
       "    <tr>\n",
       "      <th>WMB-10Xv3-HY</th>\n",
       "      <td>162869</td>\n",
       "    </tr>\n",
       "    <tr>\n",
       "      <th>WMB-10Xv3-Isocortex</th>\n",
       "      <td>456457</td>\n",
       "    </tr>\n",
       "    <tr>\n",
       "      <th>WMB-10Xv3-MB</th>\n",
       "      <td>337972</td>\n",
       "    </tr>\n",
       "    <tr>\n",
       "      <th>WMB-10Xv3-MY</th>\n",
       "      <td>192498</td>\n",
       "    </tr>\n",
       "    <tr>\n",
       "      <th>WMB-10Xv3-OLF</th>\n",
       "      <td>89244</td>\n",
       "    </tr>\n",
       "    <tr>\n",
       "      <th>WMB-10Xv3-P</th>\n",
       "      <td>143661</td>\n",
       "    </tr>\n",
       "    <tr>\n",
       "      <th>WMB-10Xv3-PAL</th>\n",
       "      <td>108677</td>\n",
       "    </tr>\n",
       "    <tr>\n",
       "      <th>WMB-10Xv3-STR</th>\n",
       "      <td>285167</td>\n",
       "    </tr>\n",
       "    <tr>\n",
       "      <th>WMB-10Xv3-TH</th>\n",
       "      <td>130856</td>\n",
       "    </tr>\n",
       "  </tbody>\n",
       "</table>\n",
       "</div>"
      ],
      "text/plain": [
       "                     library_label\n",
       "matrix_prefix                     \n",
       "WMB-10Xv2-CTXsp              44310\n",
       "WMB-10Xv2-HPF               208299\n",
       "WMB-10Xv2-HY                100562\n",
       "WMB-10Xv2-Isocortex        1000160\n",
       "WMB-10Xv2-MB                 29891\n",
       "WMB-10Xv2-OLF               193723\n",
       "WMB-10Xv2-TH                131212\n",
       "WMB-10Xv3-CB                182026\n",
       "WMB-10Xv3-CTXsp              78464\n",
       "WMB-10Xv3-HPF               181653\n",
       "WMB-10Xv3-HY                162869\n",
       "WMB-10Xv3-Isocortex         456457\n",
       "WMB-10Xv3-MB                337972\n",
       "WMB-10Xv3-MY                192498\n",
       "WMB-10Xv3-OLF                89244\n",
       "WMB-10Xv3-P                 143661\n",
       "WMB-10Xv3-PAL               108677\n",
       "WMB-10Xv3-STR               285167\n",
       "WMB-10Xv3-TH                130856"
      ]
     },
     "execution_count": 12,
     "metadata": {},
     "output_type": "execute_result"
    }
   ],
   "source": [
    "matrices = cell.groupby('matrix_prefix')[['library_label']].count()\n",
    "matrices"
   ]
  },
  {
   "cell_type": "code",
   "execution_count": 5,
   "metadata": {},
   "outputs": [],
   "source": [
    "expression_directory = os.path.join(input_base, '10x')\n",
    "ext = 'h5ad'\n",
    "normalization = 'log2'"
   ]
  },
  {
   "cell_type": "code",
   "execution_count": 6,
   "metadata": {},
   "outputs": [
    {
     "name": "stdout",
     "output_type": "stream",
     "text": [
      "/allen/programs/celltypes/workgroups/rnaseqanalysis/lydian/ABC_handoff/10x/WMB-10Xv2-CTXsp-log2.h5ad\n"
     ]
    }
   ],
   "source": [
    "matrix_prefix = matrices.index[0]\n",
    "file = os.path.join( expression_directory, '%s-%s.%s'% (matrix_prefix,normalization,ext) )\n",
    "print(file)"
   ]
  },
  {
   "cell_type": "code",
   "execution_count": 7,
   "metadata": {},
   "outputs": [],
   "source": [
    "ad = anndata.read_h5ad(file,backed='r')\n",
    "gene = ad.var"
   ]
  },
  {
   "cell_type": "code",
   "execution_count": 8,
   "metadata": {},
   "outputs": [
    {
     "data": {
      "text/html": [
       "<div>\n",
       "<style scoped>\n",
       "    .dataframe tbody tr th:only-of-type {\n",
       "        vertical-align: middle;\n",
       "    }\n",
       "\n",
       "    .dataframe tbody tr th {\n",
       "        vertical-align: top;\n",
       "    }\n",
       "\n",
       "    .dataframe thead th {\n",
       "        text-align: right;\n",
       "    }\n",
       "</style>\n",
       "<table border=\"1\" class=\"dataframe\">\n",
       "  <thead>\n",
       "    <tr style=\"text-align: right;\">\n",
       "      <th></th>\n",
       "      <th>gene_symbol</th>\n",
       "    </tr>\n",
       "    <tr>\n",
       "      <th>gene_identifier</th>\n",
       "      <th></th>\n",
       "    </tr>\n",
       "  </thead>\n",
       "  <tbody>\n",
       "    <tr>\n",
       "      <th>ENSMUSG00000037771</th>\n",
       "      <td>Slc32a1</td>\n",
       "    </tr>\n",
       "    <tr>\n",
       "      <th>ENSMUSG00000070570</th>\n",
       "      <td>Slc17a7</td>\n",
       "    </tr>\n",
       "    <tr>\n",
       "      <th>ENSMUSG00000039728</th>\n",
       "      <td>Slc6a5</td>\n",
       "    </tr>\n",
       "    <tr>\n",
       "      <th>ENSMUSG00000030500</th>\n",
       "      <td>Slc17a6</td>\n",
       "    </tr>\n",
       "    <tr>\n",
       "      <th>ENSMUSG00000055368</th>\n",
       "      <td>Slc6a2</td>\n",
       "    </tr>\n",
       "    <tr>\n",
       "      <th>ENSMUSG00000019935</th>\n",
       "      <td>Slc17a8</td>\n",
       "    </tr>\n",
       "    <tr>\n",
       "      <th>ENSMUSG00000025400</th>\n",
       "      <td>Tac2</td>\n",
       "    </tr>\n",
       "    <tr>\n",
       "      <th>ENSMUSG00000020838</th>\n",
       "      <td>Slc6a4</td>\n",
       "    </tr>\n",
       "    <tr>\n",
       "      <th>ENSMUSG00000021609</th>\n",
       "      <td>Slc6a3</td>\n",
       "    </tr>\n",
       "    <tr>\n",
       "      <th>ENSMUSG00000100241</th>\n",
       "      <td>Slc18a3</td>\n",
       "    </tr>\n",
       "  </tbody>\n",
       "</table>\n",
       "</div>"
      ],
      "text/plain": [
       "                   gene_symbol\n",
       "gene_identifier               \n",
       "ENSMUSG00000037771     Slc32a1\n",
       "ENSMUSG00000070570     Slc17a7\n",
       "ENSMUSG00000039728      Slc6a5\n",
       "ENSMUSG00000030500     Slc17a6\n",
       "ENSMUSG00000055368      Slc6a2\n",
       "ENSMUSG00000019935     Slc17a8\n",
       "ENSMUSG00000025400        Tac2\n",
       "ENSMUSG00000020838      Slc6a4\n",
       "ENSMUSG00000021609      Slc6a3\n",
       "ENSMUSG00000100241     Slc18a3"
      ]
     },
     "execution_count": 8,
     "metadata": {},
     "output_type": "execute_result"
    }
   ],
   "source": [
    "ntgenes = ['Slc17a7','Slc17a6','Slc17a8','Slc32a1','Slc6a5','Slc18a3','Slc6a3','Slc6a4','Slc6a2']\n",
    "exgenes = ['Tac2']\n",
    "gnames = ntgenes + exgenes\n",
    "pred = [x in gnames for x in gene.gene_symbol]\n",
    "gene_filtered = gene[pred]\n",
    "gene_filtered"
   ]
  },
  {
   "cell_type": "code",
   "execution_count": 9,
   "metadata": {},
   "outputs": [
    {
     "name": "stdout",
     "output_type": "stream",
     "text": [
      "WMB-10Xv2-CTXsp\n",
      " - time taken:  3.3886422189999994\n",
      "WMB-10Xv2-HPF\n",
      " - time taken:  6.172880113999998\n",
      "WMB-10Xv2-HY\n",
      " - time taken:  3.0396994699999986\n",
      "WMB-10Xv2-Isocortex\n",
      " - time taken:  70.232477417\n",
      "WMB-10Xv2-MB\n",
      " - time taken:  0.8921422459999917\n",
      "WMB-10Xv2-OLF\n",
      " - time taken:  5.028425851000009\n",
      "WMB-10Xv2-TH\n",
      " - time taken:  3.949250598000006\n",
      "WMB-10Xv3-CB\n",
      " - time taken:  5.415416426999997\n",
      "WMB-10Xv3-CTXsp\n",
      " - time taken:  3.077125742000007\n",
      "WMB-10Xv3-HPF\n",
      " - time taken:  6.825266414999987\n",
      "WMB-10Xv3-HY\n",
      " - time taken:  6.654827050000009\n",
      "WMB-10Xv3-Isocortex\n",
      " - time taken:  36.753458218000006\n",
      "WMB-10Xv3-MB\n",
      " - time taken:  12.666130941999995\n",
      "WMB-10Xv3-MY\n",
      " - time taken:  6.877677086000006\n",
      "WMB-10Xv3-OLF\n",
      " - time taken:  3.010932175999983\n",
      "WMB-10Xv3-P\n",
      " - time taken:  5.684849082999989\n",
      "WMB-10Xv3-PAL\n",
      " - time taken:  4.4091879450000135\n",
      "WMB-10Xv3-STR\n",
      " - time taken:  14.248551574000004\n",
      "WMB-10Xv3-TH\n",
      " - time taken:  5.419645736999996\n",
      "total time taken:  203.751599182\n"
     ]
    }
   ],
   "source": [
    "# create empty gene expression dataframe\n",
    "gdata = pd.DataFrame(index=cell.index,columns=gene_filtered.index)\n",
    "count = 0\n",
    "total_start = time.process_time()\n",
    "\n",
    "for mp in matrices.index :\n",
    "    \n",
    "    print(mp)\n",
    "    \n",
    "    file = os.path.join( expression_directory, '%s-%s.%s'% (mp,normalization,ext) )\n",
    "    \n",
    "    start = time.process_time()\n",
    "    ad = anndata.read_h5ad(file,backed='r')\n",
    "    exp = ad[:,gene_filtered.index].to_df()\n",
    "    gdata.loc[ exp.index, gene_filtered.index ] = exp\n",
    "    print(\" - time taken: \", time.process_time() - start)\n",
    "    \n",
    "    count += 1\n",
    "    \n",
    "    #if count > 2 :\n",
    "    #    break\n",
    "        \n",
    "print(\"total time taken: \", time.process_time() - total_start)\n",
    "    "
   ]
  },
  {
   "cell_type": "code",
   "execution_count": 10,
   "metadata": {},
   "outputs": [
    {
     "name": "stdout",
     "output_type": "stream",
     "text": [
      "4057701\n"
     ]
    }
   ],
   "source": [
    "# change columns from index to gene symbol\n",
    "gdata.columns = gene_filtered.gene_symbol\n",
    "pred = pd.notna(gdata[gdata.columns[0]])\n",
    "gdata = gdata[pred].copy(deep=True)\n",
    "print(len(gdata))"
   ]
  },
  {
   "cell_type": "code",
   "execution_count": 11,
   "metadata": {},
   "outputs": [],
   "source": [
    "if cache_views :\n",
    "    file = os.path.join( view_directory, 'example_genes_all_cells_expression.csv')\n",
    "    gdata.to_csv( file )"
   ]
  },
  {
   "cell_type": "code",
   "execution_count": null,
   "metadata": {},
   "outputs": [],
   "source": []
  }
 ],
 "metadata": {
  "kernelspec": {
   "display_name": "Python 3",
   "language": "python",
   "name": "python3"
  },
  "language_info": {
   "codemirror_mode": {
    "name": "ipython",
    "version": 3
   },
   "file_extension": ".py",
   "mimetype": "text/x-python",
   "name": "python",
   "nbconvert_exporter": "python",
   "pygments_lexer": "ipython3",
   "version": "3.8.5"
  }
 },
 "nbformat": 4,
 "nbformat_minor": 4
}
