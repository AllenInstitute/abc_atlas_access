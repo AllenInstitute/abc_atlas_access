{
 "cells": [
  {
   "cell_type": "code",
   "execution_count": 1,
   "metadata": {},
   "outputs": [],
   "source": [
    "import os\n",
    "import pandas as pd\n",
    "import numpy as np\n",
    "import anndata\n",
    "import time"
   ]
  },
  {
   "cell_type": "code",
   "execution_count": 2,
   "metadata": {},
   "outputs": [],
   "source": [
    "input_base = '/allen/programs/celltypes/workgroups/rnaseqanalysis/lydian/ABC_handoff'\n",
    "input_directory = os.path.join( input_base, 'metadata', '20230630', 'MERFISH-C57BL6J-638850' )\n",
    "\n",
    "view_directory = os.path.join( input_directory, 'views')\n",
    "cache_views = True\n",
    "if cache_views :\n",
    "    os.makedirs( view_directory, exist_ok=True )"
   ]
  },
  {
   "cell_type": "code",
   "execution_count": 3,
   "metadata": {},
   "outputs": [
    {
     "name": "stdout",
     "output_type": "stream",
     "text": [
      "4330907\n"
     ]
    }
   ],
   "source": [
    "file = os.path.join( input_directory,'cell_metadata.csv')\n",
    "cell = pd.read_csv(file, dtype={'cell_label':str})\n",
    "cell.set_index('cell_label',inplace=True)\n",
    "print(len(cell))"
   ]
  },
  {
   "cell_type": "code",
   "execution_count": 4,
   "metadata": {},
   "outputs": [
    {
     "data": {
      "text/html": [
       "<div>\n",
       "<style scoped>\n",
       "    .dataframe tbody tr th:only-of-type {\n",
       "        vertical-align: middle;\n",
       "    }\n",
       "\n",
       "    .dataframe tbody tr th {\n",
       "        vertical-align: top;\n",
       "    }\n",
       "\n",
       "    .dataframe thead th {\n",
       "        text-align: right;\n",
       "    }\n",
       "</style>\n",
       "<table border=\"1\" class=\"dataframe\">\n",
       "  <thead>\n",
       "    <tr style=\"text-align: right;\">\n",
       "      <th></th>\n",
       "      <th>brain_section_label</th>\n",
       "    </tr>\n",
       "    <tr>\n",
       "      <th>matrix_prefix</th>\n",
       "      <th></th>\n",
       "    </tr>\n",
       "  </thead>\n",
       "  <tbody>\n",
       "    <tr>\n",
       "      <th>C57BL6J-638850.01</th>\n",
       "      <td>26217</td>\n",
       "    </tr>\n",
       "    <tr>\n",
       "      <th>C57BL6J-638850.02</th>\n",
       "      <td>29286</td>\n",
       "    </tr>\n",
       "    <tr>\n",
       "      <th>C57BL6J-638850.03</th>\n",
       "      <td>36028</td>\n",
       "    </tr>\n",
       "    <tr>\n",
       "      <th>C57BL6J-638850.04</th>\n",
       "      <td>47445</td>\n",
       "    </tr>\n",
       "    <tr>\n",
       "      <th>C57BL6J-638850.05</th>\n",
       "      <td>50990</td>\n",
       "    </tr>\n",
       "  </tbody>\n",
       "</table>\n",
       "</div>"
      ],
      "text/plain": [
       "                   brain_section_label\n",
       "matrix_prefix                         \n",
       "C57BL6J-638850.01                26217\n",
       "C57BL6J-638850.02                29286\n",
       "C57BL6J-638850.03                36028\n",
       "C57BL6J-638850.04                47445\n",
       "C57BL6J-638850.05                50990"
      ]
     },
     "execution_count": 4,
     "metadata": {},
     "output_type": "execute_result"
    }
   ],
   "source": [
    "matrices = cell.groupby('matrix_prefix')[['brain_section_label']].count()\n",
    "matrices.head(5)"
   ]
  },
  {
   "cell_type": "code",
   "execution_count": 5,
   "metadata": {},
   "outputs": [],
   "source": [
    "expression_directory = os.path.join(input_base, 'MERFISH')\n",
    "ext = 'h5ad'\n",
    "normalization = 'log2'"
   ]
  },
  {
   "cell_type": "code",
   "execution_count": 6,
   "metadata": {},
   "outputs": [
    {
     "name": "stdout",
     "output_type": "stream",
     "text": [
      "/allen/programs/celltypes/workgroups/rnaseqanalysis/lydian/ABC_handoff/MERFISH/C57BL6J-638850.01-log2.h5ad\n"
     ]
    }
   ],
   "source": [
    "matrix_prefix = matrices.index[0]\n",
    "file = os.path.join( expression_directory, '%s-%s.%s'% (matrix_prefix,normalization,ext) )\n",
    "print(file)"
   ]
  },
  {
   "cell_type": "code",
   "execution_count": 7,
   "metadata": {},
   "outputs": [],
   "source": [
    "ad = anndata.read_h5ad(file,backed='r')\n",
    "gene = ad.var"
   ]
  },
  {
   "cell_type": "code",
   "execution_count": 8,
   "metadata": {},
   "outputs": [
    {
     "data": {
      "text/html": [
       "<div>\n",
       "<style scoped>\n",
       "    .dataframe tbody tr th:only-of-type {\n",
       "        vertical-align: middle;\n",
       "    }\n",
       "\n",
       "    .dataframe tbody tr th {\n",
       "        vertical-align: top;\n",
       "    }\n",
       "\n",
       "    .dataframe thead th {\n",
       "        text-align: right;\n",
       "    }\n",
       "</style>\n",
       "<table border=\"1\" class=\"dataframe\">\n",
       "  <thead>\n",
       "    <tr style=\"text-align: right;\">\n",
       "      <th></th>\n",
       "      <th>gene_symbol</th>\n",
       "      <th>transcript_identifier</th>\n",
       "    </tr>\n",
       "    <tr>\n",
       "      <th>gene_identifier</th>\n",
       "      <th></th>\n",
       "      <th></th>\n",
       "    </tr>\n",
       "  </thead>\n",
       "  <tbody>\n",
       "    <tr>\n",
       "      <th>ENSMUSG00000030500</th>\n",
       "      <td>Slc17a6</td>\n",
       "      <td>ENSMUST00000032710</td>\n",
       "    </tr>\n",
       "    <tr>\n",
       "      <th>ENSMUSG00000037771</th>\n",
       "      <td>Slc32a1</td>\n",
       "      <td>ENSMUST00000045738</td>\n",
       "    </tr>\n",
       "    <tr>\n",
       "      <th>ENSMUSG00000025400</th>\n",
       "      <td>Tac2</td>\n",
       "      <td>ENSMUST00000026466</td>\n",
       "    </tr>\n",
       "    <tr>\n",
       "      <th>ENSMUSG00000039728</th>\n",
       "      <td>Slc6a5</td>\n",
       "      <td>ENSMUST00000056442</td>\n",
       "    </tr>\n",
       "    <tr>\n",
       "      <th>ENSMUSG00000070570</th>\n",
       "      <td>Slc17a7</td>\n",
       "      <td>ENSMUST00000085374</td>\n",
       "    </tr>\n",
       "    <tr>\n",
       "      <th>ENSMUSG00000019935</th>\n",
       "      <td>Slc17a8</td>\n",
       "      <td>ENSMUST00000020102</td>\n",
       "    </tr>\n",
       "    <tr>\n",
       "      <th>ENSMUSG00000021609</th>\n",
       "      <td>Slc6a3</td>\n",
       "      <td>ENSMUST00000022100</td>\n",
       "    </tr>\n",
       "    <tr>\n",
       "      <th>ENSMUSG00000020838</th>\n",
       "      <td>Slc6a4</td>\n",
       "      <td>ENSMUST00000021195</td>\n",
       "    </tr>\n",
       "  </tbody>\n",
       "</table>\n",
       "</div>"
      ],
      "text/plain": [
       "                   gene_symbol transcript_identifier\n",
       "gene_identifier                                     \n",
       "ENSMUSG00000030500     Slc17a6    ENSMUST00000032710\n",
       "ENSMUSG00000037771     Slc32a1    ENSMUST00000045738\n",
       "ENSMUSG00000025400        Tac2    ENSMUST00000026466\n",
       "ENSMUSG00000039728      Slc6a5    ENSMUST00000056442\n",
       "ENSMUSG00000070570     Slc17a7    ENSMUST00000085374\n",
       "ENSMUSG00000019935     Slc17a8    ENSMUST00000020102\n",
       "ENSMUSG00000021609      Slc6a3    ENSMUST00000022100\n",
       "ENSMUSG00000020838      Slc6a4    ENSMUST00000021195"
      ]
     },
     "execution_count": 8,
     "metadata": {},
     "output_type": "execute_result"
    }
   ],
   "source": [
    "ntgenes = ['Slc17a7','Slc17a6','Slc17a8','Slc32a1','Slc6a5','Slc18a3','Slc6a3','Slc6a4','Slc6a2']\n",
    "exgenes = ['Tac2']\n",
    "gnames = ntgenes + exgenes\n",
    "pred = [x in gnames for x in gene.gene_symbol]\n",
    "gene_filtered = gene[pred]\n",
    "gene_filtered"
   ]
  },
  {
   "cell_type": "code",
   "execution_count": 9,
   "metadata": {},
   "outputs": [
    {
     "name": "stdout",
     "output_type": "stream",
     "text": [
      "C57BL6J-638850.01\n",
      " - time taken:  1.8779552830000004\n",
      "C57BL6J-638850.02\n",
      " - time taken:  0.10309131500000035\n",
      "C57BL6J-638850.03\n",
      " - time taken:  0.1291523950000002\n",
      "C57BL6J-638850.04\n",
      " - time taken:  0.18213723200000054\n",
      "C57BL6J-638850.05\n",
      " - time taken:  0.18313839600000037\n",
      "C57BL6J-638850.06\n",
      " - time taken:  0.1842877629999986\n",
      "C57BL6J-638850.08\n",
      " - time taken:  0.17990856700000002\n",
      "C57BL6J-638850.09\n",
      " - time taken:  0.24475073700000038\n",
      "C57BL6J-638850.10\n",
      " - time taken:  0.16943006900000057\n",
      "C57BL6J-638850.11\n",
      " - time taken:  0.17858449499999907\n",
      "C57BL6J-638850.12\n",
      " - time taken:  0.19992414100000033\n",
      "C57BL6J-638850.13\n",
      " - time taken:  0.2709365100000003\n",
      "C57BL6J-638850.14\n",
      " - time taken:  0.3558575829999988\n",
      "C57BL6J-638850.15\n",
      " - time taken:  0.3187146130000009\n",
      "C57BL6J-638850.16\n",
      " - time taken:  0.36180216600000037\n",
      "C57BL6J-638850.17\n",
      " - time taken:  0.266925874\n",
      "C57BL6J-638850.18\n",
      " - time taken:  0.1927083550000006\n",
      "C57BL6J-638850.19\n",
      " - time taken:  0.2932950870000006\n",
      "C57BL6J-638850.24\n",
      " - time taken:  0.28326902600000103\n",
      "C57BL6J-638850.25\n",
      " - time taken:  0.34346208999999917\n",
      "C57BL6J-638850.26\n",
      " - time taken:  0.37812666200000145\n",
      "C57BL6J-638850.27\n",
      " - time taken:  0.2675127960000001\n",
      "C57BL6J-638850.28\n",
      " - time taken:  0.38094245000000093\n",
      "C57BL6J-638850.29\n",
      " - time taken:  0.3715207079999985\n",
      "C57BL6J-638850.30\n",
      " - time taken:  0.4523247800000014\n",
      "C57BL6J-638850.31\n",
      " - time taken:  0.4310160889999999\n",
      "C57BL6J-638850.32\n",
      " - time taken:  0.4511056329999974\n",
      "C57BL6J-638850.33\n",
      " - time taken:  0.39366215599999776\n",
      "C57BL6J-638850.35\n",
      " - time taken:  0.37742413699999844\n",
      "C57BL6J-638850.36\n",
      " - time taken:  0.5213550730000023\n",
      "C57BL6J-638850.37\n",
      " - time taken:  0.38575158000000087\n",
      "C57BL6J-638850.38\n",
      " - time taken:  0.5612008350000011\n",
      "C57BL6J-638850.39\n",
      " - time taken:  0.31233263300000047\n",
      "C57BL6J-638850.40\n",
      " - time taken:  0.46146414000000036\n",
      "C57BL6J-638850.42\n",
      " - time taken:  0.35142543999999987\n",
      "C57BL6J-638850.43\n",
      " - time taken:  0.4539596689999996\n",
      "C57BL6J-638850.44\n",
      " - time taken:  0.5053604920000012\n",
      "C57BL6J-638850.45\n",
      " - time taken:  0.4692607609999975\n",
      "C57BL6J-638850.46\n",
      " - time taken:  0.4328259179999989\n",
      "C57BL6J-638850.47\n",
      " - time taken:  0.3589393990000005\n",
      "C57BL6J-638850.48\n",
      " - time taken:  0.3331425209999992\n",
      "C57BL6J-638850.49\n",
      " - time taken:  0.499648950000001\n",
      "C57BL6J-638850.50\n",
      " - time taken:  0.44192885000000004\n",
      "C57BL6J-638850.51\n",
      " - time taken:  0.4498687230000016\n",
      "C57BL6J-638850.52\n",
      " - time taken:  0.440662648\n",
      "C57BL6J-638850.54\n",
      " - time taken:  0.3718324399999986\n",
      "C57BL6J-638850.55\n",
      " - time taken:  0.301260512999999\n",
      "C57BL6J-638850.56\n",
      " - time taken:  0.2800740399999988\n",
      "C57BL6J-638850.57\n",
      " - time taken:  0.2593847339999975\n",
      "C57BL6J-638850.58\n",
      " - time taken:  0.22811504299999896\n",
      "C57BL6J-638850.59\n",
      " - time taken:  0.1800630510000012\n",
      "C57BL6J-638850.60\n",
      " - time taken:  0.16153827900000195\n",
      "C57BL6J-638850.61\n",
      " - time taken:  0.1794860550000017\n",
      "C57BL6J-638850.62\n",
      " - time taken:  0.15227835099999965\n",
      "C57BL6J-638850.64\n",
      " - time taken:  0.09706598200000016\n",
      "C57BL6J-638850.66\n",
      " - time taken:  0.12641791899999788\n",
      "C57BL6J-638850.67\n",
      " - time taken:  0.13887108799999837\n",
      "C57BL6J-638850.68\n",
      " - time taken:  0.08899038999999931\n",
      "C57BL6J-638850.69\n",
      " - time taken:  0.06876504299999908\n",
      "total time taken:  19.44740515\n"
     ]
    }
   ],
   "source": [
    "# create empty gene expression dataframe\n",
    "gdata = pd.DataFrame(index=cell.index,columns=gene_filtered.index)\n",
    "count = 0\n",
    "total_start = time.process_time()\n",
    "\n",
    "for mp in matrices.index :\n",
    "    \n",
    "    print(mp)\n",
    "    \n",
    "    file = os.path.join( expression_directory, '%s-%s.%s'% (mp,normalization,ext) )\n",
    "    \n",
    "    start = time.process_time()\n",
    "    ad = anndata.read_h5ad(file,backed='r')\n",
    "    exp = ad[:,gene_filtered.index].to_df()\n",
    "    gdata.loc[ exp.index, gene_filtered.index ] = exp\n",
    "    print(\" - time taken: \", time.process_time() - start)\n",
    "    \n",
    "    count += 1\n",
    "    \n",
    "    #if count > 2 :\n",
    "    #    break\n",
    "        \n",
    "print(\"total time taken: \", time.process_time() - total_start)\n",
    "    "
   ]
  },
  {
   "cell_type": "code",
   "execution_count": 10,
   "metadata": {},
   "outputs": [
    {
     "name": "stdout",
     "output_type": "stream",
     "text": [
      "4330907\n"
     ]
    }
   ],
   "source": [
    "# change columns from index to gene symbol\n",
    "gdata.columns = gene_filtered.gene_symbol\n",
    "pred = pd.notna(gdata[gdata.columns[0]])\n",
    "gdata = gdata[pred].copy(deep=True)\n",
    "print(len(gdata))"
   ]
  },
  {
   "cell_type": "code",
   "execution_count": 11,
   "metadata": {},
   "outputs": [],
   "source": [
    "if cache_views :\n",
    "    file = os.path.join( view_directory, 'example_genes_all_cells_expression.csv')\n",
    "    gdata.to_csv( file )"
   ]
  },
  {
   "cell_type": "code",
   "execution_count": null,
   "metadata": {},
   "outputs": [],
   "source": []
  }
 ],
 "metadata": {
  "kernelspec": {
   "display_name": "Python 3",
   "language": "python",
   "name": "python3"
  },
  "language_info": {
   "codemirror_mode": {
    "name": "ipython",
    "version": 3
   },
   "file_extension": ".py",
   "mimetype": "text/x-python",
   "name": "python",
   "nbconvert_exporter": "python",
   "pygments_lexer": "ipython3",
   "version": "3.8.5"
  }
 },
 "nbformat": 4,
 "nbformat_minor": 4
}
