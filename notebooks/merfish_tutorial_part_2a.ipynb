{
 "cells": [
  {
   "cell_type": "markdown",
   "metadata": {},
   "source": [
    "# MERFISH whole brain spatial transcriptomics (part 2a)\n",
    "\n",
    "In part 1, we explored two examples looking at the expression of canonical neurotransmitter transporter genes and gene Tac2 in the one coronal section. In this notebook, we will prepare data so that we can repeat the examples for all cells spanning the whole brain. This notebook takes ~20 seconds to run.\n",
    "\n",
    "The results from this notebook has already been cached and saved. As such, if needed you can skip this notebook and continue with part 2b."
   ]
  },
  {
   "cell_type": "code",
   "execution_count": 13,
   "metadata": {},
   "outputs": [],
   "source": [
    "import os\n",
    "import pandas as pd\n",
    "import numpy as np\n",
    "import anndata\n",
    "import time\n",
    "import json\n",
    "import requests"
   ]
  },
  {
   "cell_type": "markdown",
   "metadata": {},
   "source": [
    "The prerequisite for running this notebook is that the data have been downloaded to local directory maintaining the organization from the manifest.json"
   ]
  },
  {
   "cell_type": "code",
   "execution_count": 14,
   "metadata": {},
   "outputs": [],
   "source": [
    "user_home = os.getenv('HOME')\n",
    "download_base = os.path.join(user_home,'abc_download_root')\n",
    "\n",
    "url = 'https://allen-brain-cell-atlas.s3-us-west-2.amazonaws.com/releases/20230630/manifest.json'\n",
    "manifest = json.loads(requests.get(url).text)\n",
    "    \n",
    "metadata = manifest['file_listing']['MERFISH-C57BL6J-638850']['metadata']"
   ]
  },
  {
   "cell_type": "code",
   "execution_count": 3,
   "metadata": {},
   "outputs": [],
   "source": [
    "view_directory = os.path.join( download_base, \n",
    "                               manifest['directory_listing']['MERFISH-C57BL6J-638850']['directories']['metadata']['relative_path'], \n",
    "                              'views')\n",
    "cache_views = False\n",
    "if cache_views :\n",
    "    os.makedirs( view_directory, exist_ok=True )"
   ]
  },
  {
   "cell_type": "code",
   "execution_count": 4,
   "metadata": {},
   "outputs": [
    {
     "name": "stdout",
     "output_type": "stream",
     "text": [
      "4330907\n"
     ]
    }
   ],
   "source": [
    "rpath = metadata['cell_metadata']['files']['csv']['relative_path']\n",
    "file = os.path.join( download_base, rpath)\n",
    "cell = pd.read_csv(file, dtype={'cell_label':str})\n",
    "cell.set_index('cell_label',inplace=True)\n",
    "print(len(cell))"
   ]
  },
  {
   "cell_type": "code",
   "execution_count": 5,
   "metadata": {},
   "outputs": [
    {
     "data": {
      "text/html": [
       "<div>\n",
       "<style scoped>\n",
       "    .dataframe tbody tr th:only-of-type {\n",
       "        vertical-align: middle;\n",
       "    }\n",
       "\n",
       "    .dataframe tbody tr th {\n",
       "        vertical-align: top;\n",
       "    }\n",
       "\n",
       "    .dataframe thead th {\n",
       "        text-align: right;\n",
       "    }\n",
       "</style>\n",
       "<table border=\"1\" class=\"dataframe\">\n",
       "  <thead>\n",
       "    <tr style=\"text-align: right;\">\n",
       "      <th></th>\n",
       "      <th>brain_section_label</th>\n",
       "    </tr>\n",
       "    <tr>\n",
       "      <th>matrix_label</th>\n",
       "      <th></th>\n",
       "    </tr>\n",
       "  </thead>\n",
       "  <tbody>\n",
       "    <tr>\n",
       "      <th>C57BL6J-638850.01</th>\n",
       "      <td>26217</td>\n",
       "    </tr>\n",
       "    <tr>\n",
       "      <th>C57BL6J-638850.02</th>\n",
       "      <td>29286</td>\n",
       "    </tr>\n",
       "    <tr>\n",
       "      <th>C57BL6J-638850.03</th>\n",
       "      <td>36028</td>\n",
       "    </tr>\n",
       "    <tr>\n",
       "      <th>C57BL6J-638850.04</th>\n",
       "      <td>47445</td>\n",
       "    </tr>\n",
       "    <tr>\n",
       "      <th>C57BL6J-638850.05</th>\n",
       "      <td>50990</td>\n",
       "    </tr>\n",
       "  </tbody>\n",
       "</table>\n",
       "</div>"
      ],
      "text/plain": [
       "                   brain_section_label\n",
       "matrix_label                          \n",
       "C57BL6J-638850.01                26217\n",
       "C57BL6J-638850.02                29286\n",
       "C57BL6J-638850.03                36028\n",
       "C57BL6J-638850.04                47445\n",
       "C57BL6J-638850.05                50990"
      ]
     },
     "execution_count": 5,
     "metadata": {},
     "output_type": "execute_result"
    }
   ],
   "source": [
    "matrices = cell.groupby('matrix_label')[['brain_section_label']].count()\n",
    "matrices.head(5)"
   ]
  },
  {
   "cell_type": "code",
   "execution_count": 6,
   "metadata": {},
   "outputs": [],
   "source": [
    "expression_matrices = manifest['file_listing']['MERFISH-C57BL6J-638850']['expression_matrices']"
   ]
  },
  {
   "cell_type": "code",
   "execution_count": 7,
   "metadata": {},
   "outputs": [
    {
     "name": "stdout",
     "output_type": "stream",
     "text": [
      "/home/lydian/abc_download_root/expression_matrices/MERFISH-C57BL6J-638850/20230630/C57BL6J-638850.01-log2.h5ad\n"
     ]
    }
   ],
   "source": [
    "matrix_label = matrices.index[0]\n",
    "rpath = expression_matrices[matrix_label]['log2']['files']['h5ad']['relative_path']\n",
    "file = os.path.join( download_base, rpath)\n",
    "print(file)"
   ]
  },
  {
   "cell_type": "code",
   "execution_count": 8,
   "metadata": {},
   "outputs": [],
   "source": [
    "ad = anndata.read_h5ad(file,backed='r')\n",
    "gene = ad.var"
   ]
  },
  {
   "cell_type": "code",
   "execution_count": 9,
   "metadata": {},
   "outputs": [
    {
     "data": {
      "text/html": [
       "<div>\n",
       "<style scoped>\n",
       "    .dataframe tbody tr th:only-of-type {\n",
       "        vertical-align: middle;\n",
       "    }\n",
       "\n",
       "    .dataframe tbody tr th {\n",
       "        vertical-align: top;\n",
       "    }\n",
       "\n",
       "    .dataframe thead th {\n",
       "        text-align: right;\n",
       "    }\n",
       "</style>\n",
       "<table border=\"1\" class=\"dataframe\">\n",
       "  <thead>\n",
       "    <tr style=\"text-align: right;\">\n",
       "      <th></th>\n",
       "      <th>gene_symbol</th>\n",
       "      <th>transcript_identifier</th>\n",
       "    </tr>\n",
       "    <tr>\n",
       "      <th>gene_identifier</th>\n",
       "      <th></th>\n",
       "      <th></th>\n",
       "    </tr>\n",
       "  </thead>\n",
       "  <tbody>\n",
       "    <tr>\n",
       "      <th>ENSMUSG00000030500</th>\n",
       "      <td>Slc17a6</td>\n",
       "      <td>ENSMUST00000032710</td>\n",
       "    </tr>\n",
       "    <tr>\n",
       "      <th>ENSMUSG00000037771</th>\n",
       "      <td>Slc32a1</td>\n",
       "      <td>ENSMUST00000045738</td>\n",
       "    </tr>\n",
       "    <tr>\n",
       "      <th>ENSMUSG00000025400</th>\n",
       "      <td>Tac2</td>\n",
       "      <td>ENSMUST00000026466</td>\n",
       "    </tr>\n",
       "    <tr>\n",
       "      <th>ENSMUSG00000039728</th>\n",
       "      <td>Slc6a5</td>\n",
       "      <td>ENSMUST00000056442</td>\n",
       "    </tr>\n",
       "    <tr>\n",
       "      <th>ENSMUSG00000070570</th>\n",
       "      <td>Slc17a7</td>\n",
       "      <td>ENSMUST00000085374</td>\n",
       "    </tr>\n",
       "    <tr>\n",
       "      <th>ENSMUSG00000019935</th>\n",
       "      <td>Slc17a8</td>\n",
       "      <td>ENSMUST00000020102</td>\n",
       "    </tr>\n",
       "    <tr>\n",
       "      <th>ENSMUSG00000021609</th>\n",
       "      <td>Slc6a3</td>\n",
       "      <td>ENSMUST00000022100</td>\n",
       "    </tr>\n",
       "    <tr>\n",
       "      <th>ENSMUSG00000020838</th>\n",
       "      <td>Slc6a4</td>\n",
       "      <td>ENSMUST00000021195</td>\n",
       "    </tr>\n",
       "  </tbody>\n",
       "</table>\n",
       "</div>"
      ],
      "text/plain": [
       "                   gene_symbol transcript_identifier\n",
       "gene_identifier                                     \n",
       "ENSMUSG00000030500     Slc17a6    ENSMUST00000032710\n",
       "ENSMUSG00000037771     Slc32a1    ENSMUST00000045738\n",
       "ENSMUSG00000025400        Tac2    ENSMUST00000026466\n",
       "ENSMUSG00000039728      Slc6a5    ENSMUST00000056442\n",
       "ENSMUSG00000070570     Slc17a7    ENSMUST00000085374\n",
       "ENSMUSG00000019935     Slc17a8    ENSMUST00000020102\n",
       "ENSMUSG00000021609      Slc6a3    ENSMUST00000022100\n",
       "ENSMUSG00000020838      Slc6a4    ENSMUST00000021195"
      ]
     },
     "execution_count": 9,
     "metadata": {},
     "output_type": "execute_result"
    }
   ],
   "source": [
    "ntgenes = ['Slc17a7','Slc17a6','Slc17a8','Slc32a1','Slc6a5','Slc18a3','Slc6a3','Slc6a4','Slc6a2']\n",
    "exgenes = ['Tac2']\n",
    "gnames = ntgenes + exgenes\n",
    "pred = [x in gnames for x in gene.gene_symbol]\n",
    "gene_filtered = gene[pred]\n",
    "gene_filtered"
   ]
  },
  {
   "cell_type": "code",
   "execution_count": 10,
   "metadata": {},
   "outputs": [
    {
     "name": "stdout",
     "output_type": "stream",
     "text": [
      "C57BL6J-638850.01\n",
      " - time taken:  1.8694569370000007\n",
      "C57BL6J-638850.02\n",
      " - time taken:  0.10332510100000114\n",
      "C57BL6J-638850.03\n",
      " - time taken:  0.12322267499999917\n",
      "C57BL6J-638850.04\n",
      " - time taken:  0.16208481500000005\n",
      "C57BL6J-638850.05\n",
      " - time taken:  0.17095455699999995\n",
      "C57BL6J-638850.06\n",
      " - time taken:  0.16599446600000078\n",
      "C57BL6J-638850.08\n",
      " - time taken:  0.16555449299999836\n",
      "C57BL6J-638850.09\n",
      " - time taken:  0.21211741399999973\n",
      "C57BL6J-638850.10\n",
      " - time taken:  0.15647994500000095\n",
      "C57BL6J-638850.11\n",
      " - time taken:  0.16948801100000033\n",
      "C57BL6J-638850.12\n",
      " - time taken:  0.1758591340000013\n",
      "C57BL6J-638850.13\n",
      " - time taken:  0.23582353399999967\n",
      "C57BL6J-638850.14\n",
      " - time taken:  0.29487359999999896\n",
      "C57BL6J-638850.15\n",
      " - time taken:  0.27476923500000083\n",
      "C57BL6J-638850.16\n",
      " - time taken:  0.300646948999999\n",
      "C57BL6J-638850.17\n",
      " - time taken:  0.2379823390000002\n",
      "C57BL6J-638850.18\n",
      " - time taken:  0.17992285599999924\n",
      "C57BL6J-638850.19\n",
      " - time taken:  0.2458386929999996\n",
      "C57BL6J-638850.24\n",
      " - time taken:  0.23560729700000138\n",
      "C57BL6J-638850.25\n",
      " - time taken:  0.28627628000000094\n",
      "C57BL6J-638850.26\n",
      " - time taken:  0.31167836100000024\n",
      "C57BL6J-638850.27\n",
      " - time taken:  0.22551668599999886\n",
      "C57BL6J-638850.28\n",
      " - time taken:  0.3198460230000002\n",
      "C57BL6J-638850.29\n",
      " - time taken:  0.31716267999999914\n",
      "C57BL6J-638850.30\n",
      " - time taken:  0.34636041799999795\n",
      "C57BL6J-638850.31\n",
      " - time taken:  0.35261208800000077\n",
      "C57BL6J-638850.32\n",
      " - time taken:  0.3634061200000005\n",
      "C57BL6J-638850.33\n",
      " - time taken:  0.3291265480000014\n",
      "C57BL6J-638850.35\n",
      " - time taken:  0.31239977599999946\n",
      "C57BL6J-638850.36\n",
      " - time taken:  0.4134247120000012\n",
      "C57BL6J-638850.37\n",
      " - time taken:  0.3188697700000027\n",
      "C57BL6J-638850.38\n",
      " - time taken:  0.44004457499999816\n",
      "C57BL6J-638850.39\n",
      " - time taken:  0.2427224449999983\n",
      "C57BL6J-638850.40\n",
      " - time taken:  0.37201479200000165\n",
      "C57BL6J-638850.42\n",
      " - time taken:  0.2754051560000015\n",
      "C57BL6J-638850.43\n",
      " - time taken:  0.3670977000000022\n",
      "C57BL6J-638850.44\n",
      " - time taken:  0.3966428680000007\n",
      "C57BL6J-638850.45\n",
      " - time taken:  0.3764306049999995\n",
      "C57BL6J-638850.46\n",
      " - time taken:  0.3431157340000013\n",
      "C57BL6J-638850.47\n",
      " - time taken:  0.3006717160000001\n",
      "C57BL6J-638850.48\n",
      " - time taken:  0.27008235599999963\n",
      "C57BL6J-638850.49\n",
      " - time taken:  0.395735258000002\n",
      "C57BL6J-638850.50\n",
      " - time taken:  0.3579598699999984\n",
      "C57BL6J-638850.51\n",
      " - time taken:  0.37901776300000023\n",
      "C57BL6J-638850.52\n",
      " - time taken:  0.3614035780000009\n",
      "C57BL6J-638850.54\n",
      " - time taken:  0.3169038499999992\n",
      "C57BL6J-638850.55\n",
      " - time taken:  0.25466079699999966\n",
      "C57BL6J-638850.56\n",
      " - time taken:  0.2592921729999986\n",
      "C57BL6J-638850.57\n",
      " - time taken:  0.22056077699999932\n",
      "C57BL6J-638850.58\n",
      " - time taken:  0.1955257770000003\n",
      "C57BL6J-638850.59\n",
      " - time taken:  0.17641705699999832\n",
      "C57BL6J-638850.60\n",
      " - time taken:  0.16278618300000147\n",
      "C57BL6J-638850.61\n",
      " - time taken:  0.14582411299999976\n",
      "C57BL6J-638850.62\n",
      " - time taken:  0.14745326799999958\n",
      "C57BL6J-638850.64\n",
      " - time taken:  0.09761520099999998\n",
      "C57BL6J-638850.66\n",
      " - time taken:  0.11885356899999877\n",
      "C57BL6J-638850.67\n",
      " - time taken:  0.12662447499999985\n",
      "C57BL6J-638850.68\n",
      " - time taken:  0.08531203200000093\n",
      "C57BL6J-638850.69\n",
      " - time taken:  0.06442824299999828\n",
      "total time taken:  16.680633469\n"
     ]
    }
   ],
   "source": [
    "# create empty gene expression dataframe\n",
    "gdata = pd.DataFrame(index=cell.index,columns=gene_filtered.index)\n",
    "count = 0\n",
    "total_start = time.process_time()\n",
    "\n",
    "for mp in matrices.index :\n",
    "    \n",
    "    print(mp)\n",
    "    \n",
    "    rpath = expression_matrices[mp]['log2']['files']['h5ad']['relative_path']\n",
    "    file = os.path.join( download_base, rpath)\n",
    "        \n",
    "    start = time.process_time()\n",
    "    ad = anndata.read_h5ad(file,backed='r')\n",
    "    exp = ad[:,gene_filtered.index].to_df()\n",
    "    gdata.loc[ exp.index, gene_filtered.index ] = exp\n",
    "    print(\" - time taken: \", time.process_time() - start)\n",
    "    \n",
    "    ad.file.close()\n",
    "    del ad\n",
    "    \n",
    "    count += 1\n",
    "    \n",
    "    #if count > 2 :\n",
    "    #    break\n",
    "        \n",
    "print(\"total time taken: \", time.process_time() - total_start)\n",
    "    "
   ]
  },
  {
   "cell_type": "code",
   "execution_count": 11,
   "metadata": {},
   "outputs": [
    {
     "name": "stdout",
     "output_type": "stream",
     "text": [
      "4330907\n"
     ]
    }
   ],
   "source": [
    "# change columns from index to gene symbol\n",
    "gdata.columns = gene_filtered.gene_symbol\n",
    "pred = pd.notna(gdata[gdata.columns[0]])\n",
    "gdata = gdata[pred].copy(deep=True)\n",
    "print(len(gdata))"
   ]
  },
  {
   "cell_type": "code",
   "execution_count": 12,
   "metadata": {},
   "outputs": [],
   "source": [
    "if cache_views :\n",
    "    file = os.path.join( view_directory, 'example_genes_all_cells_expression.csv')\n",
    "    gdata.to_csv( file )"
   ]
  },
  {
   "cell_type": "code",
   "execution_count": null,
   "metadata": {},
   "outputs": [],
   "source": []
  }
 ],
 "metadata": {
  "kernelspec": {
   "display_name": "Python 3",
   "language": "python",
   "name": "python3"
  },
  "language_info": {
   "codemirror_mode": {
    "name": "ipython",
    "version": 3
   },
   "file_extension": ".py",
   "mimetype": "text/x-python",
   "name": "python",
   "nbconvert_exporter": "python",
   "pygments_lexer": "ipython3",
   "version": "3.8.5"
  }
 },
 "nbformat": 4,
 "nbformat_minor": 4
}
