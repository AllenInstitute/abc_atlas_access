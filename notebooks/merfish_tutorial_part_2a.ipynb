{
 "cells": [
  {
   "cell_type": "markdown",
   "metadata": {},
   "source": [
    "# MERFISH whole brain spatial transcriptomics (part 2a)\n",
    "\n",
    "In part 1, we explored two examples looking at the expression of canonical neurotransmitter transporter genes and gene Tac2 in the one coronal section. In this notebook, we will prepare data so that we can repeat the examples for all cells spanning the whole brain. This notebook takes ~10 seconds to run.\n",
    "\n",
    "The results from this notebook has already been cached and saved. As such, if needed you can skip this notebook and continue with part 2b.\n",
    "\n",
    "You need to be connected to the internet to run this notebook and that you have downloaded the log2 expression matrices associated with MERFISH-C57BL6J-638850-combined dataset."
   ]
  },
  {
   "cell_type": "code",
   "execution_count": 1,
   "metadata": {},
   "outputs": [],
   "source": [
    "import os\n",
    "import pandas as pd\n",
    "import numpy as np\n",
    "import anndata\n",
    "import time\n",
    "import json\n",
    "import requests"
   ]
  },
  {
   "cell_type": "markdown",
   "metadata": {},
   "source": [
    "The prerequisite for running this notebook is that the data have been downloaded to local directory maintaining the organization from the manifest.json. **Change the download_base variable to where you have downloaded the data in your system.**"
   ]
  },
  {
   "cell_type": "code",
   "execution_count": 2,
   "metadata": {},
   "outputs": [],
   "source": [
    "version = '20230830'\n",
    "download_base = '../../abc_download_root'\n",
    "\n",
    "use_local_cache = False\n",
    "manifest_path = 'releases/%s/manifest.json' % version\n",
    "\n",
    "if not use_local_cache :\n",
    "    url = 'https://allen-brain-cell-atlas.s3-us-west-2.amazonaws.com/' + manifest_path\n",
    "    manifest = json.loads(requests.get(url).text)\n",
    "else :\n",
    "    file = os.path.join(download_base,manifest_path)\n",
    "    with open(file,'rb') as f:\n",
    "        manifest = json.load(f)\n",
    "    \n",
    "metadata = manifest['file_listing']['MERFISH-C57BL6J-638850']['metadata']"
   ]
  },
  {
   "cell_type": "code",
   "execution_count": 3,
   "metadata": {},
   "outputs": [],
   "source": [
    "view_directory = os.path.join( download_base, \n",
    "                               manifest['directory_listing']['MERFISH-C57BL6J-638850']['directories']['metadata']['relative_path'], \n",
    "                              'views')\n",
    "cache_views = False\n",
    "if cache_views :\n",
    "    os.makedirs( view_directory, exist_ok=True )"
   ]
  },
  {
   "cell_type": "code",
   "execution_count": 4,
   "metadata": {},
   "outputs": [
    {
     "name": "stdout",
     "output_type": "stream",
     "text": [
      "3938808\n"
     ]
    }
   ],
   "source": [
    "rpath = metadata['cell_metadata']['files']['csv']['relative_path']\n",
    "file = os.path.join( download_base, rpath)\n",
    "cell = pd.read_csv(file, dtype={'cell_label':str})\n",
    "cell.set_index('cell_label',inplace=True)\n",
    "print(len(cell))"
   ]
  },
  {
   "cell_type": "code",
   "execution_count": 5,
   "metadata": {},
   "outputs": [],
   "source": [
    "expression_matrices = manifest['file_listing']['MERFISH-C57BL6J-638850']['expression_matrices']"
   ]
  },
  {
   "cell_type": "code",
   "execution_count": 6,
   "metadata": {},
   "outputs": [
    {
     "name": "stdout",
     "output_type": "stream",
     "text": [
      "../../abc_download_root/expression_matrices/MERFISH-C57BL6J-638850/20230830/C57BL6J-638850-log2.h5ad\n"
     ]
    }
   ],
   "source": [
    "rpath = expression_matrices['C57BL6J-638850']['log2']['files']['h5ad']['relative_path']\n",
    "file = os.path.join( download_base, rpath)\n",
    "print(file)"
   ]
  },
  {
   "cell_type": "code",
   "execution_count": 7,
   "metadata": {},
   "outputs": [],
   "source": [
    "adata = anndata.read_h5ad(file,backed='r')\n",
    "gene = adata.var"
   ]
  },
  {
   "cell_type": "code",
   "execution_count": 8,
   "metadata": {},
   "outputs": [
    {
     "data": {
      "text/html": [
       "<div>\n",
       "<style scoped>\n",
       "    .dataframe tbody tr th:only-of-type {\n",
       "        vertical-align: middle;\n",
       "    }\n",
       "\n",
       "    .dataframe tbody tr th {\n",
       "        vertical-align: top;\n",
       "    }\n",
       "\n",
       "    .dataframe thead th {\n",
       "        text-align: right;\n",
       "    }\n",
       "</style>\n",
       "<table border=\"1\" class=\"dataframe\">\n",
       "  <thead>\n",
       "    <tr style=\"text-align: right;\">\n",
       "      <th></th>\n",
       "      <th>gene_symbol</th>\n",
       "      <th>transcript_identifier</th>\n",
       "    </tr>\n",
       "    <tr>\n",
       "      <th>gene_identifier</th>\n",
       "      <th></th>\n",
       "      <th></th>\n",
       "    </tr>\n",
       "  </thead>\n",
       "  <tbody>\n",
       "    <tr>\n",
       "      <th>ENSMUSG00000030500</th>\n",
       "      <td>Slc17a6</td>\n",
       "      <td>ENSMUST00000032710</td>\n",
       "    </tr>\n",
       "    <tr>\n",
       "      <th>ENSMUSG00000037771</th>\n",
       "      <td>Slc32a1</td>\n",
       "      <td>ENSMUST00000045738</td>\n",
       "    </tr>\n",
       "    <tr>\n",
       "      <th>ENSMUSG00000025400</th>\n",
       "      <td>Tac2</td>\n",
       "      <td>ENSMUST00000026466</td>\n",
       "    </tr>\n",
       "    <tr>\n",
       "      <th>ENSMUSG00000039728</th>\n",
       "      <td>Slc6a5</td>\n",
       "      <td>ENSMUST00000056442</td>\n",
       "    </tr>\n",
       "    <tr>\n",
       "      <th>ENSMUSG00000070570</th>\n",
       "      <td>Slc17a7</td>\n",
       "      <td>ENSMUST00000085374</td>\n",
       "    </tr>\n",
       "    <tr>\n",
       "      <th>ENSMUSG00000019935</th>\n",
       "      <td>Slc17a8</td>\n",
       "      <td>ENSMUST00000020102</td>\n",
       "    </tr>\n",
       "    <tr>\n",
       "      <th>ENSMUSG00000021609</th>\n",
       "      <td>Slc6a3</td>\n",
       "      <td>ENSMUST00000022100</td>\n",
       "    </tr>\n",
       "    <tr>\n",
       "      <th>ENSMUSG00000020838</th>\n",
       "      <td>Slc6a4</td>\n",
       "      <td>ENSMUST00000021195</td>\n",
       "    </tr>\n",
       "  </tbody>\n",
       "</table>\n",
       "</div>"
      ],
      "text/plain": [
       "                   gene_symbol transcript_identifier\n",
       "gene_identifier                                     \n",
       "ENSMUSG00000030500     Slc17a6    ENSMUST00000032710\n",
       "ENSMUSG00000037771     Slc32a1    ENSMUST00000045738\n",
       "ENSMUSG00000025400        Tac2    ENSMUST00000026466\n",
       "ENSMUSG00000039728      Slc6a5    ENSMUST00000056442\n",
       "ENSMUSG00000070570     Slc17a7    ENSMUST00000085374\n",
       "ENSMUSG00000019935     Slc17a8    ENSMUST00000020102\n",
       "ENSMUSG00000021609      Slc6a3    ENSMUST00000022100\n",
       "ENSMUSG00000020838      Slc6a4    ENSMUST00000021195"
      ]
     },
     "execution_count": 8,
     "metadata": {},
     "output_type": "execute_result"
    }
   ],
   "source": [
    "ntgenes = ['Slc17a7','Slc17a6','Slc17a8','Slc32a1','Slc6a5','Slc18a3','Slc6a3','Slc6a4','Slc6a2']\n",
    "exgenes = ['Tac2']\n",
    "gnames = ntgenes + exgenes\n",
    "pred = [x in gnames for x in gene.gene_symbol]\n",
    "gene_filtered = gene[pred]\n",
    "gene_filtered"
   ]
  },
  {
   "cell_type": "code",
   "execution_count": 9,
   "metadata": {},
   "outputs": [
    {
     "name": "stdout",
     "output_type": "stream",
     "text": [
      "time taken:  10.714178055000001\n"
     ]
    }
   ],
   "source": [
    "start = time.process_time()\n",
    "gdata = adata[:,gene_filtered.index].to_df()\n",
    "print(\"time taken: \", time.process_time() - start)"
   ]
  },
  {
   "cell_type": "code",
   "execution_count": 10,
   "metadata": {},
   "outputs": [
    {
     "name": "stdout",
     "output_type": "stream",
     "text": [
      "4334174\n"
     ]
    }
   ],
   "source": [
    "# change columns from index to gene symbol\n",
    "gdata.columns = gene_filtered.gene_symbol\n",
    "pred = pd.notna(gdata[gdata.columns[0]])\n",
    "gdata = gdata[pred].copy(deep=True)\n",
    "print(len(gdata))"
   ]
  },
  {
   "cell_type": "code",
   "execution_count": 11,
   "metadata": {},
   "outputs": [],
   "source": [
    "if cache_views :\n",
    "    file = os.path.join( view_directory, 'example_genes_all_cells_expression.csv')\n",
    "    gdata.to_csv( file )"
   ]
  },
  {
   "cell_type": "markdown",
   "metadata": {},
   "source": [
    "Close h5ad file and clean up"
   ]
  },
  {
   "cell_type": "code",
   "execution_count": 12,
   "metadata": {},
   "outputs": [],
   "source": [
    "adata.file.close()\n",
    "del adata"
   ]
  },
  {
   "cell_type": "code",
   "execution_count": null,
   "metadata": {},
   "outputs": [],
   "source": []
  }
 ],
 "metadata": {
  "kernelspec": {
   "display_name": "Python 3",
   "language": "python",
   "name": "python3"
  },
  "language_info": {
   "codemirror_mode": {
    "name": "ipython",
    "version": 3
   },
   "file_extension": ".py",
   "mimetype": "text/x-python",
   "name": "python",
   "nbconvert_exporter": "python",
   "pygments_lexer": "ipython3",
   "version": "3.8.5"
  }
 },
 "nbformat": 4,
 "nbformat_minor": 4
}
