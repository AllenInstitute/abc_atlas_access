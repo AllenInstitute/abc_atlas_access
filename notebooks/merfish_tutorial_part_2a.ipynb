{
 "cells": [
  {
   "cell_type": "markdown",
   "metadata": {},
   "source": [
    "# MERFISH whole brain spatial transcriptomics (part 2a)\n",
    "\n",
    "In part 1, we explored two examples looking at the expression of canonical neurotransmitter transporter genes and gene Tac2 in the one coronal section. In this notebook, we will prepare data so that we can repeat the examples for all cells spanning the whole brain. This notebook takes ~20 seconds to run."
   ]
  },
  {
   "cell_type": "code",
   "execution_count": 12,
   "metadata": {},
   "outputs": [],
   "source": [
    "import os\n",
    "import pandas as pd\n",
    "import numpy as np\n",
    "import anndata\n",
    "import time"
   ]
  },
  {
   "cell_type": "code",
   "execution_count": 13,
   "metadata": {},
   "outputs": [],
   "source": [
    "input_base = '/allen/programs/celltypes/workgroups/rnaseqanalysis/lydian/ABC_handoff'\n",
    "input_directory = os.path.join( input_base, 'dataframes', 'MERFISH-C57BL6J-638850','20230630' )\n",
    "\n",
    "view_directory = os.path.join( input_directory, 'views')\n",
    "cache_views = False\n",
    "if cache_views :\n",
    "    os.makedirs( view_directory, exist_ok=True )"
   ]
  },
  {
   "cell_type": "code",
   "execution_count": 14,
   "metadata": {},
   "outputs": [
    {
     "name": "stdout",
     "output_type": "stream",
     "text": [
      "4330907\n"
     ]
    }
   ],
   "source": [
    "file = os.path.join( input_directory,'cell_metadata.csv')\n",
    "cell = pd.read_csv(file, dtype={'cell_label':str})\n",
    "cell.set_index('cell_label',inplace=True)\n",
    "print(len(cell))"
   ]
  },
  {
   "cell_type": "code",
   "execution_count": 15,
   "metadata": {},
   "outputs": [
    {
     "data": {
      "text/html": [
       "<div>\n",
       "<style scoped>\n",
       "    .dataframe tbody tr th:only-of-type {\n",
       "        vertical-align: middle;\n",
       "    }\n",
       "\n",
       "    .dataframe tbody tr th {\n",
       "        vertical-align: top;\n",
       "    }\n",
       "\n",
       "    .dataframe thead th {\n",
       "        text-align: right;\n",
       "    }\n",
       "</style>\n",
       "<table border=\"1\" class=\"dataframe\">\n",
       "  <thead>\n",
       "    <tr style=\"text-align: right;\">\n",
       "      <th></th>\n",
       "      <th>brain_section_label</th>\n",
       "    </tr>\n",
       "    <tr>\n",
       "      <th>matrix_prefix</th>\n",
       "      <th></th>\n",
       "    </tr>\n",
       "  </thead>\n",
       "  <tbody>\n",
       "    <tr>\n",
       "      <th>C57BL6J-638850.01</th>\n",
       "      <td>26217</td>\n",
       "    </tr>\n",
       "    <tr>\n",
       "      <th>C57BL6J-638850.02</th>\n",
       "      <td>29286</td>\n",
       "    </tr>\n",
       "    <tr>\n",
       "      <th>C57BL6J-638850.03</th>\n",
       "      <td>36028</td>\n",
       "    </tr>\n",
       "    <tr>\n",
       "      <th>C57BL6J-638850.04</th>\n",
       "      <td>47445</td>\n",
       "    </tr>\n",
       "    <tr>\n",
       "      <th>C57BL6J-638850.05</th>\n",
       "      <td>50990</td>\n",
       "    </tr>\n",
       "  </tbody>\n",
       "</table>\n",
       "</div>"
      ],
      "text/plain": [
       "                   brain_section_label\n",
       "matrix_prefix                         \n",
       "C57BL6J-638850.01                26217\n",
       "C57BL6J-638850.02                29286\n",
       "C57BL6J-638850.03                36028\n",
       "C57BL6J-638850.04                47445\n",
       "C57BL6J-638850.05                50990"
      ]
     },
     "execution_count": 15,
     "metadata": {},
     "output_type": "execute_result"
    }
   ],
   "source": [
    "matrices = cell.groupby('matrix_prefix')[['brain_section_label']].count()\n",
    "matrices.head(5)"
   ]
  },
  {
   "cell_type": "code",
   "execution_count": 18,
   "metadata": {},
   "outputs": [
    {
     "name": "stdout",
     "output_type": "stream",
     "text": [
      "/allen/programs/celltypes/workgroups/rnaseqanalysis/lydian/ABC_handoff/expression_matrices/MERFISH-C57BL6J-638850/20230630/C57BL6J-638850.01-log2.h5ad\n"
     ]
    }
   ],
   "source": [
    "expression_directory = os.path.join(input_base, 'expression_matrices')\n",
    "dataset_label = 'MERFISH-C57BL6J-638850'\n",
    "release = '20230630'\n",
    "matrix_prefix = matrices.index[0]\n",
    "ext = 'h5ad'\n",
    "normalization = 'log2'\n",
    "\n",
    "file = os.path.join( expression_directory, dataset_label, release, '%s-%s.%s'% (matrix_prefix,normalization,ext) )\n",
    "print(file)"
   ]
  },
  {
   "cell_type": "code",
   "execution_count": 19,
   "metadata": {},
   "outputs": [],
   "source": [
    "ad = anndata.read_h5ad(file,backed='r')\n",
    "gene = ad.var"
   ]
  },
  {
   "cell_type": "code",
   "execution_count": 20,
   "metadata": {},
   "outputs": [
    {
     "data": {
      "text/html": [
       "<div>\n",
       "<style scoped>\n",
       "    .dataframe tbody tr th:only-of-type {\n",
       "        vertical-align: middle;\n",
       "    }\n",
       "\n",
       "    .dataframe tbody tr th {\n",
       "        vertical-align: top;\n",
       "    }\n",
       "\n",
       "    .dataframe thead th {\n",
       "        text-align: right;\n",
       "    }\n",
       "</style>\n",
       "<table border=\"1\" class=\"dataframe\">\n",
       "  <thead>\n",
       "    <tr style=\"text-align: right;\">\n",
       "      <th></th>\n",
       "      <th>gene_symbol</th>\n",
       "      <th>transcript_identifier</th>\n",
       "    </tr>\n",
       "    <tr>\n",
       "      <th>gene_identifier</th>\n",
       "      <th></th>\n",
       "      <th></th>\n",
       "    </tr>\n",
       "  </thead>\n",
       "  <tbody>\n",
       "    <tr>\n",
       "      <th>ENSMUSG00000030500</th>\n",
       "      <td>Slc17a6</td>\n",
       "      <td>ENSMUST00000032710</td>\n",
       "    </tr>\n",
       "    <tr>\n",
       "      <th>ENSMUSG00000037771</th>\n",
       "      <td>Slc32a1</td>\n",
       "      <td>ENSMUST00000045738</td>\n",
       "    </tr>\n",
       "    <tr>\n",
       "      <th>ENSMUSG00000025400</th>\n",
       "      <td>Tac2</td>\n",
       "      <td>ENSMUST00000026466</td>\n",
       "    </tr>\n",
       "    <tr>\n",
       "      <th>ENSMUSG00000039728</th>\n",
       "      <td>Slc6a5</td>\n",
       "      <td>ENSMUST00000056442</td>\n",
       "    </tr>\n",
       "    <tr>\n",
       "      <th>ENSMUSG00000070570</th>\n",
       "      <td>Slc17a7</td>\n",
       "      <td>ENSMUST00000085374</td>\n",
       "    </tr>\n",
       "    <tr>\n",
       "      <th>ENSMUSG00000019935</th>\n",
       "      <td>Slc17a8</td>\n",
       "      <td>ENSMUST00000020102</td>\n",
       "    </tr>\n",
       "    <tr>\n",
       "      <th>ENSMUSG00000021609</th>\n",
       "      <td>Slc6a3</td>\n",
       "      <td>ENSMUST00000022100</td>\n",
       "    </tr>\n",
       "    <tr>\n",
       "      <th>ENSMUSG00000020838</th>\n",
       "      <td>Slc6a4</td>\n",
       "      <td>ENSMUST00000021195</td>\n",
       "    </tr>\n",
       "  </tbody>\n",
       "</table>\n",
       "</div>"
      ],
      "text/plain": [
       "                   gene_symbol transcript_identifier\n",
       "gene_identifier                                     \n",
       "ENSMUSG00000030500     Slc17a6    ENSMUST00000032710\n",
       "ENSMUSG00000037771     Slc32a1    ENSMUST00000045738\n",
       "ENSMUSG00000025400        Tac2    ENSMUST00000026466\n",
       "ENSMUSG00000039728      Slc6a5    ENSMUST00000056442\n",
       "ENSMUSG00000070570     Slc17a7    ENSMUST00000085374\n",
       "ENSMUSG00000019935     Slc17a8    ENSMUST00000020102\n",
       "ENSMUSG00000021609      Slc6a3    ENSMUST00000022100\n",
       "ENSMUSG00000020838      Slc6a4    ENSMUST00000021195"
      ]
     },
     "execution_count": 20,
     "metadata": {},
     "output_type": "execute_result"
    }
   ],
   "source": [
    "ntgenes = ['Slc17a7','Slc17a6','Slc17a8','Slc32a1','Slc6a5','Slc18a3','Slc6a3','Slc6a4','Slc6a2']\n",
    "exgenes = ['Tac2']\n",
    "gnames = ntgenes + exgenes\n",
    "pred = [x in gnames for x in gene.gene_symbol]\n",
    "gene_filtered = gene[pred]\n",
    "gene_filtered"
   ]
  },
  {
   "cell_type": "code",
   "execution_count": 22,
   "metadata": {},
   "outputs": [
    {
     "name": "stdout",
     "output_type": "stream",
     "text": [
      "C57BL6J-638850.01\n",
      " - time taken:  1.9116383910000039\n",
      "C57BL6J-638850.02\n",
      " - time taken:  0.10446433599999949\n",
      "C57BL6J-638850.03\n",
      " - time taken:  0.12465494799999988\n",
      "C57BL6J-638850.04\n",
      " - time taken:  0.15820483799999607\n",
      "C57BL6J-638850.05\n",
      " - time taken:  0.16723013200000025\n",
      "C57BL6J-638850.06\n",
      " - time taken:  0.17020694699999694\n",
      "C57BL6J-638850.08\n",
      " - time taken:  0.17107610200000067\n",
      "C57BL6J-638850.09\n",
      " - time taken:  0.2299707139999967\n",
      "C57BL6J-638850.10\n",
      " - time taken:  0.1566791099999989\n",
      "C57BL6J-638850.11\n",
      " - time taken:  0.16926130200000244\n",
      "C57BL6J-638850.12\n",
      " - time taken:  0.18050294500000064\n",
      "C57BL6J-638850.13\n",
      " - time taken:  0.23930026899999746\n",
      "C57BL6J-638850.14\n",
      " - time taken:  0.2978103129999994\n",
      "C57BL6J-638850.15\n",
      " - time taken:  0.2744895530000022\n",
      "C57BL6J-638850.16\n",
      " - time taken:  0.29903905300000133\n",
      "C57BL6J-638850.17\n",
      " - time taken:  0.22760415900000197\n",
      "C57BL6J-638850.18\n",
      " - time taken:  0.1723526640000017\n",
      "C57BL6J-638850.19\n",
      " - time taken:  0.24059457599999945\n",
      "C57BL6J-638850.24\n",
      " - time taken:  0.24230302899999856\n",
      "C57BL6J-638850.25\n",
      " - time taken:  0.32098921200000063\n",
      "C57BL6J-638850.26\n",
      " - time taken:  0.34364972000000193\n",
      "C57BL6J-638850.27\n",
      " - time taken:  0.23853393799999623\n",
      "C57BL6J-638850.28\n",
      " - time taken:  0.3508484729999992\n",
      "C57BL6J-638850.29\n",
      " - time taken:  0.35958890599999904\n",
      "C57BL6J-638850.30\n",
      " - time taken:  0.4087637149999992\n",
      "C57BL6J-638850.31\n",
      " - time taken:  0.44868367400000153\n",
      "C57BL6J-638850.32\n",
      " - time taken:  0.44692681499999765\n",
      "C57BL6J-638850.33\n",
      " - time taken:  0.38949906599999906\n",
      "C57BL6J-638850.35\n",
      " - time taken:  0.369894795999997\n",
      "C57BL6J-638850.36\n",
      " - time taken:  0.5132785790000014\n",
      "C57BL6J-638850.37\n",
      " - time taken:  0.3862519770000006\n",
      "C57BL6J-638850.38\n",
      " - time taken:  0.5792909059999971\n",
      "C57BL6J-638850.39\n",
      " - time taken:  0.30057643299999626\n",
      "C57BL6J-638850.40\n",
      " - time taken:  0.47092408500000005\n",
      "C57BL6J-638850.42\n",
      " - time taken:  0.34469184299999966\n",
      "C57BL6J-638850.43\n",
      " - time taken:  0.45873946200000404\n",
      "C57BL6J-638850.44\n",
      " - time taken:  0.48495942199999575\n",
      "C57BL6J-638850.45\n",
      " - time taken:  0.4871484989999999\n",
      "C57BL6J-638850.46\n",
      " - time taken:  0.43227465399999687\n",
      "C57BL6J-638850.47\n",
      " - time taken:  0.3597601800000092\n",
      "C57BL6J-638850.48\n",
      " - time taken:  0.33853056600000286\n",
      "C57BL6J-638850.49\n",
      " - time taken:  0.4973664249999956\n",
      "C57BL6J-638850.50\n",
      " - time taken:  0.4555914779999881\n",
      "C57BL6J-638850.51\n",
      " - time taken:  0.4560622740000042\n",
      "C57BL6J-638850.52\n",
      " - time taken:  0.44972507500000347\n",
      "C57BL6J-638850.54\n",
      " - time taken:  0.3949408019999936\n",
      "C57BL6J-638850.55\n",
      " - time taken:  0.3304634180000079\n",
      "C57BL6J-638850.56\n",
      " - time taken:  0.29342376299999273\n",
      "C57BL6J-638850.57\n",
      " - time taken:  0.25800681200000497\n",
      "C57BL6J-638850.58\n",
      " - time taken:  0.20604114000001061\n",
      "C57BL6J-638850.59\n",
      " - time taken:  0.1783215890000065\n",
      "C57BL6J-638850.60\n",
      " - time taken:  0.16891419200000257\n",
      "C57BL6J-638850.61\n",
      " - time taken:  0.1485500340000101\n",
      "C57BL6J-638850.62\n",
      " - time taken:  0.15154922099999624\n",
      "C57BL6J-638850.64\n",
      " - time taken:  0.10371174099999791\n",
      "C57BL6J-638850.66\n",
      " - time taken:  0.14172059899999567\n",
      "C57BL6J-638850.67\n",
      " - time taken:  0.1391309629999995\n",
      "C57BL6J-638850.68\n",
      " - time taken:  0.08776382799999283\n",
      "C57BL6J-638850.69\n",
      " - time taken:  0.07090069999999571\n",
      "total time taken:  18.919827256000005\n"
     ]
    }
   ],
   "source": [
    "# create empty gene expression dataframe\n",
    "gdata = pd.DataFrame(index=cell.index,columns=gene_filtered.index)\n",
    "count = 0\n",
    "total_start = time.process_time()\n",
    "\n",
    "for mp in matrices.index :\n",
    "    \n",
    "    print(mp)\n",
    "    \n",
    "    file = os.path.join( expression_directory, dataset_label, release, '%s-%s.%s'% (mp,normalization,ext) )\n",
    "    \n",
    "    start = time.process_time()\n",
    "    ad = anndata.read_h5ad(file,backed='r')\n",
    "    exp = ad[:,gene_filtered.index].to_df()\n",
    "    gdata.loc[ exp.index, gene_filtered.index ] = exp\n",
    "    print(\" - time taken: \", time.process_time() - start)\n",
    "    \n",
    "    count += 1\n",
    "    \n",
    "    #if count > 2 :\n",
    "    #    break\n",
    "        \n",
    "print(\"total time taken: \", time.process_time() - total_start)\n",
    "    "
   ]
  },
  {
   "cell_type": "code",
   "execution_count": 23,
   "metadata": {},
   "outputs": [
    {
     "name": "stdout",
     "output_type": "stream",
     "text": [
      "4330907\n"
     ]
    }
   ],
   "source": [
    "# change columns from index to gene symbol\n",
    "gdata.columns = gene_filtered.gene_symbol\n",
    "pred = pd.notna(gdata[gdata.columns[0]])\n",
    "gdata = gdata[pred].copy(deep=True)\n",
    "print(len(gdata))"
   ]
  },
  {
   "cell_type": "code",
   "execution_count": 24,
   "metadata": {},
   "outputs": [],
   "source": [
    "if cache_views :\n",
    "    file = os.path.join( view_directory, 'example_genes_all_cells_expression.csv')\n",
    "    gdata.to_csv( file )"
   ]
  },
  {
   "cell_type": "code",
   "execution_count": null,
   "metadata": {},
   "outputs": [],
   "source": []
  }
 ],
 "metadata": {
  "kernelspec": {
   "display_name": "Python 3",
   "language": "python",
   "name": "python3"
  },
  "language_info": {
   "codemirror_mode": {
    "name": "ipython",
    "version": 3
   },
   "file_extension": ".py",
   "mimetype": "text/x-python",
   "name": "python",
   "nbconvert_exporter": "python",
   "pygments_lexer": "ipython3",
   "version": "3.8.5"
  }
 },
 "nbformat": 4,
 "nbformat_minor": 4
}
