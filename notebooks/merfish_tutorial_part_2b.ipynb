{
 "cells": [
  {
   "cell_type": "markdown",
   "metadata": {},
   "source": [
    "# MERFISH whole brain spatial transcriptomics (part 2b)\n",
    "\n",
    "We can continue to explore our examples looking at the expression of canonical neurotransmitter transporter genes and gene Tac2 over the whole brain.\n",
    "\n",
    "You need to be connected to the internet to run this notebook and that you have downloaded the example data via the getting started notebook."
   ]
  },
  {
   "cell_type": "code",
   "execution_count": null,
   "metadata": {},
   "outputs": [],
   "source": [
    "import os\n",
    "import pandas as pd\n",
    "import numpy as np\n",
    "import anndata\n",
    "import time\n",
    "import json\n",
    "import matplotlib.pyplot as plt\n",
    "import requests"
   ]
  },
  {
   "cell_type": "markdown",
   "metadata": {},
   "source": [
    "The prerequisite for running this notebook is that the data have been downloaded to local directory maintaining the organization from the manifest.json. **Change the download_base variable to where you have downloaded the data in your system.**"
   ]
  },
  {
   "cell_type": "code",
   "execution_count": null,
   "metadata": {},
   "outputs": [],
   "source": [
    "download_base = \"../../abc_download_root\"\n",
    "\n",
    "url = 'https://allen-brain-cell-atlas.s3-us-west-2.amazonaws.com/releases/20230630/manifest.json'\n",
    "manifest = json.loads(requests.get(url).text)\n",
    "    \n",
    "metadata = manifest['file_listing']['MERFISH-C57BL6J-638850']['metadata']"
   ]
  },
  {
   "cell_type": "code",
   "execution_count": null,
   "metadata": {},
   "outputs": [],
   "source": [
    "view_directory = os.path.join( download_base, \n",
    "                               manifest['directory_listing']['MERFISH-C57BL6J-638850']['directories']['metadata']['relative_path'], \n",
    "                              'views')\n",
    "cache_views = False\n",
    "if cache_views :\n",
    "    os.makedirs( view_directory, exist_ok=True )"
   ]
  },
  {
   "cell_type": "markdown",
   "metadata": {},
   "source": [
    "Read in the expanded cell metadata table we created in part 1."
   ]
  },
  {
   "cell_type": "code",
   "execution_count": null,
   "metadata": {},
   "outputs": [],
   "source": [
    "rpath = metadata['cell_metadata_with_cluster_annotation']['files']['csv']['relative_path']\n",
    "file = os.path.join( download_base, rpath )\n",
    "cell = pd.read_csv(file,dtype={\"cell_label\":str,\"neurotransmitter\":str})\n",
    "cell.set_index('cell_label',inplace=True)\n",
    "\n",
    "pred = (cell['low_quality_mapping'] == False)\n",
    "cell = cell[pred]"
   ]
  },
  {
   "cell_type": "code",
   "execution_count": null,
   "metadata": {},
   "outputs": [],
   "source": [
    "cell.columns"
   ]
  },
  {
   "cell_type": "markdown",
   "metadata": {},
   "source": [
    "Read in the gene expression dataframe we created in part 2a."
   ]
  },
  {
   "cell_type": "code",
   "execution_count": null,
   "metadata": {},
   "outputs": [],
   "source": [
    "rpath = metadata['example_genes_all_cells_expression']['files']['csv']['relative_path']\n",
    "file = os.path.join( download_base, rpath )\n",
    "exp = pd.read_csv(file,dtype={\"cell_label\":str})\n",
    "exp.set_index('cell_label',inplace=True)"
   ]
  },
  {
   "cell_type": "markdown",
   "metadata": {},
   "source": [
    "We define a helper functions *aggregate_by_metadata* to compute the average expression for a given catergory."
   ]
  },
  {
   "cell_type": "code",
   "execution_count": null,
   "metadata": {},
   "outputs": [],
   "source": [
    "def aggregate_by_metadata( df, gnames, value, sort=False ) :\n",
    "    grouped = df.groupby(value)[gnames].mean()\n",
    "    if sort :\n",
    "        grouped = grouped.sort_values(by=gnames[0],ascending=False)\n",
    "    return grouped"
   ]
  },
  {
   "cell_type": "markdown",
   "metadata": {},
   "source": [
    "### Expression of canonical neurotransmitter transporter genes\n",
    "\n",
    "During analysis, clusters were assigned neurotransmitter identities based on the expression of of canonical neurotransmitter transporter genes. In this example, we create a dataframe comprising of expression of the 9 solute carrier family genes for all the cells in the dataset.  We then group the cells by the assigned neurotransmitter class and compute the mean expression for each group and visualized as a colorized table.\n",
    "\n",
    "The results are similar that in part 1. Using data from the whole brain, gene Slc17a7 is now most enriched in glutamatergic assigned cells. Gene Slc17a6 is most enriched in noradrenergic, then cholinergic types. Genes Slc6a5, Slc6a3 and Slc6a4 shows high specificity to glycinergic, dopaminergic, serotonergic respectively."
   ]
  },
  {
   "cell_type": "code",
   "execution_count": null,
   "metadata": {},
   "outputs": [],
   "source": [
    "def plot_heatmap( df, fig_width = 8, fig_height = 4, cmap='Reds', vmin=0, vmax=5) :\n",
    "\n",
    "    arr = df.to_numpy()\n",
    "\n",
    "    fig, ax = plt.subplots()\n",
    "    fig.set_size_inches(fig_width,fig_height)\n",
    "\n",
    "    res = ax.imshow(arr, cmap = cmap, aspect='auto', vmin=vmin, vmax=vmax)\n",
    "    xlabs = df.columns.values\n",
    "    ylabs = df.index.values\n",
    "\n",
    "    ax.set_xticks(range(len(xlabs)))\n",
    "    ax.set_xticklabels( xlabs )\n",
    "\n",
    "    ax.set_yticks(range(len(ylabs)))\n",
    "    res = ax.set_yticklabels( ylabs )"
   ]
  },
  {
   "cell_type": "code",
   "execution_count": null,
   "metadata": {},
   "outputs": [],
   "source": [
    "ntgenes = ['Slc17a7','Slc17a6','Slc17a8','Slc32a1','Slc6a5','Slc6a3','Slc6a4']\n",
    "filtered = exp[ntgenes]\n",
    "joined = cell.join( filtered )"
   ]
  },
  {
   "cell_type": "code",
   "execution_count": null,
   "metadata": {},
   "outputs": [],
   "source": [
    "agg = aggregate_by_metadata( joined, ntgenes, 'neurotransmitter' )\n",
    "agg = agg[ntgenes]\n",
    "plot_heatmap(agg,8,3,vmax=4)"
   ]
  },
  {
   "cell_type": "markdown",
   "metadata": {},
   "source": [
    "Grouping expression by dissection region of interest shows that each of these genes have distinct spatial patterns. The MERFISH data allows us to visualize these patterns in anatomical context."
   ]
  },
  {
   "cell_type": "code",
   "execution_count": null,
   "metadata": {},
   "outputs": [],
   "source": [
    "agg = aggregate_by_metadata( joined, ntgenes, 'brain_section_label' )\n",
    "agg = agg.loc[list(reversed(list(agg.index)))]\n",
    "plot_heatmap(agg,8,11,vmax=3)"
   ]
  },
  {
   "cell_type": "markdown",
   "metadata": {},
   "source": [
    "We define a small helper function *plot sections* to visualize the cells for a specified set of brain sections either by colorized metadata or gene expression."
   ]
  },
  {
   "cell_type": "code",
   "execution_count": null,
   "metadata": {},
   "outputs": [],
   "source": [
    "def plot_sections( df, feature, blist, cmap=None, fig_width = 20, fig_height = 5) :\n",
    "    \n",
    "    fig, ax = plt.subplots(1,len(blist))\n",
    "    fig.set_size_inches(fig_width, fig_height)\n",
    "    \n",
    "    for idx,bsl in enumerate(blist) :\n",
    "        \n",
    "        filtered = df[df['brain_section_label'] == bsl]\n",
    "        xx = filtered['x']\n",
    "        yy = filtered['y']\n",
    "        vv = filtered[feature]\n",
    "        \n",
    "        if cmap is not None :\n",
    "            ax[idx].scatter(xx,yy,s=0.5,c=vv,marker='.',cmap=cmap)\n",
    "        else :\n",
    "            ax[idx].scatter(xx,yy,s=0.5,color=vv,marker=\".\")\n",
    "            \n",
    "        ax[idx].axis('equal')\n",
    "        ax[idx].set_xlim(0,11)\n",
    "        ax[idx].set_ylim(11,0)\n",
    "        ax[idx].set_xticks([])\n",
    "        ax[idx].set_yticks([])\n",
    "        \n",
    "    plt.subplots_adjust(wspace=0.01, hspace=0.01)\n",
    "    plt.show()\n",
    "\n",
    "    "
   ]
  },
  {
   "cell_type": "markdown",
   "metadata": {},
   "source": [
    "We will use the aggregate by brain section table above to pick a four sections of interest and plot cells in those sections by neurotransmitter type and by each of the transporter genes."
   ]
  },
  {
   "cell_type": "code",
   "execution_count": null,
   "metadata": {},
   "outputs": [],
   "source": [
    "blist = ['C57BL6J-638850.51','C57BL6J-638850.31','C57BL6J-638850.19','C57BL6J-638850.01']\n",
    "plot_sections( joined, 'neurotransmitter_color', blist, cmap=None)"
   ]
  },
  {
   "cell_type": "code",
   "execution_count": null,
   "metadata": {},
   "outputs": [],
   "source": [
    "plot_sections( joined, 'Slc17a7', blist, cmap='Reds')"
   ]
  },
  {
   "cell_type": "code",
   "execution_count": null,
   "metadata": {},
   "outputs": [],
   "source": [
    "plot_sections( joined, 'Slc17a6', blist, cmap='Reds')"
   ]
  },
  {
   "cell_type": "code",
   "execution_count": null,
   "metadata": {},
   "outputs": [],
   "source": [
    "plot_sections( joined, 'Slc17a8', blist, cmap='Reds')"
   ]
  },
  {
   "cell_type": "code",
   "execution_count": null,
   "metadata": {},
   "outputs": [],
   "source": [
    "plot_sections( joined, 'Slc32a1', blist, cmap='Reds')"
   ]
  },
  {
   "cell_type": "code",
   "execution_count": null,
   "metadata": {},
   "outputs": [],
   "source": [
    "plot_sections( joined, 'Slc6a5', blist, cmap='Reds')"
   ]
  },
  {
   "cell_type": "code",
   "execution_count": null,
   "metadata": {},
   "outputs": [],
   "source": [
    "plot_sections( joined, 'Slc6a3', blist, cmap='Reds')"
   ]
  },
  {
   "cell_type": "code",
   "execution_count": null,
   "metadata": {},
   "outputs": [],
   "source": [
    "plot_sections( joined, 'Slc6a4', blist, cmap='Reds')"
   ]
  },
  {
   "cell_type": "markdown",
   "metadata": {},
   "source": [
    "### Expression of Tachykinin 2 (Tac2) in the whole brain\n",
    "\n",
    "In mice, the tachykinin 2 (Tac2) gene encodes neuropeptide called neurokinin B (NkB). Tac2 is produced by neurons in specific regions of the brain know to be invovled in emotion and social behavior. Based on [ISH data](https://mouse.brain-map.org/experiment/siv?id=77279001&imageId=77284584&initImage=ish&coordSystem=pixel&x=5384.5&y=3832.5&z=3) from the Allen Mouse Brain Atlas, Tac 2 is sparsely expressed in the mouse isocortex and densely enriched is specific subcortical regions such the medial habenula (MH), the amygdala and hypothalamus.\n",
    "\n",
    "In this example, we create a dataframe comprising expression values of Tac2 for all cells across the whole brain. As with the single brain section example, grouping expression by neurotransmitter show that Tac2 gene is enriched in cholinergic cell types. With the rest of brain included, we can observe that Tac2 is also enriched in Glut-GABA cell types as well."
   ]
  },
  {
   "cell_type": "code",
   "execution_count": null,
   "metadata": {},
   "outputs": [],
   "source": [
    "exgenes = ['Tac2']\n",
    "filtered = exp[exgenes]\n",
    "joined = cell.join( filtered )\n",
    "agg = aggregate_by_metadata( joined, exgenes, 'neurotransmitter', True )\n",
    "plot_heatmap(agg,1,3)"
   ]
  },
  {
   "cell_type": "markdown",
   "metadata": {},
   "source": [
    "Grouping by class, shows that Tac2 is enriched in class \"08 MH-LH Glut\" with cells restricted to the medial (MH) and lateral (LH) habenula and a mixture of glutamatergic and cholinergic type and \"04 CGE GABA\" GABAergic cells originating from the caudal ganglionic eminence (CGE)."
   ]
  },
  {
   "cell_type": "code",
   "execution_count": null,
   "metadata": {},
   "outputs": [],
   "source": [
    "agg = aggregate_by_metadata( joined, exgenes, 'class', True ).head(8)\n",
    "class_list = agg.index[0:2]\n",
    "plot_heatmap(agg,1,3)"
   ]
  },
  {
   "cell_type": "markdown",
   "metadata": {},
   "source": [
    "At the next level, grouping by subclass reveals enrichment is highly anatomically localized cell types such as the medial habenula (MH), bed nuclei of the stria terminalis (BST), spinal nucleus of the trigeminal (SPVC), main olfactory blub (MOB), central amygdalar nucleus (CEA) and arcuate hypothalamic nucleus (ARH)."
   ]
  },
  {
   "cell_type": "code",
   "execution_count": null,
   "metadata": {},
   "outputs": [],
   "source": [
    "agg = aggregate_by_metadata( joined, exgenes, 'subclass', True ).head(15)\n",
    "subclass_list = agg.index[0:10]\n",
    "plot_heatmap(agg,1,3)"
   ]
  },
  {
   "cell_type": "markdown",
   "metadata": {},
   "source": [
    "The MERFISH data allows us to visualize these spatial pattern in anatomical context. We can aggregate Tac2 expression by brain section so that we can find 4 sections where the enriched expression is located. We then visualize cells in those section by Tac2 expression, neurotransmitter identity, cell type classes and subclasses. "
   ]
  },
  {
   "cell_type": "code",
   "execution_count": null,
   "metadata": {
    "scrolled": false
   },
   "outputs": [],
   "source": [
    "agg = aggregate_by_metadata( joined, exgenes, 'brain_section_label', False )\n",
    "agg = agg.loc[list(reversed(list(agg.index)))]\n",
    "plot_heatmap(agg,1,11,vmax=0.4)"
   ]
  },
  {
   "cell_type": "code",
   "execution_count": null,
   "metadata": {},
   "outputs": [],
   "source": [
    "blist = ['C57BL6J-638850.69','C57BL6J-638850.46','C57BL6J-638850.38','C57BL6J-638850.01']\n",
    "plot_sections( joined, 'Tac2', blist, cmap='Reds')"
   ]
  },
  {
   "cell_type": "code",
   "execution_count": null,
   "metadata": {},
   "outputs": [],
   "source": [
    "plot_sections( joined, 'neurotransmitter_color', blist, cmap=None)"
   ]
  },
  {
   "cell_type": "code",
   "execution_count": null,
   "metadata": {},
   "outputs": [],
   "source": [
    "plot_sections( joined, 'class_color', blist, cmap=None)"
   ]
  },
  {
   "cell_type": "code",
   "execution_count": null,
   "metadata": {
    "scrolled": true
   },
   "outputs": [],
   "source": [
    "plot_sections( joined, 'subclass_color', blist, cmap=None)"
   ]
  },
  {
   "cell_type": "markdown",
   "metadata": {},
   "source": [
    "We can use the Tac2 aggregate by subclass table above and pick out the top 10 most enriched subclasses and plot only them on the same set of brain sections and observed that this set of subclasses is able recapitulate the expression pattern of Tac2."
   ]
  },
  {
   "cell_type": "code",
   "execution_count": null,
   "metadata": {},
   "outputs": [],
   "source": [
    "pred = [x in subclass_list for x in joined['subclass']]\n",
    "filtered = joined[pred]\n",
    "plot_sections( filtered, 'subclass_color', blist, cmap=None)"
   ]
  },
  {
   "cell_type": "code",
   "execution_count": null,
   "metadata": {},
   "outputs": [],
   "source": [
    "subclass_list"
   ]
  }
 ],
 "metadata": {
  "kernelspec": {
   "display_name": "Python 3 (ipykernel)",
   "language": "python",
   "name": "python3"
  },
  "language_info": {
   "codemirror_mode": {
    "name": "ipython",
    "version": 3
   },
   "file_extension": ".py",
   "mimetype": "text/x-python",
   "name": "python",
   "nbconvert_exporter": "python",
   "pygments_lexer": "ipython3",
   "version": "3.11.3"
  }
 },
 "nbformat": 4,
 "nbformat_minor": 4
}
