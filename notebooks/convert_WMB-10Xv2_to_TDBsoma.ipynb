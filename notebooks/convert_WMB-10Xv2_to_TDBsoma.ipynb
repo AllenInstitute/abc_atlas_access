{
 "cells": [
  {
   "cell_type": "markdown",
   "id": "2e7673d3-ed4f-40f0-b64b-b46afe453922",
   "metadata": {},
   "source": [
    "# Code for converting H5AD files to TDB\n",
    "### At the beginning of this file, please indicate whether you want to convert raw or log2 files to TDB.\n",
    "### At the end of this file, the terminal output is saved to a log file."
   ]
  },
  {
   "cell_type": "code",
   "execution_count": 1,
   "id": "ec3a2555-9a3f-4765-a53f-744cedb4e86f",
   "metadata": {
    "tags": []
   },
   "outputs": [],
   "source": [
    "# Specify the file type to convert: 'both', 'raw', or 'log2'\n",
    "file_type_to_convert = 'log2' #'both'  or 'raw' or 'log2'"
   ]
  },
  {
   "cell_type": "markdown",
   "id": "17687871-bbc3-4735-8d7e-77eafd15f3cc",
   "metadata": {},
   "source": [
    "## Preliminary Steps\n",
    "Import Libraries: Necessary Python packages like anndata, tiledb, logging, etc., are imported.\n",
    "Print Versions: TileDB versions are printed for debugging and traceability.\n",
    "Specify Directories: input_dir and output_dir are specified.\n",
    "List Files: All files in the input_dir are printed for a visual display."
   ]
  },
  {
   "cell_type": "code",
   "execution_count": 2,
   "id": "2cbc13a0-af5f-4f8e-a609-f9e7b5c837c6",
   "metadata": {
    "tags": []
   },
   "outputs": [],
   "source": [
    "# Import libraries\n",
    "import logging\n",
    "import io\n",
    "import sys\n",
    "import os\n",
    "import numpy as np\n",
    "import anndata as ad\n",
    "import pandas as pd\n",
    "import tiledb\n",
    "import tiledbsoma\n",
    "import tiledbsoma.io\n",
    "import tiledbsoma.logging\n",
    "import logging\n",
    "# from concurrent.futures import ThreadPoolExecutor # For later for parallel conversion\n",
    "from tqdm import tqdm"
   ]
  },
  {
   "cell_type": "code",
   "execution_count": 3,
   "id": "78cb8c4d-37d8-43e3-a253-f98a2ed72215",
   "metadata": {
    "tags": []
   },
   "outputs": [
    {
     "name": "stdout",
     "output_type": "stream",
     "text": [
      "TileDB core version: (2, 15, 2)\n",
      "TileDB-Py v(0, 21, 3) TileDB-SOMA v1.2.2\n"
     ]
    }
   ],
   "source": [
    "# Print versions for debugging and traceability\n",
    "print(\"TileDB core version: {}\".format(tiledb.libtiledb.version()))\n",
    "print(f\"\"\"TileDB-Py v{tiledb.version()} TileDB-SOMA v{tiledbsoma.__version__}\"\"\")"
   ]
  },
  {
   "cell_type": "code",
   "execution_count": 4,
   "id": "716a4ec8-65bc-4f00-82d3-ee9ee93b5eea",
   "metadata": {
    "tags": []
   },
   "outputs": [
    {
     "name": "stdout",
     "output_type": "stream",
     "text": [
      "Input directory: /shared/Data/abc_download_root/expression_matrices/WMB-10Xv2/20230630\n",
      "Output directory: /shared/Data/abc_download_root/expression_matrices/WMB-10Xv2-TDB/20230630\n"
     ]
    }
   ],
   "source": [
    "download_base = '/shared/Data/abc_download_root'\n",
    "# input and output directories\n",
    "input_dir = download_base + \"/expression_matrices/WMB-10Xv2/20230630\"\n",
    "output_dir = download_base + \"/expression_matrices/WMB-10Xv2-TDB/20230630\"\n",
    "print(f\"Input directory: {input_dir}\")\n",
    "print(f\"Output directory: {output_dir}\")"
   ]
  },
  {
   "cell_type": "markdown",
   "id": "697b1f32-3956-4ce7-bb92-f736e97c7038",
   "metadata": {},
   "source": [
    "## File Listing with Sizes\n",
    "Initialize Lists: Two lists raw_files and log2_files are initialized to store filenames with sizes.\n",
    "Check File Sizes: For each file in the input_dir, if it's a raw or log2 file, its size in GB is calculated and stored alongside the filename in the corresponding list."
   ]
  },
  {
   "cell_type": "code",
   "execution_count": 5,
   "id": "84816bc1-b561-4a12-9ec8-56785da81fd0",
   "metadata": {
    "tags": []
   },
   "outputs": [
    {
     "name": "stdout",
     "output_type": "stream",
     "text": [
      "WMB-10Xv2-Isocortex-1-log2.h5ad\n",
      "WMB-10Xv2-HPF-log2.h5ad\n",
      "WMB-10Xv2-Isocortex-3-raw.h5ad\n",
      "WMB-10Xv2-CTXsp-log2.h5ad\n",
      "WMB-10Xv2-TH-raw.h5ad\n",
      "WMB-10Xv2-Isocortex-3-log2.h5ad\n",
      "WMB-10Xv2-CTXsp-raw.h5ad\n",
      "WMB-10Xv2-Isocortex-1-raw.h5ad\n",
      "WMB-10Xv2-HPF-raw.h5ad\n",
      "WMB-10Xv2-TH-log2.h5ad\n",
      "WMB-10Xv2-MB-log2.h5ad\n",
      "WMB-10Xv2-Isocortex-2-log2.h5ad\n",
      "WMB-10Xv2-HY-raw.h5ad\n",
      "WMB-10Xv2-Isocortex-4-raw.h5ad\n",
      "WMB-10Xv2-OLF-raw.h5ad\n",
      "WMB-10Xv2-HY-log2.h5ad\n",
      "WMB-10Xv2-Isocortex-4-log2.h5ad\n",
      "WMB-10Xv2-OLF-log2.h5ad\n",
      "WMB-10Xv2-MB-raw.h5ad\n",
      "WMB-10Xv2-Isocortex-2-raw.h5ad\n"
     ]
    }
   ],
   "source": [
    "# Get a list of files for visual display\n",
    "for filename in (os.listdir(input_dir)):\n",
    "    print(filename)"
   ]
  },
  {
   "cell_type": "code",
   "execution_count": 6,
   "id": "7196ea8f-7154-40c4-aa99-6776e141e5bc",
   "metadata": {
    "tags": []
   },
   "outputs": [
    {
     "name": "stdout",
     "output_type": "stream",
     "text": [
      "Raw Files                                         Log2 Files                                        \n",
      "====================================================================================================\n",
      "WMB-10Xv2-Isocortex-3-raw.h5ad (7.88 GB)          WMB-10Xv2-Isocortex-1-log2.h5ad (8.01 GB)         \n",
      "WMB-10Xv2-TH-raw.h5ad (3.76 GB)                   WMB-10Xv2-HPF-log2.h5ad (5.68 GB)                 \n",
      "WMB-10Xv2-CTXsp-raw.h5ad (1.62 GB)                WMB-10Xv2-CTXsp-log2.h5ad (1.62 GB)               \n",
      "WMB-10Xv2-Isocortex-1-raw.h5ad (8.01 GB)          WMB-10Xv2-Isocortex-3-log2.h5ad (7.88 GB)         \n",
      "WMB-10Xv2-HPF-raw.h5ad (5.68 GB)                  WMB-10Xv2-TH-log2.h5ad (3.76 GB)                  \n",
      "WMB-10Xv2-HY-raw.h5ad (2.71 GB)                   WMB-10Xv2-MB-log2.h5ad (0.76 GB)                  \n",
      "WMB-10Xv2-Isocortex-4-raw.h5ad (8.10 GB)          WMB-10Xv2-Isocortex-2-log2.h5ad (8.80 GB)         \n",
      "WMB-10Xv2-OLF-raw.h5ad (4.78 GB)                  WMB-10Xv2-HY-log2.h5ad (2.71 GB)                  \n",
      "WMB-10Xv2-MB-raw.h5ad (0.76 GB)                   WMB-10Xv2-Isocortex-4-log2.h5ad (8.10 GB)         \n",
      "WMB-10Xv2-Isocortex-2-raw.h5ad (8.80 GB)          WMB-10Xv2-OLF-log2.h5ad (4.78 GB)                 \n"
     ]
    }
   ],
   "source": [
    "# Initialize lists to hold filenames and sizes\n",
    "raw_files = []\n",
    "log2_files = []\n",
    "\n",
    "# Function to get file size in GB\n",
    "def get_size_in_gb(file_path):\n",
    "    size_bytes = os.path.getsize(file_path)\n",
    "    size_gb = size_bytes / (1024 ** 3)\n",
    "    return f\"{size_gb:.2f} GB\"\n",
    "\n",
    "# Get a list of files for visual display\n",
    "for filename in os.listdir(input_dir):\n",
    "    full_path = os.path.join(input_dir, filename)\n",
    "    if filename.endswith(\"raw.h5ad\"):\n",
    "        size = get_size_in_gb(full_path)\n",
    "        raw_files.append(f\"{filename} ({size})\")\n",
    "    elif filename.endswith(\"log2.h5ad\"):\n",
    "        size = get_size_in_gb(full_path)\n",
    "        log2_files.append(f\"{filename} ({size})\")\n",
    "\n",
    "# Print filenames in two columns: raw and log2\n",
    "print(f\"{'Raw Files':<50}{'Log2 Files':<50}\")\n",
    "print(\"=\" * 100)\n",
    "\n",
    "# Determine the maximum number of rows to print\n",
    "max_rows = max(len(raw_files), len(log2_files))\n",
    "\n",
    "# Print the filenames and sizes side by side\n",
    "for i in range(max_rows):\n",
    "    raw_file = raw_files[i] if i < len(raw_files) else ''\n",
    "    log2_file = log2_files[i] if i < len(log2_files) else ''\n",
    "    print(f\"{raw_file:<50}{log2_file:<50}\")"
   ]
  },
  {
   "cell_type": "markdown",
   "id": "15baac3c-4f28-4c86-8a95-f8e59a18d326",
   "metadata": {},
   "source": [
    "## Logging Setup\n",
    "Initialize Logging: Logging is set up to capture messages at the INFO level.\n",
    "Log File: A conversion_all.log file is created in a conversionLog directory under output_dir. This file will capture all the logging messages."
   ]
  },
  {
   "cell_type": "code",
   "execution_count": 7,
   "id": "dcc16889-7963-42eb-b4a2-07a656f6e027",
   "metadata": {
    "tags": []
   },
   "outputs": [
    {
     "name": "stderr",
     "output_type": "stream",
     "text": [
      "2023-09-23 17:31:23,296 - INFO - Starting conversion...\n"
     ]
    }
   ],
   "source": [
    "# Initialize logging\n",
    "conversion_log_dir = os.path.join(output_dir, \"conversionLog\")\n",
    "\n",
    "# Create the conversionLog directory if it doesn't exist\n",
    "if not os.path.exists(conversion_log_dir):\n",
    "    os.makedirs(conversion_log_dir)\n",
    "\n",
    "# Setup Python logging\n",
    "logging.basicConfig(level=logging.INFO,\n",
    "                    format='%(asctime)s - %(levelname)s - %(message)s',\n",
    "                    handlers=[logging.FileHandler(os.path.join(conversion_log_dir, 'conversion_all.log'), 'w', 'utf-8'),\n",
    "                              logging.StreamHandler()])\n",
    "\n",
    "logging.info(\"Starting conversion...\")"
   ]
  },
  {
   "cell_type": "markdown",
   "id": "b61a80ab-1432-44b8-a207-921079c8d4dd",
   "metadata": {},
   "source": [
    "Counters Initialization\n",
    "Initialize Counters: Counters for completed_files and total_files are initialized to keep track of conversion progress."
   ]
  },
  {
   "cell_type": "code",
   "execution_count": 8,
   "id": "22e3a2a0-c021-4dac-951b-e7be9af4722f",
   "metadata": {
    "tags": []
   },
   "outputs": [],
   "source": [
    "# Initialize counters for completed files and total files\n",
    "completed_files = {'raw': 0, 'log2': 0}\n",
    "total_files = {'raw': len([f for f in os.listdir(input_dir) if f.endswith(\"raw.h5ad\")]),\n",
    "               'log2': len([f for f in os.listdir(input_dir) if f.endswith(\"log2.h5ad\")])}"
   ]
  },
  {
   "cell_type": "markdown",
   "id": "1eac6875-9a05-4e35-a1e4-023d55d63552",
   "metadata": {},
   "source": [
    "## The Conversion Function (convert_file)\n",
    "File Type Check: Validates the file_type argument and logs an error if invalid.\n",
    "Conversion: Checks if the file should be converted based on its suffix and the file_type argument.\n",
    "Buffer Size: Dynamically sets the TileDB buffer size based on the size of the AnnData object.\n",
    "Column Check: Checks for and removes columns with non-ASCII characters in the AnnData object.\n",
    "TileDB Conversion: Calls tiledbsoma.io.from_anndata() to convert the AnnData object to a TileDB array.\n",
    "Progress Logging: Logs the conversion progress to both the terminal and the conversion_all.log file.\n",
    "TileDB Logging: Captures TileDB-specific logging into individual log files, one for each converted file."
   ]
  },
  {
   "cell_type": "code",
   "execution_count": 9,
   "id": "4b8c2dfb-54c1-4fdf-a7eb-9cb84a6e772a",
   "metadata": {
    "tags": []
   },
   "outputs": [],
   "source": [
    "# Function to convert a single file\n",
    "def convert_file(filename, file_type='both'):\n",
    "    try:\n",
    "        if file_type not in ['both', 'raw', 'log2']:\n",
    "            logging.error(\"Invalid file_type. Use 'both', 'raw', or 'log2'\")\n",
    "            return\n",
    "        \n",
    "        if (filename.endswith(\"raw.h5ad\") and file_type in ['both', 'raw']) or \\\n",
    "           (filename.endswith(\"log2.h5ad\") and file_type in ['both', 'log2']):\n",
    "            \n",
    "            key = 'raw' if filename.endswith(\"raw.h5ad\") else 'log2'\n",
    "            \n",
    "            fname = os.path.join(input_dir, filename)\n",
    "            uri = os.path.join(output_dir, os.path.splitext(filename)[0])\n",
    "\n",
    "            logging.info(f\"Starting conversion: {fname} to {uri}\")\n",
    "\n",
    "            if os.path.exists(uri):\n",
    "                logging.info(f\"Output file {uri} already exists. Skipping.\")\n",
    "                return\n",
    "\n",
    "            adata = ad.read_h5ad(fname, 'r')\n",
    "\n",
    "            # Update buffer size dynamically based on the AnnData object size\n",
    "            # Calculate the size of the AnnData object's X attribute in bytes\n",
    "            adata_nbytes = adata.X.nbytes if hasattr(adata.X, 'nbytes') else 0\n",
    "            # Calculate the dynamic buffer size\n",
    "            buffer_size = min(50 * 1024**2, adata_nbytes * 2)\n",
    "            # Update the config with the new buffer size\n",
    "            cfg = tiledb.Ctx().config()\n",
    "            cfg.update({'py.init_buffer_bytes': buffer_size})\n",
    "\n",
    "            for col in adata.obs.select_dtypes(include=[pd.CategoricalDtype]).columns:\n",
    "                if adata.obs[col].str.contains(r'[^\\x00-\\x7F]+').any():\n",
    "                    logging.warning(f\"Column '{col}' in file {filename} contains records with non-ASCII characters. Removing column.\")\n",
    "                    adata.obs.drop(col, axis=1, inplace=True)\n",
    "\n",
    "            tiledbsoma.io.from_anndata(uri, adata, measurement_name=\"RNA\")\n",
    "            \n",
    "            # Increment and display the counter\n",
    "            completed_files[key] += 1\n",
    "            logging.info(f\"Successfully converted {filename} to {uri}. Progress: {completed_files[key]}/{total_files[key]}\")\n",
    "\n",
    "            # Save tiledb-specific logging output to individual log file\n",
    "            log_file = os.path.join(conversion_log_dir, f\"{os.path.splitext(filename)[0]}.log\")\n",
    "            with open(log_file, 'w') as f:\n",
    "                f.write(tiledbsoma.logging.info())                 \n",
    "                \n",
    "    except Exception as e:\n",
    "        logging.error(f\"An error occurred while processing {filename}: {e}\")"
   ]
  },
  {
   "cell_type": "markdown",
   "id": "916c28f0-fd53-4dbb-9137-6a19c3fd2ce1",
   "metadata": {},
   "source": [
    "## Run &Capturing Terminal Output\n",
    "Capture stdout: The standard output is captured into a StringIO object.\n",
    "Run Conversion: The convert_file function is called for each file in the input_dir while displaying a progress bar.\n",
    "Restore stdout: The standard output is restored.\n",
    "Save Captured Output: The captured terminal output is saved into a log file named conversion_terminal_output.log in the output_dir.\n",
    "### Output & Logging\n",
    "Terminal: You will see logging messages and a progress bar.\n",
    "conversion_all.log: This file will contain all the logging messages.\n",
    "Individual Log Files: TileDB-specific logging for each file will be saved in individual .log files in the conversionLog directory.\n",
    "conversion_terminal_output.log: This will contain everything that was printed to the terminal."
   ]
  },
  {
   "cell_type": "code",
   "execution_count": 10,
   "id": "c5af70bf-9979-402e-bf71-e8c3128b3721",
   "metadata": {
    "tags": []
   },
   "outputs": [
    {
     "name": "stderr",
     "output_type": "stream",
     "text": [
      "  0%|          | 0/20 [00:00<?, ?it/s]2023-09-23 17:31:23,540 - INFO - Starting conversion: /shared/Data/abc_download_root/expression_matrices/WMB-10Xv2/20230630/WMB-10Xv2-Isocortex-1-log2.h5ad to /shared/Data/abc_download_root/expression_matrices/WMB-10Xv2-TDB/20230630/WMB-10Xv2-Isocortex-1-log2\n",
      "2023-09-23 17:37:37,927 - INFO - Successfully converted WMB-10Xv2-Isocortex-1-log2.h5ad to /shared/Data/abc_download_root/expression_matrices/WMB-10Xv2-TDB/20230630/WMB-10Xv2-Isocortex-1-log2. Progress: 1/10\n",
      "2023-09-23 17:37:37,938 - ERROR - An error occurred while processing WMB-10Xv2-Isocortex-1-log2.h5ad: write() argument must be str, not None\n",
      "  5%|▌         | 1/20 [06:14<1:58:33, 374.40s/it]2023-09-23 17:37:37,940 - INFO - Starting conversion: /shared/Data/abc_download_root/expression_matrices/WMB-10Xv2/20230630/WMB-10Xv2-HPF-log2.h5ad to /shared/Data/abc_download_root/expression_matrices/WMB-10Xv2-TDB/20230630/WMB-10Xv2-HPF-log2\n",
      "2023-09-23 17:37:40,014 - INFO - Wrote   /shared/Data/abc_download_root/expression_matrices/WMB-10Xv2-TDB/20230630/WMB-10Xv2-HPF-log2/obs\n",
      "2023-09-23 17:37:41,875 - INFO - Wrote   /shared/Data/abc_download_root/expression_matrices/WMB-10Xv2-TDB/20230630/WMB-10Xv2-HPF-log2/ms/RNA/uns (uns collection)\n",
      "2023-09-23 17:37:42,679 - INFO - Wrote   /shared/Data/abc_download_root/expression_matrices/WMB-10Xv2-TDB/20230630/WMB-10Xv2-HPF-log2/ms/RNA/var\n",
      "2023-09-23 17:37:42,879 - INFO - Writing /shared/Data/abc_download_root/expression_matrices/WMB-10Xv2-TDB/20230630/WMB-10Xv2-HPF-log2/ms/RNA/X/data\n",
      "2023-09-23 17:39:18,792 - INFO - ...  30.744% done, ETA 3.60 minutes\n",
      "2023-09-23 17:40:16,109 - INFO - ...  54.221% done, ETA 1.86 minutes\n",
      "2023-09-23 17:41:22,797 - INFO - ...  82.424% done, ETA 42.46 seconds\n",
      "2023-09-23 17:42:16,497 - INFO - Wrote   /shared/Data/abc_download_root/expression_matrices/WMB-10Xv2-TDB/20230630/WMB-10Xv2-HPF-log2/ms/RNA/X/data\n",
      "2023-09-23 17:42:16,586 - INFO - Wrote   /shared/Data/abc_download_root/expression_matrices/WMB-10Xv2-TDB/20230630/WMB-10Xv2-HPF-log2\n",
      "2023-09-23 17:42:16,587 - INFO - Successfully converted WMB-10Xv2-HPF-log2.h5ad to /shared/Data/abc_download_root/expression_matrices/WMB-10Xv2-TDB/20230630/WMB-10Xv2-HPF-log2. Progress: 2/10\n",
      "2023-09-23 17:42:16,594 - ERROR - An error occurred while processing WMB-10Xv2-HPF-log2.h5ad: write() argument must be str, not None\n",
      " 10%|█         | 2/20 [10:53<1:35:25, 318.08s/it]2023-09-23 17:42:16,596 - INFO - Starting conversion: /shared/Data/abc_download_root/expression_matrices/WMB-10Xv2/20230630/WMB-10Xv2-CTXsp-log2.h5ad to /shared/Data/abc_download_root/expression_matrices/WMB-10Xv2-TDB/20230630/WMB-10Xv2-CTXsp-log2\n",
      "2023-09-23 17:42:18,071 - INFO - Wrote   /shared/Data/abc_download_root/expression_matrices/WMB-10Xv2-TDB/20230630/WMB-10Xv2-CTXsp-log2/obs\n",
      "2023-09-23 17:42:19,112 - INFO - Wrote   /shared/Data/abc_download_root/expression_matrices/WMB-10Xv2-TDB/20230630/WMB-10Xv2-CTXsp-log2/ms/RNA/uns (uns collection)\n",
      "2023-09-23 17:42:19,937 - INFO - Wrote   /shared/Data/abc_download_root/expression_matrices/WMB-10Xv2-TDB/20230630/WMB-10Xv2-CTXsp-log2/ms/RNA/var\n",
      "2023-09-23 17:42:20,133 - INFO - Writing /shared/Data/abc_download_root/expression_matrices/WMB-10Xv2-TDB/20230630/WMB-10Xv2-CTXsp-log2/ms/RNA/X/data\n",
      "2023-09-23 17:43:32,923 - INFO - Wrote   /shared/Data/abc_download_root/expression_matrices/WMB-10Xv2-TDB/20230630/WMB-10Xv2-CTXsp-log2/ms/RNA/X/data\n",
      "2023-09-23 17:43:33,016 - INFO - Wrote   /shared/Data/abc_download_root/expression_matrices/WMB-10Xv2-TDB/20230630/WMB-10Xv2-CTXsp-log2\n",
      "2023-09-23 17:43:33,017 - INFO - Successfully converted WMB-10Xv2-CTXsp-log2.h5ad to /shared/Data/abc_download_root/expression_matrices/WMB-10Xv2-TDB/20230630/WMB-10Xv2-CTXsp-log2. Progress: 3/10\n",
      "2023-09-23 17:43:33,024 - ERROR - An error occurred while processing WMB-10Xv2-CTXsp-log2.h5ad: write() argument must be str, not None\n",
      " 20%|██        | 4/20 [12:09<38:01, 142.62s/it]  2023-09-23 17:43:33,025 - INFO - Starting conversion: /shared/Data/abc_download_root/expression_matrices/WMB-10Xv2/20230630/WMB-10Xv2-Isocortex-3-log2.h5ad to /shared/Data/abc_download_root/expression_matrices/WMB-10Xv2-TDB/20230630/WMB-10Xv2-Isocortex-3-log2\n",
      "2023-09-23 17:43:35,818 - INFO - Wrote   /shared/Data/abc_download_root/expression_matrices/WMB-10Xv2-TDB/20230630/WMB-10Xv2-Isocortex-3-log2/obs\n",
      "2023-09-23 17:43:36,794 - INFO - Wrote   /shared/Data/abc_download_root/expression_matrices/WMB-10Xv2-TDB/20230630/WMB-10Xv2-Isocortex-3-log2/ms/RNA/var\n",
      "2023-09-23 17:43:36,997 - INFO - Writing /shared/Data/abc_download_root/expression_matrices/WMB-10Xv2-TDB/20230630/WMB-10Xv2-Isocortex-3-log2/ms/RNA/X/data\n",
      "2023-09-23 17:44:55,873 - INFO - ...  17.550% done, ETA 6.18 minutes\n",
      "2023-09-23 17:46:11,964 - INFO - ...  39.655% done, ETA 3.46 minutes\n",
      "2023-09-23 17:47:19,287 - INFO - ...  60.038% done, ETA 2.26 minutes\n",
      "2023-09-23 17:48:40,947 - INFO - ...  82.976% done, ETA 57.33 seconds\n",
      "2023-09-23 17:49:46,561 - INFO - Wrote   /shared/Data/abc_download_root/expression_matrices/WMB-10Xv2-TDB/20230630/WMB-10Xv2-Isocortex-3-log2/ms/RNA/X/data\n",
      "2023-09-23 17:49:46,649 - INFO - Wrote   /shared/Data/abc_download_root/expression_matrices/WMB-10Xv2-TDB/20230630/WMB-10Xv2-Isocortex-3-log2\n",
      "2023-09-23 17:49:46,650 - INFO - Successfully converted WMB-10Xv2-Isocortex-3-log2.h5ad to /shared/Data/abc_download_root/expression_matrices/WMB-10Xv2-TDB/20230630/WMB-10Xv2-Isocortex-3-log2. Progress: 4/10\n",
      "2023-09-23 17:49:46,658 - ERROR - An error occurred while processing WMB-10Xv2-Isocortex-3-log2.h5ad: write() argument must be str, not None\n",
      " 30%|███       | 6/20 [18:23<38:08, 163.50s/it]2023-09-23 17:49:46,659 - INFO - Starting conversion: /shared/Data/abc_download_root/expression_matrices/WMB-10Xv2/20230630/WMB-10Xv2-TH-log2.h5ad to /shared/Data/abc_download_root/expression_matrices/WMB-10Xv2-TDB/20230630/WMB-10Xv2-TH-log2\n",
      "2023-09-23 17:49:48,474 - INFO - Wrote   /shared/Data/abc_download_root/expression_matrices/WMB-10Xv2-TDB/20230630/WMB-10Xv2-TH-log2/obs\n",
      "2023-09-23 17:49:49,944 - INFO - Wrote   /shared/Data/abc_download_root/expression_matrices/WMB-10Xv2-TDB/20230630/WMB-10Xv2-TH-log2/ms/RNA/uns (uns collection)\n",
      "2023-09-23 17:49:50,748 - INFO - Wrote   /shared/Data/abc_download_root/expression_matrices/WMB-10Xv2-TDB/20230630/WMB-10Xv2-TH-log2/ms/RNA/var\n",
      "2023-09-23 17:49:50,947 - INFO - Writing /shared/Data/abc_download_root/expression_matrices/WMB-10Xv2-TDB/20230630/WMB-10Xv2-TH-log2/ms/RNA/X/data\n",
      "2023-09-23 17:51:20,592 - INFO - ...  46.048% done, ETA 1.75 minutes\n",
      "2023-09-23 17:52:28,430 - INFO - ...  81.076% done, ETA 36.65 seconds\n",
      "2023-09-23 17:52:43,992 - INFO - Wrote   /shared/Data/abc_download_root/expression_matrices/WMB-10Xv2-TDB/20230630/WMB-10Xv2-TH-log2/ms/RNA/X/data\n",
      "2023-09-23 17:52:44,078 - INFO - Wrote   /shared/Data/abc_download_root/expression_matrices/WMB-10Xv2-TDB/20230630/WMB-10Xv2-TH-log2\n",
      "2023-09-23 17:52:44,079 - INFO - Successfully converted WMB-10Xv2-TH-log2.h5ad to /shared/Data/abc_download_root/expression_matrices/WMB-10Xv2-TDB/20230630/WMB-10Xv2-TH-log2. Progress: 5/10\n",
      "2023-09-23 17:52:44,086 - ERROR - An error occurred while processing WMB-10Xv2-TH-log2.h5ad: write() argument must be str, not None\n",
      " 50%|█████     | 10/20 [21:20<15:50, 95.06s/it]2023-09-23 17:52:44,087 - INFO - Starting conversion: /shared/Data/abc_download_root/expression_matrices/WMB-10Xv2/20230630/WMB-10Xv2-MB-log2.h5ad to /shared/Data/abc_download_root/expression_matrices/WMB-10Xv2-TDB/20230630/WMB-10Xv2-MB-log2\n",
      "2023-09-23 17:52:45,494 - INFO - Wrote   /shared/Data/abc_download_root/expression_matrices/WMB-10Xv2-TDB/20230630/WMB-10Xv2-MB-log2/obs\n",
      "2023-09-23 17:52:46,474 - INFO - Wrote   /shared/Data/abc_download_root/expression_matrices/WMB-10Xv2-TDB/20230630/WMB-10Xv2-MB-log2/ms/RNA/uns (uns collection)\n",
      "2023-09-23 17:52:47,295 - INFO - Wrote   /shared/Data/abc_download_root/expression_matrices/WMB-10Xv2-TDB/20230630/WMB-10Xv2-MB-log2/ms/RNA/var\n",
      "2023-09-23 17:52:47,492 - INFO - Writing /shared/Data/abc_download_root/expression_matrices/WMB-10Xv2-TDB/20230630/WMB-10Xv2-MB-log2/ms/RNA/X/data\n",
      "2023-09-23 17:53:29,030 - INFO - Wrote   /shared/Data/abc_download_root/expression_matrices/WMB-10Xv2-TDB/20230630/WMB-10Xv2-MB-log2/ms/RNA/X/data\n",
      "2023-09-23 17:53:29,115 - INFO - Wrote   /shared/Data/abc_download_root/expression_matrices/WMB-10Xv2-TDB/20230630/WMB-10Xv2-MB-log2\n",
      "2023-09-23 17:53:29,116 - INFO - Successfully converted WMB-10Xv2-MB-log2.h5ad to /shared/Data/abc_download_root/expression_matrices/WMB-10Xv2-TDB/20230630/WMB-10Xv2-MB-log2. Progress: 6/10\n",
      "2023-09-23 17:53:29,122 - ERROR - An error occurred while processing WMB-10Xv2-MB-log2.h5ad: write() argument must be str, not None\n",
      " 55%|█████▌    | 11/20 [22:05<12:58, 86.54s/it]2023-09-23 17:53:29,124 - INFO - Starting conversion: /shared/Data/abc_download_root/expression_matrices/WMB-10Xv2/20230630/WMB-10Xv2-Isocortex-2-log2.h5ad to /shared/Data/abc_download_root/expression_matrices/WMB-10Xv2-TDB/20230630/WMB-10Xv2-Isocortex-2-log2\n",
      "2023-09-23 17:53:31,794 - INFO - Wrote   /shared/Data/abc_download_root/expression_matrices/WMB-10Xv2-TDB/20230630/WMB-10Xv2-Isocortex-2-log2/obs\n",
      "2023-09-23 17:53:32,752 - INFO - Wrote   /shared/Data/abc_download_root/expression_matrices/WMB-10Xv2-TDB/20230630/WMB-10Xv2-Isocortex-2-log2/ms/RNA/var\n",
      "2023-09-23 17:53:32,960 - INFO - Writing /shared/Data/abc_download_root/expression_matrices/WMB-10Xv2-TDB/20230630/WMB-10Xv2-Isocortex-2-log2/ms/RNA/X/data\n",
      "2023-09-23 17:54:49,053 - INFO - ...  16.498% done, ETA 6.42 minutes\n",
      "2023-09-23 17:55:53,432 - INFO - ...  33.016% done, ETA 4.35 minutes\n",
      "2023-09-23 17:57:15,414 - INFO - ...  50.770% done, ETA 3.49 minutes\n",
      "2023-09-23 17:58:20,747 - INFO - ...  65.941% done, ETA 2.44 minutes\n",
      "2023-09-23 18:00:13,529 - INFO - ...  91.159% done, ETA 37.24 seconds\n",
      "2023-09-23 18:00:52,757 - INFO - Wrote   /shared/Data/abc_download_root/expression_matrices/WMB-10Xv2-TDB/20230630/WMB-10Xv2-Isocortex-2-log2/ms/RNA/X/data\n",
      "2023-09-23 18:00:52,840 - INFO - Wrote   /shared/Data/abc_download_root/expression_matrices/WMB-10Xv2-TDB/20230630/WMB-10Xv2-Isocortex-2-log2\n",
      "2023-09-23 18:00:52,841 - INFO - Successfully converted WMB-10Xv2-Isocortex-2-log2.h5ad to /shared/Data/abc_download_root/expression_matrices/WMB-10Xv2-TDB/20230630/WMB-10Xv2-Isocortex-2-log2. Progress: 7/10\n",
      "2023-09-23 18:00:52,848 - ERROR - An error occurred while processing WMB-10Xv2-Isocortex-2-log2.h5ad: write() argument must be str, not None\n",
      " 60%|██████    | 12/20 [29:29<20:51, 156.41s/it]2023-09-23 18:00:52,850 - INFO - Starting conversion: /shared/Data/abc_download_root/expression_matrices/WMB-10Xv2/20230630/WMB-10Xv2-HY-log2.h5ad to /shared/Data/abc_download_root/expression_matrices/WMB-10Xv2-TDB/20230630/WMB-10Xv2-HY-log2\n",
      "2023-09-23 18:00:54,500 - INFO - Wrote   /shared/Data/abc_download_root/expression_matrices/WMB-10Xv2-TDB/20230630/WMB-10Xv2-HY-log2/obs\n",
      "2023-09-23 18:00:55,753 - INFO - Wrote   /shared/Data/abc_download_root/expression_matrices/WMB-10Xv2-TDB/20230630/WMB-10Xv2-HY-log2/ms/RNA/uns (uns collection)\n",
      "2023-09-23 18:00:56,542 - INFO - Wrote   /shared/Data/abc_download_root/expression_matrices/WMB-10Xv2-TDB/20230630/WMB-10Xv2-HY-log2/ms/RNA/var\n",
      "2023-09-23 18:00:56,726 - INFO - Writing /shared/Data/abc_download_root/expression_matrices/WMB-10Xv2-TDB/20230630/WMB-10Xv2-HY-log2/ms/RNA/X/data\n",
      "2023-09-23 18:02:12,798 - INFO - ...  55.127% done, ETA 1.03 minutes\n",
      "2023-09-23 18:03:03,037 - INFO - Wrote   /shared/Data/abc_download_root/expression_matrices/WMB-10Xv2-TDB/20230630/WMB-10Xv2-HY-log2/ms/RNA/X/data\n",
      "2023-09-23 18:03:03,125 - INFO - Wrote   /shared/Data/abc_download_root/expression_matrices/WMB-10Xv2-TDB/20230630/WMB-10Xv2-HY-log2\n",
      "2023-09-23 18:03:03,126 - INFO - Successfully converted WMB-10Xv2-HY-log2.h5ad to /shared/Data/abc_download_root/expression_matrices/WMB-10Xv2-TDB/20230630/WMB-10Xv2-HY-log2. Progress: 8/10\n",
      "2023-09-23 18:03:03,133 - ERROR - An error occurred while processing WMB-10Xv2-HY-log2.h5ad: write() argument must be str, not None\n",
      " 80%|████████  | 16/20 [31:39<06:04, 91.05s/it] 2023-09-23 18:03:03,135 - INFO - Starting conversion: /shared/Data/abc_download_root/expression_matrices/WMB-10Xv2/20230630/WMB-10Xv2-Isocortex-4-log2.h5ad to /shared/Data/abc_download_root/expression_matrices/WMB-10Xv2-TDB/20230630/WMB-10Xv2-Isocortex-4-log2\n",
      "2023-09-23 18:03:05,915 - INFO - Wrote   /shared/Data/abc_download_root/expression_matrices/WMB-10Xv2-TDB/20230630/WMB-10Xv2-Isocortex-4-log2/obs\n",
      "2023-09-23 18:03:06,866 - INFO - Wrote   /shared/Data/abc_download_root/expression_matrices/WMB-10Xv2-TDB/20230630/WMB-10Xv2-Isocortex-4-log2/ms/RNA/var\n",
      "2023-09-23 18:03:07,058 - INFO - Writing /shared/Data/abc_download_root/expression_matrices/WMB-10Xv2-TDB/20230630/WMB-10Xv2-Isocortex-4-log2/ms/RNA/X/data\n",
      "2023-09-23 18:04:16,667 - INFO - ...  14.276% done, ETA 6.97 minutes\n",
      "2023-09-23 18:05:36,965 - INFO - ...  30.172% done, ETA 5.88 minutes\n",
      "2023-09-23 18:06:57,443 - INFO - ...  48.411% done, ETA 4.08 minutes\n",
      "2023-09-23 18:08:02,687 - INFO - ...  65.735% done, ETA 2.61 minutes\n",
      "2023-09-23 18:09:22,399 - INFO - ...  89.549% done, ETA 54.08 seconds\n",
      "2023-09-23 18:09:58,102 - INFO - Wrote   /shared/Data/abc_download_root/expression_matrices/WMB-10Xv2-TDB/20230630/WMB-10Xv2-Isocortex-4-log2/ms/RNA/X/data\n",
      "2023-09-23 18:09:58,188 - INFO - Wrote   /shared/Data/abc_download_root/expression_matrices/WMB-10Xv2-TDB/20230630/WMB-10Xv2-Isocortex-4-log2\n",
      "2023-09-23 18:09:58,189 - INFO - Successfully converted WMB-10Xv2-Isocortex-4-log2.h5ad to /shared/Data/abc_download_root/expression_matrices/WMB-10Xv2-TDB/20230630/WMB-10Xv2-Isocortex-4-log2. Progress: 9/10\n",
      "2023-09-23 18:09:58,196 - ERROR - An error occurred while processing WMB-10Xv2-Isocortex-4-log2.h5ad: write() argument must be str, not None\n",
      " 85%|████████▌ | 17/20 [38:34<07:07, 142.44s/it]2023-09-23 18:09:58,197 - INFO - Starting conversion: /shared/Data/abc_download_root/expression_matrices/WMB-10Xv2/20230630/WMB-10Xv2-OLF-log2.h5ad to /shared/Data/abc_download_root/expression_matrices/WMB-10Xv2-TDB/20230630/WMB-10Xv2-OLF-log2\n",
      "2023-09-23 18:10:00,219 - INFO - Wrote   /shared/Data/abc_download_root/expression_matrices/WMB-10Xv2-TDB/20230630/WMB-10Xv2-OLF-log2/obs\n",
      "2023-09-23 18:10:02,020 - INFO - Wrote   /shared/Data/abc_download_root/expression_matrices/WMB-10Xv2-TDB/20230630/WMB-10Xv2-OLF-log2/ms/RNA/uns (uns collection)\n",
      "2023-09-23 18:10:02,878 - INFO - Wrote   /shared/Data/abc_download_root/expression_matrices/WMB-10Xv2-TDB/20230630/WMB-10Xv2-OLF-log2/ms/RNA/var\n",
      "2023-09-23 18:10:03,085 - INFO - Writing /shared/Data/abc_download_root/expression_matrices/WMB-10Xv2-TDB/20230630/WMB-10Xv2-OLF-log2/ms/RNA/X/data\n",
      "2023-09-23 18:11:11,791 - INFO - ...  25.960% done, ETA 3.27 minutes\n",
      "2023-09-23 18:12:09,146 - INFO - ...  47.096% done, ETA 2.39 minutes\n",
      "2023-09-23 18:13:15,204 - INFO - ...  69.914% done, ETA 1.40 minutes\n",
      "2023-09-23 18:13:48,206 - INFO - ...  90.346% done, ETA 32.63 seconds\n",
      "2023-09-23 18:14:01,588 - INFO - Wrote   /shared/Data/abc_download_root/expression_matrices/WMB-10Xv2-TDB/20230630/WMB-10Xv2-OLF-log2/ms/RNA/X/data\n",
      "2023-09-23 18:14:01,677 - INFO - Wrote   /shared/Data/abc_download_root/expression_matrices/WMB-10Xv2-TDB/20230630/WMB-10Xv2-OLF-log2\n",
      "2023-09-23 18:14:01,678 - INFO - Successfully converted WMB-10Xv2-OLF-log2.h5ad to /shared/Data/abc_download_root/expression_matrices/WMB-10Xv2-TDB/20230630/WMB-10Xv2-OLF-log2. Progress: 10/10\n",
      "2023-09-23 18:14:01,685 - ERROR - An error occurred while processing WMB-10Xv2-OLF-log2.h5ad: write() argument must be str, not None\n",
      "100%|██████████| 20/20 [42:38<00:00, 127.91s/it]\n"
     ]
    }
   ],
   "source": [
    "# Capture stdout\n",
    "old_stdout = sys.stdout\n",
    "new_stdout = io.StringIO()\n",
    "sys.stdout = new_stdout\n",
    "\n",
    "# Run conversion and display progress bar\n",
    "for filename in tqdm(os.listdir(input_dir)):\n",
    "    convert_file(filename, file_type=file_type_to_convert)\n",
    "    \n",
    "# Restore stdout\n",
    "sys.stdout = old_stdout\n",
    "\n",
    "# Get the captured content and write to file\n",
    "captured_output = new_stdout.getvalue()\n",
    "\n",
    "# Save captured terminal output to a log file\n",
    "log_file = os.path.join(output_dir, \"conversion_terminal_output.log\")\n",
    "with open(log_file, 'w') as f:\n",
    "    f.write(captured_output)"
   ]
  },
  {
   "cell_type": "code",
   "execution_count": 11,
   "id": "5f6884bc-8473-44bd-a92c-0be31c0a7765",
   "metadata": {
    "tags": []
   },
   "outputs": [],
   "source": [
    "# # Parallel conversion of files\n",
    "# with ThreadPoolExecutor() as executor:\n",
    "#     # executor.map(convert_file, os.listdir(input_dir))\n",
    "#     list(tqdm(executor.map(convert_file, os.listdir(input_dir)), total=len(os.listdir(input_dir))))\n",
    "# # Save terminal output to log file (if needed in addition to logging)\n",
    "# log_file = os.path.join(output_dir, \"conversion_terminal_output.log\")\n",
    "# with open(log_file, 'w') as f:\n",
    "#     f.write(tiledbsoma.logging.info())"
   ]
  }
 ],
 "metadata": {
  "kernelspec": {
   "display_name": "TDB",
   "language": "python",
   "name": "tdb"
  },
  "language_info": {
   "codemirror_mode": {
    "name": "ipython",
    "version": 3
   },
   "file_extension": ".py",
   "mimetype": "text/x-python",
   "name": "python",
   "nbconvert_exporter": "python",
   "pygments_lexer": "ipython3",
   "version": "3.11.3"
  }
 },
 "nbformat": 4,
 "nbformat_minor": 5
}
