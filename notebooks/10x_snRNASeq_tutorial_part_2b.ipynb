{
 "cells": [
  {
   "cell_type": "markdown",
   "metadata": {},
   "source": [
    "# 10x RNA-seq gene expression data (part 2b)\n",
    "\n",
    "We can continue to explore our examples looking at the expression of canonical neurotransmitter transporter genes and gene Tac2 over the whole brain. \n",
    "\n",
    "You need to be connected to the internet to run this notebook and that you have downloaded the example data via the getting started notebook."
   ]
  },
  {
   "cell_type": "code",
   "execution_count": 6,
   "metadata": {},
   "outputs": [],
   "source": [
    "import os\n",
    "import pandas as pd\n",
    "import numpy as np\n",
    "import anndata\n",
    "import time\n",
    "from pathlib import Path\n",
    "import matplotlib.pyplot as plt\n",
    "\n",
    "from abc_atlas_access.abc_atlas_cache.abc_project_cache import AbcProjectCache"
   ]
  },
  {
   "cell_type": "markdown",
   "metadata": {},
   "source": [
    "We will interact with the data using the **AbcProjectCache**. This cache object tracks which data has been downloaded and serves the path to the requsted data on disk. For metadata, the cache can also directly serve a up a Pandas Dataframe. See the ``getting_started`` notebook for more details on using the cache including installing it if it has not already been.\n",
    "\n",
    "**Change the download_base variable to where you have downloaded the data in your system.**"
   ]
  },
  {
   "cell_type": "code",
   "execution_count": 7,
   "metadata": {},
   "outputs": [
    {
     "data": {
      "text/plain": [
       "'releases/20240330/manifest.json'"
      ]
     },
     "execution_count": 7,
     "metadata": {},
     "output_type": "execute_result"
    }
   ],
   "source": [
    "download_base = Path('../../abc_download_root')\n",
    "abc_cache = AbcProjectCache.from_s3_cache(download_base)\n",
    "abc_cache.current_manifest"
   ]
  },
  {
   "cell_type": "markdown",
   "metadata": {},
   "source": [
    "Read in the expanded cell metadata table from the cache. Examples of creating this table are presented in part 1."
   ]
  },
  {
   "cell_type": "code",
   "execution_count": null,
   "metadata": {},
   "outputs": [
    {
     "name": "stderr",
     "output_type": "stream",
     "text": [
      "\n",
      "cell_metadata_with_cluster_annotation.csv:   0%|          | 0.00/1.39G [00:00<?, ?MB/s]\u001b[A\n",
      "cell_metadata_with_cluster_annotation.csv:   0%|          | 1.02k/1.39G [00:00<63:17:11, 6.09kMB/s]\u001b[A\n",
      "cell_metadata_with_cluster_annotation.csv:   0%|          | 6.61M/1.39G [00:00<00:50, 27.2MMB/s]   \u001b[A\n",
      "cell_metadata_with_cluster_annotation.csv:   1%|          | 9.72M/1.39G [00:00<00:49, 28.1MMB/s]\u001b[A\n",
      "cell_metadata_with_cluster_annotation.csv:   1%|          | 16.8M/1.39G [00:00<00:40, 34.2MMB/s]\u001b[A\n",
      "cell_metadata_with_cluster_annotation.csv:   2%|▏         | 23.4M/1.39G [00:00<00:31, 43.3MMB/s]\u001b[A\n",
      "cell_metadata_with_cluster_annotation.csv:   2%|▏         | 28.0M/1.39G [00:00<00:38, 35.0MMB/s]\u001b[A\n",
      "cell_metadata_with_cluster_annotation.csv:   2%|▏         | 33.5M/1.39G [00:00<00:33, 39.9MMB/s]\u001b[A\n",
      "cell_metadata_with_cluster_annotation.csv:   3%|▎         | 37.9M/1.39G [00:01<00:34, 39.5MMB/s]\u001b[A\n",
      "cell_metadata_with_cluster_annotation.csv:   3%|▎         | 45.7M/1.39G [00:01<00:26, 49.7MMB/s]\u001b[A\n",
      "cell_metadata_with_cluster_annotation.csv:   4%|▎         | 51.1M/1.39G [00:01<00:38, 34.4MMB/s]\u001b[A\n",
      "cell_metadata_with_cluster_annotation.csv:   4%|▍         | 56.9M/1.39G [00:01<00:40, 32.5MMB/s]\u001b[A\n",
      "cell_metadata_with_cluster_annotation.csv:   4%|▍         | 60.8M/1.39G [00:01<00:39, 33.1MMB/s]\u001b[A\n",
      "cell_metadata_with_cluster_annotation.csv:   5%|▍         | 67.2M/1.39G [00:01<00:34, 38.8MMB/s]\u001b[A\n",
      "cell_metadata_with_cluster_annotation.csv:   5%|▌         | 73.7M/1.39G [00:01<00:30, 42.8MMB/s]\u001b[A\n",
      "cell_metadata_with_cluster_annotation.csv:   6%|▌         | 78.4M/1.39G [00:02<00:34, 38.4MMB/s]\u001b[A\n",
      "cell_metadata_with_cluster_annotation.csv:   6%|▌         | 83.9M/1.39G [00:02<00:33, 39.2MMB/s]\u001b[A\n",
      "cell_metadata_with_cluster_annotation.csv:   7%|▋         | 91.4M/1.39G [00:02<00:27, 47.8MMB/s]\u001b[A\n",
      "cell_metadata_with_cluster_annotation.csv:   7%|▋         | 96.6M/1.39G [00:02<00:27, 46.9MMB/s]\u001b[A\n",
      "cell_metadata_with_cluster_annotation.csv:   7%|▋         | 102M/1.39G [00:02<00:34, 37.5MMB/s] \u001b[A\n",
      "cell_metadata_with_cluster_annotation.csv:   8%|▊         | 109M/1.39G [00:02<00:27, 45.8MMB/s]\u001b[A\n",
      "cell_metadata_with_cluster_annotation.csv:   8%|▊         | 114M/1.39G [00:02<00:30, 42.3MMB/s]\u001b[A\n",
      "cell_metadata_with_cluster_annotation.csv:   9%|▊         | 119M/1.39G [00:03<00:31, 40.3MMB/s]\u001b[A\n",
      "cell_metadata_with_cluster_annotation.csv:   9%|▉         | 124M/1.39G [00:03<00:32, 38.9MMB/s]\u001b[A\n",
      "cell_metadata_with_cluster_annotation.csv:   9%|▉         | 128M/1.39G [00:03<00:36, 34.7MMB/s]\u001b[A\n",
      "cell_metadata_with_cluster_annotation.csv:  10%|▉         | 134M/1.39G [00:03<00:32, 38.4MMB/s]\u001b[A\n",
      "cell_metadata_with_cluster_annotation.csv:  10%|▉         | 138M/1.39G [00:03<00:32, 38.0MMB/s]\u001b[A\n",
      "cell_metadata_with_cluster_annotation.csv:  10%|█         | 142M/1.39G [00:03<00:32, 37.7MMB/s]\u001b[A\n",
      "cell_metadata_with_cluster_annotation.csv:  11%|█         | 146M/1.39G [00:03<00:36, 34.0MMB/s]\u001b[A\n",
      "cell_metadata_with_cluster_annotation.csv:  11%|█         | 151M/1.39G [00:03<00:32, 37.7MMB/s]\u001b[A\n",
      "cell_metadata_with_cluster_annotation.csv:  11%|█         | 155M/1.39G [00:04<00:34, 36.1MMB/s]\u001b[A\n",
      "cell_metadata_with_cluster_annotation.csv:  11%|█▏        | 159M/1.39G [00:04<00:35, 34.5MMB/s]\u001b[A\n",
      "cell_metadata_with_cluster_annotation.csv:  12%|█▏        | 166M/1.39G [00:04<00:33, 36.6MMB/s]\u001b[A\n",
      "cell_metadata_with_cluster_annotation.csv:  12%|█▏        | 170M/1.39G [00:04<00:35, 34.8MMB/s]\u001b[A\n",
      "cell_metadata_with_cluster_annotation.csv:  13%|█▎        | 174M/1.39G [00:04<00:35, 34.4MMB/s]\u001b[A\n",
      "cell_metadata_with_cluster_annotation.csv:  13%|█▎        | 178M/1.39G [00:04<00:44, 27.3MMB/s]\u001b[A\n",
      "cell_metadata_with_cluster_annotation.csv:  13%|█▎        | 183M/1.39G [00:04<00:37, 32.2MMB/s]\u001b[A\n",
      "cell_metadata_with_cluster_annotation.csv:  13%|█▎        | 186M/1.39G [00:05<00:44, 26.8MMB/s]\u001b[A\n",
      "cell_metadata_with_cluster_annotation.csv:  14%|█▍        | 193M/1.39G [00:05<00:37, 31.4MMB/s]\u001b[A\n",
      "cell_metadata_with_cluster_annotation.csv:  14%|█▍        | 201M/1.39G [00:05<00:28, 41.6MMB/s]\u001b[A\n",
      "cell_metadata_with_cluster_annotation.csv:  15%|█▌        | 209M/1.39G [00:05<00:23, 50.3MMB/s]\u001b[A\n",
      "cell_metadata_with_cluster_annotation.csv:  15%|█▌        | 214M/1.39G [00:05<00:23, 49.9MMB/s]\u001b[A\n",
      "cell_metadata_with_cluster_annotation.csv:  16%|█▌        | 220M/1.39G [00:05<00:30, 38.0MMB/s]\u001b[A\n",
      "cell_metadata_with_cluster_annotation.csv:  16%|█▌        | 225M/1.39G [00:06<00:36, 32.1MMB/s]\u001b[A\n",
      "cell_metadata_with_cluster_annotation.csv:  16%|█▋        | 229M/1.39G [00:06<00:36, 31.8MMB/s]\u001b[A\n",
      "cell_metadata_with_cluster_annotation.csv:  17%|█▋        | 234M/1.39G [00:06<00:32, 35.9MMB/s]\u001b[A\n",
      "cell_metadata_with_cluster_annotation.csv:  17%|█▋        | 238M/1.39G [00:06<00:34, 33.2MMB/s]\u001b[A\n",
      "cell_metadata_with_cluster_annotation.csv:  17%|█▋        | 241M/1.39G [00:06<00:46, 24.6MMB/s]\u001b[A\n",
      "cell_metadata_with_cluster_annotation.csv:  18%|█▊        | 244M/1.39G [00:06<00:46, 24.4MMB/s]\u001b[A\n",
      "cell_metadata_with_cluster_annotation.csv:  18%|█▊        | 250M/1.39G [00:07<00:40, 28.3MMB/s]\u001b[A\n",
      "cell_metadata_with_cluster_annotation.csv:  18%|█▊        | 254M/1.39G [00:07<00:36, 31.3MMB/s]\u001b[A\n",
      "cell_metadata_with_cluster_annotation.csv:  19%|█▉        | 260M/1.39G [00:07<00:35, 31.8MMB/s]\u001b[A\n",
      "cell_metadata_with_cluster_annotation.csv:  19%|█▉        | 268M/1.39G [00:07<00:26, 41.8MMB/s]\u001b[A\n",
      "cell_metadata_with_cluster_annotation.csv:  20%|█▉        | 275M/1.39G [00:07<00:22, 48.6MMB/s]\u001b[A\n",
      "cell_metadata_with_cluster_annotation.csv:  20%|██        | 280M/1.39G [00:07<00:29, 37.1MMB/s]\u001b[A\n",
      "cell_metadata_with_cluster_annotation.csv:  21%|██        | 285M/1.39G [00:07<00:29, 37.4MMB/s]\u001b[A\n",
      "cell_metadata_with_cluster_annotation.csv:  21%|██        | 292M/1.39G [00:08<00:28, 38.9MMB/s]\u001b[A\n",
      "cell_metadata_with_cluster_annotation.csv:  21%|██▏       | 296M/1.39G [00:08<00:32, 33.6MMB/s]\u001b[A\n",
      "cell_metadata_with_cluster_annotation.csv:  22%|██▏       | 300M/1.39G [00:08<00:31, 34.2MMB/s]\u001b[A\n",
      "cell_metadata_with_cluster_annotation.csv:  22%|██▏       | 304M/1.39G [00:08<00:29, 36.1MMB/s]\u001b[A\n",
      "cell_metadata_with_cluster_annotation.csv:  22%|██▏       | 310M/1.39G [00:08<00:28, 37.8MMB/s]\u001b[A\n",
      "cell_metadata_with_cluster_annotation.csv:  23%|██▎       | 316M/1.39G [00:08<00:25, 42.6MMB/s]\u001b[A\n",
      "cell_metadata_with_cluster_annotation.csv:  23%|██▎       | 321M/1.39G [00:08<00:29, 36.7MMB/s]\u001b[A\n",
      "cell_metadata_with_cluster_annotation.csv:  24%|██▎       | 327M/1.39G [00:08<00:25, 42.0MMB/s]\u001b[A\n",
      "cell_metadata_with_cluster_annotation.csv:  24%|██▍       | 331M/1.39G [00:09<00:27, 38.0MMB/s]\u001b[A\n",
      "cell_metadata_with_cluster_annotation.csv:  24%|██▍       | 335M/1.39G [00:09<00:52, 19.8MMB/s]\u001b[A\n",
      "cell_metadata_with_cluster_annotation.csv:  24%|██▍       | 339M/1.39G [00:09<00:46, 22.4MMB/s]\u001b[A\n",
      "cell_metadata_with_cluster_annotation.csv:  25%|██▍       | 344M/1.39G [00:09<00:41, 24.9MMB/s]\u001b[A\n",
      "cell_metadata_with_cluster_annotation.csv:  25%|██▌       | 351M/1.39G [00:09<00:34, 29.6MMB/s]\u001b[A\n",
      "cell_metadata_with_cluster_annotation.csv:  26%|██▌       | 354M/1.39G [00:10<00:35, 29.0MMB/s]\u001b[A\n",
      "cell_metadata_with_cluster_annotation.csv:  26%|██▌       | 361M/1.39G [00:10<00:34, 29.5MMB/s]\u001b[A\n",
      "cell_metadata_with_cluster_annotation.csv:  26%|██▋       | 366M/1.39G [00:10<00:29, 34.9MMB/s]\u001b[A\n",
      "cell_metadata_with_cluster_annotation.csv:  27%|██▋       | 370M/1.39G [00:10<00:31, 32.2MMB/s]\u001b[A\n",
      "cell_metadata_with_cluster_annotation.csv:  27%|██▋       | 377M/1.39G [00:10<00:25, 39.6MMB/s]\u001b[A\n",
      "cell_metadata_with_cluster_annotation.csv:  28%|██▊       | 382M/1.39G [00:10<00:24, 41.1MMB/s]\u001b[A\n",
      "cell_metadata_with_cluster_annotation.csv:  28%|██▊       | 386M/1.39G [00:10<00:24, 40.2MMB/s]\u001b[A\n",
      "cell_metadata_with_cluster_annotation.csv:  28%|██▊       | 392M/1.39G [00:11<00:24, 40.1MMB/s]\u001b[A\n",
      "cell_metadata_with_cluster_annotation.csv:  29%|██▊       | 397M/1.39G [00:11<00:26, 37.1MMB/s]\u001b[A\n",
      "cell_metadata_with_cluster_annotation.csv:  29%|██▉       | 401M/1.39G [00:11<00:28, 34.1MMB/s]\u001b[A\n",
      "cell_metadata_with_cluster_annotation.csv:  29%|██▉       | 404M/1.39G [00:11<00:34, 28.7MMB/s]\u001b[A\n",
      "cell_metadata_with_cluster_annotation.csv:  30%|██▉       | 411M/1.39G [00:11<00:32, 29.9MMB/s]\u001b[A\n",
      "cell_metadata_with_cluster_annotation.csv:  30%|███       | 418M/1.39G [00:11<00:28, 34.2MMB/s]\u001b[A\n",
      "cell_metadata_with_cluster_annotation.csv:  30%|███       | 421M/1.39G [00:12<00:29, 32.6MMB/s]\u001b[A\n",
      "cell_metadata_with_cluster_annotation.csv:  31%|███       | 426M/1.39G [00:12<00:30, 32.0MMB/s]\u001b[A\n",
      "cell_metadata_with_cluster_annotation.csv:  31%|███       | 430M/1.39G [00:12<00:28, 33.8MMB/s]\u001b[A\n",
      "cell_metadata_with_cluster_annotation.csv:  31%|███▏      | 434M/1.39G [00:12<00:30, 31.2MMB/s]\u001b[A\n",
      "cell_metadata_with_cluster_annotation.csv:  32%|███▏      | 438M/1.39G [00:12<00:31, 30.0MMB/s]\u001b[A\n",
      "cell_metadata_with_cluster_annotation.csv:  32%|███▏      | 445M/1.39G [00:12<00:29, 31.7MMB/s]\u001b[A\n",
      "cell_metadata_with_cluster_annotation.csv:  33%|███▎      | 452M/1.39G [00:12<00:23, 40.5MMB/s]\u001b[A\n",
      "cell_metadata_with_cluster_annotation.csv:  33%|███▎      | 456M/1.39G [00:12<00:22, 40.9MMB/s]\u001b[A\n",
      "cell_metadata_with_cluster_annotation.csv:  33%|███▎      | 464M/1.39G [00:13<00:18, 50.0MMB/s]\u001b[A\n",
      "cell_metadata_with_cluster_annotation.csv:  34%|███▍      | 470M/1.39G [00:13<00:17, 51.6MMB/s]\u001b[A\n",
      "cell_metadata_with_cluster_annotation.csv:  34%|███▍      | 477M/1.39G [00:13<00:16, 56.6MMB/s]\u001b[A\n",
      "cell_metadata_with_cluster_annotation.csv:  35%|███▍      | 483M/1.39G [00:13<00:17, 50.7MMB/s]\u001b[A\n",
      "cell_metadata_with_cluster_annotation.csv:  35%|███▌      | 488M/1.39G [00:13<00:18, 48.6MMB/s]\u001b[A\n",
      "cell_metadata_with_cluster_annotation.csv:  36%|███▌      | 495M/1.39G [00:13<00:16, 54.3MMB/s]\u001b[A\n",
      "cell_metadata_with_cluster_annotation.csv:  36%|███▋      | 503M/1.39G [00:13<00:14, 60.2MMB/s]\u001b[A\n",
      "cell_metadata_with_cluster_annotation.csv:  37%|███▋      | 509M/1.39G [00:13<00:16, 53.6MMB/s]\u001b[A\n",
      "cell_metadata_with_cluster_annotation.csv:  37%|███▋      | 515M/1.39G [00:13<00:16, 53.2MMB/s]\u001b[A\n",
      "cell_metadata_with_cluster_annotation.csv:  38%|███▊      | 520M/1.39G [00:14<00:17, 49.6MMB/s]\u001b[A\n",
      "cell_metadata_with_cluster_annotation.csv:  38%|███▊      | 525M/1.39G [00:14<00:20, 43.0MMB/s]\u001b[A\n",
      "cell_metadata_with_cluster_annotation.csv:  38%|███▊      | 530M/1.39G [00:14<00:24, 34.9MMB/s]\u001b[A\n",
      "cell_metadata_with_cluster_annotation.csv:  39%|███▊      | 537M/1.39G [00:14<00:19, 43.7MMB/s]\u001b[A\n",
      "cell_metadata_with_cluster_annotation.csv:  39%|███▉      | 545M/1.39G [00:14<00:16, 51.4MMB/s]\u001b[A\n",
      "cell_metadata_with_cluster_annotation.csv:  40%|███▉      | 551M/1.39G [00:14<00:16, 49.2MMB/s]\u001b[A\n",
      "cell_metadata_with_cluster_annotation.csv:  40%|████      | 556M/1.39G [00:15<00:21, 38.9MMB/s]\u001b[A\n",
      "cell_metadata_with_cluster_annotation.csv:  41%|████      | 562M/1.39G [00:15<00:18, 43.7MMB/s]\u001b[A\n",
      "cell_metadata_with_cluster_annotation.csv:  41%|████      | 567M/1.39G [00:15<00:20, 40.7MMB/s]\u001b[A\n",
      "cell_metadata_with_cluster_annotation.csv:  41%|████      | 571M/1.39G [00:15<00:20, 40.5MMB/s]\u001b[A\n",
      "cell_metadata_with_cluster_annotation.csv:  42%|████▏     | 577M/1.39G [00:15<00:19, 41.3MMB/s]\u001b[A\n",
      "cell_metadata_with_cluster_annotation.csv:  42%|████▏     | 581M/1.39G [00:15<00:21, 37.2MMB/s]\u001b[A\n",
      "cell_metadata_with_cluster_annotation.csv:  42%|████▏     | 587M/1.39G [00:15<00:19, 40.0MMB/s]\u001b[A\n",
      "cell_metadata_with_cluster_annotation.csv:  43%|████▎     | 594M/1.39G [00:15<00:17, 44.7MMB/s]\u001b[A\n",
      "cell_metadata_with_cluster_annotation.csv:  43%|████▎     | 598M/1.39G [00:16<00:17, 43.8MMB/s]\u001b[A\n",
      "cell_metadata_with_cluster_annotation.csv:  44%|████▎     | 604M/1.39G [00:16<00:16, 46.2MMB/s]\u001b[A\n",
      "cell_metadata_with_cluster_annotation.csv:  44%|████▍     | 612M/1.39G [00:16<00:14, 54.9MMB/s]\u001b[A\n",
      "cell_metadata_with_cluster_annotation.csv:  45%|████▍     | 618M/1.39G [00:16<00:16, 45.6MMB/s]\u001b[A\n",
      "cell_metadata_with_cluster_annotation.csv:  45%|████▍     | 622M/1.39G [00:16<00:23, 32.3MMB/s]\u001b[A\n",
      "cell_metadata_with_cluster_annotation.csv:  45%|████▌     | 630M/1.39G [00:16<00:18, 40.2MMB/s]\u001b[A\n",
      "cell_metadata_with_cluster_annotation.csv:  46%|████▌     | 637M/1.39G [00:16<00:15, 47.4MMB/s]\u001b[A\n",
      "cell_metadata_with_cluster_annotation.csv:  46%|████▋     | 643M/1.39G [00:16<00:15, 48.0MMB/s]\u001b[A\n",
      "cell_metadata_with_cluster_annotation.csv:  47%|████▋     | 649M/1.39G [00:17<00:14, 49.3MMB/s]\u001b[A\n",
      "cell_metadata_with_cluster_annotation.csv:  47%|████▋     | 654M/1.39G [00:17<00:15, 47.1MMB/s]\u001b[A\n",
      "cell_metadata_with_cluster_annotation.csv:  48%|████▊     | 660M/1.39G [00:17<00:14, 49.4MMB/s]\u001b[A\n",
      "cell_metadata_with_cluster_annotation.csv:  48%|████▊     | 665M/1.39G [00:17<00:17, 41.3MMB/s]\u001b[A\n",
      "cell_metadata_with_cluster_annotation.csv:  48%|████▊     | 670M/1.39G [00:17<00:16, 42.4MMB/s]\u001b[A\n",
      "cell_metadata_with_cluster_annotation.csv:  49%|████▊     | 674M/1.39G [00:17<00:18, 38.9MMB/s]\u001b[A\n",
      "cell_metadata_with_cluster_annotation.csv:  49%|████▉     | 679M/1.39G [00:17<00:19, 36.1MMB/s]\u001b[A\n",
      "cell_metadata_with_cluster_annotation.csv:  49%|████▉     | 686M/1.39G [00:18<00:21, 32.6MMB/s]\u001b[A\n",
      "cell_metadata_with_cluster_annotation.csv:  50%|████▉     | 690M/1.39G [00:18<00:21, 31.9MMB/s]\u001b[A\n",
      "cell_metadata_with_cluster_annotation.csv:  50%|█████     | 694M/1.39G [00:18<00:23, 28.9MMB/s]\u001b[A\n",
      "cell_metadata_with_cluster_annotation.csv:  50%|█████     | 698M/1.39G [00:18<00:23, 29.2MMB/s]\u001b[A\n",
      "cell_metadata_with_cluster_annotation.csv:  51%|█████     | 705M/1.39G [00:18<00:21, 32.2MMB/s]\u001b[A\n",
      "cell_metadata_with_cluster_annotation.csv:  51%|█████▏    | 712M/1.39G [00:18<00:16, 40.8MMB/s]\u001b[A\n",
      "cell_metadata_with_cluster_annotation.csv:  52%|█████▏    | 716M/1.39G [00:18<00:16, 40.4MMB/s]\u001b[A\n",
      "cell_metadata_with_cluster_annotation.csv:  52%|█████▏    | 721M/1.39G [00:19<00:20, 31.9MMB/s]\u001b[A\n",
      "cell_metadata_with_cluster_annotation.csv:  52%|█████▏    | 725M/1.39G [00:19<00:22, 30.0MMB/s]\u001b[A\n",
      "cell_metadata_with_cluster_annotation.csv:  53%|█████▎    | 730M/1.39G [00:19<00:20, 31.6MMB/s]\u001b[A\n",
      "cell_metadata_with_cluster_annotation.csv:  53%|█████▎    | 737M/1.39G [00:19<00:15, 40.8MMB/s]\u001b[A\n",
      "cell_metadata_with_cluster_annotation.csv:  54%|█████▎    | 743M/1.39G [00:19<00:14, 44.1MMB/s]\u001b[A\n",
      "cell_metadata_with_cluster_annotation.csv:  54%|█████▍    | 747M/1.39G [00:19<00:14, 43.7MMB/s]\u001b[A\n",
      "cell_metadata_with_cluster_annotation.csv:  54%|█████▍    | 755M/1.39G [00:19<00:13, 46.1MMB/s]\u001b[A\n",
      "cell_metadata_with_cluster_annotation.csv:  55%|█████▌    | 763M/1.39G [00:20<00:11, 54.0MMB/s]\u001b[A\n",
      "cell_metadata_with_cluster_annotation.csv:  55%|█████▌    | 768M/1.39G [00:20<00:11, 54.6MMB/s]\u001b[A\n",
      "cell_metadata_with_cluster_annotation.csv:  56%|█████▌    | 774M/1.39G [00:20<00:12, 48.5MMB/s]\u001b[A\n",
      "cell_metadata_with_cluster_annotation.csv:  56%|█████▌    | 780M/1.39G [00:20<00:12, 50.1MMB/s]\u001b[A\n",
      "cell_metadata_with_cluster_annotation.csv:  57%|█████▋    | 785M/1.39G [00:20<00:14, 40.2MMB/s]\u001b[A\n",
      "cell_metadata_with_cluster_annotation.csv:  57%|█████▋    | 789M/1.39G [00:20<00:19, 29.9MMB/s]\u001b[A\n",
      "cell_metadata_with_cluster_annotation.csv:  57%|█████▋    | 797M/1.39G [00:21<00:17, 34.5MMB/s]\u001b[A\n",
      "cell_metadata_with_cluster_annotation.csv:  58%|█████▊    | 805M/1.39G [00:21<00:13, 42.8MMB/s]\u001b[A\n",
      "cell_metadata_with_cluster_annotation.csv:  58%|█████▊    | 810M/1.39G [00:21<00:13, 43.1MMB/s]\u001b[A\n",
      "cell_metadata_with_cluster_annotation.csv:  59%|█████▊    | 814M/1.39G [00:21<00:14, 39.4MMB/s]\u001b[A\n",
      "cell_metadata_with_cluster_annotation.csv:  59%|█████▉    | 820M/1.39G [00:21<00:14, 39.6MMB/s]\u001b[A\n",
      "cell_metadata_with_cluster_annotation.csv:  59%|█████▉    | 825M/1.39G [00:21<00:14, 38.3MMB/s]\u001b[A\n",
      "cell_metadata_with_cluster_annotation.csv:  60%|█████▉    | 830M/1.39G [00:21<00:15, 36.5MMB/s]\u001b[A\n",
      "cell_metadata_with_cluster_annotation.csv:  60%|██████    | 838M/1.39G [00:21<00:12, 45.1MMB/s]\u001b[A\n",
      "cell_metadata_with_cluster_annotation.csv:  61%|██████    | 843M/1.39G [00:22<00:13, 40.4MMB/s]\u001b[A\n",
      "cell_metadata_with_cluster_annotation.csv:  61%|██████    | 848M/1.39G [00:22<00:12, 42.2MMB/s]\u001b[A\n",
      "cell_metadata_with_cluster_annotation.csv:  62%|██████▏   | 856M/1.39G [00:22<00:10, 51.2MMB/s]\u001b[A\n",
      "cell_metadata_with_cluster_annotation.csv:  62%|██████▏   | 861M/1.39G [00:22<00:10, 49.2MMB/s]\u001b[A\n",
      "cell_metadata_with_cluster_annotation.csv:  62%|██████▏   | 866M/1.39G [00:22<00:11, 46.7MMB/s]\u001b[A\n",
      "cell_metadata_with_cluster_annotation.csv:  63%|██████▎   | 871M/1.39G [00:22<00:13, 38.0MMB/s]\u001b[A\n",
      "cell_metadata_with_cluster_annotation.csv:  63%|██████▎   | 875M/1.39G [00:22<00:16, 31.8MMB/s]\u001b[A\n",
      "cell_metadata_with_cluster_annotation.csv:  64%|██████▎   | 881M/1.39G [00:23<00:16, 30.6MMB/s]\u001b[A\n",
      "cell_metadata_with_cluster_annotation.csv:  64%|██████▍   | 888M/1.39G [00:23<00:12, 38.9MMB/s]\u001b[A\n",
      "cell_metadata_with_cluster_annotation.csv:  64%|██████▍   | 892M/1.39G [00:23<00:12, 38.5MMB/s]\u001b[A\n",
      "cell_metadata_with_cluster_annotation.csv:  65%|██████▍   | 898M/1.39G [00:23<00:13, 35.6MMB/s]\u001b[A\n",
      "cell_metadata_with_cluster_annotation.csv:  65%|██████▌   | 905M/1.39G [00:23<00:11, 43.6MMB/s]\u001b[A\n",
      "cell_metadata_with_cluster_annotation.csv:  66%|██████▌   | 910M/1.39G [00:23<00:14, 32.9MMB/s]\u001b[A\n",
      "cell_metadata_with_cluster_annotation.csv:  66%|██████▌   | 914M/1.39G [00:24<00:13, 33.9MMB/s]\u001b[A\n",
      "cell_metadata_with_cluster_annotation.csv:  66%|██████▌   | 917M/1.39G [00:24<00:13, 34.1MMB/s]\u001b[A\n",
      "cell_metadata_with_cluster_annotation.csv:  67%|██████▋   | 923M/1.39G [00:24<00:13, 34.0MMB/s]\u001b[A\n",
      "cell_metadata_with_cluster_annotation.csv:  67%|██████▋   | 929M/1.39G [00:24<00:11, 38.8MMB/s]\u001b[A\n",
      "cell_metadata_with_cluster_annotation.csv:  67%|██████▋   | 933M/1.39G [00:24<00:11, 38.3MMB/s]\u001b[A\n",
      "cell_metadata_with_cluster_annotation.csv:  68%|██████▊   | 940M/1.39G [00:24<00:11, 40.6MMB/s]\u001b[A\n",
      "cell_metadata_with_cluster_annotation.csv:  68%|██████▊   | 947M/1.39G [00:24<00:08, 49.2MMB/s]\u001b[A\n",
      "cell_metadata_with_cluster_annotation.csv:  69%|██████▊   | 952M/1.39G [00:24<00:10, 40.3MMB/s]\u001b[A\n",
      "cell_metadata_with_cluster_annotation.csv:  69%|██████▉   | 957M/1.39G [00:25<00:11, 38.6MMB/s]\u001b[A\n",
      "cell_metadata_with_cluster_annotation.csv:  69%|██████▉   | 963M/1.39G [00:25<00:11, 36.3MMB/s]\u001b[A\n",
      "cell_metadata_with_cluster_annotation.csv:  70%|██████▉   | 967M/1.39G [00:25<00:13, 31.1MMB/s]\u001b[A\n",
      "cell_metadata_with_cluster_annotation.csv:  70%|███████   | 973M/1.39G [00:25<00:14, 28.7MMB/s]\u001b[A\n",
      "cell_metadata_with_cluster_annotation.csv:  71%|███████   | 979M/1.39G [00:25<00:12, 33.5MMB/s]\u001b[A\n",
      "cell_metadata_with_cluster_annotation.csv:  71%|███████   | 982M/1.39G [00:25<00:12, 33.0MMB/s]\u001b[A\n",
      "cell_metadata_with_cluster_annotation.csv:  71%|███████▏  | 988M/1.39G [00:26<00:11, 34.9MMB/s]\u001b[A\n",
      "cell_metadata_with_cluster_annotation.csv:  72%|███████▏  | 992M/1.39G [00:26<00:11, 35.0MMB/s]\u001b[A\n",
      "cell_metadata_with_cluster_annotation.csv:  72%|███████▏  | 998M/1.39G [00:26<00:09, 39.7MMB/s]\u001b[A\n",
      "cell_metadata_with_cluster_annotation.csv:  73%|███████▎  | 1.01G/1.39G [00:26<00:07, 48.7MMB/s]\u001b[A\n",
      "cell_metadata_with_cluster_annotation.csv:  73%|███████▎  | 1.01G/1.39G [00:26<00:07, 47.3MMB/s]\u001b[A\n",
      "cell_metadata_with_cluster_annotation.csv:  73%|███████▎  | 1.02G/1.39G [00:26<00:09, 37.8MMB/s]\u001b[A\n",
      "cell_metadata_with_cluster_annotation.csv:  74%|███████▍  | 1.02G/1.39G [00:26<00:08, 42.4MMB/s]\u001b[A\n",
      "cell_metadata_with_cluster_annotation.csv:  74%|███████▍  | 1.03G/1.39G [00:26<00:08, 43.4MMB/s]\u001b[A\n",
      "cell_metadata_with_cluster_annotation.csv:  75%|███████▍  | 1.03G/1.39G [00:27<00:08, 41.0MMB/s]\u001b[A\n",
      "cell_metadata_with_cluster_annotation.csv:  75%|███████▍  | 1.04G/1.39G [00:27<00:10, 34.2MMB/s]\u001b[A\n",
      "cell_metadata_with_cluster_annotation.csv:  75%|███████▌  | 1.04G/1.39G [00:27<00:11, 30.2MMB/s]\u001b[A\n",
      "cell_metadata_with_cluster_annotation.csv:  76%|███████▌  | 1.05G/1.39G [00:27<00:10, 33.0MMB/s]\u001b[A\n",
      "cell_metadata_with_cluster_annotation.csv:  76%|███████▌  | 1.05G/1.39G [00:27<00:11, 29.3MMB/s]\u001b[A\n",
      "cell_metadata_with_cluster_annotation.csv:  76%|███████▌  | 1.06G/1.39G [00:27<00:11, 29.1MMB/s]\u001b[A\n",
      "cell_metadata_with_cluster_annotation.csv:  76%|███████▋  | 1.06G/1.39G [00:28<00:10, 32.1MMB/s]\u001b[A\n",
      "cell_metadata_with_cluster_annotation.csv:  77%|███████▋  | 1.07G/1.39G [00:28<00:09, 34.0MMB/s]\u001b[A\n",
      "cell_metadata_with_cluster_annotation.csv:  77%|███████▋  | 1.07G/1.39G [00:28<00:10, 31.1MMB/s]\u001b[A\n",
      "cell_metadata_with_cluster_annotation.csv:  77%|███████▋  | 1.07G/1.39G [00:28<00:08, 35.4MMB/s]\u001b[A\n",
      "cell_metadata_with_cluster_annotation.csv:  78%|███████▊  | 1.08G/1.39G [00:28<00:08, 37.2MMB/s]\u001b[A\n",
      "cell_metadata_with_cluster_annotation.csv:  78%|███████▊  | 1.08G/1.39G [00:28<00:08, 34.5MMB/s]\u001b[A\n",
      "cell_metadata_with_cluster_annotation.csv:  79%|███████▊  | 1.09G/1.39G [00:28<00:07, 38.9MMB/s]\u001b[A\n",
      "cell_metadata_with_cluster_annotation.csv:  79%|███████▉  | 1.10G/1.39G [00:28<00:06, 47.3MMB/s]\u001b[A\n",
      "cell_metadata_with_cluster_annotation.csv:  80%|███████▉  | 1.10G/1.39G [00:29<00:06, 40.5MMB/s]\u001b[A\n",
      "cell_metadata_with_cluster_annotation.csv:  80%|███████▉  | 1.11G/1.39G [00:29<00:08, 33.0MMB/s]\u001b[A\n",
      "cell_metadata_with_cluster_annotation.csv:  80%|████████  | 1.11G/1.39G [00:29<00:06, 41.3MMB/s]\u001b[A\n",
      "cell_metadata_with_cluster_annotation.csv:  81%|████████  | 1.12G/1.39G [00:29<00:05, 49.5MMB/s]\u001b[A\n",
      "cell_metadata_with_cluster_annotation.csv:  82%|████████▏ | 1.13G/1.39G [00:29<00:04, 56.5MMB/s]\u001b[A\n",
      "cell_metadata_with_cluster_annotation.csv:  82%|████████▏ | 1.14G/1.39G [00:29<00:04, 55.7MMB/s]\u001b[A\n",
      "cell_metadata_with_cluster_annotation.csv:  82%|████████▏ | 1.14G/1.39G [00:30<00:06, 37.9MMB/s]\u001b[A\n",
      "cell_metadata_with_cluster_annotation.csv:  83%|████████▎ | 1.15G/1.39G [00:30<00:05, 45.9MMB/s]\u001b[A\n",
      "cell_metadata_with_cluster_annotation.csv:  83%|████████▎ | 1.16G/1.39G [00:30<00:05, 43.6MMB/s]\u001b[A\n",
      "cell_metadata_with_cluster_annotation.csv:  84%|████████▍ | 1.17G/1.39G [00:30<00:04, 50.5MMB/s]\u001b[A\n",
      "cell_metadata_with_cluster_annotation.csv:  84%|████████▍ | 1.17G/1.39G [00:30<00:04, 50.3MMB/s]\u001b[A\n",
      "cell_metadata_with_cluster_annotation.csv:  85%|████████▍ | 1.18G/1.39G [00:30<00:04, 42.6MMB/s]\u001b[A\n",
      "cell_metadata_with_cluster_annotation.csv:  85%|████████▌ | 1.18G/1.39G [00:30<00:04, 41.7MMB/s]\u001b[A\n",
      "cell_metadata_with_cluster_annotation.csv:  86%|████████▌ | 1.19G/1.39G [00:30<00:04, 46.3MMB/s]\u001b[A\n",
      "cell_metadata_with_cluster_annotation.csv:  86%|████████▌ | 1.19G/1.39G [00:31<00:05, 33.7MMB/s]\u001b[A\n",
      "cell_metadata_with_cluster_annotation.csv:  86%|████████▋ | 1.20G/1.39G [00:31<00:06, 27.9MMB/s]\u001b[A\n",
      "cell_metadata_with_cluster_annotation.csv:  87%|████████▋ | 1.20G/1.39G [00:31<00:07, 25.0MMB/s]\u001b[A\n",
      "cell_metadata_with_cluster_annotation.csv:  87%|████████▋ | 1.21G/1.39G [00:31<00:05, 34.5MMB/s]\u001b[A\n",
      "cell_metadata_with_cluster_annotation.csv:  88%|████████▊ | 1.21G/1.39G [00:31<00:04, 36.6MMB/s]\u001b[A\n",
      "cell_metadata_with_cluster_annotation.csv:  88%|████████▊ | 1.22G/1.39G [00:32<00:04, 36.6MMB/s]\u001b[A\n",
      "cell_metadata_with_cluster_annotation.csv:  88%|████████▊ | 1.22G/1.39G [00:32<00:04, 38.1MMB/s]\u001b[A\n",
      "cell_metadata_with_cluster_annotation.csv:  89%|████████▊ | 1.23G/1.39G [00:32<00:04, 32.3MMB/s]\u001b[A\n",
      "cell_metadata_with_cluster_annotation.csv:  89%|████████▉ | 1.23G/1.39G [00:32<00:04, 32.1MMB/s]\u001b[A\n",
      "cell_metadata_with_cluster_annotation.csv:  89%|████████▉ | 1.24G/1.39G [00:32<00:03, 41.2MMB/s]\u001b[A\n",
      "cell_metadata_with_cluster_annotation.csv:  90%|████████▉ | 1.25G/1.39G [00:32<00:03, 38.0MMB/s]\u001b[A\n",
      "cell_metadata_with_cluster_annotation.csv:  90%|█████████ | 1.25G/1.39G [00:32<00:03, 39.5MMB/s]\u001b[A\n",
      "cell_metadata_with_cluster_annotation.csv:  91%|█████████ | 1.26G/1.39G [00:32<00:02, 46.7MMB/s]\u001b[A\n",
      "cell_metadata_with_cluster_annotation.csv:  91%|█████████ | 1.26G/1.39G [00:33<00:02, 44.0MMB/s]\u001b[A\n",
      "cell_metadata_with_cluster_annotation.csv:  91%|█████████▏| 1.27G/1.39G [00:33<00:02, 40.4MMB/s]\u001b[A\n",
      "cell_metadata_with_cluster_annotation.csv:  92%|█████████▏| 1.27G/1.39G [00:33<00:03, 35.8MMB/s]\u001b[A\n",
      "cell_metadata_with_cluster_annotation.csv:  92%|█████████▏| 1.27G/1.39G [00:33<00:03, 35.1MMB/s]\u001b[A\n",
      "cell_metadata_with_cluster_annotation.csv:  92%|█████████▏| 1.28G/1.39G [00:33<00:03, 30.9MMB/s]\u001b[A\n",
      "cell_metadata_with_cluster_annotation.csv:  93%|█████████▎| 1.28G/1.39G [00:33<00:03, 34.2MMB/s]\u001b[A\n",
      "cell_metadata_with_cluster_annotation.csv:  93%|█████████▎| 1.29G/1.39G [00:33<00:02, 39.5MMB/s]\u001b[A\n",
      "cell_metadata_with_cluster_annotation.csv:  93%|█████████▎| 1.29G/1.39G [00:33<00:02, 38.4MMB/s]\u001b[A\n",
      "cell_metadata_with_cluster_annotation.csv:  94%|█████████▍| 1.30G/1.39G [00:34<00:02, 43.2MMB/s]\u001b[A\n",
      "cell_metadata_with_cluster_annotation.csv:  94%|█████████▍| 1.30G/1.39G [00:34<00:02, 39.7MMB/s]\u001b[A\n",
      "cell_metadata_with_cluster_annotation.csv:  94%|█████████▍| 1.31G/1.39G [00:34<00:02, 36.3MMB/s]\u001b[A\n",
      "cell_metadata_with_cluster_annotation.csv:  95%|█████████▍| 1.32G/1.39G [00:34<00:01, 45.4MMB/s]\u001b[A\n",
      "cell_metadata_with_cluster_annotation.csv:  95%|█████████▌| 1.32G/1.39G [00:34<00:01, 42.8MMB/s]\u001b[A\n",
      "cell_metadata_with_cluster_annotation.csv:  96%|█████████▌| 1.33G/1.39G [00:34<00:01, 36.9MMB/s]\u001b[A\n",
      "cell_metadata_with_cluster_annotation.csv:  96%|█████████▌| 1.33G/1.39G [00:34<00:01, 36.8MMB/s]\u001b[A\n",
      "cell_metadata_with_cluster_annotation.csv:  96%|█████████▋| 1.34G/1.39G [00:35<00:01, 33.2MMB/s]\u001b[A\n",
      "cell_metadata_with_cluster_annotation.csv:  97%|█████████▋| 1.34G/1.39G [00:35<00:01, 36.3MMB/s]\u001b[A\n",
      "cell_metadata_with_cluster_annotation.csv:  97%|█████████▋| 1.35G/1.39G [00:35<00:00, 45.4MMB/s]\u001b[A\n",
      "cell_metadata_with_cluster_annotation.csv:  98%|█████████▊| 1.35G/1.39G [00:35<00:00, 38.2MMB/s]\u001b[A\n",
      "cell_metadata_with_cluster_annotation.csv:  98%|█████████▊| 1.36G/1.39G [00:35<00:00, 36.7MMB/s]\u001b[A\n",
      "cell_metadata_with_cluster_annotation.csv:  99%|█████████▊| 1.37G/1.39G [00:35<00:00, 45.9MMB/s]\u001b[A\n",
      "cell_metadata_with_cluster_annotation.csv:  99%|█████████▉| 1.37G/1.39G [00:35<00:00, 44.5MMB/s]\u001b[A\n",
      "cell_metadata_with_cluster_annotation.csv:  99%|█████████▉| 1.38G/1.39G [00:36<00:00, 38.5MMB/s]\u001b[A\n",
      "cell_metadata_with_cluster_annotation.csv: 100%|██████████| 1.39G/1.39G [00:45<00:00, 30.6MMB/s]\u001b[A\n"
     ]
    }
   ],
   "source": [
    "cell = abc_cache.get_metadata_dataframe(directory='WMB-10X', file_name='cell_metadata_with_cluster_annotation')\n",
    "cell.set_index('cell_label',inplace=True)"
   ]
  },
  {
   "cell_type": "markdown",
   "metadata": {},
   "source": [
    "Read in the gene expression dataframe from the cache. How this table was created is presented in part 2a tutorial."
   ]
  },
  {
   "cell_type": "code",
   "execution_count": null,
   "metadata": {},
   "outputs": [],
   "source": [
    "exp = abc_cache.get_metadata_dataframe(directory='WMB-10X', file_name='example_genes_all_cells_expression')\n",
    "exp.set_index('cell_label',inplace=True)"
   ]
  },
  {
   "cell_type": "markdown",
   "metadata": {},
   "source": [
    "We define a helper functions *aggregate_by_metadata* to compute the average expression for a given catergory and *plot_umap* to plot cells in a UMAP colorized by metadata or expression values."
   ]
  },
  {
   "cell_type": "code",
   "execution_count": null,
   "metadata": {},
   "outputs": [],
   "source": [
    "def aggregate_by_metadata(df, gnames, value, sort = False):\n",
    "    grouped = df.groupby(value)[gnames].mean()\n",
    "    if sort:\n",
    "        grouped = grouped.sort_values(by=gnames[0], ascending=False)\n",
    "    return grouped"
   ]
  },
  {
   "cell_type": "code",
   "execution_count": null,
   "metadata": {},
   "outputs": [],
   "source": [
    "def plot_umap(xx, yy, cc=None, val=None, fig_width=8, fig_height=8, cmap=None):\n",
    "    \n",
    "    fig, ax = plt.subplots()\n",
    "    fig.set_size_inches(fig_width, fig_height)\n",
    "    \n",
    "    if cmap is not None :\n",
    "        plt.scatter(xx, yy, s=0.5, c=val, marker='.', cmap=cmap)\n",
    "    elif cc is not None :\n",
    "        plt.scatter(xx, yy, s=0.5, color=cc, marker='.')\n",
    "        \n",
    "    ax.axis('equal')\n",
    "    ax.set_xlim(-18, 27)\n",
    "    ax.set_ylim(-18, 27)\n",
    "    ax.set_xticks([])\n",
    "    ax.set_yticks([])\n",
    "    \n",
    "    return fig, ax"
   ]
  },
  {
   "cell_type": "markdown",
   "metadata": {},
   "source": [
    "### Expression of canonical neurotransmitter transporter genes in the whole brain\n",
    "\n",
    "During analysis, clusters were assigned neurotransmitter identities based on the expression of of canonical neurotransmitter transporter genes. In this example, we create a dataframe comprising of expression of the 9 solute carrier family genes for all the cells in the dataset.  We then group the cells by the assigned neurotransmitter class and compute the mean expression for each group. We define a simple helper function to visualized the expression as a heatmap."
   ]
  },
  {
   "cell_type": "code",
   "execution_count": null,
   "metadata": {},
   "outputs": [],
   "source": [
    "def plot_heatmap(df, fig_width=8, fig_height=4, cmap=plt.cm.magma_r):\n",
    "\n",
    "    arr = df.to_numpy()\n",
    "\n",
    "    fig, ax = plt.subplots()\n",
    "    fig.set_size_inches(fig_width, fig_height)\n",
    "\n",
    "    im = ax.imshow(arr, cmap=cmap, aspect='auto', vmin=0, vmax=6)\n",
    "    xlabs = df.columns.values\n",
    "    ylabs = df.index.values\n",
    "\n",
    "    ax.set_xticks(range(len(xlabs)))\n",
    "    ax.set_xticklabels(xlabs)\n",
    "\n",
    "    ax.set_yticks(range(len(ylabs)))\n",
    "    res = ax.set_yticklabels(ylabs)\n",
    "    \n",
    "    return im"
   ]
  },
  {
   "cell_type": "code",
   "execution_count": null,
   "metadata": {},
   "outputs": [],
   "source": [
    "ntgenes = ['Slc17a7', 'Slc17a6', 'Slc17a8', 'Slc32a1', 'Slc6a5', 'Slc18a3', 'Slc6a3', 'Slc6a4', 'Slc6a2']\n",
    "filtered = exp[ntgenes]\n",
    "joined = cell.join(filtered)"
   ]
  },
  {
   "cell_type": "markdown",
   "metadata": {},
   "source": [
    "The results are similar that in part 1. Using data from the whole brain, gene Slc17a7 is now most enriched in glutamatergic assigned cells with some expression in cholinergic types. Gene Slc17a6 is most enriched in noradrenergic, then cholinergic types. Genes Slc6a5, Slc18a3, Slc6a3, Slc6a4 and Slc6a2 shows high specificity to glycinergic, cholinergic, dopaminergic, serotonergic and noradrenergic respectively."
   ]
  },
  {
   "cell_type": "code",
   "execution_count": null,
   "metadata": {},
   "outputs": [],
   "source": [
    "agg = aggregate_by_metadata(joined, ntgenes, 'neurotransmitter')\n",
    "agg = agg[ntgenes]\n",
    "res = plot_heatmap(agg, 8, 3)"
   ]
  },
  {
   "cell_type": "markdown",
   "metadata": {},
   "source": [
    "We can also visualize the relationship between transport genes and neurotransmitter identities on the UMAP."
   ]
  },
  {
   "cell_type": "code",
   "execution_count": null,
   "metadata": {},
   "outputs": [],
   "source": [
    "subsampled = joined.loc[::10]\n",
    "fig, ax = plot_umap(subsampled['x'], subsampled['y'], cc=subsampled['neurotransmitter_color'])\n",
    "res = ax.set_title(\"Neurotransmitter identity\")"
   ]
  },
  {
   "cell_type": "code",
   "execution_count": null,
   "metadata": {},
   "outputs": [],
   "source": [
    "fig, ax = plot_umap(subsampled['x'], subsampled['y'], val=subsampled['Slc17a7'], cmap=plt.cm.magma_r)\n",
    "res = ax.set_title(\"Gene Slc17a7\")"
   ]
  },
  {
   "cell_type": "code",
   "execution_count": null,
   "metadata": {},
   "outputs": [],
   "source": [
    "fig, ax = plot_umap(subsampled['x'], subsampled['y'], val=subsampled['Slc32a1'], cmap=plt.cm.magma_r)\n",
    "res = ax.set_title(\"Gene Slc32a1\")"
   ]
  },
  {
   "cell_type": "code",
   "execution_count": null,
   "metadata": {},
   "outputs": [],
   "source": [
    "fig, ax = plot_umap(subsampled['x'], subsampled['y'], val=subsampled['Slc18a3'], cmap=plt.cm.magma_r)\n",
    "res = ax.set_title(\"Gene Slc18a3\")"
   ]
  },
  {
   "cell_type": "code",
   "execution_count": null,
   "metadata": {},
   "outputs": [],
   "source": [
    "fig, ax = plot_umap(subsampled['x'], subsampled['y'], val=subsampled['Slc6a5'], cmap=plt.cm.magma_r)\n",
    "res = ax.set_title(\"Gene Slc6a5\")"
   ]
  },
  {
   "cell_type": "markdown",
   "metadata": {},
   "source": [
    "Grouping expression by dissection region of interest shows that each of these genes have distinct spatial patterns. Genes Slc17a7 is enriched in the cortex, Slc32a1 in the striatum, Slc17a6 in the thalamus, Slc6a3 in the midbrain, and Slc6a5 in the medulla. "
   ]
  },
  {
   "cell_type": "code",
   "execution_count": null,
   "metadata": {},
   "outputs": [],
   "source": [
    "roi = abc_cache.get_metadata_dataframe(directory='WMB-10X', file_name='region_of_interest_metadata')\n",
    "roi.set_index('acronym', inplace=True)"
   ]
  },
  {
   "cell_type": "code",
   "execution_count": null,
   "metadata": {},
   "outputs": [],
   "source": [
    "agg = aggregate_by_metadata(joined, ntgenes, 'region_of_interest_acronym')\n",
    "agg = agg.loc[roi.index] # order roi by anatomical order\n",
    "res = plot_heatmap(agg, 8, 8)"
   ]
  },
  {
   "cell_type": "markdown",
   "metadata": {},
   "source": [
    "### Expression of Tachykinin 2 (Tac2) in the whole brain\n",
    "\n",
    "In mice, the tachykinin 2 (Tac2) gene encodes neuropeptide called neurokinin B (NkB). Tac2 is produced by neurons in specific regions of the brain know to be invovled in emotion and social behavior. Based on [ISH data](https://mouse.brain-map.org/experiment/siv?id=77279001&imageId=77284584&initImage=ish&coordSystem=pixel&x=5384.5&y=3832.5&z=3) from the Allen Mouse Brain Atlas, Tac 2 is sparsely expressed in the mouse isocortex and densely enriched is specific subcortical regions such the medial habenula (MH), the amygdala and hypothalamus.\n",
    "\n",
    "In this example, we create a dataframe comprising expression values of Tac2 for all cells across the whole brain. As with the thalamus only example, grouping expression by neurotransmitter show that Tac2 gene is highly enriched in cholinergic cell types. With the rest of brain included, we can observe that Tac2 is also enriched in Glut-GABA cell types as well."
   ]
  },
  {
   "cell_type": "code",
   "execution_count": null,
   "metadata": {},
   "outputs": [],
   "source": [
    "exgenes = ['Tac2']\n",
    "filtered = exp[exgenes]\n",
    "joined = cell.join(filtered)\n",
    "subsampled = joined.loc[::10]"
   ]
  },
  {
   "cell_type": "code",
   "execution_count": null,
   "metadata": {},
   "outputs": [],
   "source": [
    "agg = aggregate_by_metadata(joined, exgenes, 'neurotransmitter', True)\n",
    "plot_heatmap(agg, 1, 3)"
   ]
  },
  {
   "cell_type": "markdown",
   "metadata": {},
   "source": [
    "Grouping by class, shows that Tac2 is enriched in class \"16 MH-LH Glut\" with cells restricted to the medial (MH) and lateral (LH) habenula and a mixture of glutamatergic and cholinergic type and \"06 CTX-CGE GABA\" GABAergic cells originating from the caudal ganglionic eminence (CGE)."
   ]
  },
  {
   "cell_type": "code",
   "execution_count": null,
   "metadata": {},
   "outputs": [],
   "source": [
    "agg = aggregate_by_metadata(joined, exgenes, 'class', True).head(8)\n",
    "plot_heatmap(agg, 1, 3)"
   ]
  },
  {
   "cell_type": "markdown",
   "metadata": {},
   "source": [
    "At the next level, grouping by subclass reveals enrichment is highly anatomically localized cell types such as the medial habenula (MH), bed nuclei of the stria terminalis (BST), spinal nucleus of the trigeminal (SPVC), main olfactory blub (MOB), central amygdalar nucleus (CEA) and arcuate hypothalamic nucleus (ARH)."
   ]
  },
  {
   "cell_type": "code",
   "execution_count": null,
   "metadata": {},
   "outputs": [],
   "source": [
    "agg = aggregate_by_metadata(joined, exgenes, 'subclass', True).head(15)\n",
    "subclass_list = agg.index[0:10]\n",
    "plot_heatmap(agg, 1, 3)"
   ]
  },
  {
   "cell_type": "markdown",
   "metadata": {},
   "source": [
    "Plotting Tac2 expression on the UMAP enables you see whole brain expression in one view showing Tac2 expression is highly restricted to a small number of clusters. Further we can compare the expression profile with the top 10 enriched subclasses."
   ]
  },
  {
   "cell_type": "code",
   "execution_count": null,
   "metadata": {},
   "outputs": [],
   "source": [
    "fig, ax = plot_umap(subsampled['x'], subsampled['y'], val=subsampled['Tac2'], cmap=plt.cm.magma_r)\n",
    "res = ax.set_title(\"Gene Tac2\")"
   ]
  },
  {
   "cell_type": "code",
   "execution_count": null,
   "metadata": {},
   "outputs": [],
   "source": [
    "pred = [x in subclass_list for x in joined['subclass']]\n",
    "filtered = joined[pred]\n",
    "\n",
    "fig, ax = plot_umap(filtered['x'], filtered['y'], cc=filtered['subclass_color'])\n",
    "res = ax.set_title(\"Top 10 enriched subclass for Tac2\")"
   ]
  },
  {
   "cell_type": "code",
   "execution_count": null,
   "metadata": {},
   "outputs": [],
   "source": []
  }
 ],
 "metadata": {
  "kernelspec": {
   "display_name": "Python 3 (ipykernel)",
   "language": "python",
   "name": "python3"
  },
  "language_info": {
   "codemirror_mode": {
    "name": "ipython",
    "version": 3
   },
   "file_extension": ".py",
   "mimetype": "text/x-python",
   "name": "python",
   "nbconvert_exporter": "python",
   "pygments_lexer": "ipython3",
   "version": "3.9.7"
  }
 },
 "nbformat": 4,
 "nbformat_minor": 4
}
