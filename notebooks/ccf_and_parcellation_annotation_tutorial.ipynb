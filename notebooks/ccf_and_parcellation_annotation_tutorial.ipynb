{
 "cells": [
  {
   "cell_type": "markdown",
   "metadata": {},
   "source": [
    "# Allen Mouse Common Coordinate Framework (2020 version)\n",
    "\n",
    "Allen Mouse Brain Common Coordinate Framework (CCFv3, [Wang et al, 2020](https://doi.org/10.1016/j.cell.2020.04.007)) is a 3D reference space is an average brain at 10um voxel resolution created from serial two-photon tomography images of 1,675 young adult C57Bl6/J mice. Using multimodal reference data, the entire brain parcellated directly in 3D, labeling every voxel with a brain structure spanning 43 isocortical areas and their layers, 314 subcortical gray matter structures, 81 fiber tracts, and 8 ventricular structures. The 2020 version adds new annotations for layers of the Ammon’s horn (CA), main olfactory bulb (MOB) and minor modification of surrounding fiber tracts.\n",
    "\n",
    "CCFv3 is used in informatics pipelines and online applications to analyze, visualize and integrate multimodal and multiscale data sets in 3D, and is openly accessible for research use.\n",
    "\n",
    "The purpose of this notebook is to provide an overview of the data assets and information associated with the Allen CCFv3 through example use cases.\n",
    "\n",
    "You need to be connected to the internet to run this notebook and that you have already downloaded the data via the getting started notebook."
   ]
  },
  {
   "cell_type": "code",
   "execution_count": 1,
   "metadata": {},
   "outputs": [],
   "source": [
    "import os\n",
    "import pandas as pd\n",
    "import numpy as np\n",
    "import json\n",
    "import matplotlib.pyplot as plt\n",
    "import requests\n",
    "import SimpleITK as sitk\n",
    "import pathlib"
   ]
  },
  {
   "cell_type": "markdown",
   "metadata": {},
   "source": [
    "The prerequisite for running this notebook is that the data have been downloaded to local directory maintaining the organization from the manifest.json. **Change the download_base variable to where you have downloaded the data in your system.**"
   ]
  },
  {
   "cell_type": "code",
   "execution_count": 2,
   "metadata": {},
   "outputs": [],
   "source": [
    "download_base = '../../abc_download_root'\n",
    "\n",
    "url = 'https://allen-brain-cell-atlas.s3-us-west-2.amazonaws.com/releases/20230630/manifest.json'\n",
    "manifest = json.loads(requests.get(url).text)"
   ]
  },
  {
   "cell_type": "code",
   "execution_count": 3,
   "metadata": {},
   "outputs": [],
   "source": [
    "view_directory = os.path.join( download_base, \n",
    "                               manifest['directory_listing']['Allen-CCF-2020']['directories']['metadata']['relative_path'], \n",
    "                              'views')\n",
    "view_directory = pathlib.Path( view_directory )\n",
    "cache_views = False\n",
    "if cache_views :\n",
    "    os.makedirs( view_directory, exist_ok=True )"
   ]
  },
  {
   "cell_type": "markdown",
   "metadata": {},
   "source": [
    "## Data Overview\n",
    "\n",
    "### Reference template and parcellations\n",
    "\n",
    "There are 3 volumetric data files associated with AllenCCFv3. The \"average_template_10\" volume is the anatomical template of the CCF constructed as the shape and intensity average of 1675 specime brains. The \"annotation_10\" volume is the parcellation of the brain with respect to a heirachical partonomy of anatomical structures. The \"annotation_boundary_10\" volume is a mask that identifies all the voxel with on the boundary of a parcellation to support data visualization. The volumes are stored in compressed NIFTI (.nii.gz) format. In this notebook  uses the [SimpleITK](https://simpleitk.org/) library to open the volume. "
   ]
  },
  {
   "cell_type": "code",
   "execution_count": 4,
   "metadata": {},
   "outputs": [],
   "source": [
    "volumes = manifest['file_listing']['Allen-CCF-2020']['image_volumes']\n",
    "volumes"
   ]
  },
  {
   "cell_type": "code",
   "execution_count": 5,
   "metadata": {},
   "outputs": [],
   "source": [
    "print(\"reading average_template_10\")\n",
    "rpath = volumes['average_template_10']['files']['nii.gz']['relative_path']\n",
    "file = os.path.join( download_base, rpath)\n",
    "average_template_image = sitk.ReadImage( file )\n",
    "average_template_array = sitk.GetArrayViewFromImage( average_template_image )\n",
    "\n",
    "print(\"reading annotation_10\")\n",
    "rpath = volumes['annotation_10']['files']['nii.gz']['relative_path']\n",
    "file = os.path.join( download_base, rpath)\n",
    "annotation_image = sitk.ReadImage( file )\n",
    "annotation_array = sitk.GetArrayViewFromImage( annotation_image )\n",
    "\n",
    "print(\"reading annotation_boundary_10\")\n",
    "rpath = volumes['annotation_boundary_10']['files']['nii.gz']['relative_path']\n",
    "file = os.path.join( download_base, rpath)\n",
    "annotation_boundary_image = sitk.ReadImage( file )\n",
    "annotation_boundary_array = sitk.GetArrayViewFromImage( annotation_boundary_image )"
   ]
  },
  {
   "cell_type": "markdown",
   "metadata": {},
   "source": [
    "We define a helper function to print out some basic metadata about a volume"
   ]
  },
  {
   "cell_type": "code",
   "execution_count": 6,
   "metadata": {},
   "outputs": [],
   "source": [
    "# Function to print out image information\n",
    "def image_info( img ) :\n",
    "    print('size: ' + str(img.GetSize()) + ' voxels')\n",
    "    print('spacing: ' + str(img.GetSpacing()) + ' mm' )\n",
    "    print('direction: ' + str(img.GetDirection()) )\n",
    "    print('origin: ' + str(img.GetOrigin()))"
   ]
  },
  {
   "cell_type": "markdown",
   "metadata": {},
   "source": [
    "Each volume is of size 1320 x 800 x 1140 voxels with voxel dimension being 10 x 10 x 10 micrometers. The volume is ASL orientation such that first (x) axis is anterior-to-posterior, the second (y) axis is superior-to-inferior (dorsal-to-ventral) and third (z) axis is left-to-right."
   ]
  },
  {
   "cell_type": "code",
   "execution_count": 7,
   "metadata": {},
   "outputs": [],
   "source": [
    "image_info(average_template_image)"
   ]
  },
  {
   "cell_type": "code",
   "execution_count": 8,
   "metadata": {},
   "outputs": [],
   "source": [
    "spacing = average_template_image.GetSpacing()\n",
    "voxel_volume = spacing[0] * spacing[1] * spacing[2]\n",
    "print(\"voxel volume in mm^3:\", \"%0.2E\" % voxel_volume)"
   ]
  },
  {
   "cell_type": "markdown",
   "metadata": {},
   "source": [
    "We define a helper function to visualize the sanme coronal section of the average template, annotation and boundary volumes"
   ]
  },
  {
   "cell_type": "code",
   "execution_count": 9,
   "metadata": {},
   "outputs": [],
   "source": [
    "def plot_section( slice, cmap=plt.cm.Greys_r, fig_width = 6, fig_height = 6 ) :\n",
    "    fig, ax = plt.subplots()\n",
    "    fig.set_size_inches(fig_width, fig_height)\n",
    "    if cmap is not None :\n",
    "        plt.imshow(slice, cmap=cmap)\n",
    "    else :\n",
    "        plt.imshow(slice)\n",
    "    plt.axis(\"off\")\n",
    "    return fig, ax"
   ]
  },
  {
   "cell_type": "code",
   "execution_count": 10,
   "metadata": {},
   "outputs": [],
   "source": [
    "zindex = 720\n",
    "zslice = np.transpose(average_template_array[:,:,zindex])\n",
    "fig, ax = plot_section(zslice)\n",
    "res = ax.set_title('average_template')"
   ]
  },
  {
   "cell_type": "code",
   "execution_count": 11,
   "metadata": {},
   "outputs": [],
   "source": [
    "zslice = np.transpose(annotation_array[:,:,zindex])\n",
    "fig, ax = plot_section(zslice)\n",
    "res = ax.set_title('annotation_10')"
   ]
  },
  {
   "cell_type": "code",
   "execution_count": 12,
   "metadata": {},
   "outputs": [],
   "source": [
    "zslice = np.transpose(annotation_boundary_array[:,:,zindex])\n",
    "fig, ax = plot_section(zslice,cmap=plt.cm.Greys)\n",
    "res = ax.set_title('annotation_boundary_10')"
   ]
  },
  {
   "cell_type": "markdown",
   "metadata": {},
   "source": [
    "### Anatomical structures and parcellation annotation"
   ]
  },
  {
   "cell_type": "code",
   "execution_count": 13,
   "metadata": {},
   "outputs": [],
   "source": [
    "metadata = manifest['file_listing']['Allen-CCF-2020']['metadata']"
   ]
  },
  {
   "cell_type": "markdown",
   "metadata": {},
   "source": [
    "### Parcellations\n",
    "\n",
    "The annotation volume represents tiling of set of parcellations. Each row of the parcellation dataframe has a label (human readable string that is unique in the database), a parcellation index representing the value in the annotation volume and the number of voxel and volume of that parcellation."
   ]
  },
  {
   "cell_type": "code",
   "execution_count": 14,
   "metadata": {},
   "outputs": [],
   "source": [
    "rpath = metadata['parcellation']['files']['csv']['relative_path']\n",
    "file = os.path.join( download_base, rpath)\n",
    "parcellation = pd.read_csv(file)\n",
    "parcellation.set_index('parcellation_index',inplace=True)\n",
    "print(\"number of parcellations:\",len(parcellation))\n",
    "parcellation"
   ]
  },
  {
   "cell_type": "markdown",
   "metadata": {},
   "source": [
    "### Parcellation term sets\n",
    "\n",
    "For the purpose of ABC atlas visualization and analysis, we have created a simplifed 5 level anatomical heirarchy. Each of these level is represented as a parcellation term set. Each term set consists of a set of ordered terms. Each term set has a label (human readable string that is unique in the database), a name, description and order among the term sets."
   ]
  },
  {
   "cell_type": "code",
   "execution_count": 15,
   "metadata": {},
   "outputs": [],
   "source": [
    "rpath = metadata['parcellation_term_set']['files']['csv']['relative_path']\n",
    "file = os.path.join( download_base, rpath)\n",
    "parcellation_term_set = pd.read_csv(file)\n",
    "parcellation_term_set.set_index('label',inplace=True)\n",
    "print(\"number of term sets:\",len(parcellation_term_set))\n",
    "parcellation_term_set"
   ]
  },
  {
   "cell_type": "markdown",
   "metadata": {},
   "source": [
    "### Parcellation terms and term set membership\n",
    "\n",
    "A parcellation term represents an anatomical structure at a single heirarchy level. Each term has a label (human readable string that is unique in the database), a name, acronym, reference atlas color as hex triplet or as RGB values."
   ]
  },
  {
   "cell_type": "code",
   "execution_count": 16,
   "metadata": {},
   "outputs": [],
   "source": [
    "rpath = metadata['parcellation_term']['files']['csv']['relative_path']\n",
    "file = os.path.join( download_base, rpath)\n",
    "parcellation_term = pd.read_csv(file)\n",
    "parcellation_term.set_index('label',inplace=True)\n",
    "print(\"number of terms:\",len(parcellation_term))\n",
    "parcellation_term.head(5)"
   ]
  },
  {
   "cell_type": "markdown",
   "metadata": {},
   "source": [
    "A parcellation is a member of at most one parcellation term set. This membership is represented as a row in the parcellation term set memership dataframe."
   ]
  },
  {
   "cell_type": "code",
   "execution_count": 17,
   "metadata": {},
   "outputs": [],
   "source": [
    "rpath = metadata['parcellation_term_set_membership']['files']['csv']['relative_path']\n",
    "file = os.path.join( download_base, rpath)\n",
    "parcellation_term_set_membership = pd.read_csv(file)\n",
    "print(\"number of memberships:\",len(parcellation_term_set_membership))\n",
    "parcellation_term_set_membership.head(5)"
   ]
  },
  {
   "cell_type": "markdown",
   "metadata": {},
   "source": [
    "### Parcellation to parcellation term membership\n",
    "\n",
    "The association between a parcellation and parcellation term is represented as \"parcellation to parcellation term membership\" within the context of anatomical structure level.  It is expected that a parcellation in only associated with one term within a specific term set."
   ]
  },
  {
   "cell_type": "code",
   "execution_count": 18,
   "metadata": {},
   "outputs": [],
   "source": [
    "rpath = metadata['parcellation_to_parcellation_term_membership']['files']['csv']['relative_path']\n",
    "file = os.path.join( download_base, rpath)\n",
    "parcellation_annotation = pd.read_csv(file)\n",
    "print(\"number of memberships:\",len(parcellation_annotation))\n",
    "parcellation_annotation"
   ]
  },
  {
   "cell_type": "markdown",
   "metadata": {},
   "source": [
    "## Example use cases\n",
    "\n",
    "### Aggregate parcellations and voxels per term\n",
    "\n",
    "We can obtain parcellation and voxel count per parcellation annotation term using the pandas groupby function"
   ]
  },
  {
   "cell_type": "code",
   "execution_count": 19,
   "metadata": {},
   "outputs": [],
   "source": [
    "# Count the number of parcellation associated with each parcellation term\n",
    "term_parcellation_count = parcellation_annotation.groupby(['parcellation_term_label'])[['parcellation_index']].count()\n",
    "term_parcellation_count.columns = ['number_of_parcellations']\n",
    "term_parcellation_count.sort_values('number_of_parcellations',inplace=True, ascending=False)\n",
    "term_parcellation_count"
   ]
  },
  {
   "cell_type": "code",
   "execution_count": 20,
   "metadata": {},
   "outputs": [],
   "source": [
    "# Count the number of voxels associated with each parcellation term\n",
    "term_voxel_count = parcellation_annotation.groupby(['parcellation_term_label'])[['voxel_count','volume_mm3']].sum()\n",
    "term_voxel_count.sort_values('voxel_count',inplace=True, ascending=False)\n",
    "term_voxel_count"
   ]
  },
  {
   "cell_type": "code",
   "execution_count": 21,
   "metadata": {},
   "outputs": [],
   "source": [
    "# Join counts with the term dataframe\n",
    "term_with_counts = parcellation_term.join( term_parcellation_count['number_of_parcellations'], how='inner' )\n",
    "term_with_counts = term_with_counts.join( term_voxel_count[['voxel_count','volume_mm3']] )\n",
    "term_with_counts[['name','number_of_parcellations','voxel_count','volume_mm3']]"
   ]
  },
  {
   "cell_type": "markdown",
   "metadata": {},
   "source": [
    "For convenience, we can cache this view for later reuse."
   ]
  },
  {
   "cell_type": "code",
   "execution_count": 22,
   "metadata": {},
   "outputs": [],
   "source": [
    "if cache_views :\n",
    "    file = os.path.join( view_directory, 'parcellation_term_with_counts.csv')\n",
    "    term_with_counts.to_csv( file )"
   ]
  },
  {
   "cell_type": "markdown",
   "metadata": {},
   "source": [
    "### Visualizing parcellation annotation at each hierachy level\n",
    "\n",
    "We can explore the relationship and distribution of parcellations between term sets by creating a pivot table using pandas groupby fuunction. Each row of the resulting dataframe represents a parcellation, each column represents a term set and the value in the table is the name of the term that has been associated with the cluster for that specific term set."
   ]
  },
  {
   "cell_type": "code",
   "execution_count": 23,
   "metadata": {},
   "outputs": [],
   "source": [
    "pivot = parcellation_annotation.groupby(['parcellation_index','parcellation_term_set_name'])['parcellation_term_acronym'].first().unstack()\n",
    "pivot = pivot[parcellation_term_set['name']] # order columns\n",
    "pivot"
   ]
  },
  {
   "cell_type": "code",
   "execution_count": 24,
   "metadata": {},
   "outputs": [],
   "source": [
    "name = parcellation_annotation.groupby(['parcellation_index','parcellation_term_set_name'])['parcellation_term_name'].first().unstack()\n",
    "name = name[parcellation_term_set['name']] # order columns\n",
    "name"
   ]
  },
  {
   "cell_type": "markdown",
   "metadata": {},
   "source": [
    "We can also obtain parcellation term color pivot tables in the same way"
   ]
  },
  {
   "cell_type": "code",
   "execution_count": 25,
   "metadata": {},
   "outputs": [],
   "source": [
    "color = parcellation_annotation.groupby(['parcellation_index','parcellation_term_set_name'])['color_hex_triplet'].first().unstack()\n",
    "color = color[parcellation_term_set['name']] # order columns\n",
    "color.columns = ['%s_color' % x for x in color.columns]\n",
    "color"
   ]
  },
  {
   "cell_type": "code",
   "execution_count": 26,
   "metadata": {},
   "outputs": [],
   "source": [
    "channels = {}\n",
    "for c in ['red','blue','green'] :\n",
    "    df = parcellation_annotation.groupby(['parcellation_index','parcellation_term_set_name'])[c].first().unstack()\n",
    "    df = df[parcellation_term_set['name']] # order columns\n",
    "    df.columns = ['%s' % (x) for x in color.columns]\n",
    "    channels[c] = df"
   ]
  },
  {
   "cell_type": "code",
   "execution_count": 27,
   "metadata": {},
   "outputs": [],
   "source": [
    "channels['red']"
   ]
  },
  {
   "cell_type": "markdown",
   "metadata": {},
   "source": [
    "For convenience, we can cache this view for later reuse."
   ]
  },
  {
   "cell_type": "code",
   "execution_count": 28,
   "metadata": {},
   "outputs": [],
   "source": [
    "if cache_views :\n",
    "    \n",
    "    file = os.path.join( view_directory, 'parcellation_to_parcellation_term_membership_acronym.csv')\n",
    "    pivot.to_csv( file )\n",
    "    \n",
    "    file = os.path.join( view_directory, 'parcellation_to_parcellation_term_membership_name.csv')\n",
    "    name.to_csv( file )\n",
    "    \n",
    "    file = os.path.join( view_directory, 'parcellation_to_parcellation_term_membership_color.csv')\n",
    "    color.to_csv( file )\n",
    "    \n",
    "    for c in channels :\n",
    "    \n",
    "        file = os.path.join( view_directory, 'parcellation_to_parcellation_term_membership_%s.csv' % c )\n",
    "        channels[c].to_csv( file )\n",
    "    "
   ]
  },
  {
   "cell_type": "markdown",
   "metadata": {},
   "source": [
    "We define a helper function to colorized parcellation by its reference atlas color for each anatomical level"
   ]
  },
  {
   "cell_type": "code",
   "execution_count": 29,
   "metadata": {},
   "outputs": [],
   "source": [
    "def colorize( zslice, term_set ) :\n",
    "\n",
    "    # create a 3d array to store rgb image\n",
    "    sshape = zslice.shape\n",
    "    colorized = np.zeros((sshape[0],sshape[1],3),dtype=np.uint8)\n",
    "    \n",
    "    for i,c in enumerate(['red','green','blue']) :\n",
    "        temp = np.zeros((sshape[0],sshape[1]),dtype=np.uint8)\n",
    "        temp.flat[:] = channels[c].loc[zslice.flat[:],'%s_color'%term_set]\n",
    "        colorized[:,:,i] = temp\n",
    "    \n",
    "    return colorized"
   ]
  },
  {
   "cell_type": "code",
   "execution_count": 30,
   "metadata": {},
   "outputs": [],
   "source": [
    "zindex = 720\n",
    "zslice = np.transpose(annotation_array[:,:,zindex])\n",
    "fig, ax = plot_section(zslice)\n",
    "res = ax.set_title('annotation_10')"
   ]
  },
  {
   "cell_type": "code",
   "execution_count": 31,
   "metadata": {},
   "outputs": [],
   "source": [
    "term_set = 'organ'\n",
    "colorized = colorize(zslice,term_set)\n",
    "fig, ax = plot_section(colorized)\n",
    "res = ax.set_title(term_set)"
   ]
  },
  {
   "cell_type": "code",
   "execution_count": 32,
   "metadata": {},
   "outputs": [],
   "source": [
    "term_set = 'category'\n",
    "colorized = colorize(zslice,term_set)\n",
    "fig, ax = plot_section(colorized)\n",
    "res = ax.set_title(term_set)"
   ]
  },
  {
   "cell_type": "code",
   "execution_count": 33,
   "metadata": {},
   "outputs": [],
   "source": [
    "term_set = 'division'\n",
    "colorized = colorize(zslice,term_set)\n",
    "fig, ax = plot_section(colorized)\n",
    "res = ax.set_title(term_set)"
   ]
  },
  {
   "cell_type": "code",
   "execution_count": 34,
   "metadata": {},
   "outputs": [],
   "source": [
    "term_set = 'structure'\n",
    "colorized = colorize(zslice,term_set)\n",
    "fig, ax = plot_section(colorized)\n",
    "res = ax.set_title(term_set)"
   ]
  },
  {
   "cell_type": "code",
   "execution_count": 35,
   "metadata": {},
   "outputs": [],
   "source": [
    "term_set = 'substructure'\n",
    "colorized = colorize(zslice,term_set)\n",
    "fig, ax = plot_section(colorized)\n",
    "res = ax.set_title(term_set)"
   ]
  },
  {
   "cell_type": "code",
   "execution_count": null,
   "metadata": {},
   "outputs": [],
   "source": []
  }
 ],
 "metadata": {
  "kernelspec": {
   "display_name": "Python 3 (ipykernel)",
   "language": "python",
   "name": "python3"
  },
  "language_info": {
   "codemirror_mode": {
    "name": "ipython",
    "version": 3
   },
   "file_extension": ".py",
   "mimetype": "text/x-python",
   "name": "python",
   "nbconvert_exporter": "python",
   "pygments_lexer": "ipython3",
   "version": "3.11.3"
  }
 },
 "nbformat": 4,
 "nbformat_minor": 4
}
