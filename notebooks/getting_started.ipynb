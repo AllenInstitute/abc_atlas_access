{
 "cells": [
  {
   "cell_type": "markdown",
   "metadata": {
    "tags": []
   },
   "source": [
    "# Getting started\n",
    "\n",
    "Data associated with the Allen Brain Cell Atlas is hosted on Amazon Web Services (AWS) in an S3 bucket as a AWS Public Dataset. \n",
    "No account or login is required. The S3 bucket is located here [arn:aws:s3:::allen-brain-cell-atlas](https://allen-brain-cell-atlas.s3.us-west-2.amazonaws.com/index.html). You will need to be connected to the internet to run this notebook.\n",
    "\n",
    "Each data release has an associated **manifest.json** which lists all the specific version of directories and files that are part of the release. We recommend using the [**AbcProjectCache**](https://github.com/AllenInstitute/abc_atlas_access/blob/41eb836e41e516ee528c98bf3979d0aff60c0b85/src/abc_atlas_access/abc_atlas_cache/abc_project_cache.py#L36C7-L36C22) to download the data.\n",
    "\n",
    "Expression matricies are stored in the [anndata h5ad format](https://anndata.readthedocs.io/en/latest/) and need to be downloaded to a local file system for usage.\n",
    "\n",
    "This notebook shows how to use the **AbcProjectCache** to download the data required for the tutorials.\n",
    "\n",
    "Below we install the python library we will be using throughout to this python enviroment."
   ]
  },
  {
   "cell_type": "code",
   "execution_count": 1,
   "metadata": {
    "scrolled": true
   },
   "outputs": [
    {
     "name": "stdout",
     "output_type": "stream",
     "text": [
      "Collecting git+https://github.com/alleninstitute/abc_atlas_access\n",
      "  Cloning https://github.com/alleninstitute/abc_atlas_access to /private/var/folders/kc/7glrmt5n67x16yj_tg86t49c0000gp/T/pip-req-build-4e9rhwaj\n",
      "  Running command git clone --filter=blob:none --quiet https://github.com/alleninstitute/abc_atlas_access /private/var/folders/kc/7glrmt5n67x16yj_tg86t49c0000gp/T/pip-req-build-4e9rhwaj\n",
      "  Resolved https://github.com/alleninstitute/abc_atlas_access to commit b067b896ea0fada09fe0b46471158df22b2622a0\n",
      "  Installing build dependencies ... \u001b[?25ldone\n",
      "\u001b[?25h  Getting requirements to build wheel ... \u001b[?25ldone\n",
      "\u001b[?25h  Preparing metadata (pyproject.toml) ... \u001b[?25ldone\n",
      "\u001b[?25hRequirement already satisfied: anndata in /Users/chris.morrison/src/miniconda3/envs/abc_atlas_access/lib/python3.11/site-packages (from abc_atlas_access==0.1.2) (0.10.7)\n",
      "Requirement already satisfied: boto3 in /Users/chris.morrison/src/miniconda3/envs/abc_atlas_access/lib/python3.11/site-packages (from abc_atlas_access==0.1.2) (1.34.129)\n",
      "Requirement already satisfied: ghp-import in /Users/chris.morrison/src/miniconda3/envs/abc_atlas_access/lib/python3.11/site-packages (from abc_atlas_access==0.1.2) (2.1.0)\n",
      "Requirement already satisfied: matplotlib in /Users/chris.morrison/src/miniconda3/envs/abc_atlas_access/lib/python3.11/site-packages (from abc_atlas_access==0.1.2) (3.9.0)\n",
      "Requirement already satisfied: moto in /Users/chris.morrison/src/miniconda3/envs/abc_atlas_access/lib/python3.11/site-packages (from abc_atlas_access==0.1.2) (5.0.9)\n",
      "Requirement already satisfied: numpy in /Users/chris.morrison/src/miniconda3/envs/abc_atlas_access/lib/python3.11/site-packages (from abc_atlas_access==0.1.2) (2.0.0)\n",
      "Requirement already satisfied: pandas in /Users/chris.morrison/src/miniconda3/envs/abc_atlas_access/lib/python3.11/site-packages (from abc_atlas_access==0.1.2) (2.2.2)\n",
      "Requirement already satisfied: pydantic in /Users/chris.morrison/src/miniconda3/envs/abc_atlas_access/lib/python3.11/site-packages (from abc_atlas_access==0.1.2) (2.7.4)\n",
      "Requirement already satisfied: pytest in /Users/chris.morrison/src/miniconda3/envs/abc_atlas_access/lib/python3.11/site-packages (from abc_atlas_access==0.1.2) (8.2.2)\n",
      "Requirement already satisfied: requests in /Users/chris.morrison/src/miniconda3/envs/abc_atlas_access/lib/python3.11/site-packages (from abc_atlas_access==0.1.2) (2.32.3)\n",
      "Requirement already satisfied: scipy in /Users/chris.morrison/src/miniconda3/envs/abc_atlas_access/lib/python3.11/site-packages (from abc_atlas_access==0.1.2) (1.13.1)\n",
      "Requirement already satisfied: simpleitk in /Users/chris.morrison/src/miniconda3/envs/abc_atlas_access/lib/python3.11/site-packages (from abc_atlas_access==0.1.2) (2.3.1)\n",
      "Requirement already satisfied: tqdm in /Users/chris.morrison/src/miniconda3/envs/abc_atlas_access/lib/python3.11/site-packages (from abc_atlas_access==0.1.2) (4.66.4)\n",
      "Requirement already satisfied: array-api-compat!=1.5,>1.4 in /Users/chris.morrison/src/miniconda3/envs/abc_atlas_access/lib/python3.11/site-packages (from anndata->abc_atlas_access==0.1.2) (1.7.1)\n",
      "Requirement already satisfied: h5py>=3.1 in /Users/chris.morrison/src/miniconda3/envs/abc_atlas_access/lib/python3.11/site-packages (from anndata->abc_atlas_access==0.1.2) (3.11.0)\n",
      "Requirement already satisfied: natsort in /Users/chris.morrison/src/miniconda3/envs/abc_atlas_access/lib/python3.11/site-packages (from anndata->abc_atlas_access==0.1.2) (8.4.0)\n",
      "Requirement already satisfied: packaging>=20.0 in /Users/chris.morrison/src/miniconda3/envs/abc_atlas_access/lib/python3.11/site-packages (from anndata->abc_atlas_access==0.1.2) (24.1)\n",
      "Requirement already satisfied: python-dateutil>=2.8.2 in /Users/chris.morrison/src/miniconda3/envs/abc_atlas_access/lib/python3.11/site-packages (from pandas->abc_atlas_access==0.1.2) (2.9.0.post0)\n",
      "Requirement already satisfied: pytz>=2020.1 in /Users/chris.morrison/src/miniconda3/envs/abc_atlas_access/lib/python3.11/site-packages (from pandas->abc_atlas_access==0.1.2) (2024.1)\n",
      "Requirement already satisfied: tzdata>=2022.7 in /Users/chris.morrison/src/miniconda3/envs/abc_atlas_access/lib/python3.11/site-packages (from pandas->abc_atlas_access==0.1.2) (2024.1)\n",
      "Requirement already satisfied: botocore<1.35.0,>=1.34.129 in /Users/chris.morrison/src/miniconda3/envs/abc_atlas_access/lib/python3.11/site-packages (from boto3->abc_atlas_access==0.1.2) (1.34.129)\n",
      "Requirement already satisfied: jmespath<2.0.0,>=0.7.1 in /Users/chris.morrison/src/miniconda3/envs/abc_atlas_access/lib/python3.11/site-packages (from boto3->abc_atlas_access==0.1.2) (1.0.1)\n",
      "Requirement already satisfied: s3transfer<0.11.0,>=0.10.0 in /Users/chris.morrison/src/miniconda3/envs/abc_atlas_access/lib/python3.11/site-packages (from boto3->abc_atlas_access==0.1.2) (0.10.1)\n",
      "Requirement already satisfied: contourpy>=1.0.1 in /Users/chris.morrison/src/miniconda3/envs/abc_atlas_access/lib/python3.11/site-packages (from matplotlib->abc_atlas_access==0.1.2) (1.2.1)\n",
      "Requirement already satisfied: cycler>=0.10 in /Users/chris.morrison/src/miniconda3/envs/abc_atlas_access/lib/python3.11/site-packages (from matplotlib->abc_atlas_access==0.1.2) (0.12.1)\n",
      "Requirement already satisfied: fonttools>=4.22.0 in /Users/chris.morrison/src/miniconda3/envs/abc_atlas_access/lib/python3.11/site-packages (from matplotlib->abc_atlas_access==0.1.2) (4.53.0)\n",
      "Requirement already satisfied: kiwisolver>=1.3.1 in /Users/chris.morrison/src/miniconda3/envs/abc_atlas_access/lib/python3.11/site-packages (from matplotlib->abc_atlas_access==0.1.2) (1.4.5)\n",
      "Requirement already satisfied: pillow>=8 in /Users/chris.morrison/src/miniconda3/envs/abc_atlas_access/lib/python3.11/site-packages (from matplotlib->abc_atlas_access==0.1.2) (10.3.0)\n",
      "Requirement already satisfied: pyparsing>=2.3.1 in /Users/chris.morrison/src/miniconda3/envs/abc_atlas_access/lib/python3.11/site-packages (from matplotlib->abc_atlas_access==0.1.2) (3.1.2)\n",
      "Requirement already satisfied: cryptography>=3.3.1 in /Users/chris.morrison/src/miniconda3/envs/abc_atlas_access/lib/python3.11/site-packages (from moto->abc_atlas_access==0.1.2) (42.0.8)\n",
      "Requirement already satisfied: xmltodict in /Users/chris.morrison/src/miniconda3/envs/abc_atlas_access/lib/python3.11/site-packages (from moto->abc_atlas_access==0.1.2) (0.13.0)\n",
      "Requirement already satisfied: werkzeug!=2.2.0,!=2.2.1,>=0.5 in /Users/chris.morrison/src/miniconda3/envs/abc_atlas_access/lib/python3.11/site-packages (from moto->abc_atlas_access==0.1.2) (3.0.3)\n",
      "Requirement already satisfied: responses>=0.15.0 in /Users/chris.morrison/src/miniconda3/envs/abc_atlas_access/lib/python3.11/site-packages (from moto->abc_atlas_access==0.1.2) (0.25.3)\n",
      "Requirement already satisfied: Jinja2>=2.10.1 in /Users/chris.morrison/src/miniconda3/envs/abc_atlas_access/lib/python3.11/site-packages (from moto->abc_atlas_access==0.1.2) (3.1.4)\n",
      "Requirement already satisfied: charset-normalizer<4,>=2 in /Users/chris.morrison/src/miniconda3/envs/abc_atlas_access/lib/python3.11/site-packages (from requests->abc_atlas_access==0.1.2) (3.3.2)\n",
      "Requirement already satisfied: idna<4,>=2.5 in /Users/chris.morrison/src/miniconda3/envs/abc_atlas_access/lib/python3.11/site-packages (from requests->abc_atlas_access==0.1.2) (3.7)\n",
      "Requirement already satisfied: urllib3<3,>=1.21.1 in /Users/chris.morrison/src/miniconda3/envs/abc_atlas_access/lib/python3.11/site-packages (from requests->abc_atlas_access==0.1.2) (2.2.2)\n",
      "Requirement already satisfied: certifi>=2017.4.17 in /Users/chris.morrison/src/miniconda3/envs/abc_atlas_access/lib/python3.11/site-packages (from requests->abc_atlas_access==0.1.2) (2024.6.2)\n",
      "Requirement already satisfied: annotated-types>=0.4.0 in /Users/chris.morrison/src/miniconda3/envs/abc_atlas_access/lib/python3.11/site-packages (from pydantic->abc_atlas_access==0.1.2) (0.7.0)\n",
      "Requirement already satisfied: pydantic-core==2.18.4 in /Users/chris.morrison/src/miniconda3/envs/abc_atlas_access/lib/python3.11/site-packages (from pydantic->abc_atlas_access==0.1.2) (2.18.4)\n",
      "Requirement already satisfied: typing-extensions>=4.6.1 in /Users/chris.morrison/src/miniconda3/envs/abc_atlas_access/lib/python3.11/site-packages (from pydantic->abc_atlas_access==0.1.2) (4.12.2)\n",
      "Requirement already satisfied: iniconfig in /Users/chris.morrison/src/miniconda3/envs/abc_atlas_access/lib/python3.11/site-packages (from pytest->abc_atlas_access==0.1.2) (2.0.0)\n",
      "Requirement already satisfied: pluggy<2.0,>=1.5 in /Users/chris.morrison/src/miniconda3/envs/abc_atlas_access/lib/python3.11/site-packages (from pytest->abc_atlas_access==0.1.2) (1.5.0)\n",
      "Requirement already satisfied: cffi>=1.12 in /Users/chris.morrison/src/miniconda3/envs/abc_atlas_access/lib/python3.11/site-packages (from cryptography>=3.3.1->moto->abc_atlas_access==0.1.2) (1.16.0)\n",
      "Requirement already satisfied: MarkupSafe>=2.0 in /Users/chris.morrison/src/miniconda3/envs/abc_atlas_access/lib/python3.11/site-packages (from Jinja2>=2.10.1->moto->abc_atlas_access==0.1.2) (2.1.5)\n",
      "Requirement already satisfied: six>=1.5 in /Users/chris.morrison/src/miniconda3/envs/abc_atlas_access/lib/python3.11/site-packages (from python-dateutil>=2.8.2->pandas->abc_atlas_access==0.1.2) (1.16.0)\n",
      "Requirement already satisfied: pyyaml in /Users/chris.morrison/src/miniconda3/envs/abc_atlas_access/lib/python3.11/site-packages (from responses>=0.15.0->moto->abc_atlas_access==0.1.2) (6.0.1)\n",
      "Requirement already satisfied: pycparser in /Users/chris.morrison/src/miniconda3/envs/abc_atlas_access/lib/python3.11/site-packages (from cffi>=1.12->cryptography>=3.3.1->moto->abc_atlas_access==0.1.2) (2.22)\n",
      "Note: you may need to restart the kernel to use updated packages.\n"
     ]
    }
   ],
   "source": [
    "pip install -U git+https://github.com/alleninstitute/abc_atlas_access"
   ]
  },
  {
   "cell_type": "markdown",
   "metadata": {},
   "source": [
    "After installing these new packages we need to restart the python kernel in this notebook. This can either be done by selecting `Restart Kernel...` under the `Kernel` drop down menu above or uncommenting and running the cell below."
   ]
  },
  {
   "cell_type": "code",
   "execution_count": 2,
   "metadata": {},
   "outputs": [
    {
     "data": {
      "text/plain": [
       "{'status': 'ok', 'restart': True}"
      ]
     },
     "execution_count": 2,
     "metadata": {},
     "output_type": "execute_result"
    }
   ],
   "source": [
    "get_ipython().kernel.do_shutdown(restart=True)"
   ]
  },
  {
   "cell_type": "markdown",
   "metadata": {},
   "source": [
    "IPython magic command to render matplotlib plots."
   ]
  },
  {
   "cell_type": "code",
   "execution_count": 1,
   "metadata": {},
   "outputs": [],
   "source": [
    "%matplotlib inline"
   ]
  },
  {
   "cell_type": "code",
   "execution_count": 2,
   "metadata": {},
   "outputs": [],
   "source": [
    "from pathlib import Path\n",
    "from abc_atlas_access.abc_atlas_cache.abc_project_cache import AbcProjectCache"
   ]
  },
  {
   "cell_type": "markdown",
   "metadata": {
    "tags": []
   },
   "source": [
    "## Using the cache\n",
    "\n",
    "Below we show how to setup up the cache to download from S3, how to list and switch to a different data release, and additionally how to list the directories available, their size, and the files in that directory.\n",
    "\n",
    "Setup the **AbcProjectCache** object by specifying a directory and calling ``from_cache_dir`` as shown below. We also print what version of the manifest is being currently loaded by the cache. This will automatically instantiate the cache and set it up to either download data via a AWS S3 enabled cache or to load it through local read only cache depending on if the user has write access. The later is useful if accessing the data directly through a [s3fs-fuse](https://github.com/s3fs-fuse/s3fs-fuse) or similar mount of the AWS S3 bucket directly such as on CodeOcean.\n",
    "\n",
    "Users can also specify a download enabled or read only local cache explicitly by using the funcitons `from_s3_cache` and `from_local_cache` respectively."
   ]
  },
  {
   "cell_type": "code",
   "execution_count": 3,
   "metadata": {},
   "outputs": [
    {
     "data": {
      "text/plain": [
       "'releases/20240831/manifest.json'"
      ]
     },
     "execution_count": 3,
     "metadata": {},
     "output_type": "execute_result"
    }
   ],
   "source": [
    "download_base = Path('../../data/abc_atlas')\n",
    "abc_cache = AbcProjectCache.from_cache_dir(download_base)\n",
    "\n",
    "abc_cache.current_manifest"
   ]
  },
  {
   "cell_type": "markdown",
   "metadata": {},
   "source": [
    "List the all of the different releases available and usable by the cache object we have just loaded."
   ]
  },
  {
   "cell_type": "code",
   "execution_count": 4,
   "metadata": {},
   "outputs": [
    {
     "data": {
      "text/plain": [
       "['releases/20230630/manifest.json',\n",
       " 'releases/20230830/manifest.json',\n",
       " 'releases/20231215/manifest.json',\n",
       " 'releases/20240330/manifest.json',\n",
       " 'releases/20240831/',\n",
       " 'releases/20240831/manifest.json']"
      ]
     },
     "execution_count": 4,
     "metadata": {},
     "output_type": "execute_result"
    }
   ],
   "source": [
    "abc_cache.list_manifest_file_names"
   ]
  },
  {
   "cell_type": "markdown",
   "metadata": {
    "tags": []
   },
   "source": [
    "We can switch to a specific manifest and release version of the data using the ``load_manifest`` method. This determines what version of the released data the cache will download/return to the user. The cache will keep track of which version was last used across sessions. Upon instantiating a cache, the current manifest can be viewed with the method: ``current_manifest``. Note that a warning will be thrown if the manifest loaded by the cache is older than the most recent manifest available.\n",
    "\n",
    "Below we show an example of loading an older manifest. Any of the strings returned by ``list_manifest_file_names`` will be valid manifests, however, we'll stick to the current manifest for this tutorial to avoid confusion. "
   ]
  },
  {
   "cell_type": "code",
   "execution_count": 5,
   "metadata": {
    "tags": []
   },
   "outputs": [
    {
     "name": "stderr",
     "output_type": "stream",
     "text": [
      "/Users/chris.morrison/src/abc_atlas_access/src/abc_atlas_access/abc_atlas_cache/cloud_cache.py:575: OutdatedManifestWarning: \n",
      "\n",
      "The manifest file you are loading is not the most up to date manifest file available for this dataset. The most up to data manifest file available for this dataset is \n",
      "\n",
      "releases/20240831/manifest.json\n",
      "\n",
      "To see the differences between these manifests,run\n",
      "\n",
      "type.compare_manifests('releases/20240831/manifest.json', 'releases/20230630/manifest.json')\n",
      "\n",
      "To see all of the manifest files currently downloaded onto your local system, run\n",
      "\n",
      "self.list_all_downloaded_manifests()\n",
      "\n",
      "If you just want to load the latest manifest, run\n",
      "\n",
      "self.load_latest_manifest()\n",
      "\n",
      "\n",
      "  warnings.warn(msg, OutdatedManifestWarning)\n"
     ]
    },
    {
     "name": "stdout",
     "output_type": "stream",
     "text": [
      "old manifest loaded: releases/20230630/manifest.json\n",
      "after latest manifest loaded: releases/20240831/manifest.json\n"
     ]
    }
   ],
   "source": [
    "abc_cache.load_manifest('releases/20230630/manifest.json')\n",
    "print(\"old manifest loaded:\", abc_cache.current_manifest)\n",
    "\n",
    "# Return to the latest manifest\n",
    "abc_cache.load_latest_manifest()\n",
    "print(\"after latest manifest loaded:\", abc_cache.current_manifest)"
   ]
  },
  {
   "cell_type": "markdown",
   "metadata": {},
   "source": [
    "We can list all available directories in the release we loaded using the method below. We can then list all the available data and metadata files in those directories. Note that the cache will raise an exception if the requested kind of files (data files [e.g. h5ad expression_matricies, nii.gz image_volumes] or metadata files [e.g. csv files]) are not available in the directory."
   ]
  },
  {
   "cell_type": "code",
   "execution_count": 6,
   "metadata": {},
   "outputs": [
    {
     "data": {
      "text/plain": [
       "['Allen-CCF-2020',\n",
       " 'MERFISH-C57BL6J-638850',\n",
       " 'MERFISH-C57BL6J-638850-CCF',\n",
       " 'MERFISH-C57BL6J-638850-imputed',\n",
       " 'MERFISH-C57BL6J-638850-sections',\n",
       " 'WHB-10Xv3',\n",
       " 'WHB-taxonomy',\n",
       " 'WMB-10X',\n",
       " 'WMB-10XMulti',\n",
       " 'WMB-10Xv2',\n",
       " 'WMB-10Xv3',\n",
       " 'WMB-neighborhoods',\n",
       " 'WMB-taxonomy',\n",
       " 'Zhuang-ABCA-1',\n",
       " 'Zhuang-ABCA-1-CCF',\n",
       " 'Zhuang-ABCA-2',\n",
       " 'Zhuang-ABCA-2-CCF',\n",
       " 'Zhuang-ABCA-3',\n",
       " 'Zhuang-ABCA-3-CCF',\n",
       " 'Zhuang-ABCA-4',\n",
       " 'Zhuang-ABCA-4-CCF']"
      ]
     },
     "execution_count": 6,
     "metadata": {},
     "output_type": "execute_result"
    }
   ],
   "source": [
    "abc_cache.list_directories"
   ]
  },
  {
   "cell_type": "code",
   "execution_count": 7,
   "metadata": {},
   "outputs": [
    {
     "data": {
      "text/plain": [
       "['WMB-10Xv2-CTXsp/log2',\n",
       " 'WMB-10Xv2-CTXsp/raw',\n",
       " 'WMB-10Xv2-HPF/log2',\n",
       " 'WMB-10Xv2-HPF/raw',\n",
       " 'WMB-10Xv2-HY/log2',\n",
       " 'WMB-10Xv2-HY/raw',\n",
       " 'WMB-10Xv2-Isocortex-1/log2',\n",
       " 'WMB-10Xv2-Isocortex-1/raw',\n",
       " 'WMB-10Xv2-Isocortex-2/log2',\n",
       " 'WMB-10Xv2-Isocortex-2/raw',\n",
       " 'WMB-10Xv2-Isocortex-3/log2',\n",
       " 'WMB-10Xv2-Isocortex-3/raw',\n",
       " 'WMB-10Xv2-Isocortex-4/log2',\n",
       " 'WMB-10Xv2-Isocortex-4/raw',\n",
       " 'WMB-10Xv2-MB/log2',\n",
       " 'WMB-10Xv2-MB/raw',\n",
       " 'WMB-10Xv2-OLF/log2',\n",
       " 'WMB-10Xv2-OLF/raw',\n",
       " 'WMB-10Xv2-TH/log2',\n",
       " 'WMB-10Xv2-TH/raw']"
      ]
     },
     "execution_count": 7,
     "metadata": {},
     "output_type": "execute_result"
    }
   ],
   "source": [
    "abc_cache.list_data_files('WMB-10Xv2')"
   ]
  },
  {
   "cell_type": "code",
   "execution_count": 8,
   "metadata": {},
   "outputs": [
    {
     "data": {
      "text/plain": [
       "['cluster',\n",
       " 'cluster_annotation_term',\n",
       " 'cluster_annotation_term_set',\n",
       " 'cluster_annotation_term_with_counts',\n",
       " 'cluster_to_cluster_annotation_membership',\n",
       " 'cluster_to_cluster_annotation_membership_color',\n",
       " 'cluster_to_cluster_annotation_membership_pivoted']"
      ]
     },
     "execution_count": 8,
     "metadata": {},
     "output_type": "execute_result"
    }
   ],
   "source": [
    "abc_cache.list_metadata_files('WMB-taxonomy')"
   ]
  },
  {
   "cell_type": "markdown",
   "metadata": {},
   "source": [
    "Before we start downloading data, we can check how much total data is in a given directory for both data files and metadata files."
   ]
  },
  {
   "cell_type": "code",
   "execution_count": 9,
   "metadata": {},
   "outputs": [
    {
     "data": {
      "text/plain": [
       "'104.16 GB'"
      ]
     },
     "execution_count": 9,
     "metadata": {},
     "output_type": "execute_result"
    }
   ],
   "source": [
    "abc_cache.get_directory_data_size('WMB-10Xv2')"
   ]
  },
  {
   "cell_type": "code",
   "execution_count": 10,
   "metadata": {},
   "outputs": [
    {
     "data": {
      "text/plain": [
       "'4.65 MB'"
      ]
     },
     "execution_count": 10,
     "metadata": {},
     "output_type": "execute_result"
    }
   ],
   "source": [
    "abc_cache.get_directory_metadata_size('WMB-taxonomy')"
   ]
  },
  {
   "cell_type": "markdown",
   "metadata": {},
   "source": [
    "## Downloading files\n",
    "\n",
    "The next set of examples shows how to download data to the directory you specified when setting up the cache object. There are two main ways of downloading the data: individually by file or by full directory."
   ]
  },
  {
   "cell_type": "markdown",
   "metadata": {},
   "source": [
    "### Downloading all data files or metadata files in a directory.\n",
    "\n",
    "Here we show how one can download the full set of data files or metadata files contained in a directory in the release. Use the ``list_directories`` as a guide here as to what data is available. Here we download all the data in two directories we know to be small. Once the download of all files is complete, a list of Paths to the downloaded files is returned.\n",
    "\n",
    "The user should be warned that several directories are significant in size, >100 GB. If a directory is over 10 GB in size total, the cache will warn the user when requesting to download the data in the directory."
   ]
  },
  {
   "cell_type": "code",
   "execution_count": 11,
   "metadata": {},
   "outputs": [
    {
     "name": "stderr",
     "output_type": "stream",
     "text": [
      "annotation_10.nii.gz: 100%|█████████████████████████████████████████████████████████████████████████████████████████████████| 27.5M/27.5M [00:01<00:00, 21.2MMB/s]\n",
      "annotation_boundary_10.nii.gz: 100%|████████████████████████████████████████████████████████████████████████████████████████| 27.4M/27.4M [00:02<00:00, 13.2MMB/s]\n",
      "average_template_10.nii.gz: 100%|█████████████████████████████████████████████████████████████████████████████████████████████| 343M/343M [00:15<00:00, 21.9MMB/s]"
     ]
    },
    {
     "name": "stdout",
     "output_type": "stream",
     "text": [
      "Allen-CCF-2020 data files:\n",
      "\t [PosixPath('/Users/chris.morrison/src/data/abc_atlas/image_volumes/Allen-CCF-2020/20230630/annotation_10.nii.gz'), PosixPath('/Users/chris.morrison/src/data/abc_atlas/image_volumes/Allen-CCF-2020/20230630/annotation_boundary_10.nii.gz'), PosixPath('/Users/chris.morrison/src/data/abc_atlas/image_volumes/Allen-CCF-2020/20230630/average_template_10.nii.gz')]\n"
     ]
    },
    {
     "name": "stderr",
     "output_type": "stream",
     "text": [
      "\n"
     ]
    }
   ],
   "source": [
    "allen_ccf_list = abc_cache.get_directory_data('Allen-CCF-2020')\n",
    "print(\"Allen-CCF-2020 data files:\\n\\t\", allen_ccf_list)"
   ]
  },
  {
   "cell_type": "code",
   "execution_count": 12,
   "metadata": {},
   "outputs": [
    {
     "name": "stderr",
     "output_type": "stream",
     "text": [
      "cluster.csv: 100%|█████████████████████████████████████████████████████████████████████████████████████████████████████████████| 131k/131k [00:00<00:00, 448kMB/s]\n",
      "cluster_annotation_term.csv: 100%|████████████████████████████████████████████████████████████████████████████████████████████| 861k/861k [00:00<00:00, 4.06MMB/s]\n",
      "cluster_annotation_term_set.csv: 100%|██████████████████████████████████████████████████████████████████████████████████████| 1.11k/1.11k [00:00<00:00, 6.21kMB/s]\n",
      "cluster_annotation_term_with_counts.csv: 100%|████████████████████████████████████████████████████████████████████████████████| 902k/902k [00:00<00:00, 4.18MMB/s]\n",
      "cluster_to_cluster_annotation_membership.csv: 100%|█████████████████████████████████████████████████████████████████████████| 2.21M/2.21M [00:00<00:00, 10.9MMB/s]\n",
      "cluster_to_cluster_annotation_membership_color.csv: 100%|█████████████████████████████████████████████████████████████████████| 239k/239k [00:00<00:00, 1.82MMB/s]\n",
      "cluster_to_cluster_annotation_membership_pivoted.csv: 100%|███████████████████████████████████████████████████████████████████| 531k/531k [00:00<00:00, 3.83MMB/s]"
     ]
    },
    {
     "name": "stdout",
     "output_type": "stream",
     "text": [
      "WMB-taxonomy metadata files:\n",
      "\t [PosixPath('/Users/chris.morrison/src/data/abc_atlas/metadata/WMB-taxonomy/20231215/cluster.csv'), PosixPath('/Users/chris.morrison/src/data/abc_atlas/metadata/WMB-taxonomy/20231215/cluster_annotation_term.csv'), PosixPath('/Users/chris.morrison/src/data/abc_atlas/metadata/WMB-taxonomy/20231215/cluster_annotation_term_set.csv'), PosixPath('/Users/chris.morrison/src/data/abc_atlas/metadata/WMB-taxonomy/20231215/views/cluster_annotation_term_with_counts.csv'), PosixPath('/Users/chris.morrison/src/data/abc_atlas/metadata/WMB-taxonomy/20231215/cluster_to_cluster_annotation_membership.csv'), PosixPath('/Users/chris.morrison/src/data/abc_atlas/metadata/WMB-taxonomy/20231215/views/cluster_to_cluster_annotation_membership_color.csv'), PosixPath('/Users/chris.morrison/src/data/abc_atlas/metadata/WMB-taxonomy/20231215/views/cluster_to_cluster_annotation_membership_pivoted.csv')]\n"
     ]
    },
    {
     "name": "stderr",
     "output_type": "stream",
     "text": [
      "\n"
     ]
    }
   ],
   "source": [
    "allen_ccf_list = abc_cache.get_directory_metadata('WMB-taxonomy')\n",
    "print(\"WMB-taxonomy metadata files:\\n\\t\", allen_ccf_list)"
   ]
  },
  {
   "cell_type": "markdown",
   "metadata": {},
   "source": [
    "Note that, after downloading the file successfully, running the ``get_directory_data`` or ``get_directory_metadata`` methods will return the list of the local paths without having to redownload the files."
   ]
  },
  {
   "cell_type": "code",
   "execution_count": 13,
   "metadata": {},
   "outputs": [
    {
     "name": "stdout",
     "output_type": "stream",
     "text": [
      "Allen-CCF-2020 data files:\n",
      "\t [PosixPath('/Users/chris.morrison/src/data/abc_atlas/image_volumes/Allen-CCF-2020/20230630/annotation_10.nii.gz'), PosixPath('/Users/chris.morrison/src/data/abc_atlas/image_volumes/Allen-CCF-2020/20230630/annotation_boundary_10.nii.gz'), PosixPath('/Users/chris.morrison/src/data/abc_atlas/image_volumes/Allen-CCF-2020/20230630/average_template_10.nii.gz')] \n",
      "\n",
      "\n",
      "WMB-taxonomy metadata files:\n",
      "\t [PosixPath('/Users/chris.morrison/src/data/abc_atlas/metadata/WMB-taxonomy/20231215/cluster.csv'), PosixPath('/Users/chris.morrison/src/data/abc_atlas/metadata/WMB-taxonomy/20231215/cluster_annotation_term.csv'), PosixPath('/Users/chris.morrison/src/data/abc_atlas/metadata/WMB-taxonomy/20231215/cluster_annotation_term_set.csv'), PosixPath('/Users/chris.morrison/src/data/abc_atlas/metadata/WMB-taxonomy/20231215/views/cluster_annotation_term_with_counts.csv'), PosixPath('/Users/chris.morrison/src/data/abc_atlas/metadata/WMB-taxonomy/20231215/cluster_to_cluster_annotation_membership.csv'), PosixPath('/Users/chris.morrison/src/data/abc_atlas/metadata/WMB-taxonomy/20231215/views/cluster_to_cluster_annotation_membership_color.csv'), PosixPath('/Users/chris.morrison/src/data/abc_atlas/metadata/WMB-taxonomy/20231215/views/cluster_to_cluster_annotation_membership_pivoted.csv')]\n"
     ]
    }
   ],
   "source": [
    "allen_ccf_list = abc_cache.get_directory_data('Allen-CCF-2020')\n",
    "print(\"Allen-CCF-2020 data files:\\n\\t\", allen_ccf_list, \"\\n\\n\")\n",
    "allen_ccf_list = abc_cache.get_directory_metadata('WMB-taxonomy')\n",
    "print(\"WMB-taxonomy metadata files:\\n\\t\", allen_ccf_list)"
   ]
  },
  {
   "cell_type": "markdown",
   "metadata": {},
   "source": [
    "### Downloading individual files.\n",
    "\n",
    "The option also exists to download files individually. We can use ``list_directories`` and the methods ``list_data_files`` and ``list_metadata_files`` to guide us as to what is available to download. Below we will download one metadata file from the WMB-10X directory/dataset and one expression matrix data file from the WMB-10XMulti directory/dataset. "
   ]
  },
  {
   "cell_type": "markdown",
   "metadata": {},
   "source": [
    "#### Downloading individual metadata files"
   ]
  },
  {
   "cell_type": "code",
   "execution_count": 14,
   "metadata": {},
   "outputs": [
    {
     "data": {
      "text/plain": [
       "['cell_metadata',\n",
       " 'cell_metadata_with_cluster_annotation',\n",
       " 'example_genes_all_cells_expression',\n",
       " 'gene',\n",
       " 'region_of_interest_metadata']"
      ]
     },
     "execution_count": 14,
     "metadata": {},
     "output_type": "execute_result"
    }
   ],
   "source": [
    "abc_cache.list_metadata_files('WMB-10X')"
   ]
  },
  {
   "cell_type": "code",
   "execution_count": 15,
   "metadata": {},
   "outputs": [
    {
     "name": "stderr",
     "output_type": "stream",
     "text": [
      "gene.csv: 100%|█████████████████████████████████████████████████████████████████████████████████████████████████████████████| 2.30M/2.30M [00:00<00:00, 4.14MMB/s]\n"
     ]
    },
    {
     "data": {
      "text/plain": [
       "PosixPath('/Users/chris.morrison/src/data/abc_atlas/metadata/WMB-10X/20231215/gene.csv')"
      ]
     },
     "execution_count": 15,
     "metadata": {},
     "output_type": "execute_result"
    }
   ],
   "source": [
    "abc_cache.get_metadata_path(directory='WMB-10X', file_name='gene')"
   ]
  },
  {
   "cell_type": "markdown",
   "metadata": {},
   "source": [
    "The cache can also return a dataframe for metadata objects. They are loaded with a generic index. Note that when using this method, it can accept additional argments that will be passed to the [pandas.read_csv](https://pandas.pydata.org/docs/reference/api/pandas.read_csv.html) method. Examples of this are used throughout the notebooks in this repo."
   ]
  },
  {
   "cell_type": "code",
   "execution_count": 16,
   "metadata": {},
   "outputs": [
    {
     "data": {
      "text/html": [
       "<div>\n",
       "<style scoped>\n",
       "    .dataframe tbody tr th:only-of-type {\n",
       "        vertical-align: middle;\n",
       "    }\n",
       "\n",
       "    .dataframe tbody tr th {\n",
       "        vertical-align: top;\n",
       "    }\n",
       "\n",
       "    .dataframe thead th {\n",
       "        text-align: right;\n",
       "    }\n",
       "</style>\n",
       "<table border=\"1\" class=\"dataframe\">\n",
       "  <thead>\n",
       "    <tr style=\"text-align: right;\">\n",
       "      <th></th>\n",
       "      <th>gene_identifier</th>\n",
       "      <th>gene_symbol</th>\n",
       "      <th>name</th>\n",
       "      <th>mapped_ncbi_identifier</th>\n",
       "      <th>comment</th>\n",
       "    </tr>\n",
       "  </thead>\n",
       "  <tbody>\n",
       "    <tr>\n",
       "      <th>0</th>\n",
       "      <td>ENSMUSG00000051951</td>\n",
       "      <td>Xkr4</td>\n",
       "      <td>X-linked Kx blood group related 4</td>\n",
       "      <td>NCBIGene:497097</td>\n",
       "      <td>NaN</td>\n",
       "    </tr>\n",
       "    <tr>\n",
       "      <th>1</th>\n",
       "      <td>ENSMUSG00000089699</td>\n",
       "      <td>Gm1992</td>\n",
       "      <td>predicted gene 1992</td>\n",
       "      <td>NaN</td>\n",
       "      <td>NaN</td>\n",
       "    </tr>\n",
       "    <tr>\n",
       "      <th>2</th>\n",
       "      <td>ENSMUSG00000102331</td>\n",
       "      <td>Gm19938</td>\n",
       "      <td>predicted gene, 19938</td>\n",
       "      <td>NaN</td>\n",
       "      <td>NaN</td>\n",
       "    </tr>\n",
       "    <tr>\n",
       "      <th>3</th>\n",
       "      <td>ENSMUSG00000102343</td>\n",
       "      <td>Gm37381</td>\n",
       "      <td>predicted gene, 37381</td>\n",
       "      <td>NaN</td>\n",
       "      <td>NaN</td>\n",
       "    </tr>\n",
       "    <tr>\n",
       "      <th>4</th>\n",
       "      <td>ENSMUSG00000025900</td>\n",
       "      <td>Rp1</td>\n",
       "      <td>retinitis pigmentosa 1 (human)</td>\n",
       "      <td>NCBIGene:19888</td>\n",
       "      <td>NaN</td>\n",
       "    </tr>\n",
       "    <tr>\n",
       "      <th>...</th>\n",
       "      <td>...</td>\n",
       "      <td>...</td>\n",
       "      <td>...</td>\n",
       "      <td>...</td>\n",
       "      <td>...</td>\n",
       "    </tr>\n",
       "    <tr>\n",
       "      <th>32280</th>\n",
       "      <td>ENSMUSG00000095523</td>\n",
       "      <td>AC124606.1</td>\n",
       "      <td>PRAME family member 8-like</td>\n",
       "      <td>NCBIGene:100038995</td>\n",
       "      <td>no expression</td>\n",
       "    </tr>\n",
       "    <tr>\n",
       "      <th>32281</th>\n",
       "      <td>ENSMUSG00000095475</td>\n",
       "      <td>AC133095.2</td>\n",
       "      <td>uncharacterized LOC545763</td>\n",
       "      <td>NCBIGene:545763</td>\n",
       "      <td>no expression</td>\n",
       "    </tr>\n",
       "    <tr>\n",
       "      <th>32282</th>\n",
       "      <td>ENSMUSG00000094855</td>\n",
       "      <td>AC133095.1</td>\n",
       "      <td>uncharacterized LOC620639</td>\n",
       "      <td>NCBIGene:620639</td>\n",
       "      <td>no expression</td>\n",
       "    </tr>\n",
       "    <tr>\n",
       "      <th>32283</th>\n",
       "      <td>ENSMUSG00000095019</td>\n",
       "      <td>AC234645.1</td>\n",
       "      <td>NaN</td>\n",
       "      <td>NaN</td>\n",
       "      <td>no expression</td>\n",
       "    </tr>\n",
       "    <tr>\n",
       "      <th>32284</th>\n",
       "      <td>ENSMUSG00000095041</td>\n",
       "      <td>AC149090.1</td>\n",
       "      <td>NaN</td>\n",
       "      <td>NaN</td>\n",
       "      <td>NaN</td>\n",
       "    </tr>\n",
       "  </tbody>\n",
       "</table>\n",
       "<p>32285 rows × 5 columns</p>\n",
       "</div>"
      ],
      "text/plain": [
       "          gene_identifier gene_symbol                               name  \\\n",
       "0      ENSMUSG00000051951        Xkr4  X-linked Kx blood group related 4   \n",
       "1      ENSMUSG00000089699      Gm1992                predicted gene 1992   \n",
       "2      ENSMUSG00000102331     Gm19938              predicted gene, 19938   \n",
       "3      ENSMUSG00000102343     Gm37381              predicted gene, 37381   \n",
       "4      ENSMUSG00000025900         Rp1     retinitis pigmentosa 1 (human)   \n",
       "...                   ...         ...                                ...   \n",
       "32280  ENSMUSG00000095523  AC124606.1         PRAME family member 8-like   \n",
       "32281  ENSMUSG00000095475  AC133095.2          uncharacterized LOC545763   \n",
       "32282  ENSMUSG00000094855  AC133095.1          uncharacterized LOC620639   \n",
       "32283  ENSMUSG00000095019  AC234645.1                                NaN   \n",
       "32284  ENSMUSG00000095041  AC149090.1                                NaN   \n",
       "\n",
       "      mapped_ncbi_identifier        comment  \n",
       "0            NCBIGene:497097            NaN  \n",
       "1                        NaN            NaN  \n",
       "2                        NaN            NaN  \n",
       "3                        NaN            NaN  \n",
       "4             NCBIGene:19888            NaN  \n",
       "...                      ...            ...  \n",
       "32280     NCBIGene:100038995  no expression  \n",
       "32281        NCBIGene:545763  no expression  \n",
       "32282        NCBIGene:620639  no expression  \n",
       "32283                    NaN  no expression  \n",
       "32284                    NaN            NaN  \n",
       "\n",
       "[32285 rows x 5 columns]"
      ]
     },
     "execution_count": 16,
     "metadata": {},
     "output_type": "execute_result"
    }
   ],
   "source": [
    "abc_cache.get_metadata_dataframe(directory='WMB-10X', file_name='gene')"
   ]
  },
  {
   "cell_type": "markdown",
   "metadata": {},
   "source": [
    "#### Downloading individual data files"
   ]
  },
  {
   "cell_type": "code",
   "execution_count": 17,
   "metadata": {},
   "outputs": [
    {
     "data": {
      "text/plain": [
       "['WMB-10XMulti/log2', 'WMB-10XMulti/raw']"
      ]
     },
     "execution_count": 17,
     "metadata": {},
     "output_type": "execute_result"
    }
   ],
   "source": [
    "abc_cache.list_data_files('WMB-10XMulti')"
   ]
  },
  {
   "cell_type": "markdown",
   "metadata": {},
   "source": [
    "Note how ``log2`` and ``raw`` is added to the end of the file name returned by the above function and used below. If we were not to specify this in the input, the code will throw an error describing the ambiguity."
   ]
  },
  {
   "cell_type": "code",
   "execution_count": 18,
   "metadata": {},
   "outputs": [
    {
     "name": "stderr",
     "output_type": "stream",
     "text": [
      "WMB-10XMulti-log2.h5ad: 100%|███████████████████████████████████████████████████████████████████████████████████████████████| 89.3M/89.3M [00:04<00:00, 20.4MMB/s]\n"
     ]
    },
    {
     "data": {
      "text/plain": [
       "PosixPath('/Users/chris.morrison/src/data/abc_atlas/expression_matrices/WMB-10XMulti/20230830/WMB-10XMulti-log2.h5ad')"
      ]
     },
     "execution_count": 18,
     "metadata": {},
     "output_type": "execute_result"
    }
   ],
   "source": [
    "abc_cache.get_data_path(directory='WMB-10XMulti', file_name='WMB-10XMulti/log2')"
   ]
  },
  {
   "cell_type": "code",
   "execution_count": 19,
   "metadata": {
    "scrolled": true
   },
   "outputs": [
    {
     "ename": "KeyError",
     "evalue": "\"File WMB-10XMulti found in directory but multiple files found: ['log2', 'raw']. Please specify the file name as one of ['WMB-10XMulti/log2', 'WMB-10XMulti/raw']\"",
     "output_type": "error",
     "traceback": [
      "\u001b[0;31m---------------------------------------------------------------------------\u001b[0m",
      "\u001b[0;31mKeyError\u001b[0m                                  Traceback (most recent call last)",
      "Cell \u001b[0;32mIn[19], line 1\u001b[0m\n\u001b[0;32m----> 1\u001b[0m \u001b[43mabc_cache\u001b[49m\u001b[38;5;241;43m.\u001b[39;49m\u001b[43mget_data_path\u001b[49m\u001b[43m(\u001b[49m\u001b[43mdirectory\u001b[49m\u001b[38;5;241;43m=\u001b[39;49m\u001b[38;5;124;43m'\u001b[39;49m\u001b[38;5;124;43mWMB-10XMulti\u001b[39;49m\u001b[38;5;124;43m'\u001b[39;49m\u001b[43m,\u001b[49m\u001b[43m \u001b[49m\u001b[43mfile_name\u001b[49m\u001b[38;5;241;43m=\u001b[39;49m\u001b[38;5;124;43m'\u001b[39;49m\u001b[38;5;124;43mWMB-10XMulti\u001b[39;49m\u001b[38;5;124;43m'\u001b[39;49m\u001b[43m)\u001b[49m\n",
      "File \u001b[0;32m~/src/abc_atlas_access/src/abc_atlas_access/abc_atlas_cache/abc_project_cache.py:508\u001b[0m, in \u001b[0;36mAbcProjectCache.get_data_path\u001b[0;34m(self, directory, file_name, force_download, skip_hash_check)\u001b[0m\n\u001b[1;32m    503\u001b[0m     data_path \u001b[38;5;241m=\u001b[39m \u001b[38;5;28mself\u001b[39m\u001b[38;5;241m.\u001b[39m_get_local_path(\n\u001b[1;32m    504\u001b[0m         directory\u001b[38;5;241m=\u001b[39mdirectory,\n\u001b[1;32m    505\u001b[0m         file_name\u001b[38;5;241m=\u001b[39mfile_name\n\u001b[1;32m    506\u001b[0m     )\n\u001b[1;32m    507\u001b[0m \u001b[38;5;28;01melse\u001b[39;00m:\n\u001b[0;32m--> 508\u001b[0m     data_path \u001b[38;5;241m=\u001b[39m \u001b[38;5;28;43mself\u001b[39;49m\u001b[38;5;241;43m.\u001b[39;49m\u001b[43mcache\u001b[49m\u001b[38;5;241;43m.\u001b[39;49m\u001b[43mdownload_data\u001b[49m\u001b[43m(\u001b[49m\n\u001b[1;32m    509\u001b[0m \u001b[43m        \u001b[49m\u001b[43mdirectory\u001b[49m\u001b[38;5;241;43m=\u001b[39;49m\u001b[43mdirectory\u001b[49m\u001b[43m,\u001b[49m\n\u001b[1;32m    510\u001b[0m \u001b[43m        \u001b[49m\u001b[43mfile_name\u001b[49m\u001b[38;5;241;43m=\u001b[39;49m\u001b[43mfile_name\u001b[49m\u001b[43m,\u001b[49m\n\u001b[1;32m    511\u001b[0m \u001b[43m        \u001b[49m\u001b[43mforce_download\u001b[49m\u001b[38;5;241;43m=\u001b[39;49m\u001b[43mforce_download\u001b[49m\u001b[43m,\u001b[49m\n\u001b[1;32m    512\u001b[0m \u001b[43m        \u001b[49m\u001b[43mskip_hash_check\u001b[49m\u001b[38;5;241;43m=\u001b[39;49m\u001b[43mskip_hash_check\u001b[49m\n\u001b[1;32m    513\u001b[0m \u001b[43m    \u001b[49m\u001b[43m)\u001b[49m\n\u001b[1;32m    514\u001b[0m \u001b[38;5;28;01mreturn\u001b[39;00m data_path\n",
      "File \u001b[0;32m~/src/abc_atlas_access/src/abc_atlas_access/abc_atlas_cache/cloud_cache.py:836\u001b[0m, in \u001b[0;36mCloudCacheBase.download_data\u001b[0;34m(self, directory, file_name, force_download, skip_hash_check)\u001b[0m\n\u001b[1;32m    802\u001b[0m \u001b[38;5;28;01mdef\u001b[39;00m \u001b[38;5;21mdownload_data\u001b[39m(\n\u001b[1;32m    803\u001b[0m     \u001b[38;5;28mself\u001b[39m,\n\u001b[1;32m    804\u001b[0m     directory: \u001b[38;5;28mstr\u001b[39m,\n\u001b[0;32m   (...)\u001b[0m\n\u001b[1;32m    807\u001b[0m     skip_hash_check: \u001b[38;5;28mbool\u001b[39m \u001b[38;5;241m=\u001b[39m \u001b[38;5;28;01mFalse\u001b[39;00m\n\u001b[1;32m    808\u001b[0m ) \u001b[38;5;241m-\u001b[39m\u001b[38;5;241m>\u001b[39m Path:\n\u001b[1;32m    809\u001b[0m \u001b[38;5;250m    \u001b[39m\u001b[38;5;124;03m\"\"\"\u001b[39;00m\n\u001b[1;32m    810\u001b[0m \u001b[38;5;124;03m    Return the local path to a data file, downloading the file\u001b[39;00m\n\u001b[1;32m    811\u001b[0m \u001b[38;5;124;03m    if necessary\u001b[39;00m\n\u001b[0;32m   (...)\u001b[0m\n\u001b[1;32m    834\u001b[0m \u001b[38;5;124;03m        If the file cannot be downloaded\u001b[39;00m\n\u001b[1;32m    835\u001b[0m \u001b[38;5;124;03m    \"\"\"\u001b[39;00m\n\u001b[0;32m--> 836\u001b[0m     super_attributes \u001b[38;5;241m=\u001b[39m \u001b[38;5;28;43mself\u001b[39;49m\u001b[38;5;241;43m.\u001b[39;49m\u001b[43mdata_path\u001b[49m\u001b[43m(\u001b[49m\u001b[43mdirectory\u001b[49m\u001b[38;5;241;43m=\u001b[39;49m\u001b[43mdirectory\u001b[49m\u001b[43m,\u001b[49m\n\u001b[1;32m    837\u001b[0m \u001b[43m                                      \u001b[49m\u001b[43mfile_name\u001b[49m\u001b[38;5;241;43m=\u001b[39;49m\u001b[43mfile_name\u001b[49m\u001b[43m)\u001b[49m\n\u001b[1;32m    838\u001b[0m     file_attributes \u001b[38;5;241m=\u001b[39m super_attributes[\u001b[38;5;124m'\u001b[39m\u001b[38;5;124mfile_attributes\u001b[39m\u001b[38;5;124m'\u001b[39m]\n\u001b[1;32m    839\u001b[0m     \u001b[38;5;66;03m# If the file exists, check that it was downloaded successfully.\u001b[39;00m\n",
      "File \u001b[0;32m~/src/abc_atlas_access/src/abc_atlas_access/abc_atlas_cache/cloud_cache.py:403\u001b[0m, in \u001b[0;36mBasicLocalCache.data_path\u001b[0;34m(self, directory, file_name)\u001b[0m\n\u001b[1;32m    374\u001b[0m \u001b[38;5;28;01mdef\u001b[39;00m \u001b[38;5;21mdata_path\u001b[39m(\u001b[38;5;28mself\u001b[39m, directory: \u001b[38;5;28mstr\u001b[39m, file_name: \u001b[38;5;28mstr\u001b[39m) \u001b[38;5;241m-\u001b[39m\u001b[38;5;241m>\u001b[39m \u001b[38;5;28mdict\u001b[39m:\n\u001b[1;32m    375\u001b[0m \u001b[38;5;250m    \u001b[39m\u001b[38;5;124;03m\"\"\"\u001b[39;00m\n\u001b[1;32m    376\u001b[0m \u001b[38;5;124;03m    Return the local path to a data file, and test for the\u001b[39;00m\n\u001b[1;32m    377\u001b[0m \u001b[38;5;124;03m    file's existence\u001b[39;00m\n\u001b[0;32m   (...)\u001b[0m\n\u001b[1;32m    401\u001b[0m \u001b[38;5;124;03m        If the file cannot be downloaded\u001b[39;00m\n\u001b[1;32m    402\u001b[0m \u001b[38;5;124;03m    \"\"\"\u001b[39;00m\n\u001b[0;32m--> 403\u001b[0m     output \u001b[38;5;241m=\u001b[39m \u001b[38;5;28;43mself\u001b[39;49m\u001b[38;5;241;43m.\u001b[39;49m\u001b[43m_get_file_path\u001b[49m\u001b[43m(\u001b[49m\u001b[43mdirectory\u001b[49m\u001b[38;5;241;43m=\u001b[39;49m\u001b[43mdirectory\u001b[49m\u001b[43m,\u001b[49m\u001b[43m \u001b[49m\u001b[43mfile_name\u001b[49m\u001b[38;5;241;43m=\u001b[39;49m\u001b[43mfile_name\u001b[49m\u001b[43m)\u001b[49m\n\u001b[1;32m    405\u001b[0m     \u001b[38;5;28;01mreturn\u001b[39;00m output\n",
      "File \u001b[0;32m~/src/abc_atlas_access/src/abc_atlas_access/abc_atlas_cache/cloud_cache.py:329\u001b[0m, in \u001b[0;36mBasicLocalCache._get_file_path\u001b[0;34m(self, directory, file_name)\u001b[0m\n\u001b[1;32m    300\u001b[0m \u001b[38;5;28;01mdef\u001b[39;00m \u001b[38;5;21m_get_file_path\u001b[39m(\u001b[38;5;28mself\u001b[39m, directory: \u001b[38;5;28mstr\u001b[39m, file_name: \u001b[38;5;28mstr\u001b[39m) \u001b[38;5;241m-\u001b[39m\u001b[38;5;241m>\u001b[39m \u001b[38;5;28mdict\u001b[39m:\n\u001b[1;32m    301\u001b[0m \u001b[38;5;250m    \u001b[39m\u001b[38;5;124;03m\"\"\"\u001b[39;00m\n\u001b[1;32m    302\u001b[0m \u001b[38;5;124;03m    Return the local path to a data file, and test for the\u001b[39;00m\n\u001b[1;32m    303\u001b[0m \u001b[38;5;124;03m    file's existence.\u001b[39;00m\n\u001b[0;32m   (...)\u001b[0m\n\u001b[1;32m    327\u001b[0m \u001b[38;5;124;03m        If the file cannot be downloaded\u001b[39;00m\n\u001b[1;32m    328\u001b[0m \u001b[38;5;124;03m    \"\"\"\u001b[39;00m\n\u001b[0;32m--> 329\u001b[0m     file_attributes \u001b[38;5;241m=\u001b[39m \u001b[38;5;28;43mself\u001b[39;49m\u001b[38;5;241;43m.\u001b[39;49m\u001b[43m_manifest\u001b[49m\u001b[38;5;241;43m.\u001b[39;49m\u001b[43mget_file_attributes\u001b[49m\u001b[43m(\u001b[49m\n\u001b[1;32m    330\u001b[0m \u001b[43m        \u001b[49m\u001b[43mdirectory\u001b[49m\u001b[38;5;241;43m=\u001b[39;49m\u001b[43mdirectory\u001b[49m\u001b[43m,\u001b[49m\n\u001b[1;32m    331\u001b[0m \u001b[43m        \u001b[49m\u001b[43mfile_name\u001b[49m\u001b[38;5;241;43m=\u001b[39;49m\u001b[43mfile_name\u001b[49m\n\u001b[1;32m    332\u001b[0m \u001b[43m    \u001b[49m\u001b[43m)\u001b[49m\n\u001b[1;32m    333\u001b[0m     exists \u001b[38;5;241m=\u001b[39m \u001b[38;5;28mself\u001b[39m\u001b[38;5;241m.\u001b[39m_file_exists(file_attributes)\n\u001b[1;32m    334\u001b[0m     local_path \u001b[38;5;241m=\u001b[39m file_attributes\u001b[38;5;241m.\u001b[39mlocal_path\n",
      "File \u001b[0;32m~/src/abc_atlas_access/src/abc_atlas_access/abc_atlas_cache/manifest.py:238\u001b[0m, in \u001b[0;36mManifest.get_file_attributes\u001b[0;34m(self, directory, file_name)\u001b[0m\n\u001b[1;32m    226\u001b[0m             file_attributes \u001b[38;5;241m=\u001b[39m \u001b[38;5;28mself\u001b[39m\u001b[38;5;241m.\u001b[39m_create_file_attributes(\n\u001b[1;32m    227\u001b[0m                 remote_path\u001b[38;5;241m=\u001b[39mfiles_data[kind][\u001b[38;5;124m\"\u001b[39m\u001b[38;5;124mfiles\u001b[39m\u001b[38;5;124m\"\u001b[39m][file_type][\n\u001b[1;32m    228\u001b[0m                     \u001b[38;5;124m'\u001b[39m\u001b[38;5;124murl\u001b[39m\u001b[38;5;124m'\u001b[39m],\n\u001b[0;32m   (...)\u001b[0m\n\u001b[1;32m    235\u001b[0m                 file_hash\u001b[38;5;241m=\u001b[39mfiles_data[kind][\u001b[38;5;124m\"\u001b[39m\u001b[38;5;124mfiles\u001b[39m\u001b[38;5;124m\"\u001b[39m][file_type][\u001b[38;5;124m'\u001b[39m\u001b[38;5;124mfile_hash\u001b[39m\u001b[38;5;124m'\u001b[39m]  \u001b[38;5;66;03m# noqa: E501\u001b[39;00m\n\u001b[1;32m    236\u001b[0m             )\n\u001b[1;32m    237\u001b[0m         \u001b[38;5;28;01melif\u001b[39;00m kind \u001b[38;5;129;01mis\u001b[39;00m \u001b[38;5;28;01mNone\u001b[39;00m \u001b[38;5;129;01mand\u001b[39;00m \u001b[38;5;124m\"\u001b[39m\u001b[38;5;124mfiles\u001b[39m\u001b[38;5;124m\"\u001b[39m \u001b[38;5;129;01mnot\u001b[39;00m \u001b[38;5;129;01min\u001b[39;00m files_data\u001b[38;5;241m.\u001b[39mkeys():\n\u001b[0;32m--> 238\u001b[0m             \u001b[38;5;28;01mraise\u001b[39;00m \u001b[38;5;167;01mKeyError\u001b[39;00m(\n\u001b[1;32m    239\u001b[0m                 \u001b[38;5;124mf\u001b[39m\u001b[38;5;124m\"\u001b[39m\u001b[38;5;124mFile \u001b[39m\u001b[38;5;132;01m{\u001b[39;00mfile_name\u001b[38;5;132;01m}\u001b[39;00m\u001b[38;5;124m found in directory but multiple \u001b[39m\u001b[38;5;124m\"\u001b[39m\n\u001b[1;32m    240\u001b[0m                 \u001b[38;5;124mf\u001b[39m\u001b[38;5;124m\"\u001b[39m\u001b[38;5;124mfiles found: \u001b[39m\u001b[38;5;132;01m{\u001b[39;00m\u001b[38;5;28mlist\u001b[39m(files_data\u001b[38;5;241m.\u001b[39mkeys())\u001b[38;5;132;01m}\u001b[39;00m\u001b[38;5;124m. Please \u001b[39m\u001b[38;5;124m\"\u001b[39m\n\u001b[1;32m    241\u001b[0m                 \u001b[38;5;124m\"\u001b[39m\u001b[38;5;124mspecify the file name as one of \u001b[39m\u001b[38;5;124m\"\u001b[39m\n\u001b[1;32m    242\u001b[0m                 \u001b[38;5;124mf\u001b[39m\u001b[38;5;124m\"\u001b[39m\u001b[38;5;132;01m{\u001b[39;00m[\u001b[38;5;124m'\u001b[39m\u001b[38;5;132;01m%s\u001b[39;00m\u001b[38;5;124m/\u001b[39m\u001b[38;5;132;01m%s\u001b[39;00m\u001b[38;5;124m'\u001b[39m\u001b[38;5;250m \u001b[39m\u001b[38;5;241m%\u001b[39m\u001b[38;5;250m \u001b[39m(file_name,\u001b[38;5;250m \u001b[39mkey)\u001b[38;5;250m \u001b[39m\u001b[38;5;28;01mfor\u001b[39;00m\u001b[38;5;250m \u001b[39mkey\u001b[38;5;250m \u001b[39m\u001b[38;5;129;01min\u001b[39;00m\u001b[38;5;250m \u001b[39mfiles_data\u001b[38;5;241m.\u001b[39mkeys()]\u001b[38;5;132;01m}\u001b[39;00m\u001b[38;5;124m\"\u001b[39m  \u001b[38;5;66;03m# noqa: E501\u001b[39;00m\n\u001b[1;32m    243\u001b[0m             )\n\u001b[1;32m    244\u001b[0m \u001b[38;5;28;01mif\u001b[39;00m file_attributes \u001b[38;5;129;01mis\u001b[39;00m \u001b[38;5;28;01mNone\u001b[39;00m:\n\u001b[1;32m    245\u001b[0m     \u001b[38;5;28;01mraise\u001b[39;00m \u001b[38;5;167;01mKeyError\u001b[39;00m(\n\u001b[1;32m    246\u001b[0m         \u001b[38;5;124mf\u001b[39m\u001b[38;5;124m\"\u001b[39m\u001b[38;5;124mFile \u001b[39m\u001b[38;5;132;01m{\u001b[39;00mfile_name\u001b[38;5;132;01m}\u001b[39;00m\u001b[38;5;124m not found in directory \u001b[39m\u001b[38;5;132;01m{\u001b[39;00mdirectory\u001b[38;5;132;01m}\u001b[39;00m\u001b[38;5;124m.\u001b[39m\u001b[38;5;124m\"\u001b[39m\n\u001b[1;32m    247\u001b[0m     )\n",
      "\u001b[0;31mKeyError\u001b[0m: \"File WMB-10XMulti found in directory but multiple files found: ['log2', 'raw']. Please specify the file name as one of ['WMB-10XMulti/log2', 'WMB-10XMulti/raw']\""
     ]
    }
   ],
   "source": [
    "abc_cache.get_data_path(directory='WMB-10XMulti', file_name='WMB-10XMulti')"
   ]
  },
  {
   "cell_type": "markdown",
   "metadata": {},
   "source": [
    "### Advanced Options"
   ]
  },
  {
   "cell_type": "markdown",
   "metadata": {},
   "source": [
    "#### Forcing the cache to redownload data"
   ]
  },
  {
   "cell_type": "markdown",
   "metadata": {},
   "source": [
    "For all methods that download files, the option exists to force the cache to redownload the file(s). This can be useful if the downloaded file has become corrupted or accidentially deleted/changed. Below are examples of using it while downloading an inividual file or a full directory of files."
   ]
  },
  {
   "cell_type": "code",
   "execution_count": 20,
   "metadata": {},
   "outputs": [
    {
     "name": "stderr",
     "output_type": "stream",
     "text": [
      "gene.csv: 100%|█████████████████████████████████████████████████████████████████████████████████████████████████████████████| 2.30M/2.30M [00:00<00:00, 14.8MMB/s]\n"
     ]
    },
    {
     "data": {
      "text/html": [
       "<div>\n",
       "<style scoped>\n",
       "    .dataframe tbody tr th:only-of-type {\n",
       "        vertical-align: middle;\n",
       "    }\n",
       "\n",
       "    .dataframe tbody tr th {\n",
       "        vertical-align: top;\n",
       "    }\n",
       "\n",
       "    .dataframe thead th {\n",
       "        text-align: right;\n",
       "    }\n",
       "</style>\n",
       "<table border=\"1\" class=\"dataframe\">\n",
       "  <thead>\n",
       "    <tr style=\"text-align: right;\">\n",
       "      <th></th>\n",
       "      <th>gene_identifier</th>\n",
       "      <th>gene_symbol</th>\n",
       "      <th>name</th>\n",
       "      <th>mapped_ncbi_identifier</th>\n",
       "      <th>comment</th>\n",
       "    </tr>\n",
       "  </thead>\n",
       "  <tbody>\n",
       "    <tr>\n",
       "      <th>0</th>\n",
       "      <td>ENSMUSG00000051951</td>\n",
       "      <td>Xkr4</td>\n",
       "      <td>X-linked Kx blood group related 4</td>\n",
       "      <td>NCBIGene:497097</td>\n",
       "      <td>NaN</td>\n",
       "    </tr>\n",
       "    <tr>\n",
       "      <th>1</th>\n",
       "      <td>ENSMUSG00000089699</td>\n",
       "      <td>Gm1992</td>\n",
       "      <td>predicted gene 1992</td>\n",
       "      <td>NaN</td>\n",
       "      <td>NaN</td>\n",
       "    </tr>\n",
       "    <tr>\n",
       "      <th>2</th>\n",
       "      <td>ENSMUSG00000102331</td>\n",
       "      <td>Gm19938</td>\n",
       "      <td>predicted gene, 19938</td>\n",
       "      <td>NaN</td>\n",
       "      <td>NaN</td>\n",
       "    </tr>\n",
       "    <tr>\n",
       "      <th>3</th>\n",
       "      <td>ENSMUSG00000102343</td>\n",
       "      <td>Gm37381</td>\n",
       "      <td>predicted gene, 37381</td>\n",
       "      <td>NaN</td>\n",
       "      <td>NaN</td>\n",
       "    </tr>\n",
       "    <tr>\n",
       "      <th>4</th>\n",
       "      <td>ENSMUSG00000025900</td>\n",
       "      <td>Rp1</td>\n",
       "      <td>retinitis pigmentosa 1 (human)</td>\n",
       "      <td>NCBIGene:19888</td>\n",
       "      <td>NaN</td>\n",
       "    </tr>\n",
       "    <tr>\n",
       "      <th>...</th>\n",
       "      <td>...</td>\n",
       "      <td>...</td>\n",
       "      <td>...</td>\n",
       "      <td>...</td>\n",
       "      <td>...</td>\n",
       "    </tr>\n",
       "    <tr>\n",
       "      <th>32280</th>\n",
       "      <td>ENSMUSG00000095523</td>\n",
       "      <td>AC124606.1</td>\n",
       "      <td>PRAME family member 8-like</td>\n",
       "      <td>NCBIGene:100038995</td>\n",
       "      <td>no expression</td>\n",
       "    </tr>\n",
       "    <tr>\n",
       "      <th>32281</th>\n",
       "      <td>ENSMUSG00000095475</td>\n",
       "      <td>AC133095.2</td>\n",
       "      <td>uncharacterized LOC545763</td>\n",
       "      <td>NCBIGene:545763</td>\n",
       "      <td>no expression</td>\n",
       "    </tr>\n",
       "    <tr>\n",
       "      <th>32282</th>\n",
       "      <td>ENSMUSG00000094855</td>\n",
       "      <td>AC133095.1</td>\n",
       "      <td>uncharacterized LOC620639</td>\n",
       "      <td>NCBIGene:620639</td>\n",
       "      <td>no expression</td>\n",
       "    </tr>\n",
       "    <tr>\n",
       "      <th>32283</th>\n",
       "      <td>ENSMUSG00000095019</td>\n",
       "      <td>AC234645.1</td>\n",
       "      <td>NaN</td>\n",
       "      <td>NaN</td>\n",
       "      <td>no expression</td>\n",
       "    </tr>\n",
       "    <tr>\n",
       "      <th>32284</th>\n",
       "      <td>ENSMUSG00000095041</td>\n",
       "      <td>AC149090.1</td>\n",
       "      <td>NaN</td>\n",
       "      <td>NaN</td>\n",
       "      <td>NaN</td>\n",
       "    </tr>\n",
       "  </tbody>\n",
       "</table>\n",
       "<p>32285 rows × 5 columns</p>\n",
       "</div>"
      ],
      "text/plain": [
       "          gene_identifier gene_symbol                               name  \\\n",
       "0      ENSMUSG00000051951        Xkr4  X-linked Kx blood group related 4   \n",
       "1      ENSMUSG00000089699      Gm1992                predicted gene 1992   \n",
       "2      ENSMUSG00000102331     Gm19938              predicted gene, 19938   \n",
       "3      ENSMUSG00000102343     Gm37381              predicted gene, 37381   \n",
       "4      ENSMUSG00000025900         Rp1     retinitis pigmentosa 1 (human)   \n",
       "...                   ...         ...                                ...   \n",
       "32280  ENSMUSG00000095523  AC124606.1         PRAME family member 8-like   \n",
       "32281  ENSMUSG00000095475  AC133095.2          uncharacterized LOC545763   \n",
       "32282  ENSMUSG00000094855  AC133095.1          uncharacterized LOC620639   \n",
       "32283  ENSMUSG00000095019  AC234645.1                                NaN   \n",
       "32284  ENSMUSG00000095041  AC149090.1                                NaN   \n",
       "\n",
       "      mapped_ncbi_identifier        comment  \n",
       "0            NCBIGene:497097            NaN  \n",
       "1                        NaN            NaN  \n",
       "2                        NaN            NaN  \n",
       "3                        NaN            NaN  \n",
       "4             NCBIGene:19888            NaN  \n",
       "...                      ...            ...  \n",
       "32280     NCBIGene:100038995  no expression  \n",
       "32281        NCBIGene:545763  no expression  \n",
       "32282        NCBIGene:620639  no expression  \n",
       "32283                    NaN  no expression  \n",
       "32284                    NaN            NaN  \n",
       "\n",
       "[32285 rows x 5 columns]"
      ]
     },
     "execution_count": 20,
     "metadata": {},
     "output_type": "execute_result"
    }
   ],
   "source": [
    "abc_cache.get_metadata_dataframe(directory='WMB-10X', file_name='gene', force_download=True)"
   ]
  },
  {
   "cell_type": "code",
   "execution_count": 21,
   "metadata": {},
   "outputs": [
    {
     "name": "stderr",
     "output_type": "stream",
     "text": [
      "annotation_10.nii.gz: 100%|█████████████████████████████████████████████████████████████████████████████████████████████████| 27.5M/27.5M [00:00<00:00, 34.6MMB/s]\n",
      "annotation_boundary_10.nii.gz: 100%|████████████████████████████████████████████████████████████████████████████████████████| 27.4M/27.4M [00:00<00:00, 33.1MMB/s]\n",
      "average_template_10.nii.gz: 100%|█████████████████████████████████████████████████████████████████████████████████████████████| 343M/343M [00:07<00:00, 46.0MMB/s]"
     ]
    },
    {
     "name": "stdout",
     "output_type": "stream",
     "text": [
      "Allen-CCF-2020 data files:\n",
      "\t [PosixPath('/Users/chris.morrison/src/data/abc_atlas/image_volumes/Allen-CCF-2020/20230630/annotation_10.nii.gz'), PosixPath('/Users/chris.morrison/src/data/abc_atlas/image_volumes/Allen-CCF-2020/20230630/annotation_boundary_10.nii.gz'), PosixPath('/Users/chris.morrison/src/data/abc_atlas/image_volumes/Allen-CCF-2020/20230630/average_template_10.nii.gz')]\n"
     ]
    },
    {
     "name": "stderr",
     "output_type": "stream",
     "text": [
      "\n"
     ]
    }
   ],
   "source": [
    "allen_ccf_list = abc_cache.get_directory_data(directory='Allen-CCF-2020', force_download=True)\n",
    "print(\"Allen-CCF-2020 data files:\\n\\t\", allen_ccf_list)"
   ]
  },
  {
   "cell_type": "markdown",
   "metadata": {},
   "source": [
    "#### Skipping the file hashing check\n",
    "\n",
    "When a download is completed, a hash of the downloaded file is computed and checked against the expected hash in the manifest. While this check is recommeneded it can add overhead to the download process. ``skip_hash_check`` allows the user to skip computing the hash and assume the download has been completed successfully. "
   ]
  },
  {
   "cell_type": "code",
   "execution_count": 22,
   "metadata": {},
   "outputs": [
    {
     "name": "stderr",
     "output_type": "stream",
     "text": [
      "UMAP20230830-TH-EPI-Glut.csv: 100%|█████████████████████████████████████████████████████████████████████████████████████████| 6.46M/6.46M [00:00<00:00, 8.72MMB/s]\n"
     ]
    },
    {
     "data": {
      "text/html": [
       "<div>\n",
       "<style scoped>\n",
       "    .dataframe tbody tr th:only-of-type {\n",
       "        vertical-align: middle;\n",
       "    }\n",
       "\n",
       "    .dataframe tbody tr th {\n",
       "        vertical-align: top;\n",
       "    }\n",
       "\n",
       "    .dataframe thead th {\n",
       "        text-align: right;\n",
       "    }\n",
       "</style>\n",
       "<table border=\"1\" class=\"dataframe\">\n",
       "  <thead>\n",
       "    <tr style=\"text-align: right;\">\n",
       "      <th></th>\n",
       "      <th>cell_label</th>\n",
       "      <th>x</th>\n",
       "      <th>y</th>\n",
       "    </tr>\n",
       "  </thead>\n",
       "  <tbody>\n",
       "    <tr>\n",
       "      <th>0</th>\n",
       "      <td>CTCACACTCGTAGATC-044_D01</td>\n",
       "      <td>-4.603476</td>\n",
       "      <td>-6.148670</td>\n",
       "    </tr>\n",
       "    <tr>\n",
       "      <th>1</th>\n",
       "      <td>CCGTACTCATCCAACA-036_D01</td>\n",
       "      <td>-4.817812</td>\n",
       "      <td>-6.366151</td>\n",
       "    </tr>\n",
       "    <tr>\n",
       "      <th>2</th>\n",
       "      <td>AGCGGTCCATGGGAAC-037_A01</td>\n",
       "      <td>-4.798783</td>\n",
       "      <td>-6.577992</td>\n",
       "    </tr>\n",
       "    <tr>\n",
       "      <th>3</th>\n",
       "      <td>GATGAGGCATGTTCCC-037_B01</td>\n",
       "      <td>-5.188138</td>\n",
       "      <td>-5.892220</td>\n",
       "    </tr>\n",
       "    <tr>\n",
       "      <th>4</th>\n",
       "      <td>TAGTGGTAGGCGACAT-037_B01</td>\n",
       "      <td>-4.715829</td>\n",
       "      <td>-6.606307</td>\n",
       "    </tr>\n",
       "    <tr>\n",
       "      <th>...</th>\n",
       "      <td>...</td>\n",
       "      <td>...</td>\n",
       "      <td>...</td>\n",
       "    </tr>\n",
       "    <tr>\n",
       "      <th>126166</th>\n",
       "      <td>TTTGTTGTCCGACATA-290_B01</td>\n",
       "      <td>10.042111</td>\n",
       "      <td>10.349521</td>\n",
       "    </tr>\n",
       "    <tr>\n",
       "      <th>126167</th>\n",
       "      <td>TTTGTTGTCGTCTACC-294_B05</td>\n",
       "      <td>-1.630137</td>\n",
       "      <td>9.033476</td>\n",
       "    </tr>\n",
       "    <tr>\n",
       "      <th>126168</th>\n",
       "      <td>TTTGTTGTCGTTCCTG-463_A05</td>\n",
       "      <td>-6.848272</td>\n",
       "      <td>12.645908</td>\n",
       "    </tr>\n",
       "    <tr>\n",
       "      <th>126169</th>\n",
       "      <td>TTTGTTGTCGTTGCCT-621_A02</td>\n",
       "      <td>-6.982306</td>\n",
       "      <td>14.718120</td>\n",
       "    </tr>\n",
       "    <tr>\n",
       "      <th>126170</th>\n",
       "      <td>TTTGTTGTCTTTCGAT-574_A02</td>\n",
       "      <td>-5.292696</td>\n",
       "      <td>6.804039</td>\n",
       "    </tr>\n",
       "  </tbody>\n",
       "</table>\n",
       "<p>126171 rows × 3 columns</p>\n",
       "</div>"
      ],
      "text/plain": [
       "                      cell_label          x          y\n",
       "0       CTCACACTCGTAGATC-044_D01  -4.603476  -6.148670\n",
       "1       CCGTACTCATCCAACA-036_D01  -4.817812  -6.366151\n",
       "2       AGCGGTCCATGGGAAC-037_A01  -4.798783  -6.577992\n",
       "3       GATGAGGCATGTTCCC-037_B01  -5.188138  -5.892220\n",
       "4       TAGTGGTAGGCGACAT-037_B01  -4.715829  -6.606307\n",
       "...                          ...        ...        ...\n",
       "126166  TTTGTTGTCCGACATA-290_B01  10.042111  10.349521\n",
       "126167  TTTGTTGTCGTCTACC-294_B05  -1.630137   9.033476\n",
       "126168  TTTGTTGTCGTTCCTG-463_A05  -6.848272  12.645908\n",
       "126169  TTTGTTGTCGTTGCCT-621_A02  -6.982306  14.718120\n",
       "126170  TTTGTTGTCTTTCGAT-574_A02  -5.292696   6.804039\n",
       "\n",
       "[126171 rows x 3 columns]"
      ]
     },
     "execution_count": 22,
     "metadata": {},
     "output_type": "execute_result"
    }
   ],
   "source": [
    "abc_cache.get_metadata_dataframe(directory='WMB-neighborhoods', file_name='UMAP20230830-TH-EPI-Glut', skip_hash_check=True)"
   ]
  },
  {
   "cell_type": "code",
   "execution_count": 23,
   "metadata": {},
   "outputs": [
    {
     "name": "stderr",
     "output_type": "stream",
     "text": [
      "parcellation.csv: 100%|██████████████████████████████████████████████████████████████████████████████████████████████████████| 41.2k/41.2k [00:00<00:00, 554kMB/s]\n",
      "parcellation_term.csv: 100%|██████████████████████████████████████████████████████████████████████████████████████████████████| 177k/177k [00:00<00:00, 1.07MMB/s]\n",
      "parcellation_term_set.csv: 100%|████████████████████████████████████████████████████████████████████████████████████████████████| 628/628 [00:00<00:00, 6.64kMB/s]\n",
      "parcellation_term_set_membership.csv: 100%|████████████████████████████████████████████████████████████████████████████████████| 114k/114k [00:00<00:00, 828kMB/s]\n",
      "parcellation_term_with_counts.csv: 100%|███████████████████████████████████████████████████████████████████████████████████████| 137k/137k [00:00<00:00, 827kMB/s]\n",
      "parcellation_to_parcellation_term_membership.csv: 100%|███████████████████████████████████████████████████████████████████████| 680k/680k [00:00<00:00, 5.16MMB/s]\n",
      "parcellation_to_parcellation_term_membership_acronym.csv: 100%|██████████████████████████████████████████████████████████████| 22.3k/22.3k [00:00<00:00, 309kMB/s]\n",
      "parcellation_to_parcellation_term_membership_blue.csv: 100%|█████████████████████████████████████████████████████████████████| 16.4k/16.4k [00:00<00:00, 115kMB/s]\n",
      "parcellation_to_parcellation_term_membership_color.csv: 100%|████████████████████████████████████████████████████████████████| 30.5k/30.5k [00:00<00:00, 478kMB/s]\n",
      "parcellation_to_parcellation_term_membership_green.csv: 100%|████████████████████████████████████████████████████████████████| 16.5k/16.5k [00:00<00:00, 117kMB/s]\n",
      "parcellation_to_parcellation_term_membership_name.csv: 100%|█████████████████████████████████████████████████████████████████| 75.8k/75.8k [00:00<00:00, 375kMB/s]\n",
      "parcellation_to_parcellation_term_membership_red.csv: 100%|██████████████████████████████████████████████████████████████████| 16.0k/16.0k [00:00<00:00, 196kMB/s]\n"
     ]
    },
    {
     "data": {
      "text/plain": [
       "[PosixPath('/Users/chris.morrison/src/data/abc_atlas/metadata/Allen-CCF-2020/20230630/parcellation.csv'),\n",
       " PosixPath('/Users/chris.morrison/src/data/abc_atlas/metadata/Allen-CCF-2020/20230630/parcellation_term.csv'),\n",
       " PosixPath('/Users/chris.morrison/src/data/abc_atlas/metadata/Allen-CCF-2020/20230630/parcellation_term_set.csv'),\n",
       " PosixPath('/Users/chris.morrison/src/data/abc_atlas/metadata/Allen-CCF-2020/20230630/parcellation_term_set_membership.csv'),\n",
       " PosixPath('/Users/chris.morrison/src/data/abc_atlas/metadata/Allen-CCF-2020/20230630/views/parcellation_term_with_counts.csv'),\n",
       " PosixPath('/Users/chris.morrison/src/data/abc_atlas/metadata/Allen-CCF-2020/20230630/parcellation_to_parcellation_term_membership.csv'),\n",
       " PosixPath('/Users/chris.morrison/src/data/abc_atlas/metadata/Allen-CCF-2020/20230630/views/parcellation_to_parcellation_term_membership_acronym.csv'),\n",
       " PosixPath('/Users/chris.morrison/src/data/abc_atlas/metadata/Allen-CCF-2020/20230630/views/parcellation_to_parcellation_term_membership_blue.csv'),\n",
       " PosixPath('/Users/chris.morrison/src/data/abc_atlas/metadata/Allen-CCF-2020/20230630/views/parcellation_to_parcellation_term_membership_color.csv'),\n",
       " PosixPath('/Users/chris.morrison/src/data/abc_atlas/metadata/Allen-CCF-2020/20230630/views/parcellation_to_parcellation_term_membership_green.csv'),\n",
       " PosixPath('/Users/chris.morrison/src/data/abc_atlas/metadata/Allen-CCF-2020/20230630/views/parcellation_to_parcellation_term_membership_name.csv'),\n",
       " PosixPath('/Users/chris.morrison/src/data/abc_atlas/metadata/Allen-CCF-2020/20230630/views/parcellation_to_parcellation_term_membership_red.csv')]"
      ]
     },
     "execution_count": 23,
     "metadata": {},
     "output_type": "execute_result"
    }
   ],
   "source": [
    "abc_cache.get_directory_metadata(directory='Allen-CCF-2020', skip_hash_check=True)"
   ]
  },
  {
   "cell_type": "code",
   "execution_count": null,
   "metadata": {},
   "outputs": [],
   "source": []
  }
 ],
 "metadata": {
  "kernelspec": {
   "display_name": "Python 3 (ipykernel)",
   "language": "python",
   "name": "python3"
  },
  "language_info": {
   "codemirror_mode": {
    "name": "ipython",
    "version": 3
   },
   "file_extension": ".py",
   "mimetype": "text/x-python",
   "name": "python",
   "nbconvert_exporter": "python",
   "pygments_lexer": "ipython3",
   "version": "3.11.9"
  }
 },
 "nbformat": 4,
 "nbformat_minor": 4
}
