{
 "cells": [
  {
   "cell_type": "markdown",
   "metadata": {
    "tags": []
   },
   "source": [
    "# Getting started\n",
    "\n",
    "Data associated with the Allen Brain Cell Atlas is hosted on Amazon Web Services (AWS) in an S3 bucket as a AWS Public Dataset. \n",
    "No account or login is required. The S3 bucket is located here [arn:aws:s3:::allen-brain-cell-atlas](https://allen-brain-cell-atlas.s3.us-west-2.amazonaws.com/index.html). You will need to be connected to the internet to run this notebook.\n",
    "\n",
    "Each release has an associated **manifest.json** which lists all the specific version of directories and files that are part of the release. We recommend using the [**AbcProjectCache**](https://github.com/AllenInstitute/abc_atlas_access/blob/41eb836e41e516ee528c98bf3979d0aff60c0b85/src/abc_atlas_access/abc_atlas_cache/abc_project_cache.py#L36C7-L36C22) to download the data.\n",
    "\n",
    "Expression matricies are stored in the [anndata h5ad format](https://anndata.readthedocs.io/en/latest/) and need to be downloaded to a local file system for usage.\n",
    "\n",
    "This notebook shows how to use the **AbcProjectCache** to download the data required for the tutorials.\n",
    "\n",
    "Below we install the python library we will be using throughout to this python enviroment."
   ]
  },
  {
   "cell_type": "code",
   "execution_count": 1,
   "metadata": {
    "scrolled": true
   },
   "outputs": [
    {
     "name": "stdout",
     "output_type": "stream",
     "text": [
      "Defaulting to user installation because normal site-packages is not writeable\n",
      "Collecting git+https://github.com/alleninstitute/abc_atlas_access@u/morriscb/updateJupyterBook\n",
      "  Cloning https://github.com/alleninstitute/abc_atlas_access (to revision u/morriscb/updateJupyterBook) to /local1/tmp/fast/15081519/pip-req-build-65w96aq1\n",
      "  Running command git clone -q https://github.com/alleninstitute/abc_atlas_access /local1/tmp/fast/15081519/pip-req-build-65w96aq1\n",
      "  Running command git checkout -b u/morriscb/updateJupyterBook --track origin/u/morriscb/updateJupyterBook\n",
      "  Switched to a new branch 'u/morriscb/updateJupyterBook'\n",
      "  Branch u/morriscb/updateJupyterBook set up to track remote branch u/morriscb/updateJupyterBook from origin.\n",
      "  Resolved https://github.com/alleninstitute/abc_atlas_access to commit 446fdf7413451cfd86950b702bbf7de7c8a63302\n",
      "  Installing build dependencies ... \u001b[?25ldone\n",
      "\u001b[?25h  Getting requirements to build wheel ... \u001b[?25ldone\n",
      "\u001b[?25h    Preparing wheel metadata ... \u001b[?25ldone\n",
      "\u001b[?25hRequirement already satisfied: requests in /home/jeremym/.local/lib/python3.9/site-packages (from abc_atlas_access==0.0.1) (2.31.0)\n",
      "Requirement already satisfied: moto in /home/jeremym/.local/lib/python3.9/site-packages (from abc_atlas_access==0.0.1) (5.0.2)\n",
      "Requirement already satisfied: ghp-import in /home/jeremym/.local/lib/python3.9/site-packages (from abc_atlas_access==0.0.1) (2.1.0)\n",
      "Requirement already satisfied: anndata in /home/jeremym/.local/lib/python3.9/site-packages (from abc_atlas_access==0.0.1) (0.10.5.post1)\n",
      "Requirement already satisfied: numpy in /home/jeremym/.local/lib/python3.9/site-packages (from abc_atlas_access==0.0.1) (1.22.4)\n",
      "Requirement already satisfied: pytest in /allen/ai/hpc/shared/utils.x86_64/anaconda3-2021.11/lib/python3.9/site-packages (from abc_atlas_access==0.0.1) (6.2.4)\n",
      "Requirement already satisfied: simpleitk in /home/jeremym/.local/lib/python3.9/site-packages (from abc_atlas_access==0.0.1) (2.3.1)\n",
      "Requirement already satisfied: scipy in /allen/ai/hpc/shared/utils.x86_64/anaconda3-2021.11/lib/python3.9/site-packages (from abc_atlas_access==0.0.1) (1.7.1)\n",
      "Requirement already satisfied: pandas in /allen/ai/hpc/shared/utils.x86_64/anaconda3-2021.11/lib/python3.9/site-packages (from abc_atlas_access==0.0.1) (1.3.4)\n",
      "Requirement already satisfied: tqdm in /allen/ai/hpc/shared/utils.x86_64/anaconda3-2021.11/lib/python3.9/site-packages (from abc_atlas_access==0.0.1) (4.62.3)\n",
      "Requirement already satisfied: boto3 in /home/jeremym/.local/lib/python3.9/site-packages (from abc_atlas_access==0.0.1) (1.34.59)\n",
      "Requirement already satisfied: matplotlib in /home/jeremym/.local/lib/python3.9/site-packages (from abc_atlas_access==0.0.1) (3.8.3)\n",
      "Requirement already satisfied: pydantic in /home/jeremym/.local/lib/python3.9/site-packages (from abc_atlas_access==0.0.1) (2.6.3)\n",
      "Requirement already satisfied: natsort in /home/jeremym/.local/lib/python3.9/site-packages (from anndata->abc_atlas_access==0.0.1) (8.4.0)\n",
      "Requirement already satisfied: h5py>=3 in /allen/ai/hpc/shared/utils.x86_64/anaconda3-2021.11/lib/python3.9/site-packages (from anndata->abc_atlas_access==0.0.1) (3.3.0)\n",
      "Requirement already satisfied: exceptiongroup in /home/jeremym/.local/lib/python3.9/site-packages (from anndata->abc_atlas_access==0.0.1) (1.2.0)\n",
      "Requirement already satisfied: packaging>=20 in /allen/ai/hpc/shared/utils.x86_64/anaconda3-2021.11/lib/python3.9/site-packages (from anndata->abc_atlas_access==0.0.1) (21.0)\n",
      "Requirement already satisfied: array-api-compat in /home/jeremym/.local/lib/python3.9/site-packages (from anndata->abc_atlas_access==0.0.1) (1.5)\n",
      "Requirement already satisfied: pyparsing>=2.0.2 in /allen/ai/hpc/shared/utils.x86_64/anaconda3-2021.11/lib/python3.9/site-packages (from packaging>=20->anndata->abc_atlas_access==0.0.1) (3.0.4)\n",
      "Requirement already satisfied: python-dateutil>=2.7.3 in /allen/ai/hpc/shared/utils.x86_64/anaconda3-2021.11/lib/python3.9/site-packages (from pandas->abc_atlas_access==0.0.1) (2.8.2)\n",
      "Requirement already satisfied: pytz>=2017.3 in /allen/ai/hpc/shared/utils.x86_64/anaconda3-2021.11/lib/python3.9/site-packages (from pandas->abc_atlas_access==0.0.1) (2021.3)\n",
      "Requirement already satisfied: six>=1.5 in /allen/ai/hpc/shared/utils.x86_64/anaconda3-2021.11/lib/python3.9/site-packages (from python-dateutil>=2.7.3->pandas->abc_atlas_access==0.0.1) (1.16.0)\n",
      "Requirement already satisfied: jmespath<2.0.0,>=0.7.1 in /home/jeremym/.local/lib/python3.9/site-packages (from boto3->abc_atlas_access==0.0.1) (1.0.1)\n",
      "Requirement already satisfied: botocore<1.35.0,>=1.34.59 in /home/jeremym/.local/lib/python3.9/site-packages (from boto3->abc_atlas_access==0.0.1) (1.34.59)\n",
      "Requirement already satisfied: s3transfer<0.11.0,>=0.10.0 in /home/jeremym/.local/lib/python3.9/site-packages (from boto3->abc_atlas_access==0.0.1) (0.10.0)\n",
      "Requirement already satisfied: urllib3<1.27,>=1.25.4 in /allen/ai/hpc/shared/utils.x86_64/anaconda3-2021.11/lib/python3.9/site-packages (from botocore<1.35.0,>=1.34.59->boto3->abc_atlas_access==0.0.1) (1.26.7)\n",
      "Requirement already satisfied: importlib-resources>=3.2.0 in /home/jeremym/.local/lib/python3.9/site-packages (from matplotlib->abc_atlas_access==0.0.1) (6.1.3)\n",
      "Requirement already satisfied: cycler>=0.10 in /allen/ai/hpc/shared/utils.x86_64/anaconda3-2021.11/lib/python3.9/site-packages (from matplotlib->abc_atlas_access==0.0.1) (0.10.0)\n",
      "Requirement already satisfied: pillow>=8 in /allen/ai/hpc/shared/utils.x86_64/anaconda3-2021.11/lib/python3.9/site-packages (from matplotlib->abc_atlas_access==0.0.1) (8.4.0)\n",
      "Requirement already satisfied: kiwisolver>=1.3.1 in /allen/ai/hpc/shared/utils.x86_64/anaconda3-2021.11/lib/python3.9/site-packages (from matplotlib->abc_atlas_access==0.0.1) (1.3.1)\n",
      "Requirement already satisfied: fonttools>=4.22.0 in /allen/ai/hpc/shared/utils.x86_64/anaconda3-2021.11/lib/python3.9/site-packages (from matplotlib->abc_atlas_access==0.0.1) (4.25.0)\n",
      "Requirement already satisfied: contourpy>=1.0.1 in /home/jeremym/.local/lib/python3.9/site-packages (from matplotlib->abc_atlas_access==0.0.1) (1.2.0)\n",
      "Requirement already satisfied: zipp>=3.1.0 in /allen/ai/hpc/shared/utils.x86_64/anaconda3-2021.11/lib/python3.9/site-packages (from importlib-resources>=3.2.0->matplotlib->abc_atlas_access==0.0.1) (3.6.0)\n",
      "Requirement already satisfied: responses>=0.15.0 in /home/jeremym/.local/lib/python3.9/site-packages (from moto->abc_atlas_access==0.0.1) (0.25.0)\n",
      "Requirement already satisfied: werkzeug!=2.2.0,!=2.2.1,>=0.5 in /allen/ai/hpc/shared/utils.x86_64/anaconda3-2021.11/lib/python3.9/site-packages (from moto->abc_atlas_access==0.0.1) (2.0.2)\n",
      "Requirement already satisfied: cryptography>=3.3.1 in /allen/ai/hpc/shared/utils.x86_64/anaconda3-2021.11/lib/python3.9/site-packages (from moto->abc_atlas_access==0.0.1) (3.4.8)\n",
      "Requirement already satisfied: xmltodict in /allen/ai/hpc/shared/utils.x86_64/anaconda3-2021.11/lib/python3.9/site-packages (from moto->abc_atlas_access==0.0.1) (0.12.0)\n",
      "Requirement already satisfied: Jinja2>=2.10.1 in /allen/ai/hpc/shared/utils.x86_64/anaconda3-2021.11/lib/python3.9/site-packages (from moto->abc_atlas_access==0.0.1) (2.11.3)\n",
      "Requirement already satisfied: cffi>=1.12 in /allen/ai/hpc/shared/utils.x86_64/anaconda3-2021.11/lib/python3.9/site-packages (from cryptography>=3.3.1->moto->abc_atlas_access==0.0.1) (1.14.6)\n",
      "Requirement already satisfied: pycparser in /allen/ai/hpc/shared/utils.x86_64/anaconda3-2021.11/lib/python3.9/site-packages (from cffi>=1.12->cryptography>=3.3.1->moto->abc_atlas_access==0.0.1) (2.20)\n",
      "Requirement already satisfied: MarkupSafe>=0.23 in /allen/ai/hpc/shared/utils.x86_64/anaconda3-2021.11/lib/python3.9/site-packages (from Jinja2>=2.10.1->moto->abc_atlas_access==0.0.1) (1.1.1)\n",
      "Requirement already satisfied: certifi>=2017.4.17 in /allen/ai/hpc/shared/utils.x86_64/anaconda3-2021.11/lib/python3.9/site-packages (from requests->abc_atlas_access==0.0.1) (2021.10.8)\n",
      "Requirement already satisfied: charset-normalizer<4,>=2 in /allen/ai/hpc/shared/utils.x86_64/anaconda3-2021.11/lib/python3.9/site-packages (from requests->abc_atlas_access==0.0.1) (2.0.4)\n",
      "Requirement already satisfied: idna<4,>=2.5 in /allen/ai/hpc/shared/utils.x86_64/anaconda3-2021.11/lib/python3.9/site-packages (from requests->abc_atlas_access==0.0.1) (3.2)\n",
      "Requirement already satisfied: pyyaml in /allen/ai/hpc/shared/utils.x86_64/anaconda3-2021.11/lib/python3.9/site-packages (from responses>=0.15.0->moto->abc_atlas_access==0.0.1) (6.0)\n",
      "Requirement already satisfied: typing-extensions>=4.6.1 in /home/jeremym/.local/lib/python3.9/site-packages (from pydantic->abc_atlas_access==0.0.1) (4.10.0)\n",
      "Requirement already satisfied: pydantic-core==2.16.3 in /home/jeremym/.local/lib/python3.9/site-packages (from pydantic->abc_atlas_access==0.0.1) (2.16.3)\n",
      "Requirement already satisfied: annotated-types>=0.4.0 in /home/jeremym/.local/lib/python3.9/site-packages (from pydantic->abc_atlas_access==0.0.1) (0.6.0)\n",
      "Requirement already satisfied: attrs>=19.2.0 in /allen/ai/hpc/shared/utils.x86_64/anaconda3-2021.11/lib/python3.9/site-packages (from pytest->abc_atlas_access==0.0.1) (21.2.0)\n",
      "Requirement already satisfied: iniconfig in /allen/ai/hpc/shared/utils.x86_64/anaconda3-2021.11/lib/python3.9/site-packages (from pytest->abc_atlas_access==0.0.1) (1.1.1)\n",
      "Requirement already satisfied: pluggy<1.0.0a1,>=0.12 in /allen/ai/hpc/shared/utils.x86_64/anaconda3-2021.11/lib/python3.9/site-packages (from pytest->abc_atlas_access==0.0.1) (0.13.1)\n",
      "Requirement already satisfied: py>=1.8.2 in /allen/ai/hpc/shared/utils.x86_64/anaconda3-2021.11/lib/python3.9/site-packages (from pytest->abc_atlas_access==0.0.1) (1.10.0)\n",
      "Requirement already satisfied: toml in /allen/ai/hpc/shared/utils.x86_64/anaconda3-2021.11/lib/python3.9/site-packages (from pytest->abc_atlas_access==0.0.1) (0.10.2)\n",
      "Note: you may need to restart the kernel to use updated packages.\n"
     ]
    }
   ],
   "source": [
    "pip install -U git+https://github.com/alleninstitute/abc_atlas_access@u/morriscb/updateJupyterBook"
   ]
  },
  {
   "cell_type": "code",
   "execution_count": 2,
   "metadata": {},
   "outputs": [],
   "source": [
    "from pathlib import Path\n",
    "from abc_atlas_access.abc_atlas_cache.abc_project_cache import AbcProjectCache"
   ]
  },
  {
   "cell_type": "markdown",
   "metadata": {
    "tags": []
   },
   "source": [
    "## Using the cache\n",
    "\n",
    "Below we show how to setup up the cache to download from S3, how to list and switch to a different data release, and additionally how to list the directories available, their size, and the files in that directory.\n",
    "\n",
    "Setup the **AbcProjectCache** object by specifying a directory and calling ``from_s3_cache`` as shown below. We also print what version of the manifest is being currently loaded by the cache."
   ]
  },
  {
   "cell_type": "code",
   "execution_count": 3,
   "metadata": {},
   "outputs": [
    {
     "data": {
      "text/plain": [
       "'releases/20240330/manifest.json'"
      ]
     },
     "execution_count": 3,
     "metadata": {},
     "output_type": "execute_result"
    }
   ],
   "source": [
    "download_base = Path('../../abc_download_root') # Path to where you would like to write the downloaded data.\n",
    "abc_cache = AbcProjectCache.from_s3_cache(download_base)\n",
    "abc_cache.current_manifest"
   ]
  },
  {
   "cell_type": "markdown",
   "metadata": {},
   "source": [
    "List the all of the different releases available and usable by the cache object we have just loaded."
   ]
  },
  {
   "cell_type": "code",
   "execution_count": 4,
   "metadata": {},
   "outputs": [
    {
     "data": {
      "text/plain": [
       "['releases/20230630/manifest.json',\n",
       " 'releases/20230830/manifest.json',\n",
       " 'releases/20231215/manifest.json',\n",
       " 'releases/20240330/manifest.json']"
      ]
     },
     "execution_count": 4,
     "metadata": {},
     "output_type": "execute_result"
    }
   ],
   "source": [
    "abc_cache.list_manifest_file_names"
   ]
  },
  {
   "cell_type": "markdown",
   "metadata": {
    "tags": []
   },
   "source": [
    "We can switch to a specific manifest and release version of the data using the ``load_manifest`` method. This determines what version of the released data the cache will download/return to the user. The cache will keep track of which version was last used across sessions. Upon instantiating a cache, the current manifest can be viewed with the method: ``current_manifest``. Note that a warning will be thrown if the manifest loaded by the cache is older than the most recent manifest available.\n",
    "\n",
    "Below we show an example of loading an older manifest. Any of the strings returned by ``list_manifest_file_names`` will be valid manifests, however, we'll stick to the current manifest for this tutorial to avoid confusion. "
   ]
  },
  {
   "cell_type": "code",
   "execution_count": 5,
   "metadata": {
    "tags": []
   },
   "outputs": [
    {
     "name": "stdout",
     "output_type": "stream",
     "text": [
      "old manifest loaded: releases/20230630/manifest.json\n",
      "after latest manifest loaded: releases/20240330/manifest.json\n"
     ]
    },
    {
     "name": "stderr",
     "output_type": "stream",
     "text": [
      "/home/jeremym/.local/lib/python3.9/site-packages/abc_atlas_access/abc_atlas_cache/cloud_cache.py:567: OutdatedManifestWarning: \n",
      "\n",
      "The manifest file you are loading is not the most up to date manifest file available for this dataset. The most up to data manifest file available for this dataset is \n",
      "\n",
      "releases/20240330/manifest.json\n",
      "\n",
      "To see the differences between these manifests,run\n",
      "\n",
      "type.compare_manifests('releases/20240330/manifest.json', 'releases/20230630/manifest.json')\n",
      "\n",
      "To see all of the manifest files currently downloaded onto your local system, run\n",
      "\n",
      "self.list_all_downloaded_manifests()\n",
      "\n",
      "If you just want to load the latest manifest, run\n",
      "\n",
      "self.load_latest_manifest()\n",
      "\n",
      "\n",
      "  warnings.warn(msg, OutdatedManifestWarning)\n"
     ]
    }
   ],
   "source": [
    "abc_cache.load_manifest('releases/20230630/manifest.json')\n",
    "print(\"old manifest loaded:\", abc_cache.current_manifest)\n",
    "\n",
    "# Return to the latest manifest\n",
    "abc_cache.load_latest_manifest()\n",
    "print(\"after latest manifest loaded:\", abc_cache.current_manifest)"
   ]
  },
  {
   "cell_type": "markdown",
   "metadata": {},
   "source": [
    "We can list all available directories in the release we loaded using the method below. We can then list all the available data and metadata files in those directories. Note that the cache will raise an exception if the requested kind of files (data files [e.g. h5ad expression_matricies, nii.gz image_volumes] or metadata files [e.g. csv files]) are not available in the directory."
   ]
  },
  {
   "cell_type": "code",
   "execution_count": 6,
   "metadata": {},
   "outputs": [
    {
     "data": {
      "text/plain": [
       "['Allen-CCF-2020',\n",
       " 'MERFISH-C57BL6J-638850',\n",
       " 'MERFISH-C57BL6J-638850-CCF',\n",
       " 'MERFISH-C57BL6J-638850-sections',\n",
       " 'WHB-10Xv3',\n",
       " 'WHB-taxonomy',\n",
       " 'WMB-10X',\n",
       " 'WMB-10XMulti',\n",
       " 'WMB-10Xv2',\n",
       " 'WMB-10Xv3',\n",
       " 'WMB-neighborhoods',\n",
       " 'WMB-taxonomy',\n",
       " 'Zhuang-ABCA-1',\n",
       " 'Zhuang-ABCA-1-CCF',\n",
       " 'Zhuang-ABCA-2',\n",
       " 'Zhuang-ABCA-2-CCF',\n",
       " 'Zhuang-ABCA-3',\n",
       " 'Zhuang-ABCA-3-CCF',\n",
       " 'Zhuang-ABCA-4',\n",
       " 'Zhuang-ABCA-4-CCF']"
      ]
     },
     "execution_count": 6,
     "metadata": {},
     "output_type": "execute_result"
    }
   ],
   "source": [
    "abc_cache.list_directories"
   ]
  },
  {
   "cell_type": "code",
   "execution_count": 7,
   "metadata": {},
   "outputs": [
    {
     "data": {
      "text/plain": [
       "['WMB-10Xv2-CTXsp/log2',\n",
       " 'WMB-10Xv2-CTXsp/raw',\n",
       " 'WMB-10Xv2-HPF/log2',\n",
       " 'WMB-10Xv2-HPF/raw',\n",
       " 'WMB-10Xv2-HY/log2',\n",
       " 'WMB-10Xv2-HY/raw',\n",
       " 'WMB-10Xv2-Isocortex-1/log2',\n",
       " 'WMB-10Xv2-Isocortex-1/raw',\n",
       " 'WMB-10Xv2-Isocortex-2/log2',\n",
       " 'WMB-10Xv2-Isocortex-2/raw',\n",
       " 'WMB-10Xv2-Isocortex-3/log2',\n",
       " 'WMB-10Xv2-Isocortex-3/raw',\n",
       " 'WMB-10Xv2-Isocortex-4/log2',\n",
       " 'WMB-10Xv2-Isocortex-4/raw',\n",
       " 'WMB-10Xv2-MB/log2',\n",
       " 'WMB-10Xv2-MB/raw',\n",
       " 'WMB-10Xv2-OLF/log2',\n",
       " 'WMB-10Xv2-OLF/raw',\n",
       " 'WMB-10Xv2-TH/log2',\n",
       " 'WMB-10Xv2-TH/raw']"
      ]
     },
     "execution_count": 7,
     "metadata": {},
     "output_type": "execute_result"
    }
   ],
   "source": [
    "abc_cache.list_data_files('WMB-10Xv2')"
   ]
  },
  {
   "cell_type": "code",
   "execution_count": 8,
   "metadata": {},
   "outputs": [
    {
     "data": {
      "text/plain": [
       "['cluster',\n",
       " 'cluster_annotation_term',\n",
       " 'cluster_annotation_term_set',\n",
       " 'cluster_annotation_term_with_counts',\n",
       " 'cluster_to_cluster_annotation_membership',\n",
       " 'cluster_to_cluster_annotation_membership_color',\n",
       " 'cluster_to_cluster_annotation_membership_pivoted']"
      ]
     },
     "execution_count": 8,
     "metadata": {},
     "output_type": "execute_result"
    }
   ],
   "source": [
    "abc_cache.list_metadata_files('WMB-taxonomy')"
   ]
  },
  {
   "cell_type": "markdown",
   "metadata": {},
   "source": [
    "Before we start downloading data, we can check how much total data is in a given directory for both data files and metadata files."
   ]
  },
  {
   "cell_type": "code",
   "execution_count": 9,
   "metadata": {},
   "outputs": [
    {
     "data": {
      "text/plain": [
       "'104.16 GB'"
      ]
     },
     "execution_count": 9,
     "metadata": {},
     "output_type": "execute_result"
    }
   ],
   "source": [
    "abc_cache.get_directory_data_size('WMB-10Xv2')"
   ]
  },
  {
   "cell_type": "code",
   "execution_count": 10,
   "metadata": {},
   "outputs": [
    {
     "data": {
      "text/plain": [
       "'4.65 MB'"
      ]
     },
     "execution_count": 10,
     "metadata": {},
     "output_type": "execute_result"
    }
   ],
   "source": [
    "abc_cache.get_directory_metadata_size('WMB-taxonomy')"
   ]
  },
  {
   "cell_type": "markdown",
   "metadata": {},
   "source": [
    "## Downloading files\n",
    "\n",
    "The next set of examples shows how to download data to the cache directory you specified when setting up the cache object. There are two main ways of downloading the data: individually by file or by full directory."
   ]
  },
  {
   "cell_type": "markdown",
   "metadata": {},
   "source": [
    "### Downloading all data files or metadata files in a directory.\n",
    "\n",
    "Here we show how one can download the full set of data files or metadata files contained in a directory in the release. Use the ``list_directories`` as a guide here as to what data is available. Here we download all the data in two directories we know to be small. Once the download of all files is complete, a list of Paths to the downloaded files is returned.\n",
    "\n",
    "The user should be warned that several directories are significant in size, >100 GB. If a directory is over 10 GB in size total, the cache will warn the user when requesting to download the data in the directory."
   ]
  },
  {
   "cell_type": "code",
   "execution_count": 11,
   "metadata": {},
   "outputs": [
    {
     "name": "stdout",
     "output_type": "stream",
     "text": [
      "Allen-CCF-2020 data files:\n",
      "\t [PosixPath('/home/jeremym/abc_download_root/image_volumes/Allen-CCF-2020/20230630/annotation_10.nii.gz'), PosixPath('/home/jeremym/abc_download_root/image_volumes/Allen-CCF-2020/20230630/annotation_boundary_10.nii.gz'), PosixPath('/home/jeremym/abc_download_root/image_volumes/Allen-CCF-2020/20230630/average_template_10.nii.gz')]\n"
     ]
    }
   ],
   "source": [
    "allen_ccf_list = abc_cache.get_directory_data('Allen-CCF-2020')\n",
    "print(\"Allen-CCF-2020 data files:\\n\\t\", allen_ccf_list)"
   ]
  },
  {
   "cell_type": "code",
   "execution_count": 12,
   "metadata": {},
   "outputs": [
    {
     "name": "stdout",
     "output_type": "stream",
     "text": [
      "WMB-taxonomy metadata files:\n",
      "\t [PosixPath('/home/jeremym/abc_download_root/metadata/WMB-taxonomy/20231215/cluster.csv'), PosixPath('/home/jeremym/abc_download_root/metadata/WMB-taxonomy/20231215/cluster_annotation_term.csv'), PosixPath('/home/jeremym/abc_download_root/metadata/WMB-taxonomy/20231215/cluster_annotation_term_set.csv'), PosixPath('/home/jeremym/abc_download_root/metadata/WMB-taxonomy/20231215/views/cluster_annotation_term_with_counts.csv'), PosixPath('/home/jeremym/abc_download_root/metadata/WMB-taxonomy/20231215/cluster_to_cluster_annotation_membership.csv'), PosixPath('/home/jeremym/abc_download_root/metadata/WMB-taxonomy/20231215/views/cluster_to_cluster_annotation_membership_color.csv'), PosixPath('/home/jeremym/abc_download_root/metadata/WMB-taxonomy/20231215/views/cluster_to_cluster_annotation_membership_pivoted.csv')]\n"
     ]
    }
   ],
   "source": [
    "allen_ccf_list = abc_cache.get_directory_metadata('WMB-taxonomy')\n",
    "print(\"WMB-taxonomy metadata files:\\n\\t\", allen_ccf_list)"
   ]
  },
  {
   "cell_type": "markdown",
   "metadata": {},
   "source": [
    "Note that, after downloading the file successfully, running the ``get_directory_data`` or ``get_directory_metadata`` methods will return the list of the local paths without having to redownload the files."
   ]
  },
  {
   "cell_type": "code",
   "execution_count": 13,
   "metadata": {},
   "outputs": [
    {
     "name": "stdout",
     "output_type": "stream",
     "text": [
      "Allen-CCF-2020 data files:\n",
      "\t [PosixPath('/home/jeremym/abc_download_root/image_volumes/Allen-CCF-2020/20230630/annotation_10.nii.gz'), PosixPath('/home/jeremym/abc_download_root/image_volumes/Allen-CCF-2020/20230630/annotation_boundary_10.nii.gz'), PosixPath('/home/jeremym/abc_download_root/image_volumes/Allen-CCF-2020/20230630/average_template_10.nii.gz')] \n",
      "\n",
      "\n",
      "WMB-taxonomy metadata files:\n",
      "\t [PosixPath('/home/jeremym/abc_download_root/metadata/WMB-taxonomy/20231215/cluster.csv'), PosixPath('/home/jeremym/abc_download_root/metadata/WMB-taxonomy/20231215/cluster_annotation_term.csv'), PosixPath('/home/jeremym/abc_download_root/metadata/WMB-taxonomy/20231215/cluster_annotation_term_set.csv'), PosixPath('/home/jeremym/abc_download_root/metadata/WMB-taxonomy/20231215/views/cluster_annotation_term_with_counts.csv'), PosixPath('/home/jeremym/abc_download_root/metadata/WMB-taxonomy/20231215/cluster_to_cluster_annotation_membership.csv'), PosixPath('/home/jeremym/abc_download_root/metadata/WMB-taxonomy/20231215/views/cluster_to_cluster_annotation_membership_color.csv'), PosixPath('/home/jeremym/abc_download_root/metadata/WMB-taxonomy/20231215/views/cluster_to_cluster_annotation_membership_pivoted.csv')]\n"
     ]
    }
   ],
   "source": [
    "allen_ccf_list = abc_cache.get_directory_data('Allen-CCF-2020')\n",
    "print(\"Allen-CCF-2020 data files:\\n\\t\", allen_ccf_list, \"\\n\\n\")\n",
    "allen_ccf_list = abc_cache.get_directory_metadata('WMB-taxonomy')\n",
    "print(\"WMB-taxonomy metadata files:\\n\\t\", allen_ccf_list)"
   ]
  },
  {
   "cell_type": "markdown",
   "metadata": {},
   "source": [
    "### Downloading individual files.\n",
    "\n",
    "The option also exists to download files individually. We can use ``list_directories`` and the methods ``list_data_files`` and ``list_metadata_files`` to guide us as to what is available to download. Below we will download one metadata file from the WMB-10X directory/dataset and one expression matrix data file from the WMB-10XMulti directory/dataset. "
   ]
  },
  {
   "cell_type": "markdown",
   "metadata": {},
   "source": [
    "#### Downloading individual metadata files"
   ]
  },
  {
   "cell_type": "code",
   "execution_count": 14,
   "metadata": {},
   "outputs": [
    {
     "data": {
      "text/plain": [
       "['cell_metadata',\n",
       " 'cell_metadata_with_cluster_annotation',\n",
       " 'example_genes_all_cells_expression',\n",
       " 'gene',\n",
       " 'region_of_interest_metadata']"
      ]
     },
     "execution_count": 14,
     "metadata": {},
     "output_type": "execute_result"
    }
   ],
   "source": [
    "abc_cache.list_metadata_files('WMB-10X')"
   ]
  },
  {
   "cell_type": "code",
   "execution_count": 15,
   "metadata": {},
   "outputs": [
    {
     "data": {
      "text/plain": [
       "PosixPath('/home/jeremym/abc_download_root/metadata/WMB-10X/20231215/gene.csv')"
      ]
     },
     "execution_count": 15,
     "metadata": {},
     "output_type": "execute_result"
    }
   ],
   "source": [
    "abc_cache.get_metadata_path(directory='WMB-10X', file_name='gene')"
   ]
  },
  {
   "cell_type": "markdown",
   "metadata": {},
   "source": [
    "The cache can also return a dataframe for metadata objects. They are loaded with a generic index. Note that when using this method, it can accept additional argments that will be passed to the [pandas.read_csv](https://pandas.pydata.org/docs/reference/api/pandas.read_csv.html) method."
   ]
  },
  {
   "cell_type": "code",
   "execution_count": 16,
   "metadata": {},
   "outputs": [
    {
     "data": {
      "text/html": [
       "<div>\n",
       "<style scoped>\n",
       "    .dataframe tbody tr th:only-of-type {\n",
       "        vertical-align: middle;\n",
       "    }\n",
       "\n",
       "    .dataframe tbody tr th {\n",
       "        vertical-align: top;\n",
       "    }\n",
       "\n",
       "    .dataframe thead th {\n",
       "        text-align: right;\n",
       "    }\n",
       "</style>\n",
       "<table border=\"1\" class=\"dataframe\">\n",
       "  <thead>\n",
       "    <tr style=\"text-align: right;\">\n",
       "      <th></th>\n",
       "      <th>gene_identifier</th>\n",
       "      <th>gene_symbol</th>\n",
       "      <th>name</th>\n",
       "      <th>mapped_ncbi_identifier</th>\n",
       "      <th>comment</th>\n",
       "    </tr>\n",
       "  </thead>\n",
       "  <tbody>\n",
       "    <tr>\n",
       "      <th>0</th>\n",
       "      <td>ENSMUSG00000051951</td>\n",
       "      <td>Xkr4</td>\n",
       "      <td>X-linked Kx blood group related 4</td>\n",
       "      <td>NCBIGene:497097</td>\n",
       "      <td>NaN</td>\n",
       "    </tr>\n",
       "    <tr>\n",
       "      <th>1</th>\n",
       "      <td>ENSMUSG00000089699</td>\n",
       "      <td>Gm1992</td>\n",
       "      <td>predicted gene 1992</td>\n",
       "      <td>NaN</td>\n",
       "      <td>NaN</td>\n",
       "    </tr>\n",
       "    <tr>\n",
       "      <th>2</th>\n",
       "      <td>ENSMUSG00000102331</td>\n",
       "      <td>Gm19938</td>\n",
       "      <td>predicted gene, 19938</td>\n",
       "      <td>NaN</td>\n",
       "      <td>NaN</td>\n",
       "    </tr>\n",
       "    <tr>\n",
       "      <th>3</th>\n",
       "      <td>ENSMUSG00000102343</td>\n",
       "      <td>Gm37381</td>\n",
       "      <td>predicted gene, 37381</td>\n",
       "      <td>NaN</td>\n",
       "      <td>NaN</td>\n",
       "    </tr>\n",
       "    <tr>\n",
       "      <th>4</th>\n",
       "      <td>ENSMUSG00000025900</td>\n",
       "      <td>Rp1</td>\n",
       "      <td>retinitis pigmentosa 1 (human)</td>\n",
       "      <td>NCBIGene:19888</td>\n",
       "      <td>NaN</td>\n",
       "    </tr>\n",
       "    <tr>\n",
       "      <th>...</th>\n",
       "      <td>...</td>\n",
       "      <td>...</td>\n",
       "      <td>...</td>\n",
       "      <td>...</td>\n",
       "      <td>...</td>\n",
       "    </tr>\n",
       "    <tr>\n",
       "      <th>32280</th>\n",
       "      <td>ENSMUSG00000095523</td>\n",
       "      <td>AC124606.1</td>\n",
       "      <td>PRAME family member 8-like</td>\n",
       "      <td>NCBIGene:100038995</td>\n",
       "      <td>no expression</td>\n",
       "    </tr>\n",
       "    <tr>\n",
       "      <th>32281</th>\n",
       "      <td>ENSMUSG00000095475</td>\n",
       "      <td>AC133095.2</td>\n",
       "      <td>uncharacterized LOC545763</td>\n",
       "      <td>NCBIGene:545763</td>\n",
       "      <td>no expression</td>\n",
       "    </tr>\n",
       "    <tr>\n",
       "      <th>32282</th>\n",
       "      <td>ENSMUSG00000094855</td>\n",
       "      <td>AC133095.1</td>\n",
       "      <td>uncharacterized LOC620639</td>\n",
       "      <td>NCBIGene:620639</td>\n",
       "      <td>no expression</td>\n",
       "    </tr>\n",
       "    <tr>\n",
       "      <th>32283</th>\n",
       "      <td>ENSMUSG00000095019</td>\n",
       "      <td>AC234645.1</td>\n",
       "      <td>NaN</td>\n",
       "      <td>NaN</td>\n",
       "      <td>no expression</td>\n",
       "    </tr>\n",
       "    <tr>\n",
       "      <th>32284</th>\n",
       "      <td>ENSMUSG00000095041</td>\n",
       "      <td>AC149090.1</td>\n",
       "      <td>NaN</td>\n",
       "      <td>NaN</td>\n",
       "      <td>NaN</td>\n",
       "    </tr>\n",
       "  </tbody>\n",
       "</table>\n",
       "<p>32285 rows × 5 columns</p>\n",
       "</div>"
      ],
      "text/plain": [
       "          gene_identifier gene_symbol                               name  \\\n",
       "0      ENSMUSG00000051951        Xkr4  X-linked Kx blood group related 4   \n",
       "1      ENSMUSG00000089699      Gm1992                predicted gene 1992   \n",
       "2      ENSMUSG00000102331     Gm19938              predicted gene, 19938   \n",
       "3      ENSMUSG00000102343     Gm37381              predicted gene, 37381   \n",
       "4      ENSMUSG00000025900         Rp1     retinitis pigmentosa 1 (human)   \n",
       "...                   ...         ...                                ...   \n",
       "32280  ENSMUSG00000095523  AC124606.1         PRAME family member 8-like   \n",
       "32281  ENSMUSG00000095475  AC133095.2          uncharacterized LOC545763   \n",
       "32282  ENSMUSG00000094855  AC133095.1          uncharacterized LOC620639   \n",
       "32283  ENSMUSG00000095019  AC234645.1                                NaN   \n",
       "32284  ENSMUSG00000095041  AC149090.1                                NaN   \n",
       "\n",
       "      mapped_ncbi_identifier        comment  \n",
       "0            NCBIGene:497097            NaN  \n",
       "1                        NaN            NaN  \n",
       "2                        NaN            NaN  \n",
       "3                        NaN            NaN  \n",
       "4             NCBIGene:19888            NaN  \n",
       "...                      ...            ...  \n",
       "32280     NCBIGene:100038995  no expression  \n",
       "32281        NCBIGene:545763  no expression  \n",
       "32282        NCBIGene:620639  no expression  \n",
       "32283                    NaN  no expression  \n",
       "32284                    NaN            NaN  \n",
       "\n",
       "[32285 rows x 5 columns]"
      ]
     },
     "execution_count": 16,
     "metadata": {},
     "output_type": "execute_result"
    }
   ],
   "source": [
    "abc_cache.get_metadata_dataframe(directory='WMB-10X', file_name='gene')"
   ]
  },
  {
   "cell_type": "markdown",
   "metadata": {},
   "source": [
    "#### Downloading individual data files"
   ]
  },
  {
   "cell_type": "code",
   "execution_count": 17,
   "metadata": {},
   "outputs": [
    {
     "data": {
      "text/plain": [
       "['WMB-10XMulti/log2', 'WMB-10XMulti/raw']"
      ]
     },
     "execution_count": 17,
     "metadata": {},
     "output_type": "execute_result"
    }
   ],
   "source": [
    "abc_cache.list_data_files('WMB-10XMulti')"
   ]
  },
  {
   "cell_type": "markdown",
   "metadata": {},
   "source": [
    "Note how ``log2`` and ``raw`` is added tp the end of the file name returned by the above function and used below. If we were not to specify this in the input, the code will throw an error describing the ambiguity."
   ]
  },
  {
   "cell_type": "code",
   "execution_count": 18,
   "metadata": {},
   "outputs": [
    {
     "data": {
      "text/plain": [
       "PosixPath('/home/jeremym/abc_download_root/expression_matrices/WMB-10XMulti/20230830/WMB-10XMulti-log2.h5ad')"
      ]
     },
     "execution_count": 18,
     "metadata": {},
     "output_type": "execute_result"
    }
   ],
   "source": [
    "abc_cache.get_data_path(directory='WMB-10XMulti', file_name='WMB-10XMulti/log2')"
   ]
  },
  {
   "cell_type": "code",
   "execution_count": 19,
   "metadata": {
    "scrolled": true
   },
   "outputs": [
    {
     "ename": "KeyError",
     "evalue": "\"File WMB-10XMulti found in directory but multiple files found: ['log2', 'raw']. Please specify the file name as one of ['WMB-10XMulti/log2', 'WMB-10XMulti/raw']\"",
     "output_type": "error",
     "traceback": [
      "\u001b[0;31m---------------------------------------------------------------------------\u001b[0m",
      "\u001b[0;31mKeyError\u001b[0m                                  Traceback (most recent call last)",
      "\u001b[0;32m/scratch/fast/15081519/ipykernel_14576/358413195.py\u001b[0m in \u001b[0;36m<module>\u001b[0;34m\u001b[0m\n\u001b[0;32m----> 1\u001b[0;31m \u001b[0mabc_cache\u001b[0m\u001b[0;34m.\u001b[0m\u001b[0mget_data_path\u001b[0m\u001b[0;34m(\u001b[0m\u001b[0mdirectory\u001b[0m\u001b[0;34m=\u001b[0m\u001b[0;34m'WMB-10XMulti'\u001b[0m\u001b[0;34m,\u001b[0m \u001b[0mfile_name\u001b[0m\u001b[0;34m=\u001b[0m\u001b[0;34m'WMB-10XMulti'\u001b[0m\u001b[0;34m)\u001b[0m\u001b[0;34m\u001b[0m\u001b[0;34m\u001b[0m\u001b[0m\n\u001b[0m",
      "\u001b[0;32m~/.local/lib/python3.9/site-packages/abc_atlas_access/abc_atlas_cache/abc_project_cache.py\u001b[0m in \u001b[0;36mget_data_path\u001b[0;34m(self, directory, file_name, force_download, skip_hash_check)\u001b[0m\n\u001b[1;32m    475\u001b[0m             )\n\u001b[1;32m    476\u001b[0m         \u001b[0;32melse\u001b[0m\u001b[0;34m:\u001b[0m\u001b[0;34m\u001b[0m\u001b[0;34m\u001b[0m\u001b[0m\n\u001b[0;32m--> 477\u001b[0;31m             data_path = self.cache.download_data(\n\u001b[0m\u001b[1;32m    478\u001b[0m                 \u001b[0mdirectory\u001b[0m\u001b[0;34m=\u001b[0m\u001b[0mdirectory\u001b[0m\u001b[0;34m,\u001b[0m\u001b[0;34m\u001b[0m\u001b[0;34m\u001b[0m\u001b[0m\n\u001b[1;32m    479\u001b[0m                 \u001b[0mfile_name\u001b[0m\u001b[0;34m=\u001b[0m\u001b[0mfile_name\u001b[0m\u001b[0;34m,\u001b[0m\u001b[0;34m\u001b[0m\u001b[0;34m\u001b[0m\u001b[0m\n",
      "\u001b[0;32m~/.local/lib/python3.9/site-packages/abc_atlas_access/abc_atlas_cache/cloud_cache.py\u001b[0m in \u001b[0;36mdownload_data\u001b[0;34m(self, directory, file_name, force_download, skip_hash_check)\u001b[0m\n\u001b[1;32m    820\u001b[0m             \u001b[0mIf\u001b[0m \u001b[0mthe\u001b[0m \u001b[0mfile\u001b[0m \u001b[0mcannot\u001b[0m \u001b[0mbe\u001b[0m \u001b[0mdownloaded\u001b[0m\u001b[0;34m\u001b[0m\u001b[0;34m\u001b[0m\u001b[0m\n\u001b[1;32m    821\u001b[0m         \"\"\"\n\u001b[0;32m--> 822\u001b[0;31m         super_attributes = self.data_path(directory=directory,\n\u001b[0m\u001b[1;32m    823\u001b[0m                                           file_name=file_name)\n\u001b[1;32m    824\u001b[0m         \u001b[0mfile_attributes\u001b[0m \u001b[0;34m=\u001b[0m \u001b[0msuper_attributes\u001b[0m\u001b[0;34m[\u001b[0m\u001b[0;34m'file_attributes'\u001b[0m\u001b[0;34m]\u001b[0m\u001b[0;34m\u001b[0m\u001b[0;34m\u001b[0m\u001b[0m\n",
      "\u001b[0;32m~/.local/lib/python3.9/site-packages/abc_atlas_access/abc_atlas_cache/cloud_cache.py\u001b[0m in \u001b[0;36mdata_path\u001b[0;34m(self, directory, file_name)\u001b[0m\n\u001b[1;32m    393\u001b[0m             \u001b[0mIf\u001b[0m \u001b[0mthe\u001b[0m \u001b[0mfile\u001b[0m \u001b[0mcannot\u001b[0m \u001b[0mbe\u001b[0m \u001b[0mdownloaded\u001b[0m\u001b[0;34m\u001b[0m\u001b[0;34m\u001b[0m\u001b[0m\n\u001b[1;32m    394\u001b[0m         \"\"\"\n\u001b[0;32m--> 395\u001b[0;31m         \u001b[0moutput\u001b[0m \u001b[0;34m=\u001b[0m \u001b[0mself\u001b[0m\u001b[0;34m.\u001b[0m\u001b[0m_get_file_path\u001b[0m\u001b[0;34m(\u001b[0m\u001b[0mdirectory\u001b[0m\u001b[0;34m=\u001b[0m\u001b[0mdirectory\u001b[0m\u001b[0;34m,\u001b[0m \u001b[0mfile_name\u001b[0m\u001b[0;34m=\u001b[0m\u001b[0mfile_name\u001b[0m\u001b[0;34m)\u001b[0m\u001b[0;34m\u001b[0m\u001b[0;34m\u001b[0m\u001b[0m\n\u001b[0m\u001b[1;32m    396\u001b[0m \u001b[0;34m\u001b[0m\u001b[0m\n\u001b[1;32m    397\u001b[0m         \u001b[0;32mreturn\u001b[0m \u001b[0moutput\u001b[0m\u001b[0;34m\u001b[0m\u001b[0;34m\u001b[0m\u001b[0m\n",
      "\u001b[0;32m~/.local/lib/python3.9/site-packages/abc_atlas_access/abc_atlas_cache/cloud_cache.py\u001b[0m in \u001b[0;36m_get_file_path\u001b[0;34m(self, directory, file_name)\u001b[0m\n\u001b[1;32m    319\u001b[0m             \u001b[0mIf\u001b[0m \u001b[0mthe\u001b[0m \u001b[0mfile\u001b[0m \u001b[0mcannot\u001b[0m \u001b[0mbe\u001b[0m \u001b[0mdownloaded\u001b[0m\u001b[0;34m\u001b[0m\u001b[0;34m\u001b[0m\u001b[0m\n\u001b[1;32m    320\u001b[0m         \"\"\"\n\u001b[0;32m--> 321\u001b[0;31m         file_attributes = self._manifest.get_file_attributes(\n\u001b[0m\u001b[1;32m    322\u001b[0m             \u001b[0mdirectory\u001b[0m\u001b[0;34m=\u001b[0m\u001b[0mdirectory\u001b[0m\u001b[0;34m,\u001b[0m\u001b[0;34m\u001b[0m\u001b[0;34m\u001b[0m\u001b[0m\n\u001b[1;32m    323\u001b[0m             \u001b[0mfile_name\u001b[0m\u001b[0;34m=\u001b[0m\u001b[0mfile_name\u001b[0m\u001b[0;34m\u001b[0m\u001b[0;34m\u001b[0m\u001b[0m\n",
      "\u001b[0;32m~/.local/lib/python3.9/site-packages/abc_atlas_access/abc_atlas_cache/manifest.py\u001b[0m in \u001b[0;36mget_file_attributes\u001b[0;34m(self, directory, file_name)\u001b[0m\n\u001b[1;32m    236\u001b[0m                     )\n\u001b[1;32m    237\u001b[0m                 \u001b[0;32melif\u001b[0m \u001b[0mkind\u001b[0m \u001b[0;32mis\u001b[0m \u001b[0;32mNone\u001b[0m \u001b[0;32mand\u001b[0m \u001b[0;34m\"files\"\u001b[0m \u001b[0;32mnot\u001b[0m \u001b[0;32min\u001b[0m \u001b[0mfiles_data\u001b[0m\u001b[0;34m.\u001b[0m\u001b[0mkeys\u001b[0m\u001b[0;34m(\u001b[0m\u001b[0;34m)\u001b[0m\u001b[0;34m:\u001b[0m\u001b[0;34m\u001b[0m\u001b[0;34m\u001b[0m\u001b[0m\n\u001b[0;32m--> 238\u001b[0;31m                     raise KeyError(\n\u001b[0m\u001b[1;32m    239\u001b[0m                         \u001b[0;34mf\"File {file_name} found in directory but multiple \"\u001b[0m\u001b[0;34m\u001b[0m\u001b[0;34m\u001b[0m\u001b[0m\n\u001b[1;32m    240\u001b[0m                         \u001b[0;34mf\"files found: {list(files_data.keys())}. Please \"\u001b[0m\u001b[0;34m\u001b[0m\u001b[0;34m\u001b[0m\u001b[0m\n",
      "\u001b[0;31mKeyError\u001b[0m: \"File WMB-10XMulti found in directory but multiple files found: ['log2', 'raw']. Please specify the file name as one of ['WMB-10XMulti/log2', 'WMB-10XMulti/raw']\""
     ]
    }
   ],
   "source": [
    "abc_cache.get_data_path(directory='WMB-10XMulti', file_name='WMB-10XMulti')"
   ]
  },
  {
   "cell_type": "markdown",
   "metadata": {},
   "source": [
    "### Advanced Options"
   ]
  },
  {
   "cell_type": "markdown",
   "metadata": {},
   "source": [
    "#### Forcing the cache to redownload data"
   ]
  },
  {
   "cell_type": "markdown",
   "metadata": {},
   "source": [
    "For all methods that download files, the option exists to force the cache to redownload the file(s). This can be useful if the downloaded file has become corrupted or accidentially deleted/changed. Below are examples of using it while downloading an inividual file or a full directory of files."
   ]
  },
  {
   "cell_type": "code",
   "execution_count": 20,
   "metadata": {},
   "outputs": [
    {
     "name": "stderr",
     "output_type": "stream",
     "text": [
      "gene.csv: 100%|██████████| 2.30M/2.30M [00:00<00:00, 7.41MMB/s]\n"
     ]
    },
    {
     "data": {
      "text/html": [
       "<div>\n",
       "<style scoped>\n",
       "    .dataframe tbody tr th:only-of-type {\n",
       "        vertical-align: middle;\n",
       "    }\n",
       "\n",
       "    .dataframe tbody tr th {\n",
       "        vertical-align: top;\n",
       "    }\n",
       "\n",
       "    .dataframe thead th {\n",
       "        text-align: right;\n",
       "    }\n",
       "</style>\n",
       "<table border=\"1\" class=\"dataframe\">\n",
       "  <thead>\n",
       "    <tr style=\"text-align: right;\">\n",
       "      <th></th>\n",
       "      <th>gene_identifier</th>\n",
       "      <th>gene_symbol</th>\n",
       "      <th>name</th>\n",
       "      <th>mapped_ncbi_identifier</th>\n",
       "      <th>comment</th>\n",
       "    </tr>\n",
       "  </thead>\n",
       "  <tbody>\n",
       "    <tr>\n",
       "      <th>0</th>\n",
       "      <td>ENSMUSG00000051951</td>\n",
       "      <td>Xkr4</td>\n",
       "      <td>X-linked Kx blood group related 4</td>\n",
       "      <td>NCBIGene:497097</td>\n",
       "      <td>NaN</td>\n",
       "    </tr>\n",
       "    <tr>\n",
       "      <th>1</th>\n",
       "      <td>ENSMUSG00000089699</td>\n",
       "      <td>Gm1992</td>\n",
       "      <td>predicted gene 1992</td>\n",
       "      <td>NaN</td>\n",
       "      <td>NaN</td>\n",
       "    </tr>\n",
       "    <tr>\n",
       "      <th>2</th>\n",
       "      <td>ENSMUSG00000102331</td>\n",
       "      <td>Gm19938</td>\n",
       "      <td>predicted gene, 19938</td>\n",
       "      <td>NaN</td>\n",
       "      <td>NaN</td>\n",
       "    </tr>\n",
       "    <tr>\n",
       "      <th>3</th>\n",
       "      <td>ENSMUSG00000102343</td>\n",
       "      <td>Gm37381</td>\n",
       "      <td>predicted gene, 37381</td>\n",
       "      <td>NaN</td>\n",
       "      <td>NaN</td>\n",
       "    </tr>\n",
       "    <tr>\n",
       "      <th>4</th>\n",
       "      <td>ENSMUSG00000025900</td>\n",
       "      <td>Rp1</td>\n",
       "      <td>retinitis pigmentosa 1 (human)</td>\n",
       "      <td>NCBIGene:19888</td>\n",
       "      <td>NaN</td>\n",
       "    </tr>\n",
       "    <tr>\n",
       "      <th>...</th>\n",
       "      <td>...</td>\n",
       "      <td>...</td>\n",
       "      <td>...</td>\n",
       "      <td>...</td>\n",
       "      <td>...</td>\n",
       "    </tr>\n",
       "    <tr>\n",
       "      <th>32280</th>\n",
       "      <td>ENSMUSG00000095523</td>\n",
       "      <td>AC124606.1</td>\n",
       "      <td>PRAME family member 8-like</td>\n",
       "      <td>NCBIGene:100038995</td>\n",
       "      <td>no expression</td>\n",
       "    </tr>\n",
       "    <tr>\n",
       "      <th>32281</th>\n",
       "      <td>ENSMUSG00000095475</td>\n",
       "      <td>AC133095.2</td>\n",
       "      <td>uncharacterized LOC545763</td>\n",
       "      <td>NCBIGene:545763</td>\n",
       "      <td>no expression</td>\n",
       "    </tr>\n",
       "    <tr>\n",
       "      <th>32282</th>\n",
       "      <td>ENSMUSG00000094855</td>\n",
       "      <td>AC133095.1</td>\n",
       "      <td>uncharacterized LOC620639</td>\n",
       "      <td>NCBIGene:620639</td>\n",
       "      <td>no expression</td>\n",
       "    </tr>\n",
       "    <tr>\n",
       "      <th>32283</th>\n",
       "      <td>ENSMUSG00000095019</td>\n",
       "      <td>AC234645.1</td>\n",
       "      <td>NaN</td>\n",
       "      <td>NaN</td>\n",
       "      <td>no expression</td>\n",
       "    </tr>\n",
       "    <tr>\n",
       "      <th>32284</th>\n",
       "      <td>ENSMUSG00000095041</td>\n",
       "      <td>AC149090.1</td>\n",
       "      <td>NaN</td>\n",
       "      <td>NaN</td>\n",
       "      <td>NaN</td>\n",
       "    </tr>\n",
       "  </tbody>\n",
       "</table>\n",
       "<p>32285 rows × 5 columns</p>\n",
       "</div>"
      ],
      "text/plain": [
       "          gene_identifier gene_symbol                               name  \\\n",
       "0      ENSMUSG00000051951        Xkr4  X-linked Kx blood group related 4   \n",
       "1      ENSMUSG00000089699      Gm1992                predicted gene 1992   \n",
       "2      ENSMUSG00000102331     Gm19938              predicted gene, 19938   \n",
       "3      ENSMUSG00000102343     Gm37381              predicted gene, 37381   \n",
       "4      ENSMUSG00000025900         Rp1     retinitis pigmentosa 1 (human)   \n",
       "...                   ...         ...                                ...   \n",
       "32280  ENSMUSG00000095523  AC124606.1         PRAME family member 8-like   \n",
       "32281  ENSMUSG00000095475  AC133095.2          uncharacterized LOC545763   \n",
       "32282  ENSMUSG00000094855  AC133095.1          uncharacterized LOC620639   \n",
       "32283  ENSMUSG00000095019  AC234645.1                                NaN   \n",
       "32284  ENSMUSG00000095041  AC149090.1                                NaN   \n",
       "\n",
       "      mapped_ncbi_identifier        comment  \n",
       "0            NCBIGene:497097            NaN  \n",
       "1                        NaN            NaN  \n",
       "2                        NaN            NaN  \n",
       "3                        NaN            NaN  \n",
       "4             NCBIGene:19888            NaN  \n",
       "...                      ...            ...  \n",
       "32280     NCBIGene:100038995  no expression  \n",
       "32281        NCBIGene:545763  no expression  \n",
       "32282        NCBIGene:620639  no expression  \n",
       "32283                    NaN  no expression  \n",
       "32284                    NaN            NaN  \n",
       "\n",
       "[32285 rows x 5 columns]"
      ]
     },
     "execution_count": 20,
     "metadata": {},
     "output_type": "execute_result"
    }
   ],
   "source": [
    "abc_cache.get_metadata_dataframe(directory='WMB-10X', file_name='gene', force_download=True)"
   ]
  },
  {
   "cell_type": "code",
   "execution_count": 21,
   "metadata": {},
   "outputs": [
    {
     "name": "stderr",
     "output_type": "stream",
     "text": [
      "annotation_10.nii.gz: 100%|██████████| 27.5M/27.5M [00:01<00:00, 27.1MMB/s]  \n",
      "annotation_boundary_10.nii.gz: 100%|██████████| 27.4M/27.4M [00:01<00:00, 20.4MMB/s]\n",
      "average_template_10.nii.gz: 100%|██████████| 343M/343M [00:11<00:00, 28.9MMB/s]    "
     ]
    },
    {
     "name": "stdout",
     "output_type": "stream",
     "text": [
      "Allen-CCF-2020 data files:\n",
      "\t [PosixPath('/home/jeremym/abc_download_root/image_volumes/Allen-CCF-2020/20230630/annotation_10.nii.gz'), PosixPath('/home/jeremym/abc_download_root/image_volumes/Allen-CCF-2020/20230630/annotation_boundary_10.nii.gz'), PosixPath('/home/jeremym/abc_download_root/image_volumes/Allen-CCF-2020/20230630/average_template_10.nii.gz')]\n"
     ]
    },
    {
     "name": "stderr",
     "output_type": "stream",
     "text": [
      "\n"
     ]
    }
   ],
   "source": [
    "allen_ccf_list = abc_cache.get_directory_data(directory='Allen-CCF-2020', force_download=True)\n",
    "print(\"Allen-CCF-2020 data files:\\n\\t\", allen_ccf_list)"
   ]
  },
  {
   "cell_type": "markdown",
   "metadata": {},
   "source": [
    "#### Skipping the file hashing check\n",
    "\n",
    "When a download is completed, a hash of the downloaded file is computed and checked against the expected hash in the manifest. While this check is recommeneded it can add overhead to the download process. ``skip_hash_check`` allows the user to skip computing the hash and assume the download has been completed successfully. "
   ]
  },
  {
   "cell_type": "code",
   "execution_count": 22,
   "metadata": {},
   "outputs": [
    {
     "data": {
      "text/html": [
       "<div>\n",
       "<style scoped>\n",
       "    .dataframe tbody tr th:only-of-type {\n",
       "        vertical-align: middle;\n",
       "    }\n",
       "\n",
       "    .dataframe tbody tr th {\n",
       "        vertical-align: top;\n",
       "    }\n",
       "\n",
       "    .dataframe thead th {\n",
       "        text-align: right;\n",
       "    }\n",
       "</style>\n",
       "<table border=\"1\" class=\"dataframe\">\n",
       "  <thead>\n",
       "    <tr style=\"text-align: right;\">\n",
       "      <th></th>\n",
       "      <th>cell_label</th>\n",
       "      <th>x</th>\n",
       "      <th>y</th>\n",
       "    </tr>\n",
       "  </thead>\n",
       "  <tbody>\n",
       "    <tr>\n",
       "      <th>0</th>\n",
       "      <td>CTCACACTCGTAGATC-044_D01</td>\n",
       "      <td>-4.603476</td>\n",
       "      <td>-6.148670</td>\n",
       "    </tr>\n",
       "    <tr>\n",
       "      <th>1</th>\n",
       "      <td>CCGTACTCATCCAACA-036_D01</td>\n",
       "      <td>-4.817812</td>\n",
       "      <td>-6.366151</td>\n",
       "    </tr>\n",
       "    <tr>\n",
       "      <th>2</th>\n",
       "      <td>AGCGGTCCATGGGAAC-037_A01</td>\n",
       "      <td>-4.798783</td>\n",
       "      <td>-6.577992</td>\n",
       "    </tr>\n",
       "    <tr>\n",
       "      <th>3</th>\n",
       "      <td>GATGAGGCATGTTCCC-037_B01</td>\n",
       "      <td>-5.188138</td>\n",
       "      <td>-5.892220</td>\n",
       "    </tr>\n",
       "    <tr>\n",
       "      <th>4</th>\n",
       "      <td>TAGTGGTAGGCGACAT-037_B01</td>\n",
       "      <td>-4.715829</td>\n",
       "      <td>-6.606307</td>\n",
       "    </tr>\n",
       "    <tr>\n",
       "      <th>...</th>\n",
       "      <td>...</td>\n",
       "      <td>...</td>\n",
       "      <td>...</td>\n",
       "    </tr>\n",
       "    <tr>\n",
       "      <th>126166</th>\n",
       "      <td>TTTGTTGTCCGACATA-290_B01</td>\n",
       "      <td>10.042111</td>\n",
       "      <td>10.349521</td>\n",
       "    </tr>\n",
       "    <tr>\n",
       "      <th>126167</th>\n",
       "      <td>TTTGTTGTCGTCTACC-294_B05</td>\n",
       "      <td>-1.630137</td>\n",
       "      <td>9.033476</td>\n",
       "    </tr>\n",
       "    <tr>\n",
       "      <th>126168</th>\n",
       "      <td>TTTGTTGTCGTTCCTG-463_A05</td>\n",
       "      <td>-6.848272</td>\n",
       "      <td>12.645908</td>\n",
       "    </tr>\n",
       "    <tr>\n",
       "      <th>126169</th>\n",
       "      <td>TTTGTTGTCGTTGCCT-621_A02</td>\n",
       "      <td>-6.982306</td>\n",
       "      <td>14.718120</td>\n",
       "    </tr>\n",
       "    <tr>\n",
       "      <th>126170</th>\n",
       "      <td>TTTGTTGTCTTTCGAT-574_A02</td>\n",
       "      <td>-5.292696</td>\n",
       "      <td>6.804039</td>\n",
       "    </tr>\n",
       "  </tbody>\n",
       "</table>\n",
       "<p>126171 rows × 3 columns</p>\n",
       "</div>"
      ],
      "text/plain": [
       "                      cell_label          x          y\n",
       "0       CTCACACTCGTAGATC-044_D01  -4.603476  -6.148670\n",
       "1       CCGTACTCATCCAACA-036_D01  -4.817812  -6.366151\n",
       "2       AGCGGTCCATGGGAAC-037_A01  -4.798783  -6.577992\n",
       "3       GATGAGGCATGTTCCC-037_B01  -5.188138  -5.892220\n",
       "4       TAGTGGTAGGCGACAT-037_B01  -4.715829  -6.606307\n",
       "...                          ...        ...        ...\n",
       "126166  TTTGTTGTCCGACATA-290_B01  10.042111  10.349521\n",
       "126167  TTTGTTGTCGTCTACC-294_B05  -1.630137   9.033476\n",
       "126168  TTTGTTGTCGTTCCTG-463_A05  -6.848272  12.645908\n",
       "126169  TTTGTTGTCGTTGCCT-621_A02  -6.982306  14.718120\n",
       "126170  TTTGTTGTCTTTCGAT-574_A02  -5.292696   6.804039\n",
       "\n",
       "[126171 rows x 3 columns]"
      ]
     },
     "execution_count": 22,
     "metadata": {},
     "output_type": "execute_result"
    }
   ],
   "source": [
    "abc_cache.get_metadata_dataframe(directory='WMB-neighborhoods', file_name='UMAP20230830-TH-EPI-Glut', skip_hash_check=True)"
   ]
  },
  {
   "cell_type": "code",
   "execution_count": 23,
   "metadata": {},
   "outputs": [
    {
     "data": {
      "text/plain": [
       "[PosixPath('/home/jeremym/abc_download_root/metadata/Allen-CCF-2020/20230630/parcellation.csv'),\n",
       " PosixPath('/home/jeremym/abc_download_root/metadata/Allen-CCF-2020/20230630/parcellation_term.csv'),\n",
       " PosixPath('/home/jeremym/abc_download_root/metadata/Allen-CCF-2020/20230630/parcellation_term_set.csv'),\n",
       " PosixPath('/home/jeremym/abc_download_root/metadata/Allen-CCF-2020/20230630/parcellation_term_set_membership.csv'),\n",
       " PosixPath('/home/jeremym/abc_download_root/metadata/Allen-CCF-2020/20230630/views/parcellation_term_with_counts.csv'),\n",
       " PosixPath('/home/jeremym/abc_download_root/metadata/Allen-CCF-2020/20230630/parcellation_to_parcellation_term_membership.csv'),\n",
       " PosixPath('/home/jeremym/abc_download_root/metadata/Allen-CCF-2020/20230630/views/parcellation_to_parcellation_term_membership_acronym.csv'),\n",
       " PosixPath('/home/jeremym/abc_download_root/metadata/Allen-CCF-2020/20230630/views/parcellation_to_parcellation_term_membership_blue.csv'),\n",
       " PosixPath('/home/jeremym/abc_download_root/metadata/Allen-CCF-2020/20230630/views/parcellation_to_parcellation_term_membership_color.csv'),\n",
       " PosixPath('/home/jeremym/abc_download_root/metadata/Allen-CCF-2020/20230630/views/parcellation_to_parcellation_term_membership_green.csv'),\n",
       " PosixPath('/home/jeremym/abc_download_root/metadata/Allen-CCF-2020/20230630/views/parcellation_to_parcellation_term_membership_name.csv'),\n",
       " PosixPath('/home/jeremym/abc_download_root/metadata/Allen-CCF-2020/20230630/views/parcellation_to_parcellation_term_membership_red.csv')]"
      ]
     },
     "execution_count": 23,
     "metadata": {},
     "output_type": "execute_result"
    }
   ],
   "source": [
    "abc_cache.get_directory_metadata(directory='Allen-CCF-2020', skip_hash_check=True)"
   ]
  },
  {
   "cell_type": "code",
   "execution_count": null,
   "metadata": {},
   "outputs": [],
   "source": []
  }
 ],
 "metadata": {
  "kernelspec": {
   "display_name": "Python 3 (ipykernel)",
   "language": "python",
   "name": "python3"
  },
  "language_info": {
   "codemirror_mode": {
    "name": "ipython",
    "version": 3
   },
   "file_extension": ".py",
   "mimetype": "text/x-python",
   "name": "python",
   "nbconvert_exporter": "python",
   "pygments_lexer": "ipython3",
   "version": "3.9.7"
  }
 },
 "nbformat": 4,
 "nbformat_minor": 4
}
