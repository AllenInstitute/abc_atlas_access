{
 "cells": [
  {
   "cell_type": "code",
   "execution_count": 1,
   "id": "04304d1f-d7aa-4ba2-b181-14581bbd6217",
   "metadata": {
    "tags": []
   },
   "outputs": [],
   "source": [
    "import requests\n",
    "import json\n",
    "import os\n",
    "import pathlib\n",
    "import subprocess\n",
    "import time"
   ]
  },
  {
   "cell_type": "code",
   "execution_count": 2,
   "id": "0a69f50b-1227-43f1-aaa5-ff614f56eb21",
   "metadata": {
    "tags": []
   },
   "outputs": [
    {
     "name": "stdout",
     "output_type": "stream",
     "text": [
      "version:  20230830\n"
     ]
    }
   ],
   "source": [
    "version = '20231215'\n",
    "url = 'https://allen-brain-cell-atlas.s3-us-west-2.amazonaws.com/releases/%s/manifest.json' % version\n",
    "manifest = json.loads(requests.get(url).text)\n",
    "print(\"version: \", manifest['version'])"
   ]
  },
  {
   "cell_type": "code",
   "execution_count": 3,
   "id": "02f47998-4a18-4788-91c8-5fa1ae64d44d",
   "metadata": {
    "tags": []
   },
   "outputs": [
    {
     "name": "stdout",
     "output_type": "stream",
     "text": [
      "version: 20230830\n",
      "resource_uri: s3://allen-brain-cell-atlas/\n"
     ]
    }
   ],
   "source": [
    "manifest.keys()\n",
    "print(\"version:\",manifest['version'])\n",
    "print(\"resource_uri:\",manifest['resource_uri'])"
   ]
  },
  {
   "cell_type": "code",
   "execution_count": 4,
   "id": "43f741ea-3039-47de-b2b5-c4ed5693f425",
   "metadata": {
    "tags": []
   },
   "outputs": [
    {
     "name": "stdout",
     "output_type": "stream",
     "text": [
      "{'version': '20230830', 'relative_path': 'expression_matrices/MERFISH-C57BL6J-638850/20230830', 'url': 'https://allen-brain-cell-atlas.s3.us-west-2.amazonaws.com/expression_matrices/MERFISH-C57BL6J-638850/20230830/', 'view_link': 'https://allen-brain-cell-atlas.s3.us-west-2.amazonaws.com/index.html#expression_matrices/MERFISH-C57BL6J-638850/20230830/', 'total_size': 15255179148}\n",
      "https://allen-brain-cell-atlas.s3.us-west-2.amazonaws.com/index.html#expression_matrices/MERFISH-C57BL6J-638850/20230830/\n"
     ]
    }
   ],
   "source": [
    "expression_matrices = manifest['directory_listing']['MERFISH-C57BL6J-638850']['directories']['expression_matrices']\n",
    "print(expression_matrices)\n",
    "print(expression_matrices['view_link'])"
   ]
  },
  {
   "cell_type": "code",
   "execution_count": 5,
   "id": "2262220a-6737-4751-b2d6-49fbce2b002d",
   "metadata": {
    "tags": []
   },
   "outputs": [
    {
     "name": "stdout",
     "output_type": "stream",
     "text": [
      "{'version': '20230830', 'relative_path': 'metadata/MERFISH-C57BL6J-638850/20230830', 'url': 'https://allen-brain-cell-atlas.s3.us-west-2.amazonaws.com/metadata/MERFISH-C57BL6J-638850/20230830/', 'view_link': 'https://allen-brain-cell-atlas.s3.us-west-2.amazonaws.com/index.html#metadata/MERFISH-C57BL6J-638850/20230830/', 'total_size': 1942603772}\n",
      "https://allen-brain-cell-atlas.s3.us-west-2.amazonaws.com/index.html#metadata/MERFISH-C57BL6J-638850/20230830/\n"
     ]
    }
   ],
   "source": [
    "metadata = manifest['directory_listing']['MERFISH-C57BL6J-638850']['directories']['metadata']\n",
    "print(metadata)\n",
    "print(metadata['view_link'])"
   ]
  },
  {
   "cell_type": "code",
   "execution_count": 6,
   "id": "463379c3-aeae-491a-a3dd-ce319d3d596d",
   "metadata": {
    "tags": []
   },
   "outputs": [
    {
     "name": "stdout",
     "output_type": "stream",
     "text": [
      "expression_matrices/MERFISH-C57BL6J-638850/20230830 : 14.21 GB\n",
      "metadata/MERFISH-C57BL6J-638850/20230830 : 1.81 GB\n",
      "expression_matrices/MERFISH-C57BL6J-638850-sections/20230630 : 14.31 GB\n",
      "expression_matrices/WMB-10Xv2/20230630 : 104.16 GB\n",
      "expression_matrices/WMB-10Xv3/20230630 : 176.41 GB\n",
      "expression_matrices/WMB-10XMulti/20230830 : 0.21 GB\n",
      "metadata/WMB-10X/20230830 : 2.39 GB\n",
      "metadata/WMB-taxonomy/20230830 : 0.01 GB\n",
      "metadata/WMB-neighborhoods/20230830 : 3.00 GB\n",
      "image_volumes/Allen-CCF-2020/20230630 : 0.37 GB\n",
      "metadata/Allen-CCF-2020/20230630 : 0.00 GB\n",
      "image_volumes/MERFISH-C57BL6J-638850-CCF/20230630 : 0.11 GB\n",
      "metadata/MERFISH-C57BL6J-638850-CCF/20230830 : 2.01 GB\n",
      "expression_matrices/Zhuang-ABCA-1/20230830 : 3.09 GB\n",
      "metadata/Zhuang-ABCA-1/20230830 : 1.33 GB\n",
      "metadata/Zhuang-ABCA-1-CCF/20230830 : 0.21 GB\n",
      "expression_matrices/Zhuang-ABCA-2/20230830 : 1.30 GB\n",
      "metadata/Zhuang-ABCA-2/20230830 : 0.57 GB\n",
      "metadata/Zhuang-ABCA-2-CCF/20230830 : 0.08 GB\n",
      "expression_matrices/Zhuang-ABCA-3/20230830 : 1.69 GB\n",
      "metadata/Zhuang-ABCA-3/20230830 : 0.74 GB\n",
      "metadata/Zhuang-ABCA-3-CCF/20230830 : 0.12 GB\n",
      "expression_matrices/Zhuang-ABCA-4/20230830 : 0.16 GB\n",
      "metadata/Zhuang-ABCA-4/20230830 : 0.08 GB\n",
      "metadata/Zhuang-ABCA-4-CCF/20230830 : 0.01 GB\n"
     ]
    }
   ],
   "source": [
    "GB = float(float(1024) ** 3)\n",
    "\n",
    "for r in manifest['directory_listing'] :    \n",
    "    r_dict =  manifest['directory_listing'][r]\n",
    "    for d in r_dict['directories'] :\n",
    "        d_dict = r_dict['directories'][d]        \n",
    "        print(d_dict['relative_path'],\":\",'%0.2f GB' % (d_dict['total_size']/GB))\n",
    "        "
   ]
  },
  {
   "cell_type": "code",
   "execution_count": 7,
   "id": "2ad6f441-acee-44b5-a68c-452add00689e",
   "metadata": {
    "tags": []
   },
   "outputs": [],
   "source": [
    "download_base = '/shared/Data/abc_download_root'"
   ]
  },
  {
   "cell_type": "code",
   "execution_count": 8,
   "id": "86cb9c41-ac1f-4209-9759-7f489a2e0c6d",
   "metadata": {
    "tags": []
   },
   "outputs": [
    {
     "name": "stdout",
     "output_type": "stream",
     "text": [
      "aws s3 sync --no-sign-request s3://allen-brain-cell-atlas/metadata/MERFISH-C57BL6J-638850/20230830 /shared/Data/abc_download_root/metadata/MERFISH-C57BL6J-638850/20230830\n",
      "time taken:  0.04437648999999988\n",
      "aws s3 sync --no-sign-request s3://allen-brain-cell-atlas/metadata/WMB-10X/20230830 /shared/Data/abc_download_root/metadata/WMB-10X/20230830\n",
      "time taken:  0.06514278899999981\n",
      "aws s3 sync --no-sign-request s3://allen-brain-cell-atlas/metadata/WMB-taxonomy/20230830 /shared/Data/abc_download_root/metadata/WMB-taxonomy/20230830\n",
      "time taken:  0.0016731450000000425\n",
      "aws s3 sync --no-sign-request s3://allen-brain-cell-atlas/metadata/WMB-neighborhoods/20230830 /shared/Data/abc_download_root/metadata/WMB-neighborhoods/20230830\n",
      "time taken:  0.0854246139999999\n",
      "aws s3 sync --no-sign-request s3://allen-brain-cell-atlas/metadata/Allen-CCF-2020/20230630 /shared/Data/abc_download_root/metadata/Allen-CCF-2020/20230630\n",
      "time taken:  0.0018774339999998446\n",
      "aws s3 sync --no-sign-request s3://allen-brain-cell-atlas/metadata/MERFISH-C57BL6J-638850-CCF/20230830 /shared/Data/abc_download_root/metadata/MERFISH-C57BL6J-638850-CCF/20230830\n",
      "time taken:  0.057746414999999995\n",
      "aws s3 sync --no-sign-request s3://allen-brain-cell-atlas/metadata/Zhuang-ABCA-1/20230830 /shared/Data/abc_download_root/metadata/Zhuang-ABCA-1/20230830\n",
      "time taken:  0.03554774199999988\n",
      "aws s3 sync --no-sign-request s3://allen-brain-cell-atlas/metadata/Zhuang-ABCA-1-CCF/20230830 /shared/Data/abc_download_root/metadata/Zhuang-ABCA-1-CCF/20230830\n",
      "time taken:  0.005821159000000131\n",
      "aws s3 sync --no-sign-request s3://allen-brain-cell-atlas/metadata/Zhuang-ABCA-2/20230830 /shared/Data/abc_download_root/metadata/Zhuang-ABCA-2/20230830\n",
      "time taken:  0.013644605999999948\n",
      "aws s3 sync --no-sign-request s3://allen-brain-cell-atlas/metadata/Zhuang-ABCA-2-CCF/20230830 /shared/Data/abc_download_root/metadata/Zhuang-ABCA-2-CCF/20230830\n",
      "time taken:  0.003017780000000192\n",
      "aws s3 sync --no-sign-request s3://allen-brain-cell-atlas/metadata/Zhuang-ABCA-3/20230830 /shared/Data/abc_download_root/metadata/Zhuang-ABCA-3/20230830\n",
      "time taken:  0.017215441999999914\n",
      "aws s3 sync --no-sign-request s3://allen-brain-cell-atlas/metadata/Zhuang-ABCA-3-CCF/20230830 /shared/Data/abc_download_root/metadata/Zhuang-ABCA-3-CCF/20230830\n",
      "time taken:  0.004403759999999979\n",
      "aws s3 sync --no-sign-request s3://allen-brain-cell-atlas/metadata/Zhuang-ABCA-4/20230830 /shared/Data/abc_download_root/metadata/Zhuang-ABCA-4/20230830\n",
      "time taken:  0.0033300099999999944\n",
      "aws s3 sync --no-sign-request s3://allen-brain-cell-atlas/metadata/Zhuang-ABCA-4-CCF/20230830 /shared/Data/abc_download_root/metadata/Zhuang-ABCA-4-CCF/20230830\n",
      "time taken:  0.0018146720000000727\n"
     ]
    }
   ],
   "source": [
    "for r in manifest['directory_listing'] :\n",
    "    \n",
    "    r_dict =  manifest['directory_listing'][r]\n",
    "    \n",
    "    for d in r_dict['directories'] :\n",
    "        \n",
    "        if d != 'metadata' :\n",
    "            continue\n",
    "        d_dict = r_dict['directories'][d]\n",
    "        local_path = os.path.join( download_base, d_dict['relative_path'])\n",
    "        local_path = pathlib.Path( local_path )\n",
    "        remote_path = manifest['resource_uri'] + d_dict['relative_path']\n",
    "        \n",
    "        command = \"aws s3 sync --no-sign-request %s %s\" % (remote_path, local_path)\n",
    "        print(command)\n",
    "        \n",
    "        start = time.process_time()\n",
    "        # Uncomment to download directories\n",
    "        result = subprocess.run(command.split(),stdout=subprocess.PIPE)\n",
    "        print(\"time taken: \", time.process_time() - start)\n"
   ]
  },
  {
   "cell_type": "code",
   "execution_count": 9,
   "id": "6e0ba5ce-d6f2-4667-9ac8-4736ae7006d4",
   "metadata": {
    "tags": []
   },
   "outputs": [],
   "source": [
    "def download_file( file_dict ) :\n",
    "    \n",
    "    print(file_dict['relative_path'],file_dict['size'])\n",
    "    local_path = os.path.join( download_base, file_dict['relative_path'] )\n",
    "    local_path = pathlib.Path( local_path )\n",
    "    remote_path = manifest['resource_uri'] + file_dict['relative_path']\n",
    "\n",
    "    command = \"aws s3 cp --no-sign-request %s %s\" % (remote_path, local_path)\n",
    "    print(command)\n",
    "\n",
    "    start = time.process_time()\n",
    "    # Uncomment to download file\n",
    "    result = subprocess.run(command.split(' '),stdout=subprocess.PIPE)\n",
    "    print(\"time taken: \", time.process_time() - start)"
   ]
  },
  {
   "cell_type": "code",
   "execution_count": 10,
   "id": "6f9845f1-2801-46eb-b31d-c1a70d8c3464",
   "metadata": {
    "tags": []
   },
   "outputs": [
    {
     "name": "stdout",
     "output_type": "stream",
     "text": [
      "size: 4038679930\n",
      "expression_matrices/WMB-10Xv2/20230630/WMB-10Xv2-TH-log2.h5ad 4038679930\n",
      "aws s3 cp --no-sign-request s3://allen-brain-cell-atlas/expression_matrices/WMB-10Xv2/20230630/WMB-10Xv2-TH-log2.h5ad /shared/Data/abc_download_root/expression_matrices/WMB-10Xv2/20230630/WMB-10Xv2-TH-log2.h5ad\n",
      "time taken:  0.11746830100000016\n"
     ]
    }
   ],
   "source": [
    "expression_matrices = manifest['file_listing']['WMB-10Xv2']['expression_matrices']\n",
    "file_dict = expression_matrices['WMB-10Xv2-TH']['log2']['files']['h5ad']\n",
    "print('size:',file_dict['size'])\n",
    "download_file( file_dict )"
   ]
  },
  {
   "cell_type": "code",
   "execution_count": 11,
   "id": "4cdb7845-c5ba-4ab8-b4a1-8fad4f673cd5",
   "metadata": {
    "tags": []
   },
   "outputs": [
    {
     "name": "stdout",
     "output_type": "stream",
     "text": [
      "size: 7627589574\n",
      "expression_matrices/MERFISH-C57BL6J-638850/20230830/C57BL6J-638850-log2.h5ad 7627589574\n",
      "aws s3 cp --no-sign-request s3://allen-brain-cell-atlas/expression_matrices/MERFISH-C57BL6J-638850/20230830/C57BL6J-638850-log2.h5ad /shared/Data/abc_download_root/expression_matrices/MERFISH-C57BL6J-638850/20230830/C57BL6J-638850-log2.h5ad\n",
      "time taken:  0.20187397499999982\n"
     ]
    }
   ],
   "source": [
    "datasets = ['MERFISH-C57BL6J-638850']\n",
    "for d in datasets :\n",
    "    expression_matrices = manifest['file_listing'][d]['expression_matrices']\n",
    "    file_dict = expression_matrices['C57BL6J-638850']['log2']['files']['h5ad']\n",
    "    print('size:',file_dict['size'])\n",
    "    download_file( file_dict )"
   ]
  },
  {
   "cell_type": "code",
   "execution_count": 12,
   "id": "1e84f23f-70eb-4402-8f36-8770683f4277",
   "metadata": {
    "tags": []
   },
   "outputs": [
    {
     "name": "stdout",
     "output_type": "stream",
     "text": [
      "size: 2128478610\n",
      "expression_matrices/Zhuang-ABCA-1/20230830/Zhuang-ABCA-1-log2.h5ad 2128478610\n",
      "aws s3 cp --no-sign-request s3://allen-brain-cell-atlas/expression_matrices/Zhuang-ABCA-1/20230830/Zhuang-ABCA-1-log2.h5ad /shared/Data/abc_download_root/expression_matrices/Zhuang-ABCA-1/20230830/Zhuang-ABCA-1-log2.h5ad\n",
      "time taken:  0.05316929699999973\n",
      "size: 871420938\n",
      "expression_matrices/Zhuang-ABCA-2/20230830/Zhuang-ABCA-2-log2.h5ad 871420938\n",
      "aws s3 cp --no-sign-request s3://allen-brain-cell-atlas/expression_matrices/Zhuang-ABCA-2/20230830/Zhuang-ABCA-2-log2.h5ad /shared/Data/abc_download_root/expression_matrices/Zhuang-ABCA-2/20230830/Zhuang-ABCA-2-log2.h5ad\n",
      "time taken:  0.029438904999999682\n",
      "size: 1160586154\n",
      "expression_matrices/Zhuang-ABCA-3/20230830/Zhuang-ABCA-3-log2.h5ad 1160586154\n",
      "aws s3 cp --no-sign-request s3://allen-brain-cell-atlas/expression_matrices/Zhuang-ABCA-3/20230830/Zhuang-ABCA-3-log2.h5ad /shared/Data/abc_download_root/expression_matrices/Zhuang-ABCA-3/20230830/Zhuang-ABCA-3-log2.h5ad\n",
      "time taken:  0.03181599700000026\n",
      "size: 106739752\n",
      "expression_matrices/Zhuang-ABCA-4/20230830/Zhuang-ABCA-4-log2.h5ad 106739752\n",
      "aws s3 cp --no-sign-request s3://allen-brain-cell-atlas/expression_matrices/Zhuang-ABCA-4/20230830/Zhuang-ABCA-4-log2.h5ad /shared/Data/abc_download_root/expression_matrices/Zhuang-ABCA-4/20230830/Zhuang-ABCA-4-log2.h5ad\n",
      "time taken:  0.0043707689999998856\n"
     ]
    }
   ],
   "source": [
    "datasets = ['Zhuang-ABCA-1','Zhuang-ABCA-2','Zhuang-ABCA-3','Zhuang-ABCA-4']\n",
    "for d in datasets :\n",
    "    expression_matrices = manifest['file_listing'][d]['expression_matrices']\n",
    "    file_dict = expression_matrices[d]['log2']['files']['h5ad']\n",
    "    print('size:',file_dict['size'])\n",
    "    download_file( file_dict )"
   ]
  },
  {
   "cell_type": "code",
   "execution_count": 14,
   "id": "46d541e5-fdb3-4e88-8ee5-7a3327f35876",
   "metadata": {
    "tags": []
   },
   "outputs": [
    {
     "name": "stdout",
     "output_type": "stream",
     "text": [
      "aws s3 sync --no-sign-request s3://allen-brain-cell-atlas/image_volumes/Allen-CCF-2020/20230630 /shared/Data/abc_download_root/image_volumes/Allen-CCF-2020/20230630\n",
      "time taken:  0.011111058999999646\n",
      "aws s3 sync --no-sign-request s3://allen-brain-cell-atlas/image_volumes/MERFISH-C57BL6J-638850-CCF/20230630 /shared/Data/abc_download_root/image_volumes/MERFISH-C57BL6J-638850-CCF/20230630\n",
      "time taken:  0.0045148890000001884\n"
     ]
    }
   ],
   "source": [
    "for r in manifest['directory_listing'] :\n",
    "    \n",
    "    r_dict =  manifest['directory_listing'][r]\n",
    "    \n",
    "    for d in r_dict['directories'] :\n",
    "        \n",
    "        if d != 'image_volumes' :\n",
    "            continue\n",
    "        d_dict = r_dict['directories'][d]\n",
    "        local_path = os.path.join( download_base, d_dict['relative_path'])\n",
    "        local_path = pathlib.Path( local_path )\n",
    "        remote_path = manifest['resource_uri'] + d_dict['relative_path']\n",
    "        \n",
    "        command = \"aws s3 sync --no-sign-request %s %s\" % (remote_path, local_path)\n",
    "        print(command)\n",
    "        \n",
    "        start = time.process_time()\n",
    "        # Uncomment to download directories\n",
    "        result = subprocess.run(command.split(),stdout=subprocess.PIPE)\n",
    "        print(\"time taken: \", time.process_time() - start)\n",
    "  "
   ]
  }
 ],
 "metadata": {
  "kernelspec": {
   "display_name": "scverse",
   "language": "python",
   "name": "scverse"
  },
  "language_info": {
   "codemirror_mode": {
    "name": "ipython",
    "version": 3
   },
   "file_extension": ".py",
   "mimetype": "text/x-python",
   "name": "python",
   "nbconvert_exporter": "python",
   "pygments_lexer": "ipython3",
   "version": "3.10.9"
  }
 },
 "nbformat": 4,
 "nbformat_minor": 5
}
