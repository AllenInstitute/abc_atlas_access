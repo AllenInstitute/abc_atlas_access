{
 "cells": [
  {
   "cell_type": "markdown",
   "metadata": {},
   "source": [
    "# Getting started\n",
    "\n",
    "In the current release (Summer 2023), the Allen Brain Cell Atlas includes :\n",
    "* 1.7 million single cell transcriptomes spanning the whole adult mouse brain using the 10Xv2 method (**WMB-10Xv2**)\n",
    "* 2.3 million single cell transcriptomes spanning the whole adult mouse brain using the 10Xv3 method (**WMB-10Xv3**)\n",
    "* Clustering analysis of 4.0 million single cell transcriptomes spanning the whole adult mouse brain combining the 10Xv2 and 10Xv3 datasets (**WMB-10X**)\n",
    "* A five level whole adult mouse brain taxonomy of cell types (**WMB-taxonomy**)\n",
    "* 4.0 million cell spatial transcriptomics dataset spanning a single adult mouse brain with a 500 gene panel and mapped to the whole mouse brain taxonomy (**MERFISH-C57BL6J-638850**)\n",
    "\n",
    "\n",
    "Data associated with the Allen Brain Cell Atlas is hosted on Amazon Web Services (AWS) in an S3 bucket as a AWS Public Dataset. \n",
    "No account or login is required. The S3 bucket is located here [arn:aws:s3:::allen-brain-cell-atlas](https://allen-brain-cell-atlas.s3.us-west-2.amazonaws.com/index.html).\n",
    "\n",
    "Each release has an associated **manifest.json** which list all the specific version of directories and files that are part of the release. We recommend using the manifest as the starting point of data download and usage.\n",
    "\n",
    "Expression matrices are stored in the [anndata h5ad format](https://anndata.readthedocs.io/en/latest/) and needs to be downloaded to a local file system for usage."
   ]
  },
  {
   "cell_type": "code",
   "execution_count": 2,
   "metadata": {},
   "outputs": [],
   "source": [
    "import requests\n",
    "import json\n",
    "import os"
   ]
  },
  {
   "cell_type": "markdown",
   "metadata": {},
   "source": [
    "Let's open the manifest file associated with the current release."
   ]
  },
  {
   "cell_type": "code",
   "execution_count": 3,
   "metadata": {},
   "outputs": [
    {
     "name": "stdout",
     "output_type": "stream",
     "text": [
      "version:  20230630\n"
     ]
    }
   ],
   "source": [
    "url = 'https://allen-brain-cell-atlas.s3-us-west-2.amazonaws.com/releases/20230630/manifest.json'\n",
    "manifest = json.loads(requests.get(url).text)\n",
    "print(\"version: \", manifest['version'])"
   ]
  },
  {
   "cell_type": "markdown",
   "metadata": {},
   "source": [
    "At the top level, the manifest consists of the release *version* tag, S3 *resource_uri*,  dictionaries *directory_listing* and *file_listing*. A simple option to download data is to use the **AWS Command Line Interface ([AWS CLI](https://aws.amazon.com/cli/))** to download specific directories. All the example notebooks in this repository assumes that data has been downloaded locally in the same file organization as specified by the \"relative_path\" field in the manifest."
   ]
  },
  {
   "cell_type": "code",
   "execution_count": 4,
   "metadata": {},
   "outputs": [
    {
     "name": "stdout",
     "output_type": "stream",
     "text": [
      "version: 20230630\n",
      "resource_uri: s3://allen-brain-cell-atlas/\n"
     ]
    }
   ],
   "source": [
    "manifest.keys()\n",
    "print(\"version:\",manifest['version'])\n",
    "print(\"resource_uri:\",manifest['resource_uri'])"
   ]
  },
  {
   "cell_type": "code",
   "execution_count": 5,
   "metadata": {},
   "outputs": [
    {
     "data": {
      "text/plain": [
       "dict_keys(['MERFISH-C57BL6J-638850', 'WMB-10Xv2', 'WMB-10Xv3', 'WMB-10X', 'WMB-taxonomy'])"
      ]
     },
     "execution_count": 5,
     "metadata": {},
     "output_type": "execute_result"
    }
   ],
   "source": [
    "manifest['directory_listing'].keys()"
   ]
  },
  {
   "cell_type": "markdown",
   "metadata": {},
   "source": [
    "Let look at the information associated with the spatial transcriptomics dataset **MERFISH-C57BL6J-638850**. This dataset has two related directories: *expression_matrices* containing a set of h5ad files and *metadata* containing a set of csv files. Use the *view_link* url to browse the directories on a web-browser."
   ]
  },
  {
   "cell_type": "code",
   "execution_count": 6,
   "metadata": {},
   "outputs": [
    {
     "data": {
      "text/plain": [
       "{'expression_matrices': {'version': '20230630',\n",
       "  'relative_path': 'expression_matrices/MERFISH-C57BL6J-638850/20230630',\n",
       "  'url': 'https://allen-brain-cell-atlas.s3.us-west-2.amazonaws.com/expression_matrices/MERFISH-C57BL6J-638850/20230630/',\n",
       "  'view_link': 'https://allen-brain-cell-atlas.s3.us-west-2.amazonaws.com/index.html#expression_matrices/MERFISH-C57BL6J-638850/20230630/'},\n",
       " 'metadata': {'version': '20230630',\n",
       "  'relative_path': 'metadata/MERFISH-C57BL6J-638850/20230630',\n",
       "  'url': 'https://allen-brain-cell-atlas.s3.us-west-2.amazonaws.com/metadata/MERFISH-C57BL6J-638850/20230630/',\n",
       "  'view_link': 'https://allen-brain-cell-atlas.s3.us-west-2.amazonaws.com/index.html#metadata/MERFISH-C57BL6J-638850/20230630/'}}"
      ]
     },
     "execution_count": 6,
     "metadata": {},
     "output_type": "execute_result"
    }
   ],
   "source": [
    "directories = manifest['directory_listing']['MERFISH-C57BL6J-638850']['directories']\n",
    "directories"
   ]
  },
  {
   "cell_type": "code",
   "execution_count": 7,
   "metadata": {},
   "outputs": [
    {
     "name": "stdout",
     "output_type": "stream",
     "text": [
      "https://allen-brain-cell-atlas.s3.us-west-2.amazonaws.com/index.html#expression_matrices/MERFISH-C57BL6J-638850/20230630/\n",
      "https://allen-brain-cell-atlas.s3.us-west-2.amazonaws.com/index.html#metadata/MERFISH-C57BL6J-638850/20230630/\n"
     ]
    }
   ],
   "source": [
    "print(directories['expression_matrices']['view_link'])\n",
    "print(directories['metadata']['view_link'])"
   ]
  },
  {
   "cell_type": "markdown",
   "metadata": {},
   "source": [
    "Suppose you would like to download data to *~/temp_download_root*, you can construct **[AWS CLI](https://aws.amazon.com/cli/)** commands using the following pattern"
   ]
  },
  {
   "cell_type": "code",
   "execution_count": 8,
   "metadata": {},
   "outputs": [
    {
     "name": "stdout",
     "output_type": "stream",
     "text": [
      "mkdir -p ./my_download_root/metadata/MERFISH-C57BL6J-638850/20230630\n",
      "aws s3 sync --no-sign-request s3://allen-brain-cell-atlas/metadata/MERFISH-C57BL6J-638850/20230630 ./my_download_root/metadata/MERFISH-C57BL6J-638850/20230630\n"
     ]
    }
   ],
   "source": [
    "download_root = './my_download_root'\n",
    "\n",
    "local_path = os.path.join( download_root, directories['metadata']['relative_path'])\n",
    "remote_path = manifest['resource_uri'] + directories['metadata']['relative_path']\n",
    "\n",
    "command = \"mkdir -p %s\" % (local_path)\n",
    "print(command)\n",
    "command = \"aws s3 sync --no-sign-request %s %s\" % (remote_path, local_path)\n",
    "print(command)"
   ]
  },
  {
   "cell_type": "markdown",
   "metadata": {},
   "source": [
    "Here is simple loop to generate the set of commands to download all the directories for the release to a local file system than maintains the structures defined in the manifest."
   ]
  },
  {
   "cell_type": "code",
   "execution_count": 9,
   "metadata": {},
   "outputs": [
    {
     "name": "stdout",
     "output_type": "stream",
     "text": [
      "mkdir -p ./my_download_root/expression_matrices/MERFISH-C57BL6J-638850/20230630\n",
      "aws s3 sync --no-sign-request s3://allen-brain-cell-atlas/expression_matrices/MERFISH-C57BL6J-638850/20230630 ./my_download_root/expression_matrices/MERFISH-C57BL6J-638850/20230630\n",
      "mkdir -p ./my_download_root/metadata/MERFISH-C57BL6J-638850/20230630\n",
      "aws s3 sync --no-sign-request s3://allen-brain-cell-atlas/metadata/MERFISH-C57BL6J-638850/20230630 ./my_download_root/metadata/MERFISH-C57BL6J-638850/20230630\n",
      "mkdir -p ./my_download_root/expression_matrices/WMB-10Xv2/20230630\n",
      "aws s3 sync --no-sign-request s3://allen-brain-cell-atlas/expression_matrices/WMB-10Xv2/20230630 ./my_download_root/expression_matrices/WMB-10Xv2/20230630\n",
      "mkdir -p ./my_download_root/expression_matrices/WMB-10Xv3/20230630\n",
      "aws s3 sync --no-sign-request s3://allen-brain-cell-atlas/expression_matrices/WMB-10Xv3/20230630 ./my_download_root/expression_matrices/WMB-10Xv3/20230630\n",
      "mkdir -p ./my_download_root/metadata/WMB-10X/20230630\n",
      "aws s3 sync --no-sign-request s3://allen-brain-cell-atlas/metadata/WMB-10X/20230630 ./my_download_root/metadata/WMB-10X/20230630\n",
      "mkdir -p ./my_download_root/metadata/WMB-taxonomy/20230630\n",
      "aws s3 sync --no-sign-request s3://allen-brain-cell-atlas/metadata/WMB-taxonomy/20230630 ./my_download_root/metadata/WMB-taxonomy/20230630\n"
     ]
    }
   ],
   "source": [
    "for dataset in manifest['directory_listing'] :\n",
    "    \n",
    "    dataset_dict =  manifest['directory_listing']\n",
    "    \n",
    "    for directory in dataset_dict[dataset]['directories'] :\n",
    "        \n",
    "        directory_dict = dataset_dict[dataset]['directories'][directory]\n",
    "        \n",
    "        local_path = os.path.join( download_root, directory_dict['relative_path'])\n",
    "        remote_path = manifest['resource_uri'] + directory_dict['relative_path']\n",
    "\n",
    "        command = \"mkdir -p %s\" % (local_path)\n",
    "        print(command)\n",
    "        command = \"aws s3 sync --no-sign-request %s %s\" % (remote_path, local_path)\n",
    "        print(command)\n",
    "        "
   ]
  },
  {
   "cell_type": "code",
   "execution_count": null,
   "metadata": {},
   "outputs": [],
   "source": []
  },
  {
   "cell_type": "code",
   "execution_count": null,
   "metadata": {},
   "outputs": [],
   "source": []
  }
 ],
 "metadata": {
  "kernelspec": {
   "display_name": "Python 3",
   "language": "python",
   "name": "python3"
  },
  "language_info": {
   "codemirror_mode": {
    "name": "ipython",
    "version": 3
   },
   "file_extension": ".py",
   "mimetype": "text/x-python",
   "name": "python",
   "nbconvert_exporter": "python",
   "pygments_lexer": "ipython3",
   "version": "3.8.5"
  }
 },
 "nbformat": 4,
 "nbformat_minor": 4
}
