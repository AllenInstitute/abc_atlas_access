{
 "cells": [
  {
   "cell_type": "markdown",
   "metadata": {},
   "source": [
    "# 10x scRNA-seq gene expression data\n",
    "\n",
    "To efficiently handle data transfer and download this large > 4 million cell dataset, we provide the 10x gene expression data divided into 19 packages where cells are grouped by method (10Xv2, 10Xv3) and the broad anatomical region the cells were dissected from.\n",
    "\n",
    "The purpose of this notebook is to provide an overview of the file organization and how to recombine the data through example use cases."
   ]
  },
  {
   "cell_type": "code",
   "execution_count": 1,
   "metadata": {},
   "outputs": [],
   "source": [
    "import os\n",
    "import pandas as pd\n",
    "import numpy as np\n",
    "import anndata\n",
    "import time"
   ]
  },
  {
   "cell_type": "code",
   "execution_count": 2,
   "metadata": {},
   "outputs": [],
   "source": [
    "input_base = '/allen/programs/celltypes/workgroups/rnaseqanalysis/lydian/ABC_handoff'\n",
    "input_directory = os.path.join( input_base, 'metadata', '20230630', '10x-scRNA-seq' )\n",
    "\n",
    "view_directory = os.path.join( input_directory, 'views')\n",
    "cache_views = False\n",
    "if cache_views :\n",
    "    os.makedirs( view_directory, exist_ok=True )"
   ]
  },
  {
   "cell_type": "markdown",
   "metadata": {},
   "source": [
    "## Data overview\n",
    "### Cell metadata\n",
    "\n",
    "Essential cell metadata is stored as a dataframe. Each row represents one cell indexed by a *cell label*. The *cell label* is the concatenation of barcode and name of the sample. In this context, the sample is the *barcoded cell sample* that represents a single load into one port of the 10x Chromium. Note that the barcode is only unique within a single *barcoded cell sample* and that the same barcode can be reused. The *barcoded cell sample* label or name is unique in the database.\n",
    "\n",
    "Each cell is associated with a *library label*, *library method*, *donor label*, *donor genotype*, *donor sex*, dissection *region of interest acronym\", the corresponding coarse *anatomical division label* and the *matrix_prefix* identifying which data package this cell is part of. Further, each cell is associated with a *cluster alias* representing which cluster this cell is a member of.\n"
   ]
  },
  {
   "cell_type": "code",
   "execution_count": 3,
   "metadata": {},
   "outputs": [
    {
     "name": "stdout",
     "output_type": "stream",
     "text": [
      "Number of cells =  4057701\n"
     ]
    },
    {
     "data": {
      "text/html": [
       "<div>\n",
       "<style scoped>\n",
       "    .dataframe tbody tr th:only-of-type {\n",
       "        vertical-align: middle;\n",
       "    }\n",
       "\n",
       "    .dataframe tbody tr th {\n",
       "        vertical-align: top;\n",
       "    }\n",
       "\n",
       "    .dataframe thead th {\n",
       "        text-align: right;\n",
       "    }\n",
       "</style>\n",
       "<table border=\"1\" class=\"dataframe\">\n",
       "  <thead>\n",
       "    <tr style=\"text-align: right;\">\n",
       "      <th></th>\n",
       "      <th>library_label</th>\n",
       "      <th>anatomical_division_label</th>\n",
       "      <th>cluster_alias</th>\n",
       "      <th>library_method</th>\n",
       "      <th>region_of_interest_acronym</th>\n",
       "      <th>donor_label</th>\n",
       "      <th>donor_genotype</th>\n",
       "      <th>donor_sex</th>\n",
       "      <th>matrix_prefix</th>\n",
       "    </tr>\n",
       "    <tr>\n",
       "      <th>cell_label</th>\n",
       "      <th></th>\n",
       "      <th></th>\n",
       "      <th></th>\n",
       "      <th></th>\n",
       "      <th></th>\n",
       "      <th></th>\n",
       "      <th></th>\n",
       "      <th></th>\n",
       "      <th></th>\n",
       "    </tr>\n",
       "  </thead>\n",
       "  <tbody>\n",
       "    <tr>\n",
       "      <th>GACTGCGAGCTGCAAG-020_C01</th>\n",
       "      <td>L8TX_180406_01_F01</td>\n",
       "      <td>HPF</td>\n",
       "      <td>1</td>\n",
       "      <td>10Xv2</td>\n",
       "      <td>RHP</td>\n",
       "      <td>Snap25-IRES2-Cre;Ai14-381293</td>\n",
       "      <td>Snap25-IRES2-Cre/wt;Ai14(RCL-tdT)/wt</td>\n",
       "      <td>M</td>\n",
       "      <td>WMB-10Xv2-HPF</td>\n",
       "    </tr>\n",
       "    <tr>\n",
       "      <th>CGATGTAGTGCTAGCC-021_D01</th>\n",
       "      <td>L8TX_180406_01_C02</td>\n",
       "      <td>HPF</td>\n",
       "      <td>1</td>\n",
       "      <td>10Xv2</td>\n",
       "      <td>RHP</td>\n",
       "      <td>Snap25-IRES2-Cre;Ai14-381295</td>\n",
       "      <td>Snap25-IRES2-Cre/wt;Ai14(RCL-tdT)/wt</td>\n",
       "      <td>F</td>\n",
       "      <td>WMB-10Xv2-HPF</td>\n",
       "    </tr>\n",
       "    <tr>\n",
       "      <th>CACATAGCATGGTTGT-020_D01</th>\n",
       "      <td>L8TX_180406_01_B02</td>\n",
       "      <td>HPF</td>\n",
       "      <td>1</td>\n",
       "      <td>10Xv2</td>\n",
       "      <td>RHP</td>\n",
       "      <td>Snap25-IRES2-Cre;Ai14-381293</td>\n",
       "      <td>Snap25-IRES2-Cre/wt;Ai14(RCL-tdT)/wt</td>\n",
       "      <td>M</td>\n",
       "      <td>WMB-10Xv2-HPF</td>\n",
       "    </tr>\n",
       "    <tr>\n",
       "      <th>CCTAAAGGTGACCAAG-020_C01</th>\n",
       "      <td>L8TX_180406_01_F01</td>\n",
       "      <td>HPF</td>\n",
       "      <td>1</td>\n",
       "      <td>10Xv2</td>\n",
       "      <td>RHP</td>\n",
       "      <td>Snap25-IRES2-Cre;Ai14-381293</td>\n",
       "      <td>Snap25-IRES2-Cre/wt;Ai14(RCL-tdT)/wt</td>\n",
       "      <td>M</td>\n",
       "      <td>WMB-10Xv2-HPF</td>\n",
       "    </tr>\n",
       "    <tr>\n",
       "      <th>CGGAGCTAGCTTTGGT-021_D01</th>\n",
       "      <td>L8TX_180406_01_C02</td>\n",
       "      <td>HPF</td>\n",
       "      <td>1</td>\n",
       "      <td>10Xv2</td>\n",
       "      <td>RHP</td>\n",
       "      <td>Snap25-IRES2-Cre;Ai14-381295</td>\n",
       "      <td>Snap25-IRES2-Cre/wt;Ai14(RCL-tdT)/wt</td>\n",
       "      <td>F</td>\n",
       "      <td>WMB-10Xv2-HPF</td>\n",
       "    </tr>\n",
       "  </tbody>\n",
       "</table>\n",
       "</div>"
      ],
      "text/plain": [
       "                               library_label anatomical_division_label  \\\n",
       "cell_label                                                               \n",
       "GACTGCGAGCTGCAAG-020_C01  L8TX_180406_01_F01                       HPF   \n",
       "CGATGTAGTGCTAGCC-021_D01  L8TX_180406_01_C02                       HPF   \n",
       "CACATAGCATGGTTGT-020_D01  L8TX_180406_01_B02                       HPF   \n",
       "CCTAAAGGTGACCAAG-020_C01  L8TX_180406_01_F01                       HPF   \n",
       "CGGAGCTAGCTTTGGT-021_D01  L8TX_180406_01_C02                       HPF   \n",
       "\n",
       "                          cluster_alias library_method  \\\n",
       "cell_label                                               \n",
       "GACTGCGAGCTGCAAG-020_C01              1          10Xv2   \n",
       "CGATGTAGTGCTAGCC-021_D01              1          10Xv2   \n",
       "CACATAGCATGGTTGT-020_D01              1          10Xv2   \n",
       "CCTAAAGGTGACCAAG-020_C01              1          10Xv2   \n",
       "CGGAGCTAGCTTTGGT-021_D01              1          10Xv2   \n",
       "\n",
       "                         region_of_interest_acronym  \\\n",
       "cell_label                                            \n",
       "GACTGCGAGCTGCAAG-020_C01                        RHP   \n",
       "CGATGTAGTGCTAGCC-021_D01                        RHP   \n",
       "CACATAGCATGGTTGT-020_D01                        RHP   \n",
       "CCTAAAGGTGACCAAG-020_C01                        RHP   \n",
       "CGGAGCTAGCTTTGGT-021_D01                        RHP   \n",
       "\n",
       "                                           donor_label  \\\n",
       "cell_label                                               \n",
       "GACTGCGAGCTGCAAG-020_C01  Snap25-IRES2-Cre;Ai14-381293   \n",
       "CGATGTAGTGCTAGCC-021_D01  Snap25-IRES2-Cre;Ai14-381295   \n",
       "CACATAGCATGGTTGT-020_D01  Snap25-IRES2-Cre;Ai14-381293   \n",
       "CCTAAAGGTGACCAAG-020_C01  Snap25-IRES2-Cre;Ai14-381293   \n",
       "CGGAGCTAGCTTTGGT-021_D01  Snap25-IRES2-Cre;Ai14-381295   \n",
       "\n",
       "                                                donor_genotype donor_sex  \\\n",
       "cell_label                                                                 \n",
       "GACTGCGAGCTGCAAG-020_C01  Snap25-IRES2-Cre/wt;Ai14(RCL-tdT)/wt         M   \n",
       "CGATGTAGTGCTAGCC-021_D01  Snap25-IRES2-Cre/wt;Ai14(RCL-tdT)/wt         F   \n",
       "CACATAGCATGGTTGT-020_D01  Snap25-IRES2-Cre/wt;Ai14(RCL-tdT)/wt         M   \n",
       "CCTAAAGGTGACCAAG-020_C01  Snap25-IRES2-Cre/wt;Ai14(RCL-tdT)/wt         M   \n",
       "CGGAGCTAGCTTTGGT-021_D01  Snap25-IRES2-Cre/wt;Ai14(RCL-tdT)/wt         F   \n",
       "\n",
       "                          matrix_prefix  \n",
       "cell_label                               \n",
       "GACTGCGAGCTGCAAG-020_C01  WMB-10Xv2-HPF  \n",
       "CGATGTAGTGCTAGCC-021_D01  WMB-10Xv2-HPF  \n",
       "CACATAGCATGGTTGT-020_D01  WMB-10Xv2-HPF  \n",
       "CCTAAAGGTGACCAAG-020_C01  WMB-10Xv2-HPF  \n",
       "CGGAGCTAGCTTTGGT-021_D01  WMB-10Xv2-HPF  "
      ]
     },
     "execution_count": 3,
     "metadata": {},
     "output_type": "execute_result"
    }
   ],
   "source": [
    "file = os.path.join( input_directory, 'cell_metadata.csv')\n",
    "cell = pd.read_csv(file)\n",
    "cell.set_index('cell_label',inplace=True)\n",
    "print(\"Number of cells = \", len(cell))\n",
    "cell.head(5)"
   ]
  },
  {
   "cell_type": "markdown",
   "metadata": {},
   "source": [
    "We can use panadas groupby function to see how many unique items are associated for each field and list them out if the number of items is small."
   ]
  },
  {
   "cell_type": "code",
   "execution_count": 4,
   "metadata": {},
   "outputs": [],
   "source": [
    "def print_column_info(df) :\n",
    "    \n",
    "    for c in df.columns :\n",
    "        grouped = df[[c]].groupby(c).count()\n",
    "        members = ''\n",
    "        if len(grouped) < 30 :\n",
    "            members = str(list(grouped.index))\n",
    "        print(\"Number of unique %s = %d %s\" % (c,len(grouped),members))\n",
    "        "
   ]
  },
  {
   "cell_type": "code",
   "execution_count": 5,
   "metadata": {},
   "outputs": [
    {
     "name": "stdout",
     "output_type": "stream",
     "text": [
      "Number of unique library_label = 781 \n",
      "Number of unique anatomical_division_label = 12 ['CB', 'CTXsp', 'HPF', 'HY', 'Isocortex', 'MB', 'MY', 'OLF', 'P', 'PAL', 'STR', 'TH']\n",
      "Number of unique cluster_alias = 5196 \n",
      "Number of unique library_method = 2 ['10Xv2', '10Xv3']\n",
      "Number of unique region_of_interest_acronym = 29 ['ACA', 'AI', 'AUD', 'AUD-TEa-PERI-ECT', 'CB', 'CTXsp', 'ENT', 'HIP', 'HY', 'LSX', 'MB', 'MO-FRP', 'MOp', 'MY', 'OLF', 'P', 'PAL', 'PL-ILA-ORB', 'RHP', 'RSP', 'SS-GU-VISC', 'SSp', 'STRd', 'STRv', 'TEa-PERI-ECT', 'TH', 'VIS', 'VIS-PTLp', 'sAMY']\n",
      "Number of unique donor_label = 318 \n",
      "Number of unique donor_genotype = 4 ['Ai14(RCL-tdT)/wt', 'Gad2-IRES-Cre/wt;Ai14(RCL-tdT)/wt', 'Slc32a1-IRES-Cre/wt;Ai14(RCL-tdT)/wt', 'Snap25-IRES2-Cre/wt;Ai14(RCL-tdT)/wt']\n",
      "Number of unique donor_sex = 2 ['F', 'M']\n",
      "Number of unique matrix_prefix = 19 ['WMB-10Xv2-CTXsp', 'WMB-10Xv2-HPF', 'WMB-10Xv2-HY', 'WMB-10Xv2-Isocortex', 'WMB-10Xv2-MB', 'WMB-10Xv2-OLF', 'WMB-10Xv2-TH', 'WMB-10Xv3-CB', 'WMB-10Xv3-CTXsp', 'WMB-10Xv3-HPF', 'WMB-10Xv3-HY', 'WMB-10Xv3-Isocortex', 'WMB-10Xv3-MB', 'WMB-10Xv3-MY', 'WMB-10Xv3-OLF', 'WMB-10Xv3-P', 'WMB-10Xv3-PAL', 'WMB-10Xv3-STR', 'WMB-10Xv3-TH']\n"
     ]
    }
   ],
   "source": [
    "print_column_info(cell)"
   ]
  },
  {
   "cell_type": "markdown",
   "metadata": {},
   "source": [
    "We can also bring in the pivot table from the \"cluster annotation tutorial\" to associate each cell with terms at each cell type classification level."
   ]
  },
  {
   "cell_type": "code",
   "execution_count": 6,
   "metadata": {},
   "outputs": [
    {
     "data": {
      "text/html": [
       "<div>\n",
       "<style scoped>\n",
       "    .dataframe tbody tr th:only-of-type {\n",
       "        vertical-align: middle;\n",
       "    }\n",
       "\n",
       "    .dataframe tbody tr th {\n",
       "        vertical-align: top;\n",
       "    }\n",
       "\n",
       "    .dataframe thead th {\n",
       "        text-align: right;\n",
       "    }\n",
       "</style>\n",
       "<table border=\"1\" class=\"dataframe\">\n",
       "  <thead>\n",
       "    <tr style=\"text-align: right;\">\n",
       "      <th></th>\n",
       "      <th>neurotransmitter</th>\n",
       "      <th>division</th>\n",
       "      <th>class</th>\n",
       "      <th>subclass</th>\n",
       "      <th>supertype</th>\n",
       "      <th>cluster</th>\n",
       "    </tr>\n",
       "    <tr>\n",
       "      <th>cluster_alias</th>\n",
       "      <th></th>\n",
       "      <th></th>\n",
       "      <th></th>\n",
       "      <th></th>\n",
       "      <th></th>\n",
       "      <th></th>\n",
       "    </tr>\n",
       "  </thead>\n",
       "  <tbody>\n",
       "    <tr>\n",
       "      <th>1</th>\n",
       "      <td>Glut</td>\n",
       "      <td>1 Pallium glutamatergic</td>\n",
       "      <td>01 IT-ET Glut</td>\n",
       "      <td>018 L2 IT PPP-APr Glut</td>\n",
       "      <td>0081 L2 IT PPP-APr Glut_3</td>\n",
       "      <td>0327 L2 IT PPP-APr Glut_3</td>\n",
       "    </tr>\n",
       "    <tr>\n",
       "      <th>2</th>\n",
       "      <td>Glut</td>\n",
       "      <td>1 Pallium glutamatergic</td>\n",
       "      <td>01 IT-ET Glut</td>\n",
       "      <td>018 L2 IT PPP-APr Glut</td>\n",
       "      <td>0081 L2 IT PPP-APr Glut_3</td>\n",
       "      <td>0328 L2 IT PPP-APr Glut_3</td>\n",
       "    </tr>\n",
       "    <tr>\n",
       "      <th>3</th>\n",
       "      <td>Glut</td>\n",
       "      <td>1 Pallium glutamatergic</td>\n",
       "      <td>01 IT-ET Glut</td>\n",
       "      <td>018 L2 IT PPP-APr Glut</td>\n",
       "      <td>0080 L2 IT PPP-APr Glut_2</td>\n",
       "      <td>0323 L2 IT PPP-APr Glut_2</td>\n",
       "    </tr>\n",
       "    <tr>\n",
       "      <th>4</th>\n",
       "      <td>Glut</td>\n",
       "      <td>1 Pallium glutamatergic</td>\n",
       "      <td>01 IT-ET Glut</td>\n",
       "      <td>018 L2 IT PPP-APr Glut</td>\n",
       "      <td>0080 L2 IT PPP-APr Glut_2</td>\n",
       "      <td>0324 L2 IT PPP-APr Glut_2</td>\n",
       "    </tr>\n",
       "    <tr>\n",
       "      <th>5</th>\n",
       "      <td>Glut</td>\n",
       "      <td>1 Pallium glutamatergic</td>\n",
       "      <td>01 IT-ET Glut</td>\n",
       "      <td>018 L2 IT PPP-APr Glut</td>\n",
       "      <td>0080 L2 IT PPP-APr Glut_2</td>\n",
       "      <td>0326 L2 IT PPP-APr Glut_2</td>\n",
       "    </tr>\n",
       "  </tbody>\n",
       "</table>\n",
       "</div>"
      ],
      "text/plain": [
       "              neurotransmitter                 division          class  \\\n",
       "cluster_alias                                                            \n",
       "1                         Glut  1 Pallium glutamatergic  01 IT-ET Glut   \n",
       "2                         Glut  1 Pallium glutamatergic  01 IT-ET Glut   \n",
       "3                         Glut  1 Pallium glutamatergic  01 IT-ET Glut   \n",
       "4                         Glut  1 Pallium glutamatergic  01 IT-ET Glut   \n",
       "5                         Glut  1 Pallium glutamatergic  01 IT-ET Glut   \n",
       "\n",
       "                             subclass                  supertype  \\\n",
       "cluster_alias                                                      \n",
       "1              018 L2 IT PPP-APr Glut  0081 L2 IT PPP-APr Glut_3   \n",
       "2              018 L2 IT PPP-APr Glut  0081 L2 IT PPP-APr Glut_3   \n",
       "3              018 L2 IT PPP-APr Glut  0080 L2 IT PPP-APr Glut_2   \n",
       "4              018 L2 IT PPP-APr Glut  0080 L2 IT PPP-APr Glut_2   \n",
       "5              018 L2 IT PPP-APr Glut  0080 L2 IT PPP-APr Glut_2   \n",
       "\n",
       "                                 cluster  \n",
       "cluster_alias                             \n",
       "1              0327 L2 IT PPP-APr Glut_3  \n",
       "2              0328 L2 IT PPP-APr Glut_3  \n",
       "3              0323 L2 IT PPP-APr Glut_2  \n",
       "4              0324 L2 IT PPP-APr Glut_2  \n",
       "5              0326 L2 IT PPP-APr Glut_2  "
      ]
     },
     "execution_count": 6,
     "metadata": {},
     "output_type": "execute_result"
    }
   ],
   "source": [
    "file = os.path.join( input_directory, '..', 'cluster_annotation', 'views',\n",
    "             'cluster_to_cluster_annotation_membership_pivoted.csv')\n",
    "cluster_details = pd.read_csv(file)\n",
    "cluster_details.set_index('cluster_alias', inplace=True)\n",
    "cluster_details.head(5)"
   ]
  },
  {
   "cell_type": "code",
   "execution_count": 7,
   "metadata": {},
   "outputs": [
    {
     "data": {
      "text/html": [
       "<div>\n",
       "<style scoped>\n",
       "    .dataframe tbody tr th:only-of-type {\n",
       "        vertical-align: middle;\n",
       "    }\n",
       "\n",
       "    .dataframe tbody tr th {\n",
       "        vertical-align: top;\n",
       "    }\n",
       "\n",
       "    .dataframe thead th {\n",
       "        text-align: right;\n",
       "    }\n",
       "</style>\n",
       "<table border=\"1\" class=\"dataframe\">\n",
       "  <thead>\n",
       "    <tr style=\"text-align: right;\">\n",
       "      <th></th>\n",
       "      <th>library_label</th>\n",
       "      <th>anatomical_division_label</th>\n",
       "      <th>cluster_alias</th>\n",
       "      <th>library_method</th>\n",
       "      <th>region_of_interest_acronym</th>\n",
       "      <th>donor_label</th>\n",
       "      <th>donor_genotype</th>\n",
       "      <th>donor_sex</th>\n",
       "      <th>matrix_prefix</th>\n",
       "      <th>neurotransmitter</th>\n",
       "      <th>division</th>\n",
       "      <th>class</th>\n",
       "      <th>subclass</th>\n",
       "      <th>supertype</th>\n",
       "      <th>cluster</th>\n",
       "    </tr>\n",
       "    <tr>\n",
       "      <th>cell_label</th>\n",
       "      <th></th>\n",
       "      <th></th>\n",
       "      <th></th>\n",
       "      <th></th>\n",
       "      <th></th>\n",
       "      <th></th>\n",
       "      <th></th>\n",
       "      <th></th>\n",
       "      <th></th>\n",
       "      <th></th>\n",
       "      <th></th>\n",
       "      <th></th>\n",
       "      <th></th>\n",
       "      <th></th>\n",
       "      <th></th>\n",
       "    </tr>\n",
       "  </thead>\n",
       "  <tbody>\n",
       "    <tr>\n",
       "      <th>GACTGCGAGCTGCAAG-020_C01</th>\n",
       "      <td>L8TX_180406_01_F01</td>\n",
       "      <td>HPF</td>\n",
       "      <td>1</td>\n",
       "      <td>10Xv2</td>\n",
       "      <td>RHP</td>\n",
       "      <td>Snap25-IRES2-Cre;Ai14-381293</td>\n",
       "      <td>Snap25-IRES2-Cre/wt;Ai14(RCL-tdT)/wt</td>\n",
       "      <td>M</td>\n",
       "      <td>WMB-10Xv2-HPF</td>\n",
       "      <td>Glut</td>\n",
       "      <td>1 Pallium glutamatergic</td>\n",
       "      <td>01 IT-ET Glut</td>\n",
       "      <td>018 L2 IT PPP-APr Glut</td>\n",
       "      <td>0081 L2 IT PPP-APr Glut_3</td>\n",
       "      <td>0327 L2 IT PPP-APr Glut_3</td>\n",
       "    </tr>\n",
       "    <tr>\n",
       "      <th>CGATGTAGTGCTAGCC-021_D01</th>\n",
       "      <td>L8TX_180406_01_C02</td>\n",
       "      <td>HPF</td>\n",
       "      <td>1</td>\n",
       "      <td>10Xv2</td>\n",
       "      <td>RHP</td>\n",
       "      <td>Snap25-IRES2-Cre;Ai14-381295</td>\n",
       "      <td>Snap25-IRES2-Cre/wt;Ai14(RCL-tdT)/wt</td>\n",
       "      <td>F</td>\n",
       "      <td>WMB-10Xv2-HPF</td>\n",
       "      <td>Glut</td>\n",
       "      <td>1 Pallium glutamatergic</td>\n",
       "      <td>01 IT-ET Glut</td>\n",
       "      <td>018 L2 IT PPP-APr Glut</td>\n",
       "      <td>0081 L2 IT PPP-APr Glut_3</td>\n",
       "      <td>0327 L2 IT PPP-APr Glut_3</td>\n",
       "    </tr>\n",
       "    <tr>\n",
       "      <th>CACATAGCATGGTTGT-020_D01</th>\n",
       "      <td>L8TX_180406_01_B02</td>\n",
       "      <td>HPF</td>\n",
       "      <td>1</td>\n",
       "      <td>10Xv2</td>\n",
       "      <td>RHP</td>\n",
       "      <td>Snap25-IRES2-Cre;Ai14-381293</td>\n",
       "      <td>Snap25-IRES2-Cre/wt;Ai14(RCL-tdT)/wt</td>\n",
       "      <td>M</td>\n",
       "      <td>WMB-10Xv2-HPF</td>\n",
       "      <td>Glut</td>\n",
       "      <td>1 Pallium glutamatergic</td>\n",
       "      <td>01 IT-ET Glut</td>\n",
       "      <td>018 L2 IT PPP-APr Glut</td>\n",
       "      <td>0081 L2 IT PPP-APr Glut_3</td>\n",
       "      <td>0327 L2 IT PPP-APr Glut_3</td>\n",
       "    </tr>\n",
       "    <tr>\n",
       "      <th>CCTAAAGGTGACCAAG-020_C01</th>\n",
       "      <td>L8TX_180406_01_F01</td>\n",
       "      <td>HPF</td>\n",
       "      <td>1</td>\n",
       "      <td>10Xv2</td>\n",
       "      <td>RHP</td>\n",
       "      <td>Snap25-IRES2-Cre;Ai14-381293</td>\n",
       "      <td>Snap25-IRES2-Cre/wt;Ai14(RCL-tdT)/wt</td>\n",
       "      <td>M</td>\n",
       "      <td>WMB-10Xv2-HPF</td>\n",
       "      <td>Glut</td>\n",
       "      <td>1 Pallium glutamatergic</td>\n",
       "      <td>01 IT-ET Glut</td>\n",
       "      <td>018 L2 IT PPP-APr Glut</td>\n",
       "      <td>0081 L2 IT PPP-APr Glut_3</td>\n",
       "      <td>0327 L2 IT PPP-APr Glut_3</td>\n",
       "    </tr>\n",
       "    <tr>\n",
       "      <th>CGGAGCTAGCTTTGGT-021_D01</th>\n",
       "      <td>L8TX_180406_01_C02</td>\n",
       "      <td>HPF</td>\n",
       "      <td>1</td>\n",
       "      <td>10Xv2</td>\n",
       "      <td>RHP</td>\n",
       "      <td>Snap25-IRES2-Cre;Ai14-381295</td>\n",
       "      <td>Snap25-IRES2-Cre/wt;Ai14(RCL-tdT)/wt</td>\n",
       "      <td>F</td>\n",
       "      <td>WMB-10Xv2-HPF</td>\n",
       "      <td>Glut</td>\n",
       "      <td>1 Pallium glutamatergic</td>\n",
       "      <td>01 IT-ET Glut</td>\n",
       "      <td>018 L2 IT PPP-APr Glut</td>\n",
       "      <td>0081 L2 IT PPP-APr Glut_3</td>\n",
       "      <td>0327 L2 IT PPP-APr Glut_3</td>\n",
       "    </tr>\n",
       "  </tbody>\n",
       "</table>\n",
       "</div>"
      ],
      "text/plain": [
       "                               library_label anatomical_division_label  \\\n",
       "cell_label                                                               \n",
       "GACTGCGAGCTGCAAG-020_C01  L8TX_180406_01_F01                       HPF   \n",
       "CGATGTAGTGCTAGCC-021_D01  L8TX_180406_01_C02                       HPF   \n",
       "CACATAGCATGGTTGT-020_D01  L8TX_180406_01_B02                       HPF   \n",
       "CCTAAAGGTGACCAAG-020_C01  L8TX_180406_01_F01                       HPF   \n",
       "CGGAGCTAGCTTTGGT-021_D01  L8TX_180406_01_C02                       HPF   \n",
       "\n",
       "                          cluster_alias library_method  \\\n",
       "cell_label                                               \n",
       "GACTGCGAGCTGCAAG-020_C01              1          10Xv2   \n",
       "CGATGTAGTGCTAGCC-021_D01              1          10Xv2   \n",
       "CACATAGCATGGTTGT-020_D01              1          10Xv2   \n",
       "CCTAAAGGTGACCAAG-020_C01              1          10Xv2   \n",
       "CGGAGCTAGCTTTGGT-021_D01              1          10Xv2   \n",
       "\n",
       "                         region_of_interest_acronym  \\\n",
       "cell_label                                            \n",
       "GACTGCGAGCTGCAAG-020_C01                        RHP   \n",
       "CGATGTAGTGCTAGCC-021_D01                        RHP   \n",
       "CACATAGCATGGTTGT-020_D01                        RHP   \n",
       "CCTAAAGGTGACCAAG-020_C01                        RHP   \n",
       "CGGAGCTAGCTTTGGT-021_D01                        RHP   \n",
       "\n",
       "                                           donor_label  \\\n",
       "cell_label                                               \n",
       "GACTGCGAGCTGCAAG-020_C01  Snap25-IRES2-Cre;Ai14-381293   \n",
       "CGATGTAGTGCTAGCC-021_D01  Snap25-IRES2-Cre;Ai14-381295   \n",
       "CACATAGCATGGTTGT-020_D01  Snap25-IRES2-Cre;Ai14-381293   \n",
       "CCTAAAGGTGACCAAG-020_C01  Snap25-IRES2-Cre;Ai14-381293   \n",
       "CGGAGCTAGCTTTGGT-021_D01  Snap25-IRES2-Cre;Ai14-381295   \n",
       "\n",
       "                                                donor_genotype donor_sex  \\\n",
       "cell_label                                                                 \n",
       "GACTGCGAGCTGCAAG-020_C01  Snap25-IRES2-Cre/wt;Ai14(RCL-tdT)/wt         M   \n",
       "CGATGTAGTGCTAGCC-021_D01  Snap25-IRES2-Cre/wt;Ai14(RCL-tdT)/wt         F   \n",
       "CACATAGCATGGTTGT-020_D01  Snap25-IRES2-Cre/wt;Ai14(RCL-tdT)/wt         M   \n",
       "CCTAAAGGTGACCAAG-020_C01  Snap25-IRES2-Cre/wt;Ai14(RCL-tdT)/wt         M   \n",
       "CGGAGCTAGCTTTGGT-021_D01  Snap25-IRES2-Cre/wt;Ai14(RCL-tdT)/wt         F   \n",
       "\n",
       "                          matrix_prefix neurotransmitter  \\\n",
       "cell_label                                                 \n",
       "GACTGCGAGCTGCAAG-020_C01  WMB-10Xv2-HPF             Glut   \n",
       "CGATGTAGTGCTAGCC-021_D01  WMB-10Xv2-HPF             Glut   \n",
       "CACATAGCATGGTTGT-020_D01  WMB-10Xv2-HPF             Glut   \n",
       "CCTAAAGGTGACCAAG-020_C01  WMB-10Xv2-HPF             Glut   \n",
       "CGGAGCTAGCTTTGGT-021_D01  WMB-10Xv2-HPF             Glut   \n",
       "\n",
       "                                         division          class  \\\n",
       "cell_label                                                         \n",
       "GACTGCGAGCTGCAAG-020_C01  1 Pallium glutamatergic  01 IT-ET Glut   \n",
       "CGATGTAGTGCTAGCC-021_D01  1 Pallium glutamatergic  01 IT-ET Glut   \n",
       "CACATAGCATGGTTGT-020_D01  1 Pallium glutamatergic  01 IT-ET Glut   \n",
       "CCTAAAGGTGACCAAG-020_C01  1 Pallium glutamatergic  01 IT-ET Glut   \n",
       "CGGAGCTAGCTTTGGT-021_D01  1 Pallium glutamatergic  01 IT-ET Glut   \n",
       "\n",
       "                                        subclass                  supertype  \\\n",
       "cell_label                                                                    \n",
       "GACTGCGAGCTGCAAG-020_C01  018 L2 IT PPP-APr Glut  0081 L2 IT PPP-APr Glut_3   \n",
       "CGATGTAGTGCTAGCC-021_D01  018 L2 IT PPP-APr Glut  0081 L2 IT PPP-APr Glut_3   \n",
       "CACATAGCATGGTTGT-020_D01  018 L2 IT PPP-APr Glut  0081 L2 IT PPP-APr Glut_3   \n",
       "CCTAAAGGTGACCAAG-020_C01  018 L2 IT PPP-APr Glut  0081 L2 IT PPP-APr Glut_3   \n",
       "CGGAGCTAGCTTTGGT-021_D01  018 L2 IT PPP-APr Glut  0081 L2 IT PPP-APr Glut_3   \n",
       "\n",
       "                                            cluster  \n",
       "cell_label                                           \n",
       "GACTGCGAGCTGCAAG-020_C01  0327 L2 IT PPP-APr Glut_3  \n",
       "CGATGTAGTGCTAGCC-021_D01  0327 L2 IT PPP-APr Glut_3  \n",
       "CACATAGCATGGTTGT-020_D01  0327 L2 IT PPP-APr Glut_3  \n",
       "CCTAAAGGTGACCAAG-020_C01  0327 L2 IT PPP-APr Glut_3  \n",
       "CGGAGCTAGCTTTGGT-021_D01  0327 L2 IT PPP-APr Glut_3  "
      ]
     },
     "execution_count": 7,
     "metadata": {},
     "output_type": "execute_result"
    }
   ],
   "source": [
    "cell_extended = cell.join(cluster_details,on='cluster_alias')\n",
    "cell_extended.head(5)"
   ]
  },
  {
   "cell_type": "code",
   "execution_count": 8,
   "metadata": {},
   "outputs": [
    {
     "name": "stdout",
     "output_type": "stream",
     "text": [
      "Number of unique library_label = 781 \n",
      "Number of unique anatomical_division_label = 12 ['CB', 'CTXsp', 'HPF', 'HY', 'Isocortex', 'MB', 'MY', 'OLF', 'P', 'PAL', 'STR', 'TH']\n",
      "Number of unique cluster_alias = 5196 \n",
      "Number of unique library_method = 2 ['10Xv2', '10Xv3']\n",
      "Number of unique region_of_interest_acronym = 29 ['ACA', 'AI', 'AUD', 'AUD-TEa-PERI-ECT', 'CB', 'CTXsp', 'ENT', 'HIP', 'HY', 'LSX', 'MB', 'MO-FRP', 'MOp', 'MY', 'OLF', 'P', 'PAL', 'PL-ILA-ORB', 'RHP', 'RSP', 'SS-GU-VISC', 'SSp', 'STRd', 'STRv', 'TEa-PERI-ECT', 'TH', 'VIS', 'VIS-PTLp', 'sAMY']\n",
      "Number of unique donor_label = 318 \n",
      "Number of unique donor_genotype = 4 ['Ai14(RCL-tdT)/wt', 'Gad2-IRES-Cre/wt;Ai14(RCL-tdT)/wt', 'Slc32a1-IRES-Cre/wt;Ai14(RCL-tdT)/wt', 'Snap25-IRES2-Cre/wt;Ai14(RCL-tdT)/wt']\n",
      "Number of unique donor_sex = 2 ['F', 'M']\n",
      "Number of unique matrix_prefix = 19 ['WMB-10Xv2-CTXsp', 'WMB-10Xv2-HPF', 'WMB-10Xv2-HY', 'WMB-10Xv2-Isocortex', 'WMB-10Xv2-MB', 'WMB-10Xv2-OLF', 'WMB-10Xv2-TH', 'WMB-10Xv3-CB', 'WMB-10Xv3-CTXsp', 'WMB-10Xv3-HPF', 'WMB-10Xv3-HY', 'WMB-10Xv3-Isocortex', 'WMB-10Xv3-MB', 'WMB-10Xv3-MY', 'WMB-10Xv3-OLF', 'WMB-10Xv3-P', 'WMB-10Xv3-PAL', 'WMB-10Xv3-STR', 'WMB-10Xv3-TH']\n",
      "Number of unique neurotransmitter = 9 ['Chol', 'Dopa', 'GABA', 'GABA-Glyc', 'Glut', 'Glut-GABA', 'Hist', 'Nora', 'Sero']\n",
      "Number of unique division = 7 ['1 Pallium glutamatergic', '2 Subpallium GABAergic', '3 PAL-sAMY-TH-HY-MB-HB neuronal', '4 CBX-MOB-other neuronal', '5 Neuroglial', '6 Vascular', '7 Immune']\n",
      "Number of unique class = 32 \n",
      "Number of unique subclass = 307 \n",
      "Number of unique supertype = 1115 \n",
      "Number of unique cluster = 5196 \n"
     ]
    }
   ],
   "source": [
    "print_column_info(cell_extended)"
   ]
  },
  {
   "cell_type": "markdown",
   "metadata": {},
   "source": [
    "For convenience, we can cache this view for later reuse. "
   ]
  },
  {
   "cell_type": "code",
   "execution_count": 9,
   "metadata": {},
   "outputs": [],
   "source": [
    "if cache_views :\n",
    "    file = os.path.join( view_directory, 'cell_metadata_with_cluster_annotation.csv')\n",
    "    cell_extended.to_csv( file )"
   ]
  },
  {
   "cell_type": "markdown",
   "metadata": {},
   "source": [
    "### Gene expression matrices\n",
    "\n",
    "The > 4 million datasets has been subdivided into 19 packages to data transfer and download more efficient. Each package is formatted as annadata h5ad file with minimal metadata. In this next section, we provide example code on how to open the file and  connect with the rich cell level metadata discussed above.\n",
    "\n",
    "For each subset, there are two h5ad files one storing the raw counts and the other log normalization of it. The file name has the pattern \"matrix_prefix-normalization.h5ad\"."
   ]
  },
  {
   "cell_type": "code",
   "execution_count": 10,
   "metadata": {},
   "outputs": [
    {
     "name": "stdout",
     "output_type": "stream",
     "text": [
      "/allen/programs/celltypes/workgroups/rnaseqanalysis/lydian/ABC_handoff/10x/WMB-10Xv2-TH-log2.h5ad\n"
     ]
    }
   ],
   "source": [
    "expression_directory = os.path.join(input_base, '10x')\n",
    "matrix_prefix = 'WMB-10Xv2-TH'\n",
    "ext = 'h5ad'\n",
    "normalization = 'log2'\n",
    "\n",
    "file = os.path.join( expression_directory, '%s-%s.%s'% (matrix_prefix,normalization,ext) )\n",
    "print(file)"
   ]
  },
  {
   "cell_type": "markdown",
   "metadata": {},
   "source": [
    "We use the anndata's *read_h5ad* function to open the package for the log2 normalization file. The \"backed='r'\" makes use of the lazy loading functionality to only load the required data. By default, anndata will load the entire expression matrix in memory."
   ]
  },
  {
   "cell_type": "code",
   "execution_count": 11,
   "metadata": {},
   "outputs": [
    {
     "name": "stdout",
     "output_type": "stream",
     "text": [
      "AnnData object with n_obs × n_vars = 131212 × 32285 backed at '/allen/programs/celltypes/workgroups/rnaseqanalysis/lydian/ABC_handoff/10x/WMB-10Xv2-TH-log2.h5ad'\n",
      "    obs: 'cell_barcode', 'library_label', 'anatomical_division_label'\n",
      "    var: 'gene_symbol'\n",
      "    uns: 'normalization', 'parent', 'parent_layer', 'parent_rows'\n"
     ]
    }
   ],
   "source": [
    "adata = anndata.read_h5ad(file,backed='r')\n",
    "print(adata)"
   ]
  },
  {
   "cell_type": "markdown",
   "metadata": {},
   "source": [
    "Genes are represented as \"variables\". For this data, the *var* dataframe is indexed by the Ensembl gene identifier with one metadata column *gene symbol*."
   ]
  },
  {
   "cell_type": "code",
   "execution_count": 12,
   "metadata": {},
   "outputs": [
    {
     "name": "stdout",
     "output_type": "stream",
     "text": [
      "Number of genes =  32285\n"
     ]
    },
    {
     "data": {
      "text/plain": [
       "Index(['ENSMUSG00000051951', 'ENSMUSG00000089699', 'ENSMUSG00000102331',\n",
       "       'ENSMUSG00000102343', 'ENSMUSG00000025900'],\n",
       "      dtype='object', name='gene_identifier')"
      ]
     },
     "execution_count": 12,
     "metadata": {},
     "output_type": "execute_result"
    }
   ],
   "source": [
    "print(\"Number of genes = \", len(adata.var))\n",
    "adata.var.index[0:5]"
   ]
  },
  {
   "cell_type": "markdown",
   "metadata": {},
   "source": [
    "Cells are represented as \"observations\". For this data, the *obs* dataframe is index by *cell label* with three minimal metadata columns *cell barcode*, *library label* and *anatomical division label*. "
   ]
  },
  {
   "cell_type": "code",
   "execution_count": 13,
   "metadata": {},
   "outputs": [
    {
     "name": "stdout",
     "output_type": "stream",
     "text": [
      "Number of cells =  131212\n"
     ]
    },
    {
     "data": {
      "text/plain": [
       "Index(['CAGGTGCAGGCTAGCA-040_C01', 'TGCGCAGGTTGCGCAC-045_C01',\n",
       "       'CGATGTATCTTGCCGT-042_B01', 'GACTAACGTCCTCTTG-040_B01',\n",
       "       'GATCGTACAACTGCTA-040_B01'],\n",
       "      dtype='object', name='cell_label')"
      ]
     },
     "execution_count": 13,
     "metadata": {},
     "output_type": "execute_result"
    }
   ],
   "source": [
    "print(\"Number of cells = \", len(adata.obs))\n",
    "adata.obs.index[0:5]"
   ]
  },
  {
   "cell_type": "markdown",
   "metadata": {},
   "source": [
    "We can easily connect the cells in the package to the extended cell metadata with simple pandas filtering."
   ]
  },
  {
   "cell_type": "code",
   "execution_count": 14,
   "metadata": {
    "scrolled": false
   },
   "outputs": [
    {
     "name": "stdout",
     "output_type": "stream",
     "text": [
      "Number of cells =  131212\n",
      "Number of unique library_label = 26 ['L8TX_180815_01_A07', 'L8TX_180815_01_A08', 'L8TX_180815_01_B07', 'L8TX_180815_01_B08', 'L8TX_180815_01_C07', 'L8TX_180815_01_C08', 'L8TX_180815_01_D07', 'L8TX_180815_01_D08', 'L8TX_180815_01_E07', 'L8TX_180815_01_E08', 'L8TX_180815_01_F07', 'L8TX_180815_01_F08', 'L8TX_180815_01_G07', 'L8TX_180815_01_G08', 'L8TX_180815_01_H07', 'L8TX_180815_01_H08', 'L8TX_180829_01_A09', 'L8TX_180829_01_B09', 'L8TX_180829_01_C09', 'L8TX_180829_01_C10', 'L8TX_180829_01_E09', 'L8TX_180829_01_F09', 'L8TX_180829_01_G09', 'L8TX_190321_01_F03', 'L8TX_190321_01_G03', 'L8TX_190321_01_H03']\n",
      "Number of unique anatomical_division_label = 1 ['TH']\n",
      "Number of unique cluster_alias = 1082 \n",
      "Number of unique library_method = 1 ['10Xv2']\n",
      "Number of unique region_of_interest_acronym = 1 ['TH']\n",
      "Number of unique donor_label = 8 ['Snap25-IRES2-Cre;Ai14-404122', 'Snap25-IRES2-Cre;Ai14-404123', 'Snap25-IRES2-Cre;Ai14-404124', 'Snap25-IRES2-Cre;Ai14-404125', 'Snap25-IRES2-Cre;Ai14-407901', 'Snap25-IRES2-Cre;Ai14-407902', 'Snap25-IRES2-Cre;Ai14-407905', 'Snap25-IRES2-Cre;Ai14-449635']\n",
      "Number of unique donor_genotype = 1 ['Snap25-IRES2-Cre/wt;Ai14(RCL-tdT)/wt']\n",
      "Number of unique donor_sex = 2 ['F', 'M']\n",
      "Number of unique matrix_prefix = 1 ['WMB-10Xv2-TH']\n",
      "Number of unique neurotransmitter = 7 ['Chol', 'Dopa', 'GABA', 'GABA-Glyc', 'Glut', 'Glut-GABA', 'Hist']\n",
      "Number of unique division = 7 ['1 Pallium glutamatergic', '2 Subpallium GABAergic', '3 PAL-sAMY-TH-HY-MB-HB neuronal', '4 CBX-MOB-other neuronal', '5 Neuroglial', '6 Vascular', '7 Immune']\n",
      "Number of unique class = 25 ['01 IT-ET Glut', '03 MOB-DG-IMN', '04 CGE GABA', '05 MGE GABA', '06 CNU GABA', '07 LSX GABA', '08 MH-LH Glut', '09 TH Glut', '11 HY GABA', '12 MOB-CR Glut', '13 CNU-HYa Glut', '14 CNU-HYa GABA', '15 HY Glut', '16 MB Glut', '17 P Glut', '19 MY Glut', '20 MB GABA', '21 P GABA', '22 MY GABA', '23 MB Dopa', '27 Pineal Glut', '28 Astro-Epen', '29 Oligo', '31 Vascular', '32 Immune']\n",
      "Number of unique subclass = 169 \n",
      "Number of unique supertype = 402 \n",
      "Number of unique cluster = 1082 \n"
     ]
    }
   ],
   "source": [
    "cell_filtered = cell_extended.loc[adata.obs.index]\n",
    "print(\"Number of cells = \", len(cell_filtered))\n",
    "print_column_info( cell_filtered )"
   ]
  },
  {
   "cell_type": "markdown",
   "metadata": {},
   "source": [
    "## Example use cases\n",
    "\n",
    "In this section, we explore two use cases. The first example looks at the expression of nine canonical neurotransmitter transporter genes and the second the expression of gene Tac2.\n",
    "\n",
    "To support these use cases, we will create a smaller submatrix (all cells and 10 genes) that read it into memory. *Note this operation takes around 10 seconds*."
   ]
  },
  {
   "cell_type": "code",
   "execution_count": 15,
   "metadata": {},
   "outputs": [
    {
     "data": {
      "text/html": [
       "<div>\n",
       "<style scoped>\n",
       "    .dataframe tbody tr th:only-of-type {\n",
       "        vertical-align: middle;\n",
       "    }\n",
       "\n",
       "    .dataframe tbody tr th {\n",
       "        vertical-align: top;\n",
       "    }\n",
       "\n",
       "    .dataframe thead th {\n",
       "        text-align: right;\n",
       "    }\n",
       "</style>\n",
       "<table border=\"1\" class=\"dataframe\">\n",
       "  <thead>\n",
       "    <tr style=\"text-align: right;\">\n",
       "      <th></th>\n",
       "      <th>gene_symbol</th>\n",
       "    </tr>\n",
       "    <tr>\n",
       "      <th>gene_identifier</th>\n",
       "      <th></th>\n",
       "    </tr>\n",
       "  </thead>\n",
       "  <tbody>\n",
       "    <tr>\n",
       "      <th>ENSMUSG00000037771</th>\n",
       "      <td>Slc32a1</td>\n",
       "    </tr>\n",
       "    <tr>\n",
       "      <th>ENSMUSG00000070570</th>\n",
       "      <td>Slc17a7</td>\n",
       "    </tr>\n",
       "    <tr>\n",
       "      <th>ENSMUSG00000039728</th>\n",
       "      <td>Slc6a5</td>\n",
       "    </tr>\n",
       "    <tr>\n",
       "      <th>ENSMUSG00000030500</th>\n",
       "      <td>Slc17a6</td>\n",
       "    </tr>\n",
       "    <tr>\n",
       "      <th>ENSMUSG00000055368</th>\n",
       "      <td>Slc6a2</td>\n",
       "    </tr>\n",
       "    <tr>\n",
       "      <th>ENSMUSG00000019935</th>\n",
       "      <td>Slc17a8</td>\n",
       "    </tr>\n",
       "    <tr>\n",
       "      <th>ENSMUSG00000025400</th>\n",
       "      <td>Tac2</td>\n",
       "    </tr>\n",
       "    <tr>\n",
       "      <th>ENSMUSG00000020838</th>\n",
       "      <td>Slc6a4</td>\n",
       "    </tr>\n",
       "    <tr>\n",
       "      <th>ENSMUSG00000021609</th>\n",
       "      <td>Slc6a3</td>\n",
       "    </tr>\n",
       "    <tr>\n",
       "      <th>ENSMUSG00000100241</th>\n",
       "      <td>Slc18a3</td>\n",
       "    </tr>\n",
       "  </tbody>\n",
       "</table>\n",
       "</div>"
      ],
      "text/plain": [
       "                   gene_symbol\n",
       "gene_identifier               \n",
       "ENSMUSG00000037771     Slc32a1\n",
       "ENSMUSG00000070570     Slc17a7\n",
       "ENSMUSG00000039728      Slc6a5\n",
       "ENSMUSG00000030500     Slc17a6\n",
       "ENSMUSG00000055368      Slc6a2\n",
       "ENSMUSG00000019935     Slc17a8\n",
       "ENSMUSG00000025400        Tac2\n",
       "ENSMUSG00000020838      Slc6a4\n",
       "ENSMUSG00000021609      Slc6a3\n",
       "ENSMUSG00000100241     Slc18a3"
      ]
     },
     "execution_count": 15,
     "metadata": {},
     "output_type": "execute_result"
    }
   ],
   "source": [
    "ntgenes = ['Slc17a7','Slc17a6','Slc17a8','Slc32a1','Slc6a5','Slc18a3','Slc6a3','Slc6a4','Slc6a2']\n",
    "exgenes = ['Tac2']\n",
    "gnames = ntgenes + exgenes\n",
    "pred = [x in gnames for x in adata.var.gene_symbol]\n",
    "gene_filtered = adata.var[pred]\n",
    "gene_filtered"
   ]
  },
  {
   "cell_type": "code",
   "execution_count": 16,
   "metadata": {},
   "outputs": [
    {
     "name": "stdout",
     "output_type": "stream",
     "text": [
      "time taken:  3.5271203420000017\n",
      "AnnData object with n_obs × n_vars = 131212 × 10\n",
      "    obs: 'cell_barcode', 'library_label', 'anatomical_division_label'\n",
      "    var: 'gene_symbol'\n",
      "    uns: 'normalization', 'parent', 'parent_layer', 'parent_rows'\n"
     ]
    }
   ],
   "source": [
    "start = time.process_time()\n",
    "asubset = adata[:,gene_filtered.index].to_memory()\n",
    "print(\"time taken: \", time.process_time() - start)\n",
    "print(asubset)"
   ]
  },
  {
   "cell_type": "markdown",
   "metadata": {},
   "source": [
    "We define two helper functions to (1) *create_expression_dataframe*: create joined gene expression and cell metadata dataframe based for a set of input genes and (2) *aggregate_by_metadata* : compute the average expression for a given catergory."
   ]
  },
  {
   "cell_type": "code",
   "execution_count": 17,
   "metadata": {},
   "outputs": [],
   "source": [
    "def create_expression_dataframe( ad, gf ) :\n",
    "    gdata = ad[:,gf.index].to_df()\n",
    "    gdata.columns = gf.gene_symbol\n",
    "    joined = cell_filtered.join( gdata )\n",
    "    return joined"
   ]
  },
  {
   "cell_type": "code",
   "execution_count": 18,
   "metadata": {},
   "outputs": [],
   "source": [
    "def aggregate_by_metadata( df, gnames, value ) :\n",
    "    grouped = df.groupby(value)[gnames].mean()\n",
    "    grouped = grouped.sort_values(by=gnames[0],ascending=False)\n",
    "    return grouped"
   ]
  },
  {
   "cell_type": "markdown",
   "metadata": {},
   "source": [
    "### Expression of canonical neurotransmitter transporter genes in the thalamus\n",
    "\n",
    "During analysis, clusters were assigned neurotransmitter identities based on the expression of of canonical neurotransmitter transporter genes: Slc17a7 (also known as Vglut1), Slc17a6 (Vglut2) and Slc17a8\n",
    "(Vglut3) for glutamatergic, Slc32a1 (Vgat) for GABAergic, Slc6a5 for glycinergic, Slc18a3 (Vacht) for cholinergic, Slc6a3 (Dat) for dopaminergic, Slc6a4 (Sert) for serotonergic, and \n",
    "Slc6a2 (Net) for noradrenergic.\n",
    "\n",
    "In this example, we create a dataframe comprising of cells in the 'WMB-10Xv2-TH' package and expression of the 9 solute carrier family genes above. We then group the cells by the assigned neurotransmitter class and compute the mean expression for each group and visualized as a colorized table. As expected, we see enriched gene expression for the associated neurotransmitter class describe above with varying degree of specificity."
   ]
  },
  {
   "cell_type": "code",
   "execution_count": 19,
   "metadata": {},
   "outputs": [
    {
     "data": {
      "text/html": [
       "<style  type=\"text/css\" >\n",
       "#T_9b1efc08_03fd_11ee_b1d9_5bf08d3e7725row0_col0,#T_9b1efc08_03fd_11ee_b1d9_5bf08d3e7725row1_col2,#T_9b1efc08_03fd_11ee_b1d9_5bf08d3e7725row3_col7,#T_9b1efc08_03fd_11ee_b1d9_5bf08d3e7725row5_col1,#T_9b1efc08_03fd_11ee_b1d9_5bf08d3e7725row5_col6,#T_9b1efc08_03fd_11ee_b1d9_5bf08d3e7725row5_col8,#T_9b1efc08_03fd_11ee_b1d9_5bf08d3e7725row6_col3,#T_9b1efc08_03fd_11ee_b1d9_5bf08d3e7725row6_col4,#T_9b1efc08_03fd_11ee_b1d9_5bf08d3e7725row6_col5{\n",
       "            background-color:  #67000d;\n",
       "            color:  #f1f1f1;\n",
       "        }#T_9b1efc08_03fd_11ee_b1d9_5bf08d3e7725row0_col1{\n",
       "            background-color:  #ffede5;\n",
       "            color:  #000000;\n",
       "        }#T_9b1efc08_03fd_11ee_b1d9_5bf08d3e7725row0_col2,#T_9b1efc08_03fd_11ee_b1d9_5bf08d3e7725row0_col3,#T_9b1efc08_03fd_11ee_b1d9_5bf08d3e7725row6_col8{\n",
       "            background-color:  #fff4ef;\n",
       "            color:  #000000;\n",
       "        }#T_9b1efc08_03fd_11ee_b1d9_5bf08d3e7725row0_col4,#T_9b1efc08_03fd_11ee_b1d9_5bf08d3e7725row0_col6{\n",
       "            background-color:  #7a0510;\n",
       "            color:  #f1f1f1;\n",
       "        }#T_9b1efc08_03fd_11ee_b1d9_5bf08d3e7725row0_col5{\n",
       "            background-color:  #fedccd;\n",
       "            color:  #000000;\n",
       "        }#T_9b1efc08_03fd_11ee_b1d9_5bf08d3e7725row0_col7,#T_9b1efc08_03fd_11ee_b1d9_5bf08d3e7725row0_col8,#T_9b1efc08_03fd_11ee_b1d9_5bf08d3e7725row1_col4,#T_9b1efc08_03fd_11ee_b1d9_5bf08d3e7725row1_col5,#T_9b1efc08_03fd_11ee_b1d9_5bf08d3e7725row1_col6,#T_9b1efc08_03fd_11ee_b1d9_5bf08d3e7725row1_col8,#T_9b1efc08_03fd_11ee_b1d9_5bf08d3e7725row2_col1,#T_9b1efc08_03fd_11ee_b1d9_5bf08d3e7725row2_col2,#T_9b1efc08_03fd_11ee_b1d9_5bf08d3e7725row2_col4,#T_9b1efc08_03fd_11ee_b1d9_5bf08d3e7725row2_col5,#T_9b1efc08_03fd_11ee_b1d9_5bf08d3e7725row2_col6,#T_9b1efc08_03fd_11ee_b1d9_5bf08d3e7725row2_col7,#T_9b1efc08_03fd_11ee_b1d9_5bf08d3e7725row2_col8,#T_9b1efc08_03fd_11ee_b1d9_5bf08d3e7725row3_col2,#T_9b1efc08_03fd_11ee_b1d9_5bf08d3e7725row3_col4,#T_9b1efc08_03fd_11ee_b1d9_5bf08d3e7725row3_col5,#T_9b1efc08_03fd_11ee_b1d9_5bf08d3e7725row3_col6,#T_9b1efc08_03fd_11ee_b1d9_5bf08d3e7725row3_col8,#T_9b1efc08_03fd_11ee_b1d9_5bf08d3e7725row4_col0,#T_9b1efc08_03fd_11ee_b1d9_5bf08d3e7725row4_col2,#T_9b1efc08_03fd_11ee_b1d9_5bf08d3e7725row4_col3,#T_9b1efc08_03fd_11ee_b1d9_5bf08d3e7725row4_col4,#T_9b1efc08_03fd_11ee_b1d9_5bf08d3e7725row4_col6,#T_9b1efc08_03fd_11ee_b1d9_5bf08d3e7725row4_col7,#T_9b1efc08_03fd_11ee_b1d9_5bf08d3e7725row4_col8,#T_9b1efc08_03fd_11ee_b1d9_5bf08d3e7725row5_col0,#T_9b1efc08_03fd_11ee_b1d9_5bf08d3e7725row5_col2,#T_9b1efc08_03fd_11ee_b1d9_5bf08d3e7725row5_col4,#T_9b1efc08_03fd_11ee_b1d9_5bf08d3e7725row5_col7,#T_9b1efc08_03fd_11ee_b1d9_5bf08d3e7725row6_col0,#T_9b1efc08_03fd_11ee_b1d9_5bf08d3e7725row6_col7{\n",
       "            background-color:  #fff5f0;\n",
       "            color:  #000000;\n",
       "        }#T_9b1efc08_03fd_11ee_b1d9_5bf08d3e7725row1_col0{\n",
       "            background-color:  #9d0d14;\n",
       "            color:  #f1f1f1;\n",
       "        }#T_9b1efc08_03fd_11ee_b1d9_5bf08d3e7725row1_col1{\n",
       "            background-color:  #fff0e8;\n",
       "            color:  #000000;\n",
       "        }#T_9b1efc08_03fd_11ee_b1d9_5bf08d3e7725row1_col3{\n",
       "            background-color:  #fee6da;\n",
       "            color:  #000000;\n",
       "        }#T_9b1efc08_03fd_11ee_b1d9_5bf08d3e7725row1_col7{\n",
       "            background-color:  #fff2eb;\n",
       "            color:  #000000;\n",
       "        }#T_9b1efc08_03fd_11ee_b1d9_5bf08d3e7725row2_col0{\n",
       "            background-color:  #c8171c;\n",
       "            color:  #f1f1f1;\n",
       "        }#T_9b1efc08_03fd_11ee_b1d9_5bf08d3e7725row2_col3{\n",
       "            background-color:  #fb7a5a;\n",
       "            color:  #000000;\n",
       "        }#T_9b1efc08_03fd_11ee_b1d9_5bf08d3e7725row3_col0{\n",
       "            background-color:  #fee5d9;\n",
       "            color:  #000000;\n",
       "        }#T_9b1efc08_03fd_11ee_b1d9_5bf08d3e7725row3_col1{\n",
       "            background-color:  #feeae0;\n",
       "            color:  #000000;\n",
       "        }#T_9b1efc08_03fd_11ee_b1d9_5bf08d3e7725row3_col3{\n",
       "            background-color:  #fca78b;\n",
       "            color:  #000000;\n",
       "        }#T_9b1efc08_03fd_11ee_b1d9_5bf08d3e7725row4_col1{\n",
       "            background-color:  #fff2ec;\n",
       "            color:  #000000;\n",
       "        }#T_9b1efc08_03fd_11ee_b1d9_5bf08d3e7725row4_col5{\n",
       "            background-color:  #fcc3ab;\n",
       "            color:  #000000;\n",
       "        }#T_9b1efc08_03fd_11ee_b1d9_5bf08d3e7725row5_col3{\n",
       "            background-color:  #dd2a25;\n",
       "            color:  #f1f1f1;\n",
       "        }#T_9b1efc08_03fd_11ee_b1d9_5bf08d3e7725row5_col5{\n",
       "            background-color:  #fdd0bc;\n",
       "            color:  #000000;\n",
       "        }#T_9b1efc08_03fd_11ee_b1d9_5bf08d3e7725row6_col1{\n",
       "            background-color:  #fc8b6b;\n",
       "            color:  #000000;\n",
       "        }#T_9b1efc08_03fd_11ee_b1d9_5bf08d3e7725row6_col2{\n",
       "            background-color:  #fff4ee;\n",
       "            color:  #000000;\n",
       "        }#T_9b1efc08_03fd_11ee_b1d9_5bf08d3e7725row6_col6{\n",
       "            background-color:  #c2161b;\n",
       "            color:  #f1f1f1;\n",
       "        }</style><table id=\"T_9b1efc08_03fd_11ee_b1d9_5bf08d3e7725\" ><thead>    <tr>        <th class=\"blank level0\" ></th>        <th class=\"col_heading level0 col0\" >Slc32a1</th>        <th class=\"col_heading level0 col1\" >Slc17a7</th>        <th class=\"col_heading level0 col2\" >Slc6a5</th>        <th class=\"col_heading level0 col3\" >Slc17a6</th>        <th class=\"col_heading level0 col4\" >Slc6a2</th>        <th class=\"col_heading level0 col5\" >Slc17a8</th>        <th class=\"col_heading level0 col6\" >Slc6a4</th>        <th class=\"col_heading level0 col7\" >Slc6a3</th>        <th class=\"col_heading level0 col8\" >Slc18a3</th>    </tr>    <tr>        <th class=\"index_name level0\" >neurotransmitter</th>        <th class=\"blank\" ></th>        <th class=\"blank\" ></th>        <th class=\"blank\" ></th>        <th class=\"blank\" ></th>        <th class=\"blank\" ></th>        <th class=\"blank\" ></th>        <th class=\"blank\" ></th>        <th class=\"blank\" ></th>        <th class=\"blank\" ></th>    </tr></thead><tbody>\n",
       "                <tr>\n",
       "                        <th id=\"T_9b1efc08_03fd_11ee_b1d9_5bf08d3e7725level0_row0\" class=\"row_heading level0 row0\" >GABA</th>\n",
       "                        <td id=\"T_9b1efc08_03fd_11ee_b1d9_5bf08d3e7725row0_col0\" class=\"data row0 col0\" >7.164396</td>\n",
       "                        <td id=\"T_9b1efc08_03fd_11ee_b1d9_5bf08d3e7725row0_col1\" class=\"data row0 col1\" >0.419043</td>\n",
       "                        <td id=\"T_9b1efc08_03fd_11ee_b1d9_5bf08d3e7725row0_col2\" class=\"data row0 col2\" >0.026049</td>\n",
       "                        <td id=\"T_9b1efc08_03fd_11ee_b1d9_5bf08d3e7725row0_col3\" class=\"data row0 col3\" >1.216959</td>\n",
       "                        <td id=\"T_9b1efc08_03fd_11ee_b1d9_5bf08d3e7725row0_col4\" class=\"data row0 col4\" >0.001380</td>\n",
       "                        <td id=\"T_9b1efc08_03fd_11ee_b1d9_5bf08d3e7725row0_col5\" class=\"data row0 col5\" >0.032728</td>\n",
       "                        <td id=\"T_9b1efc08_03fd_11ee_b1d9_5bf08d3e7725row0_col6\" class=\"data row0 col6\" >0.011204</td>\n",
       "                        <td id=\"T_9b1efc08_03fd_11ee_b1d9_5bf08d3e7725row0_col7\" class=\"data row0 col7\" >0.016119</td>\n",
       "                        <td id=\"T_9b1efc08_03fd_11ee_b1d9_5bf08d3e7725row0_col8\" class=\"data row0 col8\" >0.000960</td>\n",
       "            </tr>\n",
       "            <tr>\n",
       "                        <th id=\"T_9b1efc08_03fd_11ee_b1d9_5bf08d3e7725level0_row1\" class=\"row_heading level0 row1\" >GABA-Glyc</th>\n",
       "                        <td id=\"T_9b1efc08_03fd_11ee_b1d9_5bf08d3e7725row1_col0\" class=\"data row1 col0\" >6.367074</td>\n",
       "                        <td id=\"T_9b1efc08_03fd_11ee_b1d9_5bf08d3e7725row1_col1\" class=\"data row1 col1\" >0.292678</td>\n",
       "                        <td id=\"T_9b1efc08_03fd_11ee_b1d9_5bf08d3e7725row1_col2\" class=\"data row1 col2\" >3.755787</td>\n",
       "                        <td id=\"T_9b1efc08_03fd_11ee_b1d9_5bf08d3e7725row1_col3\" class=\"data row1 col3\" >1.885634</td>\n",
       "                        <td id=\"T_9b1efc08_03fd_11ee_b1d9_5bf08d3e7725row1_col4\" class=\"data row1 col4\" >0.000000</td>\n",
       "                        <td id=\"T_9b1efc08_03fd_11ee_b1d9_5bf08d3e7725row1_col5\" class=\"data row1 col5\" >0.000000</td>\n",
       "                        <td id=\"T_9b1efc08_03fd_11ee_b1d9_5bf08d3e7725row1_col6\" class=\"data row1 col6\" >0.000000</td>\n",
       "                        <td id=\"T_9b1efc08_03fd_11ee_b1d9_5bf08d3e7725row1_col7\" class=\"data row1 col7\" >0.125798</td>\n",
       "                        <td id=\"T_9b1efc08_03fd_11ee_b1d9_5bf08d3e7725row1_col8\" class=\"data row1 col8\" >0.000000</td>\n",
       "            </tr>\n",
       "            <tr>\n",
       "                        <th id=\"T_9b1efc08_03fd_11ee_b1d9_5bf08d3e7725level0_row2\" class=\"row_heading level0 row2\" >Glut-GABA</th>\n",
       "                        <td id=\"T_9b1efc08_03fd_11ee_b1d9_5bf08d3e7725row2_col0\" class=\"data row2 col0\" >5.473776</td>\n",
       "                        <td id=\"T_9b1efc08_03fd_11ee_b1d9_5bf08d3e7725row2_col1\" class=\"data row2 col1\" >0.000000</td>\n",
       "                        <td id=\"T_9b1efc08_03fd_11ee_b1d9_5bf08d3e7725row2_col2\" class=\"data row2 col2\" >0.000000</td>\n",
       "                        <td id=\"T_9b1efc08_03fd_11ee_b1d9_5bf08d3e7725row2_col3\" class=\"data row2 col3\" >4.691283</td>\n",
       "                        <td id=\"T_9b1efc08_03fd_11ee_b1d9_5bf08d3e7725row2_col4\" class=\"data row2 col4\" >0.000000</td>\n",
       "                        <td id=\"T_9b1efc08_03fd_11ee_b1d9_5bf08d3e7725row2_col5\" class=\"data row2 col5\" >0.000000</td>\n",
       "                        <td id=\"T_9b1efc08_03fd_11ee_b1d9_5bf08d3e7725row2_col6\" class=\"data row2 col6\" >0.000000</td>\n",
       "                        <td id=\"T_9b1efc08_03fd_11ee_b1d9_5bf08d3e7725row2_col7\" class=\"data row2 col7\" >0.000000</td>\n",
       "                        <td id=\"T_9b1efc08_03fd_11ee_b1d9_5bf08d3e7725row2_col8\" class=\"data row2 col8\" >0.000000</td>\n",
       "            </tr>\n",
       "            <tr>\n",
       "                        <th id=\"T_9b1efc08_03fd_11ee_b1d9_5bf08d3e7725level0_row3\" class=\"row_heading level0 row3\" >Dopa</th>\n",
       "                        <td id=\"T_9b1efc08_03fd_11ee_b1d9_5bf08d3e7725row3_col0\" class=\"data row3 col0\" >0.757809</td>\n",
       "                        <td id=\"T_9b1efc08_03fd_11ee_b1d9_5bf08d3e7725row3_col1\" class=\"data row3 col1\" >0.604825</td>\n",
       "                        <td id=\"T_9b1efc08_03fd_11ee_b1d9_5bf08d3e7725row3_col2\" class=\"data row3 col2\" >0.000000</td>\n",
       "                        <td id=\"T_9b1efc08_03fd_11ee_b1d9_5bf08d3e7725row3_col3\" class=\"data row3 col3\" >3.615892</td>\n",
       "                        <td id=\"T_9b1efc08_03fd_11ee_b1d9_5bf08d3e7725row3_col4\" class=\"data row3 col4\" >0.000000</td>\n",
       "                        <td id=\"T_9b1efc08_03fd_11ee_b1d9_5bf08d3e7725row3_col5\" class=\"data row3 col5\" >0.000000</td>\n",
       "                        <td id=\"T_9b1efc08_03fd_11ee_b1d9_5bf08d3e7725row3_col6\" class=\"data row3 col6\" >0.000000</td>\n",
       "                        <td id=\"T_9b1efc08_03fd_11ee_b1d9_5bf08d3e7725row3_col7\" class=\"data row3 col7\" >5.524069</td>\n",
       "                        <td id=\"T_9b1efc08_03fd_11ee_b1d9_5bf08d3e7725row3_col8\" class=\"data row3 col8\" >0.000000</td>\n",
       "            </tr>\n",
       "            <tr>\n",
       "                        <th id=\"T_9b1efc08_03fd_11ee_b1d9_5bf08d3e7725level0_row4\" class=\"row_heading level0 row4\" >Hist</th>\n",
       "                        <td id=\"T_9b1efc08_03fd_11ee_b1d9_5bf08d3e7725row4_col0\" class=\"data row4 col0\" >0.108541</td>\n",
       "                        <td id=\"T_9b1efc08_03fd_11ee_b1d9_5bf08d3e7725row4_col1\" class=\"data row4 col1\" >0.155022</td>\n",
       "                        <td id=\"T_9b1efc08_03fd_11ee_b1d9_5bf08d3e7725row4_col2\" class=\"data row4 col2\" >0.000000</td>\n",
       "                        <td id=\"T_9b1efc08_03fd_11ee_b1d9_5bf08d3e7725row4_col3\" class=\"data row4 col3\" >1.174037</td>\n",
       "                        <td id=\"T_9b1efc08_03fd_11ee_b1d9_5bf08d3e7725row4_col4\" class=\"data row4 col4\" >0.000000</td>\n",
       "                        <td id=\"T_9b1efc08_03fd_11ee_b1d9_5bf08d3e7725row4_col5\" class=\"data row4 col5\" >0.052135</td>\n",
       "                        <td id=\"T_9b1efc08_03fd_11ee_b1d9_5bf08d3e7725row4_col6\" class=\"data row4 col6\" >0.000000</td>\n",
       "                        <td id=\"T_9b1efc08_03fd_11ee_b1d9_5bf08d3e7725row4_col7\" class=\"data row4 col7\" >0.000000</td>\n",
       "                        <td id=\"T_9b1efc08_03fd_11ee_b1d9_5bf08d3e7725row4_col8\" class=\"data row4 col8\" >0.000000</td>\n",
       "            </tr>\n",
       "            <tr>\n",
       "                        <th id=\"T_9b1efc08_03fd_11ee_b1d9_5bf08d3e7725level0_row5\" class=\"row_heading level0 row5\" >Chol</th>\n",
       "                        <td id=\"T_9b1efc08_03fd_11ee_b1d9_5bf08d3e7725row5_col0\" class=\"data row5 col0\" >0.087876</td>\n",
       "                        <td id=\"T_9b1efc08_03fd_11ee_b1d9_5bf08d3e7725row5_col1\" class=\"data row5 col1\" >8.608787</td>\n",
       "                        <td id=\"T_9b1efc08_03fd_11ee_b1d9_5bf08d3e7725row5_col2\" class=\"data row5 col2\" >0.005719</td>\n",
       "                        <td id=\"T_9b1efc08_03fd_11ee_b1d9_5bf08d3e7725row5_col3\" class=\"data row5 col3\" >6.528627</td>\n",
       "                        <td id=\"T_9b1efc08_03fd_11ee_b1d9_5bf08d3e7725row5_col4\" class=\"data row5 col4\" >0.000000</td>\n",
       "                        <td id=\"T_9b1efc08_03fd_11ee_b1d9_5bf08d3e7725row5_col5\" class=\"data row5 col5\" >0.042500</td>\n",
       "                        <td id=\"T_9b1efc08_03fd_11ee_b1d9_5bf08d3e7725row5_col6\" class=\"data row5 col6\" >0.011684</td>\n",
       "                        <td id=\"T_9b1efc08_03fd_11ee_b1d9_5bf08d3e7725row5_col7\" class=\"data row5 col7\" >0.000000</td>\n",
       "                        <td id=\"T_9b1efc08_03fd_11ee_b1d9_5bf08d3e7725row5_col8\" class=\"data row5 col8\" >3.322996</td>\n",
       "            </tr>\n",
       "            <tr>\n",
       "                        <th id=\"T_9b1efc08_03fd_11ee_b1d9_5bf08d3e7725level0_row6\" class=\"row_heading level0 row6\" >Glut</th>\n",
       "                        <td id=\"T_9b1efc08_03fd_11ee_b1d9_5bf08d3e7725row6_col0\" class=\"data row6 col0\" >0.083664</td>\n",
       "                        <td id=\"T_9b1efc08_03fd_11ee_b1d9_5bf08d3e7725row6_col1\" class=\"data row6 col1\" >3.403658</td>\n",
       "                        <td id=\"T_9b1efc08_03fd_11ee_b1d9_5bf08d3e7725row6_col2\" class=\"data row6 col2\" >0.035956</td>\n",
       "                        <td id=\"T_9b1efc08_03fd_11ee_b1d9_5bf08d3e7725row6_col3\" class=\"data row6 col3\" >8.989318</td>\n",
       "                        <td id=\"T_9b1efc08_03fd_11ee_b1d9_5bf08d3e7725row6_col4\" class=\"data row6 col4\" >0.001436</td>\n",
       "                        <td id=\"T_9b1efc08_03fd_11ee_b1d9_5bf08d3e7725row6_col5\" class=\"data row6 col5\" >0.233407</td>\n",
       "                        <td id=\"T_9b1efc08_03fd_11ee_b1d9_5bf08d3e7725row6_col6\" class=\"data row6 col6\" >0.009094</td>\n",
       "                        <td id=\"T_9b1efc08_03fd_11ee_b1d9_5bf08d3e7725row6_col7\" class=\"data row6 col7\" >0.003759</td>\n",
       "                        <td id=\"T_9b1efc08_03fd_11ee_b1d9_5bf08d3e7725row6_col8\" class=\"data row6 col8\" >0.025051</td>\n",
       "            </tr>\n",
       "    </tbody></table>"
      ],
      "text/plain": [
       "<pandas.io.formats.style.Styler at 0x7f1b5b7c6fd0>"
      ]
     },
     "execution_count": 19,
     "metadata": {},
     "output_type": "execute_result"
    }
   ],
   "source": [
    "pred = [x in ntgenes for x in asubset.var.gene_symbol]\n",
    "gf = asubset.var[pred]\n",
    "\n",
    "ntexp = create_expression_dataframe( asubset, gf )\n",
    "agg = aggregate_by_metadata(ntexp, gf.gene_symbol, 'neurotransmitter').head(10)\n",
    "agg.style.background_gradient(cmap='Reds')"
   ]
  },
  {
   "cell_type": "markdown",
   "metadata": {},
   "source": [
    "### Expression of Tachykinin 2 (Tac2) in the thalamus\n",
    "\n",
    "In mice, the tachykinin 2 (Tac2) gene encodes neuropeptide called neurokinin B (NkB). Tac2 is produced by neurons in specific regions of the brain know to be invovled in emotion and social behavior. Based on [ISH data](https://mouse.brain-map.org/experiment/siv?id=77279001&imageId=77284584&initImage=ish&coordSystem=pixel&x=5384.5&y=3832.5&z=3) from the Allen Mouse Brain Atlas, Tac 2 is sparsely expressed in the mouse isocortex and densely enriched is specific subcortical regions such the medial habenula (MH), the amygdala and hypothalamus.\n",
    "\n",
    "![Expression of Tac2 in an adult mouse](Tac2_ISH_Coronal_Section.JPG)\n",
    "\n",
    "In this example, we create a dataframe comprising of cells in the 'WMB-10Xv2-TH' package and expression values of Tac2 in thouse cells.\n"
   ]
  },
  {
   "cell_type": "code",
   "execution_count": 20,
   "metadata": {},
   "outputs": [],
   "source": [
    "# filtered to gene of interest\n",
    "gf = asubset.var[asubset.var.gene_symbol == 'Tac2']\n",
    "tac2 = create_expression_dataframe( asubset, gf )"
   ]
  },
  {
   "cell_type": "markdown",
   "metadata": {},
   "source": [
    "Grouping cells by neurotransmitter identites and computing the mean expression in each group, we can observed that Tac2 gene in highly enriched in cholinergic cell types."
   ]
  },
  {
   "cell_type": "code",
   "execution_count": 21,
   "metadata": {},
   "outputs": [
    {
     "data": {
      "text/html": [
       "<style  type=\"text/css\" >\n",
       "#T_9b2f5e4a_03fd_11ee_b1d9_5bf08d3e7725row0_col0{\n",
       "            background-color:  #67000d;\n",
       "            color:  #f1f1f1;\n",
       "        }#T_9b2f5e4a_03fd_11ee_b1d9_5bf08d3e7725row1_col0{\n",
       "            background-color:  #fff1ea;\n",
       "            color:  #000000;\n",
       "        }#T_9b2f5e4a_03fd_11ee_b1d9_5bf08d3e7725row2_col0{\n",
       "            background-color:  #fff2ec;\n",
       "            color:  #000000;\n",
       "        }#T_9b2f5e4a_03fd_11ee_b1d9_5bf08d3e7725row3_col0,#T_9b2f5e4a_03fd_11ee_b1d9_5bf08d3e7725row4_col0{\n",
       "            background-color:  #fff4ef;\n",
       "            color:  #000000;\n",
       "        }#T_9b2f5e4a_03fd_11ee_b1d9_5bf08d3e7725row5_col0,#T_9b2f5e4a_03fd_11ee_b1d9_5bf08d3e7725row6_col0{\n",
       "            background-color:  #fff5f0;\n",
       "            color:  #000000;\n",
       "        }</style><table id=\"T_9b2f5e4a_03fd_11ee_b1d9_5bf08d3e7725\" ><thead>    <tr>        <th class=\"blank level0\" ></th>        <th class=\"col_heading level0 col0\" >Tac2</th>    </tr>    <tr>        <th class=\"index_name level0\" >neurotransmitter</th>        <th class=\"blank\" ></th>    </tr></thead><tbody>\n",
       "                <tr>\n",
       "                        <th id=\"T_9b2f5e4a_03fd_11ee_b1d9_5bf08d3e7725level0_row0\" class=\"row_heading level0 row0\" >Chol</th>\n",
       "                        <td id=\"T_9b2f5e4a_03fd_11ee_b1d9_5bf08d3e7725row0_col0\" class=\"data row0 col0\" >7.225159</td>\n",
       "            </tr>\n",
       "            <tr>\n",
       "                        <th id=\"T_9b2f5e4a_03fd_11ee_b1d9_5bf08d3e7725level0_row1\" class=\"row_heading level0 row1\" >Glut</th>\n",
       "                        <td id=\"T_9b2f5e4a_03fd_11ee_b1d9_5bf08d3e7725row1_col0\" class=\"data row1 col0\" >0.191328</td>\n",
       "            </tr>\n",
       "            <tr>\n",
       "                        <th id=\"T_9b2f5e4a_03fd_11ee_b1d9_5bf08d3e7725level0_row2\" class=\"row_heading level0 row2\" >GABA-Glyc</th>\n",
       "                        <td id=\"T_9b2f5e4a_03fd_11ee_b1d9_5bf08d3e7725row2_col0\" class=\"data row2 col0\" >0.129728</td>\n",
       "            </tr>\n",
       "            <tr>\n",
       "                        <th id=\"T_9b2f5e4a_03fd_11ee_b1d9_5bf08d3e7725level0_row3\" class=\"row_heading level0 row3\" >Hist</th>\n",
       "                        <td id=\"T_9b2f5e4a_03fd_11ee_b1d9_5bf08d3e7725row3_col0\" class=\"data row3 col0\" >0.055357</td>\n",
       "            </tr>\n",
       "            <tr>\n",
       "                        <th id=\"T_9b2f5e4a_03fd_11ee_b1d9_5bf08d3e7725level0_row4\" class=\"row_heading level0 row4\" >GABA</th>\n",
       "                        <td id=\"T_9b2f5e4a_03fd_11ee_b1d9_5bf08d3e7725row4_col0\" class=\"data row4 col0\" >0.041769</td>\n",
       "            </tr>\n",
       "            <tr>\n",
       "                        <th id=\"T_9b2f5e4a_03fd_11ee_b1d9_5bf08d3e7725level0_row5\" class=\"row_heading level0 row5\" >Dopa</th>\n",
       "                        <td id=\"T_9b2f5e4a_03fd_11ee_b1d9_5bf08d3e7725row5_col0\" class=\"data row5 col0\" >0.000000</td>\n",
       "            </tr>\n",
       "            <tr>\n",
       "                        <th id=\"T_9b2f5e4a_03fd_11ee_b1d9_5bf08d3e7725level0_row6\" class=\"row_heading level0 row6\" >Glut-GABA</th>\n",
       "                        <td id=\"T_9b2f5e4a_03fd_11ee_b1d9_5bf08d3e7725row6_col0\" class=\"data row6 col0\" >0.000000</td>\n",
       "            </tr>\n",
       "    </tbody></table>"
      ],
      "text/plain": [
       "<pandas.io.formats.style.Styler at 0x7f1b5d3d9910>"
      ]
     },
     "execution_count": 21,
     "metadata": {},
     "output_type": "execute_result"
    }
   ],
   "source": [
    "agg = aggregate_by_metadata(tac2, gf.gene_symbol, 'neurotransmitter').head(10)\n",
    "agg.style.background_gradient(cmap='Reds')"
   ]
  },
  {
   "cell_type": "markdown",
   "metadata": {},
   "source": [
    "Grouping cells by cell types class, shows that Tac2 is enriched in class \"08 MH-LH Glut\" with cells restricted to the medial (MH) and lateral (LH) habenula and mixture of glutamatergic and cholinergic types."
   ]
  },
  {
   "cell_type": "code",
   "execution_count": 22,
   "metadata": {},
   "outputs": [
    {
     "data": {
      "text/html": [
       "<style  type=\"text/css\" >\n",
       "#T_9b31f15a_03fd_11ee_b1d9_5bf08d3e7725row0_col0{\n",
       "            background-color:  #67000d;\n",
       "            color:  #f1f1f1;\n",
       "        }#T_9b31f15a_03fd_11ee_b1d9_5bf08d3e7725row1_col0{\n",
       "            background-color:  #fee3d7;\n",
       "            color:  #000000;\n",
       "        }#T_9b31f15a_03fd_11ee_b1d9_5bf08d3e7725row2_col0{\n",
       "            background-color:  #fee8dd;\n",
       "            color:  #000000;\n",
       "        }#T_9b31f15a_03fd_11ee_b1d9_5bf08d3e7725row3_col0{\n",
       "            background-color:  #fee9df;\n",
       "            color:  #000000;\n",
       "        }#T_9b31f15a_03fd_11ee_b1d9_5bf08d3e7725row4_col0{\n",
       "            background-color:  #fff4ee;\n",
       "            color:  #000000;\n",
       "        }#T_9b31f15a_03fd_11ee_b1d9_5bf08d3e7725row5_col0{\n",
       "            background-color:  #fff4ef;\n",
       "            color:  #000000;\n",
       "        }#T_9b31f15a_03fd_11ee_b1d9_5bf08d3e7725row6_col0,#T_9b31f15a_03fd_11ee_b1d9_5bf08d3e7725row7_col0{\n",
       "            background-color:  #fff5f0;\n",
       "            color:  #000000;\n",
       "        }</style><table id=\"T_9b31f15a_03fd_11ee_b1d9_5bf08d3e7725\" ><thead>    <tr>        <th class=\"blank level0\" ></th>        <th class=\"col_heading level0 col0\" >Tac2</th>    </tr>    <tr>        <th class=\"index_name level0\" >class</th>        <th class=\"blank\" ></th>    </tr></thead><tbody>\n",
       "                <tr>\n",
       "                        <th id=\"T_9b31f15a_03fd_11ee_b1d9_5bf08d3e7725level0_row0\" class=\"row_heading level0 row0\" >08 MH-LH Glut</th>\n",
       "                        <td id=\"T_9b31f15a_03fd_11ee_b1d9_5bf08d3e7725row0_col0\" class=\"data row0 col0\" >4.477652</td>\n",
       "            </tr>\n",
       "            <tr>\n",
       "                        <th id=\"T_9b31f15a_03fd_11ee_b1d9_5bf08d3e7725level0_row1\" class=\"row_heading level0 row1\" >22 MY GABA</th>\n",
       "                        <td id=\"T_9b31f15a_03fd_11ee_b1d9_5bf08d3e7725row1_col0\" class=\"data row1 col0\" >0.540533</td>\n",
       "            </tr>\n",
       "            <tr>\n",
       "                        <th id=\"T_9b31f15a_03fd_11ee_b1d9_5bf08d3e7725level0_row2\" class=\"row_heading level0 row2\" >01 IT-ET Glut</th>\n",
       "                        <td id=\"T_9b31f15a_03fd_11ee_b1d9_5bf08d3e7725row2_col0\" class=\"data row2 col0\" >0.424430</td>\n",
       "            </tr>\n",
       "            <tr>\n",
       "                        <th id=\"T_9b31f15a_03fd_11ee_b1d9_5bf08d3e7725level0_row3\" class=\"row_heading level0 row3\" >17 P Glut</th>\n",
       "                        <td id=\"T_9b31f15a_03fd_11ee_b1d9_5bf08d3e7725row3_col0\" class=\"data row3 col0\" >0.384413</td>\n",
       "            </tr>\n",
       "            <tr>\n",
       "                        <th id=\"T_9b31f15a_03fd_11ee_b1d9_5bf08d3e7725level0_row4\" class=\"row_heading level0 row4\" >06 CNU GABA</th>\n",
       "                        <td id=\"T_9b31f15a_03fd_11ee_b1d9_5bf08d3e7725row4_col0\" class=\"data row4 col0\" >0.114376</td>\n",
       "            </tr>\n",
       "            <tr>\n",
       "                        <th id=\"T_9b31f15a_03fd_11ee_b1d9_5bf08d3e7725level0_row5\" class=\"row_heading level0 row5\" >27 Pineal Glut</th>\n",
       "                        <td id=\"T_9b31f15a_03fd_11ee_b1d9_5bf08d3e7725row5_col0\" class=\"data row5 col0\" >0.098581</td>\n",
       "            </tr>\n",
       "            <tr>\n",
       "                        <th id=\"T_9b31f15a_03fd_11ee_b1d9_5bf08d3e7725level0_row6\" class=\"row_heading level0 row6\" >28 Astro-Epen</th>\n",
       "                        <td id=\"T_9b31f15a_03fd_11ee_b1d9_5bf08d3e7725row6_col0\" class=\"data row6 col0\" >0.071376</td>\n",
       "            </tr>\n",
       "            <tr>\n",
       "                        <th id=\"T_9b31f15a_03fd_11ee_b1d9_5bf08d3e7725level0_row7\" class=\"row_heading level0 row7\" >16 MB Glut</th>\n",
       "                        <td id=\"T_9b31f15a_03fd_11ee_b1d9_5bf08d3e7725row7_col0\" class=\"data row7 col0\" >0.066691</td>\n",
       "            </tr>\n",
       "    </tbody></table>"
      ],
      "text/plain": [
       "<pandas.io.formats.style.Styler at 0x7f1b5a6ee130>"
      ]
     },
     "execution_count": 22,
     "metadata": {},
     "output_type": "execute_result"
    }
   ],
   "source": [
    "agg = aggregate_by_metadata(tac2, gf.gene_symbol, 'class').head(8)\n",
    "agg.style.background_gradient(cmap='Reds')"
   ]
  },
  {
   "cell_type": "markdown",
   "metadata": {},
   "source": [
    "At the next level, grouping by subclass, shows Tac2 is enriched in sublcass \"063 MH Tac2 Glut\" which specificity to the medial habenula and with Tac2 itself as a marker for the subclass and multiple children supertypes."
   ]
  },
  {
   "cell_type": "code",
   "execution_count": 23,
   "metadata": {},
   "outputs": [
    {
     "data": {
      "text/html": [
       "<style  type=\"text/css\" >\n",
       "#T_9b34c0ec_03fd_11ee_b1d9_5bf08d3e7725row0_col0{\n",
       "            background-color:  #67000d;\n",
       "            color:  #f1f1f1;\n",
       "        }#T_9b34c0ec_03fd_11ee_b1d9_5bf08d3e7725row1_col0{\n",
       "            background-color:  #f96044;\n",
       "            color:  #000000;\n",
       "        }#T_9b34c0ec_03fd_11ee_b1d9_5bf08d3e7725row2_col0{\n",
       "            background-color:  #fed9c9;\n",
       "            color:  #000000;\n",
       "        }#T_9b34c0ec_03fd_11ee_b1d9_5bf08d3e7725row3_col0{\n",
       "            background-color:  #fedbcc;\n",
       "            color:  #000000;\n",
       "        }#T_9b34c0ec_03fd_11ee_b1d9_5bf08d3e7725row4_col0{\n",
       "            background-color:  #fee7db;\n",
       "            color:  #000000;\n",
       "        }#T_9b34c0ec_03fd_11ee_b1d9_5bf08d3e7725row5_col0{\n",
       "            background-color:  #ffefe8;\n",
       "            color:  #000000;\n",
       "        }#T_9b34c0ec_03fd_11ee_b1d9_5bf08d3e7725row6_col0,#T_9b34c0ec_03fd_11ee_b1d9_5bf08d3e7725row7_col0{\n",
       "            background-color:  #fff5f0;\n",
       "            color:  #000000;\n",
       "        }</style><table id=\"T_9b34c0ec_03fd_11ee_b1d9_5bf08d3e7725\" ><thead>    <tr>        <th class=\"blank level0\" ></th>        <th class=\"col_heading level0 col0\" >Tac2</th>    </tr>    <tr>        <th class=\"index_name level0\" >subclass</th>        <th class=\"blank\" ></th>    </tr></thead><tbody>\n",
       "                <tr>\n",
       "                        <th id=\"T_9b34c0ec_03fd_11ee_b1d9_5bf08d3e7725level0_row0\" class=\"row_heading level0 row0\" >063 MH Tac2 Glut</th>\n",
       "                        <td id=\"T_9b34c0ec_03fd_11ee_b1d9_5bf08d3e7725row0_col0\" class=\"data row0 col0\" >6.219506</td>\n",
       "            </tr>\n",
       "            <tr>\n",
       "                        <th id=\"T_9b34c0ec_03fd_11ee_b1d9_5bf08d3e7725level0_row1\" class=\"row_heading level0 row1\" >171 PB-an-do Evx2 Glut</th>\n",
       "                        <td id=\"T_9b34c0ec_03fd_11ee_b1d9_5bf08d3e7725row1_col0\" class=\"data row1 col0\" >3.459718</td>\n",
       "            </tr>\n",
       "            <tr>\n",
       "                        <th id=\"T_9b34c0ec_03fd_11ee_b1d9_5bf08d3e7725level0_row2\" class=\"row_heading level0 row2\" >193 PAS-MV Ebf2 Gly-Gaba</th>\n",
       "                        <td id=\"T_9b34c0ec_03fd_11ee_b1d9_5bf08d3e7725row2_col0\" class=\"data row2 col0\" >1.297280</td>\n",
       "            </tr>\n",
       "            <tr>\n",
       "                        <th id=\"T_9b34c0ec_03fd_11ee_b1d9_5bf08d3e7725level0_row3\" class=\"row_heading level0 row3\" >197 PAG-MRN Rln3 Gaba</th>\n",
       "                        <td id=\"T_9b34c0ec_03fd_11ee_b1d9_5bf08d3e7725row3_col0\" class=\"data row3 col0\" >1.260279</td>\n",
       "            </tr>\n",
       "            <tr>\n",
       "                        <th id=\"T_9b34c0ec_03fd_11ee_b1d9_5bf08d3e7725level0_row4\" class=\"row_heading level0 row4\" >045 STRv Lhx8 Gaba</th>\n",
       "                        <td id=\"T_9b34c0ec_03fd_11ee_b1d9_5bf08d3e7725row4_col0\" class=\"data row4 col0\" >0.944707</td>\n",
       "            </tr>\n",
       "            <tr>\n",
       "                        <th id=\"T_9b34c0ec_03fd_11ee_b1d9_5bf08d3e7725level0_row5\" class=\"row_heading level0 row5\" >047 NDB-SI-MA-STRv Lhx8 Gaba</th>\n",
       "                        <td id=\"T_9b34c0ec_03fd_11ee_b1d9_5bf08d3e7725row5_col0\" class=\"data row5 col0\" >0.646565</td>\n",
       "            </tr>\n",
       "            <tr>\n",
       "                        <th id=\"T_9b34c0ec_03fd_11ee_b1d9_5bf08d3e7725level0_row6\" class=\"row_heading level0 row6\" >293 CHOR NN</th>\n",
       "                        <td id=\"T_9b34c0ec_03fd_11ee_b1d9_5bf08d3e7725row6_col0\" class=\"data row6 col0\" >0.435719</td>\n",
       "            </tr>\n",
       "            <tr>\n",
       "                        <th id=\"T_9b34c0ec_03fd_11ee_b1d9_5bf08d3e7725level0_row7\" class=\"row_heading level0 row7\" >012 MEA Slc17a7 Glut</th>\n",
       "                        <td id=\"T_9b34c0ec_03fd_11ee_b1d9_5bf08d3e7725row7_col0\" class=\"data row7 col0\" >0.424430</td>\n",
       "            </tr>\n",
       "    </tbody></table>"
      ],
      "text/plain": [
       "<pandas.io.formats.style.Styler at 0x7f1b5e44d670>"
      ]
     },
     "execution_count": 23,
     "metadata": {},
     "output_type": "execute_result"
    }
   ],
   "source": [
    "agg = aggregate_by_metadata(tac2, gf.gene_symbol, 'subclass').head(8)\n",
    "agg.style.background_gradient(cmap='Reds')"
   ]
  },
  {
   "cell_type": "code",
   "execution_count": 24,
   "metadata": {},
   "outputs": [
    {
     "data": {
      "text/html": [
       "<style  type=\"text/css\" >\n",
       "#T_9b3782c8_03fd_11ee_b1d9_5bf08d3e7725row0_col0{\n",
       "            background-color:  #67000d;\n",
       "            color:  #f1f1f1;\n",
       "        }#T_9b3782c8_03fd_11ee_b1d9_5bf08d3e7725row1_col0{\n",
       "            background-color:  #ac1117;\n",
       "            color:  #f1f1f1;\n",
       "        }#T_9b3782c8_03fd_11ee_b1d9_5bf08d3e7725row2_col0{\n",
       "            background-color:  #b71319;\n",
       "            color:  #f1f1f1;\n",
       "        }#T_9b3782c8_03fd_11ee_b1d9_5bf08d3e7725row3_col0{\n",
       "            background-color:  #cb181d;\n",
       "            color:  #f1f1f1;\n",
       "        }#T_9b3782c8_03fd_11ee_b1d9_5bf08d3e7725row4_col0{\n",
       "            background-color:  #fc9d7f;\n",
       "            color:  #000000;\n",
       "        }#T_9b3782c8_03fd_11ee_b1d9_5bf08d3e7725row5_col0{\n",
       "            background-color:  #fdd4c2;\n",
       "            color:  #000000;\n",
       "        }#T_9b3782c8_03fd_11ee_b1d9_5bf08d3e7725row6_col0,#T_9b3782c8_03fd_11ee_b1d9_5bf08d3e7725row7_col0{\n",
       "            background-color:  #fff5f0;\n",
       "            color:  #000000;\n",
       "        }</style><table id=\"T_9b3782c8_03fd_11ee_b1d9_5bf08d3e7725\" ><thead>    <tr>        <th class=\"blank level0\" ></th>        <th class=\"col_heading level0 col0\" >Tac2</th>    </tr>    <tr>        <th class=\"index_name level0\" >supertype</th>        <th class=\"blank\" ></th>    </tr></thead><tbody>\n",
       "                <tr>\n",
       "                        <th id=\"T_9b3782c8_03fd_11ee_b1d9_5bf08d3e7725level0_row0\" class=\"row_heading level0 row0\" >0249 MH Tac2 Glut_2</th>\n",
       "                        <td id=\"T_9b3782c8_03fd_11ee_b1d9_5bf08d3e7725row0_col0\" class=\"data row0 col0\" >7.927101</td>\n",
       "            </tr>\n",
       "            <tr>\n",
       "                        <th id=\"T_9b3782c8_03fd_11ee_b1d9_5bf08d3e7725level0_row1\" class=\"row_heading level0 row1\" >0700 PB-an-do Evx2 Glut_4</th>\n",
       "                        <td id=\"T_9b3782c8_03fd_11ee_b1d9_5bf08d3e7725row1_col0\" class=\"data row1 col0\" >6.919436</td>\n",
       "            </tr>\n",
       "            <tr>\n",
       "                        <th id=\"T_9b3782c8_03fd_11ee_b1d9_5bf08d3e7725level0_row2\" class=\"row_heading level0 row2\" >0248 MH Tac2 Glut_1</th>\n",
       "                        <td id=\"T_9b3782c8_03fd_11ee_b1d9_5bf08d3e7725row2_col0\" class=\"data row2 col0\" >6.699828</td>\n",
       "            </tr>\n",
       "            <tr>\n",
       "                        <th id=\"T_9b3782c8_03fd_11ee_b1d9_5bf08d3e7725level0_row3\" class=\"row_heading level0 row3\" >0250 MH Tac2 Glut_3</th>\n",
       "                        <td id=\"T_9b3782c8_03fd_11ee_b1d9_5bf08d3e7725row3_col0\" class=\"data row3 col0\" >6.265915</td>\n",
       "            </tr>\n",
       "            <tr>\n",
       "                        <th id=\"T_9b3782c8_03fd_11ee_b1d9_5bf08d3e7725level0_row4\" class=\"row_heading level0 row4\" >0182a NDB-SI-MA-STRv Lhx8 Gaba_8</th>\n",
       "                        <td id=\"T_9b3782c8_03fd_11ee_b1d9_5bf08d3e7725row4_col0\" class=\"data row4 col0\" >3.556106</td>\n",
       "            </tr>\n",
       "            <tr>\n",
       "                        <th id=\"T_9b3782c8_03fd_11ee_b1d9_5bf08d3e7725level0_row5\" class=\"row_heading level0 row5\" >0251 MH Tac2 Glut_4</th>\n",
       "                        <td id=\"T_9b3782c8_03fd_11ee_b1d9_5bf08d3e7725row5_col0\" class=\"data row5 col0\" >2.401563</td>\n",
       "            </tr>\n",
       "            <tr>\n",
       "                        <th id=\"T_9b3782c8_03fd_11ee_b1d9_5bf08d3e7725level0_row6\" class=\"row_heading level0 row6\" >0172 STRv Lhx8 Gaba_1</th>\n",
       "                        <td id=\"T_9b3782c8_03fd_11ee_b1d9_5bf08d3e7725row6_col0\" class=\"data row6 col0\" >1.322590</td>\n",
       "            </tr>\n",
       "            <tr>\n",
       "                        <th id=\"T_9b3782c8_03fd_11ee_b1d9_5bf08d3e7725level0_row7\" class=\"row_heading level0 row7\" >0783 PAS-MV Ebf2 Gly-Gaba_1</th>\n",
       "                        <td id=\"T_9b3782c8_03fd_11ee_b1d9_5bf08d3e7725row7_col0\" class=\"data row7 col0\" >1.297280</td>\n",
       "            </tr>\n",
       "    </tbody></table>"
      ],
      "text/plain": [
       "<pandas.io.formats.style.Styler at 0x7f1b5da712b0>"
      ]
     },
     "execution_count": 24,
     "metadata": {},
     "output_type": "execute_result"
    }
   ],
   "source": [
    "agg = aggregate_by_metadata(tac2, gf.gene_symbol, 'supertype').head(8)\n",
    "agg.style.background_gradient(cmap='Reds')"
   ]
  },
  {
   "cell_type": "code",
   "execution_count": 25,
   "metadata": {},
   "outputs": [],
   "source": [
    "adata.file.close()"
   ]
  },
  {
   "cell_type": "code",
   "execution_count": null,
   "metadata": {},
   "outputs": [],
   "source": []
  }
 ],
 "metadata": {
  "kernelspec": {
   "display_name": "Python 3",
   "language": "python",
   "name": "python3"
  },
  "language_info": {
   "codemirror_mode": {
    "name": "ipython",
    "version": 3
   },
   "file_extension": ".py",
   "mimetype": "text/x-python",
   "name": "python",
   "nbconvert_exporter": "python",
   "pygments_lexer": "ipython3",
   "version": "3.8.5"
  }
 },
 "nbformat": 4,
 "nbformat_minor": 4
}
