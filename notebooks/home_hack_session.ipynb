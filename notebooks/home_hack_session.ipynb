{
 "cells": [
  {
   "cell_type": "raw",
   "id": "1183851c-5de8-4be8-b6fb-4e764d1aae7c",
   "metadata": {},
   "source": [
    "# BICAN Knowledge Base Workshop 9/27/2023\n",
    "## Hack Session : Allen Brain Cell Atlas - Data Access\n",
    "\n",
    "The Allen Brain Cell Atlas (ABC Atlas) aims to empower researchers worldwide to explore and analyze multiple whole-brain datasets simultaneously. As the Allen Institute and its collaborators continue to add new modalities, species, and insights to the ABC Atlas, this groundbreaking platform will keep growing, opening up endless possibilities for groundbreaking discoveries and breakthroughs in neuroscience. With the ABC Atlas, researchers everywhere can gain new insights into the brain’s complex workings, advancing our understanding of this amazing organ in ways we never thought possible.\n",
    "\n",
    "Data associated with the ABC Atlas is hosted on Amazon Web Services (AWS) in an S3 bucket as a AWS Public Dataset, [arn:aws:s3:::allen-brain-cell-atlas](https://allen-brain-cell-atlas.s3.us-west-2.amazonaws.com/index.html). No account or login is required for access. The purpose of this repo is to provide an overview of the available data, how to download and use it through example use cases.\n",
    "\n",
    "The fall 2023 public beta data release includes:\n",
    "* **Mouse whole-brain transcriptomic cell type atlas (Hongkui Zeng)**\n",
    "  * 1.7 million single cell transcriptomes spanning the whole adult mouse brain using 10Xv2 chemistry ([WMB-10Xv2](https://alleninstitute.github.io/abc_atlas_access/descriptions/WMB-10Xv2.html))\n",
    "  * 2.3 million single cell transcriptomes spanning the whole adult mouse brain using 10Xv3 chemistry ([WMB-10Xv3](https://alleninstitute.github.io/abc_atlas_access/descriptions/WMB-10Xv3.html))\n",
    "  * 1687 single cell transcriptomes spanning the whole adult mouse brain using the 10X Multiome chemistry ([WMB-10XMulti](https://alleninstitute.github.io/abc_atlas_access/descriptions/WMB-10XMulti.html))\n",
    "  * Clustering analysis of 4.0 million single cell transcriptomes spanning the whole adult mouse brain combining the 10Xv2, 10Xv3 and 10XMulti datasets ([WMB-10X](https://alleninstitute.github.io/abc_atlas_access/descriptions/WMB-10X.html))\n",
    "  * A four level whole adult mouse brain taxonomy of cell types ([WMB-taxonomy](https://alleninstitute.github.io/abc_atlas_access/descriptions/WMB-taxonomy.html))\n",
    "  * 3.9 million cell spatial transcriptomics dataset spanning a single adult mouse brain with a 500 gene panel and mapped to the whole mouse brain taxonomy ([MERFISH-C57BL6J-638850](https://alleninstitute.github.io/abc_atlas_access/descriptions/MERFISH-C57BL6J-638850.html))\n",
    "  * Definition of 8 cell types neighborhoods and UMAP embeddings for fine grain visualization and analysis of neuronal types within and between brain regions ([WMB-neighborhoods](https://alleninstitute.github.io/abc_atlas_access/descriptions/WMB-neighborhoods.html))\n",
    "  * An updated Allen CCFv3 with additional annotations for layers of Ammon's horns, main olfactory blub and a simplifed 5-level anatomical heirarchy ([Allen-CCF-2020](https://alleninstitute.github.io/abc_atlas_access/descriptions/Allen-CCF-2020.html))\n",
    "  * CCF mapped coordinates for cells in the whole brain spatial transcriptomics dataset ([MERFISH-C57BL6J-638850-CCF](https://alleninstitute.github.io/abc_atlas_access/descriptions/MERFISH-C57BL6J-638850-CCF.html))\n",
    "* **A molecularly defined and spatially resolved cell atlas of the whole mouse brain (Xiaowei Zhuang)**\n",
    "  * 4.2 million cell spatial transcriptomics dataset spanning 147 coronal sections with a 1122 gene panel and mapped to the whole mouse brain taxonomy and Allen CCFv3 ([Zhuang-ABCA-1](https://alleninstitute.github.io/abc_atlas_access/descriptions/Zhuang-ABCA-1.html); 2.8 million cells passed cell classification confidence score threshold and displayed in the ABC atlas)\n",
    "  * 1.9 million cell spatial transcriptomics dataset spanning 66 coronal sections with a 1122 gene panel and mapped to the whole mouse brain taxonomy and Allen CCFv3 ([Zhuang-ABCA-2](https://alleninstitute.github.io/abc_atlas_access/descriptions/Zhuang-ABCA-2.html); 1.2 million cells passed cell classification confidence score threshold and displayed in the ABC atlas)\n",
    "  * 2.1 million cell spatial transcriptomics dataset spanning 23 sagittal sections with a 1122 gene panel and mapped to the whole mouse brain taxonomy and Allen CCFv3 ([Zhuang-ABCA-3](https://alleninstitute.github.io/abc_atlas_access/descriptions/Zhuang-ABCA-3.html); 1.6 million cells passed cell classification confidence score threshold and displayed in the ABC atlas)\n",
    "  * 0.22 million cell spatial transcriptomics dataset spanning 3 sagittal sections with a 1122 gene panel and mapped to the whole mouse brain taxonomy and Allen CCFv3 ([Zhuang-ABCA-4](https://alleninstitute.github.io/abc_atlas_access/descriptions/Zhuang-ABCA-4.html); 0.16 million cells passed cell classification confidence score threshold and displayed in the ABC atlas)\n",
    "\n",
    "Each release has an associated **manifest.json** which list all the specific version of directories and files that are part of the release. We recommend using the manifest as the starting point of data download and usage.\n",
    "\n",
    "Expression matrices are stored in the [anndata h5ad format](https://anndata.readthedocs.io/en/latest/) and needs to be downloaded to a local file system for usage. To make data transfer, download and access more efficient, \n",
    "the 10x transcriptomics datasets have been subdivided into smaller packages grouped by method and anatomical origin. The notebooks provide example code on how to access data across these individual files.\n",
    "\n",
    "Available notebooks:\n",
    "\n",
    "* [**Getting started**](getting_started.ipynb): learn how to use the manifest.json file to faciliate data download and usage.\n",
    "*  **Mouse whole-brain transcriptomic cell type atlas (Hongkui Zeng)**\n",
    "   * [**10x scRNA-seq clustering analysis and annotation**](cluster_annotation_tutorial.ipynb): learn about the whole mouse brain taxonomy through some example use cases and visualization.\n",
    "   * **10x scRNA-seq gene expression data**\n",
    "     * [**Part 1**](10x_snRNASeq_tutorial_part_1.ipynb): learn about the 10x dataset through some example use cases and visualization of cells in the thalamus.\n",
    "     * [**Part 2a**](10x_snRNASeq_tutorial_part_2a.ipynb): learn how to iterate through all the data packages, to access data for whole brain example use cases in part 2b.\n",
    "     * [**Part 2b**](10x_snRNASeq_tutorial_part_2b.ipynb): explore the whole brain data through visualization and analyses of a set of genes of interest.\n",
    "   * **MERFISH whole brain spatial transcriptomics**\n",
    "     * [**Part 1**](merfish_tutorial_part_1.ipynb): learn about the MERFISH dataset through some example use cases and visualization for a single brain section.\n",
    "     * [**Part 2a**](merfish_tutorial_part_2a.ipynb): learn to access data and prepare for whole brain example use cases in part 2b.\n",
    "     * [**Part 2b**](merfish_tutorial_part_2b.ipynb): explore the whole brain data through visualization and analyses of a set of genes of interest.\n",
    "    * [**Cluster groups and embeddings**](cluster_groups_and_embeddings_tutorial.ipynb): learn about cell types neighborhoods and neighborhood specific UMAP embeddings through example use cases.\n",
    "    * [**Cell type neighborhood gallery**](notebooks/cluster_neighborhood_gallery.ipynb): explore and visualize a set of cell types neighborhoods.\n",
    "    * [**Allen CCFv3 parcellation and annotation**](ccf_and_parcellation_annotation_tutorial.ipynb): learn about the Allen CCFv3 and a simplified 5-level anatomical heirarchy through some example use cases and visualization.\n",
    "    * [**MERFISH CCF mapped coordinates**](merfish_ccf_registration_tutorial.ipynb): learn about how to download and use CCF mapped coordinates through some example use cases and visualization.\n",
    "* **A molecularly defined and spatially resolved cell atlas of the whole mouse brain (Xiaowei Zhuang)**\n",
    "  * [**MERFISH whole mouse brain spatial transcriptomics**](zhuang_merfish_tutorial.ipynb): learn about the MERFISH dataset through some example use cases and visualization"
   ]
  },
  {
   "cell_type": "code",
   "execution_count": null,
   "id": "16d63586",
   "metadata": {},
   "outputs": [],
   "source": []
  }
 ],
 "metadata": {
  "kernelspec": {
   "display_name": "Python 3 (ipykernel)",
   "language": "python",
   "name": "python3"
  },
  "language_info": {
   "codemirror_mode": {
    "name": "ipython",
    "version": 3
   },
   "file_extension": ".py",
   "mimetype": "text/x-python",
   "name": "python",
   "nbconvert_exporter": "python",
   "pygments_lexer": "ipython3",
   "version": "3.9.16"
  }
 },
 "nbformat": 4,
 "nbformat_minor": 5
}
